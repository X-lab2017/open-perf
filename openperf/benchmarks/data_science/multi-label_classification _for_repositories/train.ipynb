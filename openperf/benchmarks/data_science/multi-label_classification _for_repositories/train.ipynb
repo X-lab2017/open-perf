{
 "cells": [
  {
   "cell_type": "markdown",
   "metadata": {},
   "source": [
    "# 步骤一：读取爬虫得到的数据"
   ]
  },
  {
   "cell_type": "code",
   "execution_count": 124,
   "metadata": {},
   "outputs": [],
   "source": [
    "import pandas as pd\n",
    "data_path = \"repos_info_merge.csv\"\n",
    "\n",
    "data_file = pd.read_csv(data_path)"
   ]
  },
  {
   "cell_type": "markdown",
   "metadata": {},
   "source": [
    "# 步骤二：数据预处理"
   ]
  },
  {
   "cell_type": "code",
   "execution_count": 125,
   "metadata": {},
   "outputs": [
    {
     "name": "stdout",
     "output_type": "stream",
     "text": [
      "                           Repository Name  \\\n",
      "0                       hiroi-sora/Umi-OCR   \n",
      "1     MostlyAdequate/mostly-adequate-guide   \n",
      "2                StreisandEffect/streisand   \n",
      "3                              youzan/vant   \n",
      "4                          gfwlist/gfwlist   \n",
      "...                                    ...   \n",
      "3354      mrmartineau/SublimeTextSetupWiki   \n",
      "3355                         exinnet/tclip   \n",
      "3356                         exinnet/tclip   \n",
      "3357                   euvl/vue-js-popover   \n",
      "3358            BastiaanJansen/toast-swift   \n",
      "\n",
      "                                            Description  \\\n",
      "0     OCR software, free and offline. 开源、免费的离线OCR软件。...   \n",
      "1           Mostly adequate guide to FP (in javascript)   \n",
      "2     Streisand sets up a new server running your ch...   \n",
      "3     A lightweight, customizable Vue UI library for...   \n",
      "4                     The one and only one gfwlist here   \n",
      "...                                                 ...   \n",
      "3354  Enable people to get started with Sublime Text...   \n",
      "3355                                             智能图片裁剪   \n",
      "3356                                             智能图片裁剪   \n",
      "3357  :dango: Vue.js 2 library for dropdowns / popov...   \n",
      "3358  Customizable Swift Toast view built with UIKit. 🍞   \n",
      "\n",
      "                                           Code Content  \\\n",
      "0     File: .gitignore\\nFile: CHANGE_LOG.md\\nFile: L...   \n",
      "1     File: .editorconfig\\nFile: .generate-summary.p...   \n",
      "2     File: .gitignore\\nFile: Advanced installation....   \n",
      "3     File: .browserslistrc\\nFile: .editorconfig\\nFi...   \n",
      "4     File: .gitignore\\nFile: COPYING.txt\\nFile: REA...   \n",
      "...                                                 ...   \n",
      "3354  File: README.md\\nFile: User/Default (OSX).subl...   \n",
      "3355  File: .gitignore\\nFile: README.md\\nFile: demo_...   \n",
      "3356  File: .gitignore\\nFile: README.md\\nFile: demo_...   \n",
      "3357  File: .babelrc\\nFile: .gitignore\\nFile: .npmig...   \n",
      "3358  File: .gitignore\\nFile: File.swift\\nFile: LICE...   \n",
      "\n",
      "                                         Commit History  \\\n",
      "0     Author: hiroi-sora\\nDate: 2024-07-19 08:39:10+...   \n",
      "1     Author: KtorZ\\nDate: 2023-12-08 10:37:50+00:00...   \n",
      "2     Author: Patrick Robertson\\nDate: 2020-04-12 01...   \n",
      "3     Author: inottn\\nDate: 2024-07-18 13:56:29+00:0...   \n",
      "4     Author: Christopher Meng\\nDate: 2024-06-07 03:...   \n",
      "...                                                 ...   \n",
      "3354  Author: Zander Martineau\\nDate: 2015-04-13 05:...   \n",
      "3355  Author: exinnet\\nDate: 2017-07-03 13:41:17+00:...   \n",
      "3356  Author: exinnet\\nDate: 2017-07-03 13:41:17+00:...   \n",
      "3357  Author: Yev Vlasenko\\nDate: 2020-05-10 19:17:0...   \n",
      "3358  Author: Bastiaan Jansen\\nDate: 2024-02-08 15:1...   \n",
      "\n",
      "                                         README Content  \\\n",
      "0     <p align=\"left\">\\n    <span>\\n        <b>中文</b...   \n",
      "1     [![cover](images/cover.png)](SUMMARY.md)\\n\\n##...   \n",
      "2     # Streisand\\n\\n<p align=\"center\">\\n<img src=\"h...   \n",
      "3     <p align=\"center\">\\n    <img alt=\"logo\" src=\"h...   \n",
      "4     <a href=\"http://info.flagcounter.com/T2RV\"><im...   \n",
      "...                                                 ...   \n",
      "3354  # Sublime Text Setup Wiki\\n#### This project's...   \n",
      "3355  # tclip\\r\\n\\r\\n## 名字说明\\r\\n\\r\\n* `T`开头，代表是头像识别。...   \n",
      "3356  # tclip\\r\\n\\r\\n## 名字说明\\r\\n\\r\\n* `T`开头，代表是头像识别。...   \n",
      "3357  [![npm version](https://badge.fury.io/js/vue-j...   \n",
      "3358  # Toast-Swift\\n\\n[![Codacy Badge](https://app....   \n",
      "\n",
      "                                                   Tags    Topics_x  \\\n",
      "0     Tag: v2.1.3.beta.1\\nNo additional tag information   paddleocr   \n",
      "1           Tag: e5aa315\\nNo additional tag information  javascript   \n",
      "2                                         No tags found         vpn   \n",
      "3            Tag: v4.9.2\\nNo additional tag information         vue   \n",
      "4                                         No tags found       china   \n",
      "...                                                 ...         ...   \n",
      "3354                                      No tags found   No topics   \n",
      "3355          Tag: 1.0.0\\nNo additional tag information   No topics   \n",
      "3356          Tag: 1.0.0\\nNo additional tag information   No topics   \n",
      "3357         Tag: v1.1.8\\nNo additional tag information   No topics   \n",
      "3358          Tag: 2.1.2\\nNo additional tag information       swift   \n",
      "\n",
      "                                               Topics_y  \n",
      "0     [paddleocr, ocr, ocr-python, umi-ocr, qml, qt,...  \n",
      "1     [javascript, functional-programming, tutorial,...  \n",
      "2     [vpn, ansible, openvpn, wireguard, openconnect...  \n",
      "3     [vue, mobile, components, vant, vue3, ui-libra...  \n",
      "4     [china, censorship-circumvention, anticensorsh...  \n",
      "...                                                 ...  \n",
      "3354                                                 []  \n",
      "3355                                                 []  \n",
      "3356                                                 []  \n",
      "3357                                                 []  \n",
      "3358  [swift, toast, toast-notification, ios, uikit,...  \n",
      "\n",
      "[3359 rows x 8 columns]\n"
     ]
    }
   ],
   "source": [
    "import ast\n",
    "\n",
    "#读取到的topic是列表形式的数据，将“No topics”的仓库数据改成空列表\n",
    "data_file['Topics_y'] = data_file['Topics_y'].apply(lambda x: [] if x == 'No topics' else x)\n",
    "\n",
    "def safe_literal_eval(topic_entry):\n",
    "    try:\n",
    "        return ast.literal_eval(topic_entry)\n",
    "    except:\n",
    "        return topic_entry  \n",
    "\n",
    "data_file['Topics_y'] = data_file['Topics_y'].apply(safe_literal_eval)\n",
    "\n",
    "data_file['Topics_y'].apply(type).value_counts(), data_file.head()\n",
    "print(data_file)\n"
   ]
  },
  {
   "cell_type": "code",
   "execution_count": 126,
   "metadata": {},
   "outputs": [
    {
     "name": "stdout",
     "output_type": "stream",
     "text": [
      "[('javascript', 100), ('python', 81), ('react', 70), ('android', 69), ('golang', 46), ('nodejs', 44), ('ios', 44), ('hacktoberfest', 41), ('deep-learning', 41), ('go', 39), ('linux', 37), ('typescript', 36), ('swift', 35), ('java', 34), ('php', 33), ('rust', 32), ('vue', 31), ('security', 29), ('awesome', 27), ('macos', 25), ('pytorch', 25), ('machine-learning', 24), ('react-native', 22), ('database', 22), ('redux', 22), ('ruby', 21), ('json', 21), ('cli', 20), ('awesome-list', 20), ('tensorflow', 19), ('webpack', 19), ('animation', 19), ('android-library', 18), ('css', 17), ('windows', 16), ('c', 16), ('library', 16), ('angular', 15), ('api', 15), ('computer-vision', 15), ('video', 14), ('npm', 14), ('cpp', 14), ('frontend', 14), ('cross-platform', 14), ('graphql', 14), ('vuejs', 13), ('reactjs', 13), ('nlp', 13), ('visualization', 13), ('docker', 13), ('tutorial', 13), ('unity', 12), ('rpc', 12), ('ssh', 12), ('electron', 12), ('html', 12), ('rails', 12), ('git', 12), ('devops', 11), ('laravel', 11), ('admin', 11), ('testing', 11), ('objective-c', 11), ('aws', 11), ('python3', 11), ('r', 11), ('kotlin', 11), ('elixir', 11), ('flutter', 11), ('gui', 11), ('webapp', 11), ('http', 11), ('blockchain', 10), ('chatgpt', 10), ('functional-programming', 10), ('blog', 10), ('kubernetes', 10), ('performance', 10), ('frp', 10), ('vim', 10), ('serverless', 10), ('list', 10), ('parser', 10), ('compiler', 10), ('c-sharp', 10), ('ui', 10), ('mysql', 9), ('analytics', 9), ('detection', 9), ('opengl', 9), ('markdown', 9), ('sdk', 9), ('functional', 9), ('frps', 9), ('cryptography', 9), ('app', 9), ('terraform', 9), ('bash', 9), ('terminal', 9), ('open-source', 9), ('desktop', 9), ('frps-docker', 9), ('web', 9), ('game', 8), ('networking', 8), ('face', 8), ('neovim', 8), ('reinforcement-learning', 8), ('redis', 8), ('dotnet', 8), ('artificial-intelligence', 8), ('command-line', 8), ('uikit', 8), ('framework', 8), ('postgresql', 8), ('language', 8), ('flask', 8), ('osint', 8), ('qt', 7), ('development', 7), ('threejs', 7), ('deeplearning', 7), ('china', 7), ('activerecord', 7), ('developer-tools', 7), ('client', 7), ('cqrs', 7), ('openai', 7), ('programming-language', 7), ('event-sourcing', 7), ('ocr', 7), ('emacs', 7), ('mongodb', 7), ('firebase', 7), ('cms', 7), ('orm', 7), ('authentication', 7), ('haskell', 7), ('generator', 7), ('caffe', 7), ('middleware', 7), ('cloud', 7), ('semantic-segmentation', 7), ('nextjs', 6), ('canvas', 6), ('custom-view', 6), ('rest', 6), ('opensource', 6), ('automation', 6), ('infrastructure-as-code', 6), ('bundle', 6), ('numpy', 6), ('django', 6), ('tracking', 6), ('vim-plugin', 6), ('babel', 6), ('command-line-tool', 6), ('infosec', 6), ('data-science', 6), ('firefox', 6), ('emscripten', 6), ('neural-networks', 6), ('clojure', 6), ('dart', 6), ('ethereum', 6), ('offline', 6), ('network', 6), ('key-value-store', 6), ('error-monitoring', 6), ('search', 6), ('vm', 6), ('osx', 6), ('iot', 6), ('audio', 6), ('mathematics', 6), ('configuration', 6), ('xcode', 6), ('graph-neural-networks', 6), ('bootstrap', 6), ('raspberry-pi', 6), ('postgres', 6), ('html5', 6), ('engine', 6), ('bitcoin', 6), ('web-development', 6), ('object-detection', 6), ('microservice', 6), ('face-detection', 6), ('containers', 6), ('css-animations', 6), ('theme', 6), ('real-time', 6), ('ai', 6), ('tcp', 6), ('js', 6), ('metrics', 6), ('android-application', 6), ('bot', 6), ('animations', 6), ('csharp', 6), ('yaml', 6), ('eslint', 6), ('android-development', 6), ('learning', 6), ('unmaintained', 6), ('swoole', 6), ('mui', 5), ('queue', 5), ('3d-reconstruction', 5), ('web3', 5), ('arduino', 5), ('reverse-engineering', 5), ('interview', 5), ('es6', 5), ('router', 5), ('3d-graphics', 5), ('live-wallpaper', 5), ('extensions', 5), ('effect', 5), ('calendar', 5), ('testing-tools', 5), ('sql', 5), ('knex', 5), ('bytecode', 5), ('graph-representation-learning', 5), ('webpack-plugin', 5), ('acid', 5), ('performance-monitoring', 5), ('script', 5), ('android-ui', 5), ('virtual-reality', 5), ('static-analysis', 5), ('windows-10', 5), ('dotnet-core', 5), ('lua', 5), ('defi', 5), ('dotenv', 5), ('build-tool', 5), ('charts', 5), ('aes', 5), ('embedded', 5), ('service-discovery', 5), ('redux-thunk', 5), ('gtk', 5), ('discord', 5), ('wallpaper-engine', 5), ('webgl', 5), ('antd', 5), ('gamepad', 5), ('binary', 5), ('facebook', 5), ('image', 5), ('plugin', 5), ('reducer', 5), ('element-ui', 5), ('microservices', 5), ('bugs', 5), ('segment', 5), ('commandline', 5), ('music-library', 5), ('ux', 5), ('mobile', 5), ('elasticsearch', 5), ('security-tools', 5), ('material-design', 5), ('stats', 5), ('snake', 5), ('wasm', 5), ('wayland', 5), ('axios', 5), ('fp', 5), ('node', 5), ('colorpicker', 5), ('adb', 5), ('time-series', 5), ('github', 5), ('error-handling', 5), ('repl', 5), ('dispatch', 5), ('wallpaper', 5), ('flux', 5), ('kotlin-android', 5), ('thunk', 5), ('camera', 5), ('recon', 5), ('stack', 5), ('slack', 5), ('opencv', 5), ('shell', 5), ('scientific-visualization', 5), ('ecs', 5), ('algorithms', 5), ('rendering', 5), ('workspace', 5), ('vulkan', 5), ('xinput', 4), ('ngx-page-scroll', 4), ('pre-training', 4), ('serverless-framework', 4), ('deferred', 4), ('programming', 4), ('remote-sensing', 4), ('palemoon', 4), ('anchor', 4), ('face-tracking', 4), ('nerves', 4), ('install', 4), ('heart-rate-measurement', 4), ('post-quantum', 4), ('filter', 4), ('powerpoint', 4), ('trailing-spaces', 4), ('datepicker', 4), ('hybrid', 4), ('slam', 4), ('npmjs', 4), ('unity3d', 4), ('hashtable', 4), ('events', 4), ('ritchie-formulas', 4), ('elf', 4), ('3d-vision', 4), ('keen-io', 4), ('vue-cli', 4), ('drawing', 4), ('heart-rate-monitor', 4), ('hash-functions', 4), ('des', 4), ('contacts-api', 4), ('confetti', 4), ('java-library', 4), ('heart-rate', 4), ('symfony', 4), ('ecto-extension', 4), ('gpt', 4), ('pale-moon', 4), ('inputmanager', 4), ('svg', 4), ('sketch', 4), ('argon', 4), ('web-analytics', 4), ('mozilla', 4), ('large-language-models', 4), ('punchcard', 4), ('data-management', 4), ('thinkphp', 4), ('segmentedbar', 4), ('custom-enum', 4), ('addons', 4), ('chart-fx', 4), ('formatter', 4), ('enum', 4), ('istat', 4), ('educators', 4), ('scss', 4), ('canvas2d', 4), ('self-supervised-learning', 4), ('task-tracker', 4), ('arttempalte', 4), ('helloworld', 4), ('particle', 4), ('performance-analysis', 4), ('icp', 4), ('pro-layout', 4), ('contacts-android', 4), ('animation-css', 4), ('keen-js', 4), ('scaffold', 4), ('matplotlib', 4), ('neovim-plugin', 4), ('websecurity', 4), ('dati', 4), ('cer', 4), ('crawler', 4), ('data-structures', 4), ('email', 4), ('data-journalism', 4), ('backend', 4), ('front-end-web-development', 4), ('psql', 4), ('calendar-widget', 4), ('email-validation', 4), ('todo', 4), ('reconaissance', 4), ('npc', 4), ('states', 4), ('dora-rpc', 4), ('rts', 4), ('efcore', 4), ('ms-office-documents', 4), ('asp-net-core', 4), ('natural-language-processing', 4), ('hashtags', 4), ('all-animation', 4), ('rollback', 4), ('scroll', 4), ('cybersecurity', 4), ('encryption', 4), ('customer-insights', 4), ('orleans', 4), ('rstats', 4), ('vue-blog-demo', 4), ('srp', 4), ('travisci', 4), ('clojurescript', 4), ('diary', 4), ('implementations', 4), ('ecto', 4), ('scientific-computing', 4), ('nylas-mail', 4), ('remote-photoplethysmography', 4), ('golang-cli', 4), ('dataflow', 4), ('shaders', 4), ('cheer', 4), ('animate', 4), ('filesystem', 4), ('image-processing', 4), ('android-contacts', 4), ('transport', 4), ('flaky-tests', 4), ('powershell', 4), ('postgres-enum', 4), ('url-detection', 4), ('large-dataset', 4), ('ui-widget', 4), ('determinism', 4), ('validation', 4), ('video-processing', 4), ('dependencies', 4), ('tracing', 4), ('game-state', 4), ('cleaning', 4), ('cognito', 4), ('netcore', 4), ('pulse', 4), ('timing-attacks', 4), ('graphics', 4), ('heap', 4), ('monitor', 4), ('actors', 4), ('screenshot', 4), ('spring-boot', 4), ('cppcc', 4), ('contao', 4), ('cvpr2022', 4), ('dashboards', 4), ('alignment', 4), ('fullstack', 4), ('pyramid', 4), ('sublime-text', 4), ('post-quantum-cryptography', 4), ('knowledge-graph', 4), ('translation', 4), ('size', 4), ('sorting-algorithms', 4), ('javafx', 4), ('request', 4), ('url-validation', 4), ('xul', 4), ('angularjs', 4), ('multiplexing', 4), ('pwa', 4), ('music', 4), ('livewallpaper', 4), ('cnn', 4), ('wsgi', 4), ('time-series-analysis', 4), ('browser', 4), ('cryptocurrency', 4), ('brute-force', 4), ('engineer', 4), ('hmac', 4), ('babel-minify', 4), ('kotlin-library', 4), ('sm4', 4), ('text-to-url', 4), ('data-visualisation', 4), ('native-analytics', 4), ('bcrypt', 4), ('pqc', 4), ('wordpress', 4), ('hbuilder', 4), ('vulkan-api', 4), ('sha', 4), ('dataviz', 4), ('bundle-size', 4), ('programming-exercise', 4), ('word', 4), ('emacs-lisp', 4), ('r3f', 4), ('ghc', 4), ('mtcnn', 4), ('sm3', 4), ('scroll-animations', 4), ('credential', 4), ('calendar-control', 4), ('photo-capture', 4), ('brfv4', 4), ('migrations', 4), ('color', 4), ('atomic-transactions', 4), ('sass', 4), ('waterfox', 4), ('automationtool', 4), ('angular7', 4), ('code-quality', 4), ('rxjs', 4), ('contacts-management', 4), ('laboratoria', 4), ('fsm', 4), ('calendar-view', 4), ('heroku', 4), ('pbkdf2', 4), ('travis', 4), ('vector-calculus', 4), ('async-actions', 4), ('binary-search-tree', 4), ('profiling', 4), ('keras', 4), ('vim-session', 4), ('vuex', 4), ('logging', 4), ('pandas', 4), ('scrollto', 4), ('ant', 4), ('scala', 4), ('constitution', 4), ('key-value', 4), ('autosave', 4), ('apfs', 4), ('certificate', 4), ('tile', 4), ('vulkan-engine', 4), ('point-cloud', 4), ('array', 4), ('vue3', 4), ('licenses', 4), ('text-detection', 4), ('graphql-compose', 4), ('identityserver4', 4), ('ssh-key', 4), ('package', 4), ('error', 4), ('esp32', 4), ('webview', 4), ('rppg', 4), ('bug-tracker', 4), ('angular2', 4), ('ssh-key-manager', 4), ('session', 4), ('amo', 4), ('mvcc', 4), ('jsfmt', 4), ('crf-as-rnn', 4), ('capture', 4), ('session-management', 4), ('basefragment', 4), ('serverless-plugin', 4), ('cran', 4), ('3des', 4), ('aws-cdk', 4), ('chrome-extension', 4), ('shiny', 4), ('comparison', 4), ('sha3', 4), ('rainbow-table', 4), ('android-framework', 4), ('urls', 4), ('service', 4), ('xpcom', 4), ('okhttp', 4), ('session-manager', 4), ('ritchie-cli', 4), ('pointer', 4), ('debugging', 4), ('travis-ci', 4), ('benchmark', 4), ('aws-lambda', 4), ('boilerplate', 4), ('fcn', 4), ('distributed-systems', 4), ('calculator', 4), ('journal', 4), ('contacts-app', 4), ('data-visualization', 4), ('x11', 4), ('baseactivity', 4), ('robust-reading', 4), ('pbr', 4), ('research-paper', 4), ('dora', 4), ('elastic', 4), ('charting-libraries', 4), ('pqcrypto', 4), ('user-pool', 4), ('bootcamp', 4), ('slack-team', 4), ('c-plus-plus', 4), ('information-retrieval', 4), ('aws-cognito', 4), ('crud', 4), ('virtual-machine', 4), ('reactions', 4), ('journalism', 4), ('fonts', 3), ('observability', 3), ('mvvm', 3), ('interview-questions', 3), ('sqlite3', 3), ('jupyter', 3), ('zsh', 3), ('music-player', 3), ('home-automation', 3), ('gradle-plugin', 3), ('yarn', 3), ('research', 3), ('llama', 3), ('webassembly', 3), ('serialization', 3), ('etl', 3), ('asynchronous', 3), ('grpc', 3), ('proxy', 3), ('chinese', 3), ('apm', 3), ('ml', 3), ('cocoapods', 3), ('language-model', 3), ('maps', 3), ('schema', 3), ('grammar', 3), ('monitoring', 3), ('tui', 3), ('sketch-plugin', 3), ('form-validation', 3), ('reddit', 3), ('neural-network', 3), ('lisp', 3), ('kafka', 3), ('google', 3), ('chat', 3), ('chromium', 3), ('test', 3), ('vue-router', 3), ('dark-theme', 3), ('rxjava', 3), ('vmess', 3), ('jquery', 3), ('documentation', 3), ('elm-architecture', 3), ('maven', 3), ('transformers', 3), ('dashboard', 3), ('azure', 3), ('obsidian-md', 3), ('community', 3), ('responsive', 3), ('llms', 3), ('rss', 3), ('system-design', 3), ('algorithm', 3), ('template', 3), ('self-hosted', 3), ('realtime', 3), ('gpt-3', 3), ('game-engine', 3), ('password', 3), ('data', 3), ('picker', 3), ('php7', 3), ('media', 3), ('forensics', 3), ('ansible', 3), ('zookeeper', 3), ('mobx', 3), ('human-pose-estimation', 3), ('llm', 3), ('midi', 3), ('docker-image', 3), ('jekyll', 3), ('vuejs2', 3), ('password-manager', 3), ('flutter-package', 3), ('gin', 3), ('arduino-library', 3), ('convolutional-neural-networks', 3), ('ubuntu', 3), ('archived', 3), ('vagrant', 3), ('smali', 3), ('technology', 3), ('python-library', 3), ('stable-diffusion', 3), ('component', 3), ('mqtt', 3), ('bert', 3), ('leetcode', 3), ('file-sharing', 3), ('game-development', 3), ('shadowsocks', 3), ('atom', 3), ('dubbo', 3), ('finance', 3), ('twitter', 3), ('leaflet', 3), ('v2ray', 3), ('computer-science', 3), ('button', 3), ('ffmpeg', 3), ('face-recognition', 3), ('spider', 3), ('segmentation', 3), ('prometheus', 3), ('ecommerce', 3), ('package-manager', 3), ('media-player', 3), ('obsolete', 2), ('agents', 2), ('ios-swift', 2), ('chatbot', 2), ('native', 2), ('kotlin-native', 2), ('eos', 2), ('streaming', 2), ('geometry', 2), ('checklist', 2), ('controls', 2), ('video-player', 2), ('generative-adversarial-network', 2), ('scipy', 2), ('contributions-welcome', 2), ('captcha', 2), ('input', 2), ('hexo', 2), ('vpn', 2), ('rdf', 2), ('web-application', 2), ('tensorflow2', 2), ('neon', 2), ('speaker-recognition', 2), ('cmake', 2), ('collection', 2), ('openai-gym', 2), ('kanban', 2), ('pretrained-language-model', 2), ('3d-human-pose', 2), ('starter', 2), ('art', 2), ('ci', 2), ('controller', 2), ('statistics', 2), ('angular4', 2), ('gps', 2), ('visualizer', 2), ('cordova', 2), ('gamedev', 2), ('font', 2), ('carthage', 2), ('types', 2), ('motion-planning', 2), ('chinese-word-segmentation', 2), ('distributed', 2), ('live', 2), ('dynamic', 2), ('hmr', 2), ('strings', 2), ('async', 2), ('search-algorithms', 2), ('pypi-package', 2), ('poem', 2), ('vue2', 2), ('spa', 2), ('cardview', 2), ('static-site-generator', 2), ('navigation', 2), ('sunxi', 2), ('vscode', 2), ('crypto', 2), ('sac', 2), ('ubiquiti', 2), ('classification', 2), ('best-practices', 2), ('atmel', 2), ('architectural-patterns', 2), ('sort', 2), ('deploy', 2), ('gitlab', 2), ('architecture', 2), ('daemon', 2), ('latex', 2), ('svelte', 2), ('openai-api', 2), ('password-store', 2), ('embeddings', 2), ('mp3', 2), ('torch', 2), ('redux-saga', 2), ('minecraft', 2), ('fuzzing', 2), ('ros', 2), ('event-store', 2), ('arxiv', 2), ('chrome', 2), ('date', 2), ('graphics-library', 2), ('pentest-tool', 2), ('unifi', 2), ('machine-learning-algorithms', 2), ('localstorage', 2), ('embedding', 2), ('malware', 2), ('type-safety', 2), ('scanning', 2), ('cpp17', 2), ('user-interface', 2), ('erlang', 2), ('wordpress-theme', 2), ('loader', 2), ('ionic', 2), ('wysiwyg-editor', 2), ('docs', 2), ('jax', 2), ('desktop-app', 2), ('manifest', 2), ('swift-3', 2), ('mvc', 2), ('shadow', 2), ('json-parser', 2), ('server', 2), ('neural-machine-translation', 2), ('touch', 2), ('apollo', 2), ('optimization', 2), ('accessibility', 2), ('rgbd-slam', 2), ('scalability', 2), ('onesignal', 2), ('card', 2), ('extension', 2), ('transformer', 2), ('uuid', 2), ('expressjs', 2), ('rlhf', 2), ('datetime', 2), ('immutable', 2), ('meteor', 2), ('qml', 2), ('interceptor', 2), ('neovim-lua', 2), ('prisma', 2), ('recaptcha', 2), ('vless', 2), ('player', 2), ('hacktoberfest-accepted', 2), ('deep-reinforcement-learning', 2), ('rest-api', 2), ('microsoft', 2), ('kaggle', 2), ('projects', 2), ('3d', 2), ('education', 2), ('jupyterlab-extension', 2), ('bilibili', 2), ('application', 2), ('smart-contracts', 2), ('front-end', 2), ('microcontroller', 2), ('tree', 2), ('json-schema', 2), ('avr', 2), ('embedded-database', 2), ('rgbd', 2), ('react-redux', 2), ('guide', 2), ('gan', 2), ('storage', 2), ('imgui', 2), ('tracker', 2), ('gpu', 2), ('jquery-plugin', 2), ('random', 2), ('steam', 2), ('autocomplete', 2), ('algebraic-data-types', 2), ('swagger', 2), ('utility', 2), ('graphql-client', 2), ('dfir', 2), ('privacy', 2), ('siggraph', 2), ('simulation', 2), ('samples', 2), ('telegram', 2), ('topic-modeling', 2), ('ddd', 2), ('build', 2), ('search-engine', 2), ('rubygems', 2), ('nosql', 2), ('windows-service', 2), ('sparql', 2), ('notifications', 2), ('unit-testing', 2), ('popover', 2), ('code-generator', 2), ('multiplexer', 2), ('time', 2), ('sveltejs', 2), ('sync', 2), ('flutter-plugin', 2), ('dsl', 2), ('gpg', 2), ('eda', 2), ('elk', 2), ('create-react-app', 2), ('summarization', 2), ('source-code', 2), ('solidity', 2), ('gradle', 2), ('forms', 2), ('gulp', 2), ('jwt', 2), ('issue-tracker', 2), ('hot-reload', 2), ('fusion', 2), ('censorship-circumvention', 2), ('open-data', 2), ('decompiler', 2), ('sqlite', 2), ('llvm', 2), ('seaborn', 2), ('reactive-programming', 2), ('study', 2), ('redteam', 2), ('baidu', 2), ('bootloader', 2), ('progressive-web-app', 2), ('tauri', 2), ('cnblogs', 2), ('firestore', 2), ('pdf', 2), ('good-first-issue', 2), ('gcp', 2), ('freebsd', 2), ('typography', 2), ('css3', 2), ('color-scheme', 2), ('security-scanner', 2), ('gsap', 2), ('virtual-machines', 2), ('homebrew', 2), ('langchain', 2), ('image-generation', 2), ('dialog', 2), ('terraform-provider', 2), ('payments', 2), ('style-transfer', 2), ('socket', 2), ('decoder', 2), ('frida', 2), ('node-js', 2), ('curl', 2), ('reconstruction', 2), ('http-server', 2), ('scheme', 2), ('uwp', 2), ('react-router', 2), ('nestjs', 2), ('ascii', 2), ('job', 2), ('widget', 2), ('view', 2), ('evasion', 2), ('knowledge', 2), ('authenticator', 2), ('quant', 2), ('etcd', 2), ('timepicker', 2), ('vscode-extension', 2), ('generation', 2), ('macro', 2), ('discordapp', 2), ('parsing', 2), ('clang-format', 2), ('nvim', 2), ('browser-extension', 2), ('rce', 2), ('progress', 2), ('nuxt', 2), ('life', 2), ('clang', 2), ('react-navigation', 2), ('quantitative-trading', 2), ('android-architecture', 2), ('threat-hunting', 2), ('wysiwyg', 2), ('analysis', 2), ('prompt', 2), ('pattern-matching', 2), ('seekbar', 2), ('3d-printing', 2), ('2fa', 2), ('motion', 2), ('parallel', 2), ('home-assistant', 2), ('weapp', 2), ('firmware', 2), ('kotlin-multiplatform', 2), ('dartlang', 2), ('blogs', 2), ('coroutines', 2), ('attention-mechanism', 2), ('pos', 2), ('bem', 2), ('form', 2), ('dataset', 2), ('cheatsheet', 2), ('yolo', 2), ('config', 2), ('emulator', 2), ('concurrency', 2), ('a11y', 2), ('algorithms-and-data-structures', 2), ('skydoves', 2), ('wechat', 2), ('dapp', 2), ('osquery', 2), ('code', 2), ('ios11', 2), ('flutter-apps', 2), ('conference', 2), ('notes', 2), ('notebook', 2), ('example', 2), ('autonomous-driving', 2), ('iterm2', 2), ('covid-19', 2), ('gpt-4', 2), ('admin-dashboard', 2), ('debian', 2), ('recommender-system', 2), ('pentest', 2), ('jest', 2), ('cats', 2), ('symfony-bundle', 2), ('priority', 2), ('webrtc', 2), ('interpreter', 2), ('deprecated', 2), ('swiftui', 2), ('visual-slam', 2), ('internet-of-things', 2), ('scraping', 2), ('yubikey', 2), ('d3', 2), ('push-notifications', 2), ('simd', 2), ('ide', 2), ('telegram-bot', 2), ('podcasts', 2), ('style-guide', 2), ('vector', 2), ('design', 2), ('julia', 2), ('competitive-programming', 2), ('materialcomponents', 1), ('vegan', 1), ('hadoop', 1), ('boilerplate-front-end', 1), ('kitty', 1), ('scala-macros', 1), ('mvc5', 1), ('stripe', 1), ('windows-services', 1), ('httpbin', 1), ('vue-editor', 1), ('swarm', 1), ('link-aggregator', 1), ('scanner', 1), ('realtime-metrics', 1), ('pyrfc', 1), ('product-screenshot', 1), ('logging-library', 1), ('fann', 1), ('elixirconf', 1), ('hmm', 1), ('rocksdb', 1), ('music-sheet-reading', 1), ('darknet', 1), ('mercyblitz', 1), ('elm-format', 1), ('beaglebone-black', 1), ('criteo', 1), ('aarch64', 1), ('hooks', 1), ('cast', 1), ('binder', 1), ('event-management', 1), ('linegraph', 1), ('ghidra', 1), ('rubik', 1), ('store-enhancer', 1), ('badge', 1), ('javascript-interview-questions', 1), ('korean-tokenizer', 1), ('realtime-marker-clustering', 1), ('psr-15', 1), ('slack-api', 1), ('packagemanagement', 1), ('tty', 1), ('onclick', 1), ('message-queue', 1), ('xamarin', 1), ('information-security', 1), ('modernize', 1), ('medical-image-segmentation', 1), ('crontab', 1), ('oreilly', 1), ('deep-networks', 1), ('high-sierra', 1), ('cross-language', 1), ('rpi4', 1), ('llama2-docker', 1), ('seed-project', 1), ('mrubyc', 1), ('asynchronous-processing', 1), ('namespace', 1), ('programmer', 1), ('calendarview', 1), ('convnet', 1), ('reconnaissance', 1), ('root', 1), ('transition', 1), ('correlated-topic-model', 1), ('x6', 1), ('rxandroid', 1), ('macos-application', 1), ('skill-tree', 1), ('desktop-notifications', 1), ('markers', 1), ('aws-s3', 1), ('privacy-extension', 1), ('msgpack', 1), ('itchat', 1), ('smart-contracts-audit', 1), ('fault-tolerance', 1), ('declarative-pipeline', 1), ('json-rpc', 1), ('ruby-on-rails', 1), ('manifold', 1), ('wueasy', 1), ('rescript-lang', 1), ('sem-seg', 1), ('json-ui-schema', 1), ('event-listener', 1), ('guided-topic-modeling', 1), ('stream-processing', 1), ('toolchain', 1), ('znode', 1), ('motion-estimation', 1), ('learning-swift', 1), ('groups', 1), ('fastclick', 1), ('evolutionary-algorithms', 1), ('datagrip-plugin', 1), ('lxd', 1), ('dag', 1), ('lidar-inertial', 1), ('red-team', 1), ('multibyte-strings', 1), ('hugo-blog', 1), ('micro-framework', 1), ('ast', 1), ('class-diagram', 1), ('minimal', 1), ('atcoder', 1), ('haikunator', 1), ('baota-release', 1), ('z', 1), ('provisioning', 1), ('discord-account-creator', 1), ('react-component', 1), ('web-framework', 1), ('page', 1), ('ps', 1), ('centerx', 1), ('tls', 1), ('relational-database', 1), ('postcss', 1), ('onlinejudge', 1), ('junit', 1), ('chipview', 1), ('ebnf', 1), ('character-limit', 1), ('deep', 1), ('age-of-empires', 1), ('swing', 1), ('gans', 1), ('bypass', 1), ('age-gender-cnn', 1), ('guobinhit', 1), ('wlroots', 1), ('golo', 1), ('tron', 1), ('document-management', 1), ('owl', 1), ('yolov4', 1), ('emd', 1), ('statistical-reports', 1), ('gregorian-calendar', 1), ('data-driven', 1), ('planning', 1), ('metric-learning', 1), ('webxr', 1), ('folia', 1), ('faas', 1), ('line', 1), ('powershell-module', 1), ('libc', 1), ('css3-engine', 1), ('idea-plugin', 1), ('component-library', 1), ('ebiten', 1), ('heroku-cli-plugin', 1), ('mongodb-orm', 1), ('peg', 1), ('snippets', 1), ('razzle', 1), ('sda', 1), ('webase', 1), ('wekan', 1), ('text-to-diagram', 1), ('bandwidth-saver', 1), ('rfc3164', 1), ('collision-handling', 1), ('dlna-mediarenderer', 1), ('taobao', 1), ('trellis', 1), ('kotlin-extensions', 1), ('webase-web', 1), ('microfrontend', 1), ('intersection', 1), ('event-dispatcher', 1), ('coder', 1), ('dyn4j', 1), ('framer-resources', 1), ('vector-drawable', 1), ('weibo', 1), ('cryptocurrency-exchanges', 1), ('visual-art', 1), ('xonsh', 1), ('abstraction', 1), ('developer', 1), ('paper-review', 1), ('sft', 1), ('gfw', 1), ('ffprobe', 1), ('discord-hack', 1), ('layout', 1), ('angular-components', 1), ('dockerfile', 1), ('raspberrypi', 1), ('ss', 1), ('jenkins', 1), ('corner', 1), ('springboot', 1), ('discord-token-creator', 1), ('google-maps', 1), ('geo', 1), ('brownie', 1), ('xrtk', 1), ('ember-cli', 1), ('owin', 1), ('trends', 1), ('moko', 1), ('remark-plugin', 1), ('detectron', 1), ('mocha', 1), ('min-program', 1), ('minify-images', 1), ('task-manager', 1), ('olap', 1), ('rpa', 1), ('strategy-game-engine', 1), ('kaggle-competition', 1), ('der', 1), ('clion-plugin', 1), ('foldingtabbar', 1), ('detectron2', 1), ('fontawesome-icons', 1), ('binaryen', 1), ('autonomous-quadcoptor', 1), ('webspider', 1), ('haptic', 1), ('statically-typed', 1), ('k8s-at-home', 1), ('applicant-tracking-system', 1), ('android-animation', 1), ('command', 1), ('danmaku', 1), ('awesome-lists', 1), ('ratiolayout', 1), ('functor', 1), ('hack-wifi-using-termux', 1), ('multiple-object-tracking', 1), ('disassembler', 1), ('receipt', 1), ('zoonavigator', 1), ('doom', 1), ('rabbitmq', 1), ('service-worker', 1), ('texme', 1), ('vehicle-detection', 1), ('rate-limiter', 1), ('monte-carlo-tree-search', 1), ('typing-game', 1), ('caching', 1), ('douyin-api', 1), ('nodejs-addon', 1), ('s-linegraph', 1), ('gijgo', 1), ('pm2', 1), ('persian-calendar', 1), ('universal-react', 1), ('eth-brownie', 1), ('scrollview-compatible', 1), ('nwrfc', 1), ('metal-gear-solid', 1), ('duck-hunt', 1), ('awesome-pinned-gists', 1), ('pentesting', 1), ('svrx', 1), ('transform', 1), ('trojan', 1), ('country-code', 1), ('admm-algorithm', 1), ('prefetch', 1), ('hash-chain', 1), ('babylonjs', 1), ('dx-sdk', 1), ('asf', 1), ('sports-data', 1), ('sqlite-database', 1), ('gpt-client', 1), ('ruby-script', 1), ('visual-recognition', 1), ('openssh', 1), ('apple-juice', 1), ('orm-extension', 1), ('ipc-queue', 1), ('pinephone', 1), ('rpc-library', 1), ('useragent', 1), ('color-palette', 1), ('cloud189', 1), ('robot', 1), ('software-architecture', 1), ('liquidfill', 1), ('coco-dataset', 1), ('zxcvbn', 1), ('nim-language', 1), ('telegram-api', 1), ('mysql-node-leaflet', 1), ('websocket', 1), ('qtile', 1), ('large-language-model', 1), ('datasource', 1), ('http-client', 1), ('car', 1), ('phishing', 1), ('spacy', 1), ('predictive-prefetching', 1), ('table', 1), ('scheduling', 1), ('nim', 1), ('mongodb-driver', 1), ('machine-reading-comprehension', 1), ('reinforce', 1), ('anyconnect', 1), ('simplicial-complexes', 1), ('sse42', 1), ('isomorphic', 1), ('tablet', 1), ('reprap', 1), ('trading-algorithms', 1), ('emoji', 1), ('windows10', 1), ('ableton-live', 1), ('charting-library', 1), ('fisco', 1), ('multitracker', 1), ('starcraft', 1), ('phpstorm-plugin', 1), ('lvm', 1), ('powershell-modules', 1), ('2020', 1), ('wiki', 1), ('lsp', 1), ('barba', 1), ('esp8266', 1), ('gplv3', 1), ('smartcode', 1), ('png', 1), ('boards-manager', 1), ('opencore', 1), ('pnpm', 1), ('finance-api', 1), ('pwm', 1), ('wdmrc', 1), ('exercises', 1), ('graphql-golang', 1), ('wpf', 1), ('system-design-interview', 1), ('multiple-listeners', 1), ('hungarian-algorithm', 1), ('country-flags', 1), ('java-sdk', 1), ('mmsegmentation', 1), ('shopify-sdk', 1), ('abnf', 1), ('avx512', 1), ('browser-fingerprint', 1), ('anticensorship', 1), ('trust', 1), ('nord', 1), ('heuristic-search', 1), ('wallet', 1), ('hardening', 1), ('brasil', 1), ('fintech', 1), ('guid', 1), ('notifier', 1), ('one-stage', 1), ('rift', 1), ('data-warehousing', 1), ('openscap', 1), ('homotopy-type-theory', 1), ('quantitative-finance', 1), ('npm-package', 1), ('prooph', 1), ('ru-cloud', 1), ('bug-bounty', 1), ('datawarehousing', 1), ('spring-boot-drools', 1), ('sota', 1), ('swift-files', 1), ('langchain-python', 1), ('digitalforensics', 1), ('php-micro-framework', 1), ('uefi', 1), ('dodo', 1), ('graph-relational', 1), ('firebase-auth', 1), ('express', 1), ('watcher', 1), ('html5-video', 1), ('drones', 1), ('bot-api', 1), ('fully-convolutional-networks', 1), ('vpc', 1), ('mojave', 1), ('zgen', 1), ('distributed-database', 1), ('parallelism', 1), ('firefox-webextension', 1), ('dependency-injection', 1), ('swig', 1), ('password-vault', 1), ('activejob', 1), ('blackmagic', 1), ('angular8', 1), ('perl', 1), ('aspnet-core', 1), ('marcacao', 1), ('line-detection', 1), ('inav-configurator', 1), ('terminal-graphics', 1), ('datadog', 1), ('downloadbutton', 1), ('psr-7', 1), ('knexjs', 1), ('wifi', 1), ('text-based-game', 1), ('class', 1), ('closure-compiler', 1), ('chicken-scheme', 1), ('trade', 1), ('single-cell', 1), ('cdn', 1), ('lolcat', 1), ('open-api', 1), ('composable', 1), ('figlet', 1), ('fitbit', 1), ('dynamic-style-sheets', 1), ('signal', 1), ('music-sheet', 1), ('wasmer', 1), ('data-security', 1), ('vdi', 1), ('protect', 1), ('vaccine-availability', 1), ('sidechain', 1), ('dockerfile-examples', 1), ('pollution', 1), ('prerender', 1), ('tcp-socket', 1), ('surface-reconstruction', 1), ('natural-language-generation', 1), ('backbone', 1), ('security-hardening', 1), ('reaction-informatics', 1), ('medium', 1), ('azure-policy', 1), ('guardrails', 1), ('src', 1), ('syslog', 1), ('vue-tutorial', 1), ('psr-3', 1), ('assistant', 1), ('twilio', 1), ('delta', 1), ('sentence2vec', 1), ('shop', 1), ('thrift', 1), ('xcom', 1), ('authorization', 1), ('block-theme', 1), ('elk-stack', 1), ('oracle-to-postgres', 1), ('fisco-bcos', 1), ('usb', 1), ('natural-language', 1), ('knowledge-embedding', 1), ('omniauth-strategy', 1), ('crowd-navigation', 1), ('relying-party', 1), ('proxmox-api', 1), ('jetpack-compose', 1), ('rro', 1), ('oraclejet', 1), ('plasma-desktop', 1), ('xamarin-forms', 1), ('async-await', 1), ('coffeescript', 1), ('windows-internals', 1), ('legion-engine', 1), ('ffffffff0x', 1), ('job-queue', 1), ('colorscheme', 1), ('peasy', 1), ('http-errors', 1), ('versioning', 1), ('proxypool', 1), ('sasl', 1), ('cljs', 1), ('pixijs', 1), ('arm', 1), ('ctc', 1), ('webpack-loader', 1), ('plotly', 1), ('laravel-scout', 1), ('parameter-efficient-learning', 1), ('css-framework', 1), ('recognition', 1), ('mmdetection', 1), ('mpris', 1), ('nuxtjs', 1), ('linkedin', 1), ('powerline', 1), ('inject', 1), ('pypi', 1), ('loss-functions', 1), ('video-downloader', 1), ('interface-definition-language', 1), ('cracking-the-coding-interview', 1), ('sage', 1), ('jekyll-project', 1), ('slack-bot', 1), ('spark', 1), ('swagger-api', 1), ('iost', 1), ('mp3player', 1), ('dcos-networking-guild', 1), ('constraint-layout', 1), ('productivity', 1), ('documents', 1), ('universal-links', 1), ('social', 1), ('applescript', 1), ('opencats', 1), ('mp', 1), ('intellij-plugin', 1), ('async-iterators', 1), ('vmware-fusion', 1), ('ctf', 1), ('country-list', 1), ('genetic-algorithm', 1), ('reverse-shell', 1), ('rexray', 1), ('evernote', 1), ('vanilla-js', 1), ('feed', 1), ('geometry-processing', 1), ('sort-goimports', 1), ('property-hypergraphs', 1), ('reveal', 1), ('ontology', 1), ('cheminformatics', 1), ('cloud-native-security', 1), ('apk', 1), ('activitypub', 1), ('menu', 1), ('manga', 1), ('cityscapes', 1), ('renpy', 1), ('tag-archived', 1), ('qrcode', 1), ('bittrex', 1), ('natural-language-understanding', 1), ('nsurlsession', 1), ('kubernetes-solo', 1), ('navier-stokes', 1), ('weixin-pay', 1), ('codebase', 1), ('realtime-database', 1), ('getting-started', 1), ('self-hosted-runner', 1), ('haxepunk', 1), ('opentelemetry', 1), ('tailwindcss', 1), ('toc', 1), ('buildpack', 1), ('directive', 1), ('seededlda', 1), ('props', 1), ('wire', 1), ('alfred-workflow', 1), ('minecraft-forge-mod', 1), ('lane-detection', 1), ('laravel-5-package', 1), ('prototype', 1), ('vision-transformers', 1), ('dcos', 1), ('leetcode-ranking', 1), ('profiler', 1), ('similarity-search', 1), ('control-systems', 1), ('lint', 1), ('webauthn-library', 1), ('colorpickerview', 1), ('xtls', 1), ('fallout1', 1), ('nodejs-password-vault', 1), ('webdavcloudmailru', 1), ('self-attentive-rnn', 1), ('gateway', 1), ('iptables-management', 1), ('prettier-eslint', 1), ('smart-contract-security', 1), ('tech-blog', 1), ('epub-generator', 1), ('gpt4', 1), ('contrastive-predictive-coding', 1), ('micro8xx-plc', 1), ('distro', 1), ('physics-engine', 1), ('organizer', 1), ('openfl', 1), ('vs2019', 1), ('linux-sunxi', 1), ('nmt', 1), ('sway', 1), ('transactional', 1), ('rrt-star', 1), ('fontawesome', 1), ('os', 1), ('vim-colors', 1), ('jose', 1), ('acl', 1), ('pci', 1), ('pinephone-pro', 1), ('rangepicker', 1), ('air-pollution', 1), ('date-parser', 1), ('rails-migrations', 1), ('tensorflow-models', 1), ('plotly-dash', 1), ('google-maps-api', 1), ('ble', 1), ('wehbooks', 1), ('remote-admin-tool', 1), ('shici', 1), ('tcp-server', 1), ('explaination', 1), ('rust-bindings', 1), ('webextension', 1), ('jwk', 1), ('win10', 1), ('third-party', 1), ('kitty-terminal', 1), ('majia', 1), ('autoencoder', 1), ('redis-database', 1), ('learning-resources', 1), ('swift4', 1), ('sse', 1), ('php-fpm', 1), ('maven-plugin', 1), ('visx', 1), ('swap', 1), ('diff', 1), ('tyson', 1), ('django-redis-sessions', 1), ('material-ui', 1), ('device-management', 1), ('discord-storage', 1), ('realm', 1), ('npm-like', 1), ('hostname', 1), ('bootstrap5', 1), ('esp32-s2', 1), ('remeshing', 1), ('virtualbox', 1), ('inflection', 1), ('arb', 1), ('face-verification', 1), ('hashring', 1), ('codestyle', 1), ('modules', 1), ('plug', 1), ('ppo', 1), ('haiku-os', 1), ('golang-library', 1), ('oauth2', 1), ('clustering', 1), ('dynamodb', 1), ('coerce', 1), ('data-testing', 1), ('ant-design', 1), ('react-components', 1), ('undertow', 1), ('nn', 1), ('scala-js', 1), ('forwarder', 1), ('secrets', 1), ('coordination', 1), ('servo-controller', 1), ('mining', 1), ('workaround', 1), ('bolt', 1), ('asf-plugin', 1), ('arrays', 1), ('higher-order-functions', 1), ('xhr', 1), ('envault', 1), ('nationalities', 1), ('card-view', 1), ('snow-effect', 1), ('compress-images', 1), ('blockchain-wallet', 1), ('rxjava2', 1), ('postgresql-extension', 1), ('afl', 1), ('gpt-2', 1), ('scalable', 1), ('volunteers', 1), ('resize', 1), ('firebase-database', 1), ('simulation-engine', 1), ('string-comparison', 1), ('platformio', 1), ('word2vec', 1), ('game-framework', 1), ('discord-io', 1), ('nrepl', 1), ('pretrained-models', 1), ('preloader', 1), ('small-object-segmentation', 1), ('xiaofendui', 1), ('collaborative-framework', 1), ('boletos', 1), ('hugo', 1), ('monte-carlo-localization', 1), ('sdk-java', 1), ('wallpaperengine', 1), ('netstandard2', 1), ('editor', 1), ('tree-shaking', 1), ('dotnet-framework', 1), ('woocommerce-extension', 1), ('colorlib', 1), ('tabline', 1), ('headless', 1), ('people-tracking', 1), ('physics-based-animation', 1), ('entity-alignment', 1), ('llama2-playground', 1), ('asn1', 1), ('few-shot-learning', 1), ('gulp-plugin', 1), ('nlu-engine', 1), ('dotnet-sdk', 1), ('godot', 1), ('jws', 1), ('newell', 1), ('vnect', 1), ('android-resever', 1), ('google-test', 1), ('tensorrt', 1), ('mapping', 1), ('markov-chain', 1), ('japanese-tokenizer', 1), ('camvid', 1), ('wordpress-block-theme', 1), ('neovim-lsp', 1), ('listen-attend-and-spell', 1), ('distance', 1), ('toml', 1), ('relational-databases', 1), ('sapnwrfc', 1), ('minions', 1), ('stock-data', 1), ('battery-gauge', 1), ('hack', 1), ('lemonsqueezy', 1), ('clap', 1), ('k8s-sig-storage', 1), ('spotify', 1), ('arm64', 1), ('google-fit', 1), ('xamarin-mac', 1), ('etherpad', 1), ('template-project', 1), ('unifi-protect-server', 1), ('inverse-reinforcement-learning', 1), ('eventbus', 1), ('appops', 1), ('texture-bias', 1), ('reductor', 1), ('multi-byte-string', 1), ('mediaserver', 1), ('oreilly-books-downloader', 1), ('grpc-server', 1), ('excel-4-0-macro', 1), ('wrapper', 1), ('eye-candy', 1), ('openage', 1), ('packer', 1), ('notification', 1), ('geojson', 1), ('sinkhorn', 1), ('wechat-weapp-redux', 1), ('lwm2m-server', 1), ('document', 1), ('runtime-compilation', 1), ('information-extraction', 1), ('json-editor', 1), ('nacos', 1), ('loam', 1), ('linux-utility', 1), ('i18n', 1), ('prompt-splitter', 1), ('6-axis-imu', 1), ('rockwell-automation', 1), ('datepicker-range', 1), ('machinelearning', 1), ('string-scanning', 1), ('typeface', 1), ('ratio', 1), ('network-server', 1), ('dagger2-mvp', 1), ('llama2', 1), ('ethernet-ip', 1), ('sql-server', 1), ('collision-detection', 1), ('colorpicker-preference', 1), ('packaging-tool', 1), ('goimports', 1), ('blockstack', 1), ('forth', 1), ('decred', 1), ('neo4j', 1), ('soc-analyst', 1), ('laravel-admin-panel', 1), ('data-lake', 1), ('iptables', 1), ('php-tokenizer', 1), ('athletes', 1), ('quant-trading', 1), ('magisk-module', 1), ('ebusd', 1), ('mdbook', 1), ('rrt', 1), ('pomodoro-technique', 1), ('docs-theme', 1), ('twitter-api', 1), ('kafka-topic', 1), ('pages', 1), ('forest', 1), ('jmc', 1), ('application-security', 1), ('orthor', 1), ('plants-species', 1), ('pca9685', 1), ('rails-gem', 1), ('particle-effects', 1), ('prompt-engineering', 1), ('telemetry', 1), ('completion', 1), ('rating-prediction', 1), ('summernote', 1), ('kociemba', 1), ('ion', 1), ('proxmox-ve', 1), ('ambisonics', 1), ('cobaltstrike', 1), ('business-logic', 1), ('widgets', 1), ('spring-session', 1), ('deno-postgres', 1), ('music-visualizer', 1), ('sequence-labeling', 1), ('phantomjs', 1), ('people-tracker', 1), ('cartography', 1), ('moment-picker', 1), ('getx', 1), ('resize2fs', 1), ('shared-memory', 1), ('software-update', 1), ('article', 1), ('neural-factorization-machines', 1), ('clothes-detector', 1), ('ps1', 1), ('win11', 1), ('chemical-reactions', 1), ('preference-screen', 1), ('sushiswap', 1), ('image-transformations', 1), ('keepassxc', 1), ('visual-novels', 1), ('comic', 1), ('mdns', 1), ('rfc-3339', 1), ('django-orm', 1), ('rxjava-picasso', 1), ('treeview', 1), ('metric', 1), ('wireguard', 1), ('euro-truck-simulator-2', 1), ('futurerestore', 1), ('freeipa', 1), ('lidarslam', 1), ('onnx', 1), ('inav', 1), ('microkernel', 1), ('leetcode-go', 1), ('openssl', 1), ('bytecode-viewer', 1), ('mdast', 1), ('nmea0183', 1), ('dubbogo', 1), ('next-js', 1), ('chainlink', 1), ('card-companies', 1), ('combine-framework', 1), ('rally', 1), ('sapient', 1), ('sfu', 1), ('doubanbook', 1), ('checkbox', 1), ('lxi', 1), ('lwm2m-protocol', 1), ('virtual-dom', 1), ('goimports-reviser', 1), ('video-language', 1), ('rpg-game', 1), ('facial-expression-recognition', 1), ('siggraph2022', 1), ('elx-table', 1), ('couchdb', 1), ('hierarchical-dirichlet-processes', 1), ('laravel5', 1), ('angular2-hmr', 1), ('kicad', 1), ('arbitrage-bot', 1), ('mdx', 1), ('diagrams', 1), ('kicad-libraries', 1), ('joystick', 1), ('passport', 1), ('jumpserver', 1), ('pytorch-debug', 1), ('numeric-data', 1), ('nano-uav', 1), ('javaagent', 1), ('dbms', 1), ('flashloan', 1), ('eureka', 1), ('login', 1), ('eclipse-plugin', 1), ('svelthree', 1), ('lightweight', 1), ('multiboot', 1), ('vuejs3', 1), ('dose-slot-booking', 1), ('photo-restoration', 1), ('discord-rpc', 1), ('remote-desktop', 1), ('springcloud-demo', 1), ('disruptor', 1), ('abandoned', 1), ('avx', 1), ('recommender', 1), ('webscale', 1), ('phoenix-framework', 1), ('p2p', 1), ('mac-app', 1), ('multiple-choice', 1), ('notification-service', 1), ('haxe', 1), ('glfw', 1), ('cloud-mail-ru', 1), ('switch', 1), ('kids', 1), ('unsupervised', 1), ('nlp-tool', 1), ('paging', 1), ('aiogram', 1), ('task-runner', 1), ('data-pipeline', 1), ('hugo-theme', 1), ('depth-estimation', 1), ('image-segmentation', 1), ('free-hls', 1), ('tape', 1), ('hypergraph-neural-networks', 1), ('alipay', 1), ('color-picker', 1), ('algo', 1), ('sciml', 1), ('vim8', 1), ('build-system', 1), ('ecapa-tdnn', 1), ('now', 1), ('resposta', 1), ('wordpress-themes', 1), ('speech-processing', 1), ('hyperlinks', 1), ('struct', 1), ('earth-movers-distance', 1), ('fluid-simulation', 1), ('partial-application', 1), ('ui-components', 1), ('map', 1), ('vue-json-editor', 1), ('ventes-immobilieres', 1), ('textmate', 1), ('spinners', 1), ('rubberseekbar', 1), ('file-validation', 1), ('federation', 1), ('vue-next', 1), ('embeddable', 1), ('sap', 1), ('managed-by-terraform', 1), ('termux-hac', 1), ('kernel', 1), ('line-detector', 1), ('redux-store', 1), ('bayesian-deep-learning', 1), ('sustainability', 1), ('stock', 1), ('requirments', 1), ('lualatex', 1), ('micro-frontends', 1), ('framer-studio', 1), ('php-shopify', 1), ('jenkins-pipeline', 1), ('swatches', 1), ('jit-compilation', 1), ('blogging', 1), ('easyadmin', 1), ('causality', 1), ('lighthouse-score', 1), ('ghost', 1), ('regex', 1), ('animation-demo', 1), ('pathofexile', 1), ('pager', 1), ('writeup', 1), ('yolo2', 1), ('3dtouch', 1), ('purescript', 1), ('cardpwn', 1), ('css-games', 1), ('nier-visualizer', 1), ('tutorials', 1), ('generalized-focal-loss', 1), ('sponsors', 1), ('gryo', 1), ('best-practice', 1), ('django-project', 1), ('ios-animation', 1), ('minimalism', 1), ('webpack2', 1), ('socket-io', 1), ('aloam', 1), ('string-parsing', 1), ('placenta', 1), ('feather', 1), ('garbage-collector', 1), ('aosp', 1), ('quant-trader', 1), ('mobx-vue', 1), ('devsecops', 1), ('univalent-foundations', 1), ('heimdallr-sdk', 1), ('crawling', 1), ('front-end-development', 1), ('account-checker', 1), ('asp-net-mvc', 1), ('nrepl-middleware', 1), ('webpack-tutorial', 1), ('jest-testresultsprocessor', 1), ('triplestore', 1), ('avalonia', 1), ('generative-models', 1), ('nideshop-admin', 1), ('ts', 1), ('omniauth', 1), ('ember-cli-deploy', 1), ('java-interview', 1), ('converts-asm', 1), ('download-videos', 1), ('uniswap', 1), ('sets', 1), ('vim-colorscheme', 1), ('babel-plugin-macros', 1), ('barbajs', 1), ('oms', 1), ('logic', 1), ('pose-guided-person-image-generation', 1), ('debug', 1), ('deep-sort', 1), ('cfgs', 1), ('powershell-classes', 1), ('javascript-library', 1), ('phoenix-application', 1), ('unofficial', 1), ('tianyiyunpan', 1), ('cg', 1), ('eclipseiot', 1), ('obsidian-theme', 1), ('ngx-lua', 1), ('pam', 1), ('paypal', 1), ('miui', 1), ('tracking-by-detection', 1), ('requests', 1), ('content-management', 1), ('rn', 1), ('computer-graphics', 1), ('stable-diffusion-webui-plugin', 1), ('digital-forensics', 1), ('typeorm', 1), ('semantic-search', 1), ('es6-javascript', 1), ('stow', 1), ('jit', 1), ('localization', 1), ('streaming-audio', 1), ('caddy', 1), ('stacked-hourglass-networks', 1), ('obsidian', 1), ('exam', 1), ('exploratory-data-analysis', 1), ('multimedia', 1), ('smarthome', 1), ('win-11', 1), ('kalman-filter', 1), ('openid', 1), ('youtube-downloader', 1), ('android-studio-plugin', 1), ('stylish', 1), ('composition-api', 1), ('evaluation-metrics', 1), ('blender-addon', 1), ('qa', 1), ('cds', 1), ('tvos', 1), ('isbn', 1), ('deno', 1), ('angular-material', 1), ('styled-components', 1), ('proxmoxve', 1), ('ios-sdk', 1), ('download-songs', 1), ('trefle', 1), ('fluid', 1), ('rails-exceptions', 1), ('wg21', 1), ('deep-links', 1), ('cloudstorage', 1), ('diagramming', 1), ('brazil', 1), ('ply-files', 1), ('macros', 1), ('babel-macros', 1), ('dense-object-detection', 1), ('overlays', 1), ('drawernavigator', 1), ('qemu', 1), ('mixpanel', 1), ('encodings', 1), ('spiral', 1), ('scripting-language', 1), ('omr', 1), ('rubber', 1), ('generative-art', 1), ('cjk-tokenizer', 1), ('cryptonote', 1), ('old-photo-restoration', 1), ('matrix-org', 1), ('graalvm-demos', 1), ('2d-game-engine', 1), ('smart-contract', 1), ('meteor-package', 1), ('cfr', 1), ('tweenmax', 1), ('sniffer', 1), ('alfabank', 1), ('functions', 1), ('crispr-analysis', 1), ('mvp-android', 1), ('circuit-breaker', 1), ('phpiredis', 1), ('balsn', 1), ('maxforlive', 1), ('ai-agents', 1), ('edgedb', 1), ('nimbus', 1), ('experimental', 1), ('sensor-data', 1), ('user-feedback', 1), ('midjourney', 1), ('similarity', 1), ('avx2', 1), ('dll-injection', 1), ('model-predictive-control', 1), ('appbase', 1), ('shader', 1), ('debugger', 1), ('constraint', 1), ('assimp', 1), ('vx', 1), ('collision-avoidance', 1), ('siv', 1), ('martian', 1), ('collaboration', 1), ('tabs', 1), ('angular-mobx', 1), ('sideproject', 1), ('scan', 1), ('foundationdb', 1), ('pandoc-template', 1), ('http-cli', 1), ('async-functions', 1), ('hcaptcha-solver', 1), ('datagrid', 1), ('woocommerce-plugin', 1), ('metrics-gathering', 1), ('parallax', 1), ('panel', 1), ('corruption', 1), ('recruiters', 1), ('snippets-collection', 1), ('commonmark', 1), ('question-answering', 1), ('deep-sort-tracking', 1), ('focalloss', 1), ('linq', 1), ('installer', 1), ('passwords', 1), ('seccomp-profile', 1), ('semantic-matching', 1), ('triangulation', 1), ('entitlements', 1), ('climate-change', 1), ('aqi', 1), ('guess-js', 1), ('socketio', 1), ('activator', 1), ('nutz', 1), ('hack-wifi', 1), ('keyboard-emulation', 1), ('activation-toolkit', 1), ('password-strength-meter', 1), ('beginner-friendly', 1), ('shape-bias', 1), ('microsoft-dynamics-crm', 1), ('heating', 1), ('first-class-functions', 1), ('deployment', 1), ('android-adb', 1), ('exception-handler', 1), ('deno-sqlite', 1), ('tcp-client', 1), ('mpv', 1), ('easy-to-use', 1), ('prova', 1), ('schema-format', 1), ('ismar', 1), ('tokenizer', 1), ('carbon-design-system', 1), ('delphi', 1), ('category-theory', 1), ('native-image', 1), ('jumpbox', 1), ('vive', 1), ('knowledge-management', 1), ('douban', 1), ('vector-graphics', 1), ('ibm-developer-technology-cloud', 1), ('wangeditor', 1), ('infura', 1), ('webdav', 1), ('dbplyr', 1), ('gis', 1), ('nusmods', 1), ('gitweb', 1), ('semantic', 1), ('service-mesh', 1), ('web-components', 1), ('microsoft-dataverse', 1), ('test-automation', 1), ('genome-editing', 1), ('oracle', 1), ('capsnet', 1), ('toolkit', 1), ('spiders', 1), ('embedded-gui', 1), ('state-of-the-art', 1), ('nlp-machine-learning', 1), ('pull-to-refresh', 1), ('terraform-module', 1), ('gnome', 1), ('ied', 1), ('passportjs', 1), ('angular-hmr', 1), ('oh-my-zsh', 1), ('polymorphic-types', 1), ('chinese-tokenizer', 1), ('meilisearch', 1), ('certifications', 1), ('lisp-interpreter', 1), ('opentracing', 1), ('ios-provisioning-profiles', 1), ('project-management', 1), ('elm', 1), ('libstdcxx', 1), ('job-scheduler', 1), ('bramble', 1), ('woocommerce-orders', 1), ('es2015', 1), ('equine-science', 1), ('dfl', 1), ('gba', 1), ('incident-response', 1), ('fast-reid', 1), ('sequence-to-sequence', 1), ('catch', 1), ('file-upload', 1), ('vector-space-model', 1), ('django-testing', 1), ('trading', 1), ('termux-', 1), ('stable-diffusion-webui', 1), ('axe-api', 1), ('validator', 1), ('security-testing', 1), ('nixos', 1), ('7z', 1), ('go-iptables', 1), ('material-theme', 1), ('humans', 1), ('automl', 1), ('file-sync', 1), ('profilesmanager', 1), ('scheduler', 1), ('country-codes', 1), ('android-ffmpeg', 1), ('east', 1), ('mp4-video', 1), ('call', 1), ('quiltmc', 1), ('concursos', 1), ('v2ex', 1), ('state', 1), ('deepfake-detection', 1), ('vim-airline', 1), ('wechat-mini-program', 1), ('moment', 1), ('jekyll-theme', 1), ('android-pay', 1), ('pushnotificaitions', 1), ('flashpunk', 1), ('pwn', 1), ('component-entity', 1), ('tensorflow-examples', 1), ('javascript-framework', 1), ('emulator-programming', 1), ('ustwo-library', 1), ('icdar', 1), ('stunnel', 1), ('ingredients', 1), ('cvpr2023', 1), ('gatsby', 1), ('suit-css', 1), ('tweaks', 1), ('guidelines', 1), ('hash-tables', 1), ('emulation', 1), ('lazywinadmin', 1), ('proof', 1), ('human-vision', 1), ('inactive', 1), ('cost-optimization', 1), ('mongodb-repo', 1), ('secure-coding', 1), ('kotlin-multiplatform-mobile', 1), ('optical-character-recognition', 1), ('middle-tier-framework', 1), ('rsa-aes', 1), ('traffic-splitting', 1), ('paper-list', 1), ('ttl', 1), ('gitops', 1), ('urboot', 1), ('ssm', 1), ('ocaml', 1), ('stylus', 1), ('starter-kit', 1), ('arch', 1), ('cost-management', 1), ('pattern', 1), ('leanote-ios', 1), ('hassio-addons', 1), ('grid', 1), ('blockchain-technology', 1), ('unified', 1), ('dataops', 1), ('gpg-encryption', 1), ('tnscui', 1), ('icra', 1), ('roam', 1), ('ssrf', 1), ('time-zones', 1), ('linter-eslint', 1), ('hangouts', 1), ('django-test', 1), ('company', 1), ('kubernetes-setup', 1), ('vaccination', 1), ('share', 1), ('miniapp', 1), ('attiny13a', 1), ('regexp', 1), ('recommendations', 1), ('react-renderer', 1), ('sublime', 1), ('airbnb-datepicker', 1), ('poetry-generator', 1), ('skeleton', 1), ('dbms-project', 1), ('metal-gear-solid-2', 1), ('fallout', 1), ('laravel-adminpanel', 1), ('618', 1), ('fantasy-console', 1), ('monthview', 1), ('trading-bot', 1), ('peer-to-peer', 1), ('mas', 1), ('cas9', 1), ('xposed', 1), ('dokku-users', 1), ('seq2seq', 1), ('lora-server', 1), ('redux-reducers', 1), ('two-phase-algorithm', 1), ('light-theme', 1), ('duktape', 1), ('blake2b', 1), ('socks5', 1), ('soft-dtw', 1), ('gorm', 1), ('nightmode', 1), ('scout', 1), ('xlm', 1), ('snowflake', 1), ('scheme-lib', 1), ('mix', 1), ('upstream-services', 1), ('sports', 1), ('firefox-addon', 1), ('kubernetes-operator', 1), ('three-js', 1), ('publishing', 1), ('backtests', 1), ('webdavmailru', 1), ('sharedpreferences', 1), ('http-proxies', 1), ('event-delegation', 1), ('abap', 1), ('dropdownmenu', 1), ('asyncstorage', 1), ('seckill', 1), ('bat', 1), ('relevance-competition', 1), ('electron-app', 1), ('sdl2', 1), ('laravel-admin', 1), ('mvp', 1), ('seccomp', 1), ('microfrontends', 1), ('espressif', 1), ('pep8', 1), ('signup', 1), ('converter', 1), ('standardization', 1), ('credit-card', 1), ('factorization-machines', 1), ('libraries', 1), ('distributed-tracing', 1), ('imitation-learning', 1), ('hpa', 1), ('hijri-calendar', 1), ('japanese-calendar', 1), ('symmetric-keys', 1), ('codex', 1), ('gitflow', 1), ('privilege-escalation', 1), ('personality-insights', 1), ('wifi-br', 1), ('code-generation', 1), ('jsi', 1), ('gym-starcraft', 1), ('lorawan', 1), ('pwm-driver', 1), ('osint-tools', 1), ('douban-book', 1), ('react-sketchapp', 1), ('nmea-sentences', 1), ('async-validation', 1), ('argument-parser', 1), ('fofa', 1), ('devtools', 1), ('out-of-band', 1), ('self-attention', 1), ('specification', 1), ('conda-forge', 1), ('speedtest', 1), ('mirror', 1), ('web-editor', 1), ('vaccine', 1), ('listen', 1), ('taiwan', 1), ('facial-detection', 1), ('vae', 1), ('hypergraph', 1), ('raster', 1), ('iphone-x', 1), ('augmented-reality', 1), ('7zip', 1), ('jailbreak', 1), ('scrna-seq', 1), ('continuous-collision-detection', 1), ('shopping-cart', 1), ('antdesign', 1), ('touch-devices', 1), ('today-widget', 1), ('expo', 1), ('full-text-search', 1), ('play-framework', 1), ('alfa-laboratory', 1), ('zuanke', 1), ('modal', 1), ('osint-python', 1), ('wip', 1), ('interview-prep', 1), ('api-rest', 1), ('xxe', 1), ('frp-library', 1), ('playstore', 1), ('toast-notification', 1), ('reinforcement-learning-algorithms', 1), ('drools-springboot', 1), ('dtw', 1), ('topic-models', 1), ('windows-server', 1), ('sap-nwrfc-sdk', 1), ('egui', 1), ('cleanup', 1), ('learning-elm', 1), ('codegen', 1), ('normalization', 1), ('3d-models', 1), ('trading-api', 1), ('volatility', 1), ('multilingual', 1), ('panels', 1), ('policy-as-code', 1), ('net-core', 1), ('airbnb', 1), ('kubernetes-cluster', 1), ('dense-detector', 1), ('zoomeye-api', 1), ('sketch-app', 1), ('toolbox', 1), ('clang-compile', 1), ('college-management', 1), ('photogrammetry', 1), ('pascal-context', 1), ('python-requests', 1), ('flutter2', 1), ('collaborative-writing', 1), ('closed-loop-control', 1), ('ui-kit', 1), ('1st-place', 1), ('plc', 1), ('shadowrocket', 1), ('dynamic-time-warping', 1), ('clipboard', 1), ('fetch', 1), ('interviews', 1), ('dirichlet-multinomial-regression', 1), ('jasperreports', 1), ('drools', 1), ('deep-neural-networks', 1), ('arcgis', 1), ('lora', 1), ('webdesign', 1), ('tags', 1), ('rtp', 1), ('interval', 1), ('data-centric', 1), ('eager-loading', 1), ('pdf-datasheet', 1), ('skill', 1), ('css3-animations', 1), ('file', 1), ('pytest-plugin', 1), ('github-flow', 1), ('autocode', 1), ('youtube-dl', 1), ('substratum', 1), ('lan-scan', 1), ('dropdown', 1), ('adapter', 1), ('vim-configuration', 1), ('consensus-algorithm', 1), ('mobile-application', 1), ('apps-script', 1), ('kafka-proxy', 1), ('datastructures', 1), ('encoder', 1), ('stylegan2', 1), ('awesome-python', 1), ('thyroid-ultrasound-image', 1), ('vscode-syncing', 1), ('reason', 1), ('spatial-audio', 1), ('scpi', 1), ('php-sdk', 1), ('vfx', 1), ('visualisation', 1), ('physics', 1), ('lwjgl', 1), ('smb', 1), ('vue-components', 1), ('facebook-messenger-bot', 1), ('leancloud', 1), ('sharing', 1), ('national-university-of-singapore', 1), ('hacking-tool', 1), ('vulnerability-scanners', 1), ('pointcloud', 1), ('latex-template', 1), ('asfenhance', 1), ('gpt-cli', 1), ('react-navigation-redux', 1), ('crash-reporting', 1), ('inputs', 1), ('usb-midi', 1), ('email-notification', 1), ('interface-description-language', 1), ('mock-locations', 1), ('nonce-misuse-attacks', 1), ('it', 1), ('unix-command', 1), ('magisk', 1), ('vjudge', 1), ('python-spider', 1), ('astrazeneca', 1), ('non-sox', 1), ('terminal-app', 1), ('jvm-languages', 1), ('mscoco-keypoint', 1), ('mnist', 1), ('generative-adversarial-net', 1), ('webank-blockchain-application', 1), ('speech-recognition', 1), ('orange-pi', 1), ('azurepolicy', 1), ('iso8601', 1), ('college-project', 1), ('gru', 1), ('danger', 1), ('save-editor', 1), ('static-site', 1), ('google-fonts', 1), ('avro-schema', 1), ('simplicial-homology', 1), ('global-warming', 1), ('npm-module', 1), ('remark', 1), ('aead', 1), ('semantics', 1), ('amazon-s3', 1), ('iccv2019', 1), ('android-sdk', 1), ('immersive', 1), ('luarocks', 1), ('recipes', 1), ('boating', 1), ('discordaccountcreator', 1), ('google-recaptcha', 1), ('code-signing-entitlements', 1), ('nuclei', 1), ('ioc', 1), ('server-side-rendering', 1), ('reader', 1), ('hotp', 1), ('visual-inspector', 1), ('web-app', 1), ('loam-velodyne', 1), ('billing', 1), ('cloth-simulation', 1), ('redteaming', 1), ('end-to-end-learning', 1), ('cluster', 1), ('assistants', 1), ('digital-license', 1), ('mui-demo', 1), ('lio', 1), ('camera-component', 1), ('rescript', 1), ('vr', 1), ('craftcms', 1), ('table-of-contents', 1), ('grub2', 1), ('vt100', 1), ('kafka-acl', 1), ('trading-strategies', 1), ('dotfiles', 1), ('annotations', 1), ('laravel-recaptcha', 1), ('arbitrage', 1), ('plants', 1), ('usenet', 1), ('nutzboot', 1), ('mosh', 1), ('ipmidi', 1), ('made-by-ukrainians', 1), ('ionic-framework', 1), ('image-annotation', 1), ('secret-management', 1), ('roamresearch', 1), ('redux-connect', 1), ('slack-app', 1), ('google-cloud-platform', 1), ('anonymous-functions', 1), ('wsn', 1), ('test-framework', 1), ('keychain', 1), ('dropdowns', 1), ('kubernetes-security', 1), ('signin', 1), ('rasterizing', 1), ('pdf-generation', 1), ('w3c', 1), ('shopping', 1), ('mesh', 1), ('tonejs', 1), ('consistent', 1), ('discord-account-generator', 1), ('rpc-server', 1), ('iso', 1), ('gaming', 1), ('commenting', 1), ('automatic-speech-recognition', 1), ('hls', 1), ('tensorflow-tutorials', 1), ('git-delta', 1), ('gitlab-ci', 1), ('responsive-web-design', 1), ('careercup', 1), ('frontend-framework', 1), ('scripts-collection', 1), ('companies', 1), ('geospatial', 1), ('checker', 1), ('feedback', 1), ('svg-images', 1), ('linode-platform', 1), ('cli-app', 1), ('double11', 1), ('gameboy-advance', 1), ('coap', 1), ('stmicro', 1), ('dynamic-routing-between-capsules', 1), ('pipelines', 1), ('composability', 1), ('query-builder', 1), ('pytest', 1), ('cpp14', 1), ('terminal-emulators', 1), ('activemodel', 1), ('cuda', 1), ('delve', 1), ('capsules', 1), ('tfhub', 1), ('data-analysis', 1), ('self-driving', 1), ('menubar', 1), ('jsdom', 1), ('data-model', 1), ('lstm-networks', 1), ('golang-sdk', 1), ('image-super-resolution', 1), ('sockets', 1), ('upload', 1), ('mozart', 1), ('spatial', 1), ('drawer-navigation', 1), ('dnslog', 1), ('zero-copy', 1), ('synthesis', 1), ('typing-practice', 1), ('product-search', 1), ('geolocation', 1), ('wave-effect', 1), ('storybook', 1), ('zoomeye-sdk', 1), ('trading-systems', 1), ('attiny13', 1), ('runner', 1), ('jobs', 1), ('gnn', 1), ('typelevel', 1), ('oauthbearer', 1), ('particle-in-cell', 1), ('super-resolution', 1), ('openvpn', 1), ('itunes', 1), ('sqlitedb', 1), ('android-visualizer', 1), ('data-observability', 1), ('software-engineering', 1), ('excel', 1), ('ibmcode', 1), ('fcm', 1), ('gcc', 1), ('lstm', 1), ('starter-project', 1), ('hash', 1), ('rtmp', 1), ('talk', 1), ('applemidi', 1), ('ai-art', 1), ('accessibility-testing', 1), ('api-gateway', 1), ('source-port', 1), ('function-composition', 1), ('dom', 1), ('tf-idf', 1), ('multi-os-engine', 1), ('react-native-button', 1), ('terminfo', 1), ('macbook', 1), ('hackernews', 1), ('github-stars', 1), ('appify', 1), ('owner-end-user', 1), ('android-debug-bridge', 1), ('fisco-bcos-browser', 1), ('idl', 1), ('scraper', 1), ('gtsam', 1), ('nmea2000', 1), ('bilibili-live', 1), ('jetpack', 1), ('minification', 1), ('iptables-web', 1), ('libgit2sharp', 1), ('flask-resources', 1), ('beta-vae', 1), ('focal-loss', 1), ('a3c', 1), ('encoding', 1), ('unidbg', 1), ('permissions', 1), ('rpc-framework', 1), ('homebrew-tap', 1), ('centernet', 1), ('decentralized-applications', 1), ('docker-pm2', 1), ('redirect', 1), ('jetty', 1), ('archisteamfarm', 1), ('lwm2m', 1), ('vue-json-schema', 1), ('roadrunner', 1), ('linux-app', 1), ('drools-example', 1), ('rubikscube-twophasesolver', 1), ('rake', 1), ('viewer', 1), ('data-exploration', 1), ('ros-node', 1), ('ibm', 1), ('instruments', 1), ('runtime', 1), ('comments', 1), ('convex-decomposition', 1), ('monoid', 1), ('pose-estimation', 1), ('fernflower', 1), ('wepy', 1), ('rtp-midi', 1), ('vite', 1), ('sidekiq', 1), ('krakatau', 1), ('webaudio', 1), ('gpts', 1), ('wifi-ha', 1), ('mpris2', 1), ('fitbit-steps', 1), ('design-patterns', 1), ('tailwindcomponents', 1), ('cloudkey', 1), ('ssh-server', 1), ('swiftpackagemanager', 1), ('0install', 1), ('centos', 1), ('photos', 1), ('shopify-api', 1), ('sports-reference', 1), ('english-learning', 1), ('lidar', 1), ('spring-sample', 1), ('openapi', 1), ('chezscheme', 1), ('supervised-lda', 1), ('akka', 1), ('shopify', 1), ('animejs', 1), ('reactivex', 1), ('ebook', 1), ('wechat-s-little-brother', 1), ('machinebox', 1), ('forensic-analysis', 1), ('mock', 1), ('confuse', 1), ('rpi', 1), ('dota-2', 1), ('mobx-connector', 1), ('slices', 1), ('technical-reports', 1), ('jvm', 1), ('gfl', 1), ('pan-seg', 1), ('tomcat', 1), ('accelerometer', 1), ('liquid', 1), ('text-generation', 1), ('android-platform', 1), ('motion-forecasting', 1), ('rxjava-android', 1), ('middlewares', 1), ('nvrtc', 1), ('kaggle-homedepot', 1), ('dotnetcore', 1), ('git-workflows', 1), ('biodiversity', 1), ('whisper', 1), ('slim-framework', 1), ('x86', 1), ('reference', 1), ('linux-desktop', 1), ('upnp', 1), ('gopro', 1), ('n2k', 1), ('schedule-hangouts', 1), ('union', 1), ('curated-list', 1), ('string-manipulation', 1), ('email-verification', 1), ('generativeai', 1), ('alpha-channel', 1), ('aggregate', 1), ('sign-in-with-apple', 1), ('lxc', 1), ('x509', 1), ('chatgpt-web', 1), ('transitions', 1), ('diagram', 1), ('material-point-method', 1), ('code-review', 1), ('visual-effects', 1), ('monads', 1), ('coredata', 1), ('pascal-voc2012', 1), ('auditd', 1), ('blueteam', 1), ('nuxt-module', 1), ('how-to', 1), ('scenekit', 1), ('vms', 1), ('xamarin-android', 1), ('eculid', 1), ('gofmt', 1), ('textdetection', 1), ('svelte-accmod', 1), ('invokedynamic', 1), ('rich-text-html-editor', 1), ('douyin-live', 1), ('transition-animation', 1), ('utilities', 1), ('android-demo', 1), ('flutter-examples', 1), ('arxiv-api', 1), ('rubymine-plugin', 1), ('python-rsa', 1), ('fmnist-dataset', 1), ('collaborative-research', 1), ('dqn', 1), ('gopro-camera', 1), ('oob', 1), ('ng2-mobx', 1), ('compliance', 1), ('lazy-evaluation', 1), ('rofi', 1), ('set-theory', 1), ('remote-judge', 1), ('claude-api', 1), ('gist', 1), ('cpu', 1), ('multiplatform', 1), ('monorepo', 1), ('tor', 1), ('email-osint', 1), ('telegram-bot-api', 1), ('screen', 1), ('macosx', 1), ('osint-tool', 1), ('automatic-differentiation', 1), ('breach-check', 1), ('winforms', 1), ('append-only', 1), ('qt-network', 1), ('redux-immutable', 1), ('framer', 1), ('win-10', 1), ('assertions', 1), ('hacking', 1), ('few-shot-classifcation', 1), ('path-to-regexp', 1), ('settings', 1), ('wasix', 1), ('cython', 1), ('swipe', 1), ('pytermtk', 1), ('sketch-plugins', 1), ('country', 1), ('wkt-strings', 1), ('rsa-cryptography', 1), ('utility-library', 1), ('tray-icon', 1), ('player-recording', 1), ('regl', 1), ('object-segmentation', 1), ('vertical-text-view', 1), ('computational-linguistics', 1), ('dokku', 1), ('ibm-research', 1), ('social-network', 1), ('dynamic-wallpaper', 1), ('openalpr', 1), ('leetcode-rating-predictor', 1), ('free-software', 1), ('prediction', 1), ('cloud-storage', 1), ('lwm2m-client', 1), ('xamarin-ios', 1), ('slide', 1), ('voiceover', 1), ('message', 1), ('hot-module-replacement', 1), ('prolog', 1), ('vertical-tabs', 1), ('react-native-store', 1), ('voxceleb1', 1), ('usb-hid', 1), ('bodymovin', 1), ('oui', 1), ('deno-mysql', 1), ('corp', 1), ('dsprites', 1), ('salt', 1), ('nuitka', 1), ('comment', 1), ('jedate', 1), ('xcom-apocalypse', 1), ('authentification', 1), ('downtime', 1), ('investigative-journalism', 1), ('scene-text', 1), ('mrtk', 1), ('sailsjs', 1), ('fitbit-data', 1), ('trefle-api', 1), ('xpath', 1), ('drawer', 1), ('webcomponents', 1), ('fpc', 1), ('neteasecloudmusicapi', 1), ('interpretable-ml', 1), ('msbuild', 1), ('strategy', 1), ('wework', 1), ('vue-tap', 1), ('infinit', 1), ('build-automation', 1), ('chinese-poetry', 1), ('matrix', 1), ('webstorm-plugin', 1), ('reproducible-builds', 1), ('vermelho', 1), ('efficiency', 1), ('clj', 1), ('xcom3', 1), ('typingspeedtest', 1), ('cloud-functions', 1), ('optical-music-recognition', 1), ('motion-graphics', 1), ('drawer-layout', 1), ('telego', 1), ('security-checklist', 1), ('reasonml', 1), ('resource-management', 1), ('tooling', 1), ('snapshot-testing', 1), ('flask-application', 1), ('hapi', 1), ('cadastre', 1), ('simple', 1), ('hueman', 1), ('text-splitter', 1), ('navigation-component', 1), ('demo', 1), ('ber', 1), ('safaribooks-downloader', 1), ('projekt', 1), ('multi-object-tracking', 1), ('cigarettes', 1), ('causal-inference', 1), ('3d-detection', 1), ('jwkset', 1), ('pwa-bugs', 1), ('censorship', 1), ('spring-cloud', 1), ('getxpattern', 1), ('autolayout', 1), ('yahoo-finance', 1), ('bibtex-citation', 1), ('financial-data', 1), ('assembly', 1), ('avconv', 1), ('data-interchange', 1), ('craft-plugin', 1), ('eclipse', 1), ('battery', 1), ('ui-library', 1), ('haxelib', 1), ('markdown-latex', 1), ('rag', 1), ('vulnerability-detection', 1), ('single-header', 1), ('asp-net', 1), ('sublime-text-plugin', 1), ('adafruit-io', 1), ('prettier', 1), ('cloudmailru', 1), ('uibutton', 1), ('diy', 1), ('toolbar', 1), ('rpc-client', 1), ('aircraft', 1), ('collaborative', 1), ('fish', 1), ('denoland', 1), ('wiz', 1), ('mirros', 1), ('haar-cascade', 1), ('unifi-protect', 1), ('vid-seg', 1), ('aeon', 1), ('configuration-language', 1), ('canvas-element', 1), ('prop-types', 1), ('screen-capture', 1), ('greasy', 1), ('squad', 1), ('acceleration', 1), ('react16', 1), ('mqtt-client', 1), ('screenmanager', 1), ('openwhisk', 1), ('mood', 1), ('multi-task-learning', 1), ('sem', 1), ('desktop-wallpaper', 1), ('clojure-library', 1), ('stn', 1), ('retro', 1), ('akka-http', 1), ('custom-transitions', 1), ('ios-ui', 1), ('transaction', 1), ('esp-idf', 1), ('nextra', 1), ('icon', 1), ('firefox-quantum', 1), ('symbolic-regression', 1), ('smzdm', 1), ('sing-box', 1), ('servo', 1), ('partiql', 1), ('dubbo-go', 1), ('life-tracker', 1), ('hot-reloading', 1), ('beaglebone', 1), ('collaborative-editing', 1), ('bastion-host', 1), ('discordjs', 1), ('dynamic-desktop', 1), ('writing', 1), ('scala-support', 1), ('optimal-transport', 1), ('vue-composition-api', 1), ('samsumg-tvs', 1), ('flipper', 1), ('tiling-window-manager', 1), ('paddleocr', 1), ('hypergraphs', 1), ('summary', 1), ('libmpv', 1), ('machine', 1), ('convex-hull-algorithms', 1), ('icon-picker', 1), ('vanilla-javascript', 1), ('vnc', 1), ('sports-stats', 1), ('ant-motion', 1), ('headline-collectors', 1), ('pseudo', 1), ('evm', 1), ('color-themes', 1), ('safaribooksonline', 1), ('remix-run', 1), ('grandstack', 1), ('data-annotation', 1), ('neural-style', 1), ('db', 1), ('iis', 1), ('steamguard-cli', 1), ('semver', 1), ('battery-monitor', 1), ('nero', 1), ('futurerestore-gui', 1), ('monad', 1), ('fontawesome5', 1), ('umi-ocr', 1), ('fediverse', 1), ('plugin-system', 1), ('rtsp', 1), ('progress-hud', 1), ('canvas-particles', 1), ('discordbot', 1), ('rating-component', 1), ('linode-cli', 1), ('gookit', 1), ('pandoc', 1), ('relay', 1), ('linguistics', 1), ('silex', 1), ('galleries', 1), ('gpt4-turbo', 1), ('windows-terminal', 1), ('homeassistant', 1), ('reranking', 1), ('esap', 1), ('transducers', 1), ('high-performance', 1), ('no-dependencies', 1), ('windows-app', 1), ('twisted', 1), ('psresourceget', 1), ('footcontroller', 1), ('nzb-indexers', 1), ('improvement', 1), ('relu-layer', 1), ('edgeql', 1), ('zoomeye', 1), ('databinding', 1), ('hexo-plugin', 1), ('webpack-closure-compiler', 1), ('parser-library', 1), ('proxmox', 1), ('rust-programming-language', 1), ('extraction', 1), ('discord-token-generator', 1), ('cl', 1), ('extracts', 1), ('fastai', 1), ('drawerlayout', 1), ('parallel-computing', 1), ('java-decompiler', 1), ('rfc', 1), ('dlna', 1), ('metadata', 1), ('transparency', 1), ('attack-vectors', 1), ('nyan', 1), ('crdt', 1), ('solver', 1), ('pygame', 1), ('cryptocurrencies', 1), ('vscode-sync', 1), ('zigbee', 1), ('hashgraph', 1), ('composition', 1), ('chart', 1), ('compactlogix', 1), ('service-governance', 1), ('cgroups', 1), ('patterns', 1), ('web-performance', 1), ('quic', 1), ('bedrock', 1), ('cube', 1), ('mruby', 1), ('feature-flags', 1), ('fix', 1), ('progress-bar', 1), ('gromov-wasserstein', 1), ('capacitor', 1), ('relu', 1), ('ctp', 1), ('nixpkgs', 1), ('wifi-cra', 1), ('logs', 1), ('stratum', 1), ('ios-transition', 1), ('bluetooth', 1), ('ruby-gem', 1), ('platform', 1), ('dubbo-cluster', 1), ('sandstorm', 1), ('syntax-highlighter', 1), ('difference', 1), ('hashing', 1), ('springboot-sample', 1), ('panoptic-segmentation', 1), ('password-safety', 1), ('fallout2', 1), ('rsync', 1), ('grub', 1), ('closember', 1), ('play', 1), ('repository', 1), ('carreira', 1), ('kindle', 1), ('examples', 1), ('typehints', 1), ('comunidade', 1), ('statusline', 1), ('vectors-trained', 1), ('gitskarios', 1), ('clojurewerkz', 1), ('material', 1), ('disko', 1), ('offline-maps', 1), ('snapcraft', 1), ('pylogix', 1), ('blog-theme', 1), ('user-agent', 1), ('date-time', 1), ('college-students', 1), ('kicad-schematics', 1), ('lua-resty-jwt', 1), ('linode-api', 1), ('vimscript', 1), ('proxmox-virtualization', 1), ('tray-menu', 1), ('cascade-classifier', 1), ('object-tracking', 1), ('developers', 1), ('conferences', 1), ('iptables-go', 1), ('masonry-layout', 1), ('crash-reports', 1), ('voxceleb2', 1), ('algorithms-datastructures', 1), ('looking-for-maintainer', 1), ('e-commerce', 1), ('pastebin', 1), ('autojump', 1), ('automatic1111', 1), ('oauth-provider', 1), ('google-chromium', 1), ('book', 1), ('iridium', 1), ('ocr-python', 1), ('machine-translation', 1), ('zbus', 1), ('clothes-detection', 1), ('apparmor', 1), ('ios-app', 1), ('pouchdb', 1), ('elx-editable', 1), ('frontend-architecture', 1), ('monero', 1), ('viml', 1), ('tweening', 1), ('arui', 1), ('safari', 1), ('contrastive-learning', 1), ('flowchart', 1), ('herokuish', 1), ('steem', 1), ('data-quality', 1), ('nim-lang', 1), ('allwinner', 1), ('polygon', 1), ('backtesting-trading-strategies', 1), ('reverse-connection', 1), ('authentication-backend', 1), ('nzbhydra', 1), ('cppcheck', 1), ('technical-writing', 1), ('heroku-apps', 1), ('defense', 1), ('visual', 1), ('firefox-reality', 1), ('xrmtoolbox', 1), ('micro-services', 1), ('framerjs', 1), ('copilot', 1), ('college', 1), ('drawer-android', 1), ('nomie', 1), ('fullstack-developer', 1), ('parallax-scrolling', 1), ('templatecache', 1), ('reactive-banana-library', 1), ('free-servers', 1), ('xi', 1), ('vuejs-components', 1), ('fashion-mnist', 1), ('yona', 1), ('inox', 1), ('fast', 1), ('memory-holes', 1), ('model', 1), ('craft', 1), ('monix', 1), ('books', 1), ('grammar-files', 1), ('windows-11', 1), ('wordcloud', 1), ('declarative', 1), ('rpc-service', 1), ('totp', 1), ('semantic-versioning', 1), ('chain', 1), ('batching', 1), ('streams', 1), ('wasi', 1), ('framer-prototype', 1), ('pub', 1), ('ieee-802-11', 1), ('data-profiling', 1), ('satellite-images', 1), ('asch', 1), ('wireframe', 1), ('jupyterlab', 1), ('nideshop', 1), ('squirrel', 1), ('control-theory', 1), ('latent-dirichlet-allocation', 1), ('audio-player', 1), ('mailru', 1), ('leanote', 1), ('vision-for-fashion', 1), ('s3', 1), ('html-template', 1), ('reactiveui', 1), ('eosio', 1), ('food', 1), ('ng-zorro-antd', 1), ('latex-cv', 1), ('vector-space', 1), ('proptypes', 1), ('fslayui', 1), ('deep-rl', 1), ('instance-segmentation', 1), ('chatbot-framework', 1), ('a2c', 1), ('scrcpy', 1), ('microsoft-dynamics', 1), ('realm-api', 1), ('iptables-ui', 1), ('lodash', 1), ('contrastive-loss', 1), ('riscv', 1), ('ssl', 1), ('google-appengine', 1), ('string', 1), ('btrfs', 1), ('image-restoration', 1), ('terraform-cost-estimation', 1), ('zsh-theme', 1), ('miccai-grand-challenge', 1), ('gleam', 1), ('text-classification', 1), ('legion', 1), ('android-ratiolayout', 1), ('rnn', 1), ('career', 1), ('graphql-server', 1), ('vue-use', 1), ('document-classification', 1), ('mvvm-architecture', 1), ('data-validation', 1), ('rsa', 1), ('powerapps', 1), ('pinba', 1), ('dogcs', 1), ('image-classification', 1), ('ins-seg', 1), ('azure-openai', 1), ('systemd', 1), ('joe', 1), ('videos', 1), ('pomodoro', 1), ('procyon', 1), ('micro-frontend', 1), ('word-embeddings', 1), ('rockwell', 1), ('progress-circle', 1), ('nginx', 1), ('standard', 1), ('graph', 1), ('onesignal-notifications', 1), ('fibers', 1), ('error-boundary', 1), ('semantic-web', 1), ('http-error-pages', 1), ('nes', 1), ('pachinko-allocation', 1), ('sqlite-wrapper', 1), ('guidedlda', 1), ('douyin', 1), ('php-grpc', 1), ('ingest-data', 1), ('ukraine', 1), ('terminal-ui', 1), ('plugin-manager', 1), ('extract-pinout', 1), ('baota', 1), ('cloud-tpu', 1), ('liosam', 1), ('obscure', 1), ('eslint-flat-config', 1), ('hololens', 1), ('seed', 1), ('obsidian-plugin', 1), ('detectionlab', 1), ('orchestration', 1), ('colorpickerdialog', 1), ('cbt', 1), ('particles', 1), ('ascii-graphics', 1), ('flipperzero', 1), ('markercluster', 1), ('key-wrapping', 1), ('application-monitoring', 1), ('streaming-encryption', 1), ('medium-clinics', 1), ('shellcode-injection', 1), ('dbi', 1), ('pux', 1), ('mpii-dataset', 1), ('qfl', 1), ('keepass', 1), ('themoviedb', 1), ('robo-advisor', 1), ('configuration-management', 1), ('seata', 1), ('cost-estimation', 1), ('meta-search', 1), ('oj', 1), ('resume-template', 1), ('xr', 1), ('trpo', 1), ('incremental', 1), ('lorawan-server', 1), ('decorator', 1), ('robotics', 1), ('idea', 1), ('video-course', 1), ('controlled-nlg', 1), ('api-management', 1), ('images', 1), ('alfred', 1), ('digitalocean', 1), ('poetry', 1), ('container-security', 1), ('hybrid-apps', 1), ('layui', 1), ('tson', 1), ('digota', 1), ('auth', 1), ('vuerouter', 1), ('turn-based-combat', 1), ('network-scanner', 1), ('solid', 1), ('libvirt', 1), ('claude', 1), ('terminal-shaders', 1), ('end-to-end-encryption', 1), ('arknights', 1), ('graphql-js', 1), ('railway', 1), ('eventstore', 1), ('lunr', 1), ('steambot', 1), ('jest-junit', 1), ('imagenet', 1), ('text-based', 1), ('products', 1), ('flutter-ui-challenges', 1), ('cip', 1), ('time-tracking', 1), ('decentralized', 1), ('symbolic-computation', 1), ('webshell', 1), ('farming-robots', 1), ('crispr', 1), ('loss-function', 1), ('vuls', 1), ('cfengine', 1), ('high-level-design', 1), ('course', 1), ('avaloniaui', 1), ('movie', 1), ('conversion', 1), ('scrollview', 1), ('vertical', 1), ('seven-zip', 1), ('disentanglement', 1), ('php-library', 1), ('rfc6587', 1), ('theano', 1), ('gesture-password', 1), ('cheerio', 1), ('recaptcha-validation', 1), ('buttercup', 1), ('task-management', 1), ('crispr-cas9', 1), ('cjk', 1), ('debugging-tool', 1), ('set', 1), ('reflect', 1), ('rollup', 1), ('lemmy', 1), ('podcast', 1), ('elevation', 1), ('xelatex', 1), ('cache', 1), ('rocketseat', 1), ('cv', 1), ('mac-app-store', 1), ('spring', 1), ('infrastructure', 1), ('exchange', 1), ('bot-framework', 1), ('kvm', 1), ('linter', 1), ('text-editor', 1), ('keras-tensorflow', 1), ('vant', 1), ('chalkboard', 1), ('tabbar', 1), ('bnf', 1), ('out-of-distribution', 1), ('re-frame', 1), ('sequencing', 1), ('python-language', 1), ('trading-platform', 1), ('botnet', 1), ('wordpress-plugin', 1), ('image-to-image-translation', 1), ('rfc5424', 1), ('uav', 1), ('tensorflow-cpp', 1), ('poscomp', 1), ('gardening-apps', 1), ('data-fetching', 1), ('fuzzer', 1), ('typing', 1), ('syntax', 1), ('vxi11', 1), ('v-router', 1), ('ai-conversations', 1), ('language-modelling', 1), ('governance', 1), ('datetimepicker', 1), ('http-performance', 1), ('free-nitro', 1), ('pinned-gist', 1), ('live-reload', 1), ('attention-model', 1), ('jar', 1), ('administration', 1), ('octree', 1), ('vector-similarity', 1), ('models', 1), ('design-system', 1), ('python-compiler', 1), ('rust-crate', 1), ('skimage', 1), ('upload-dialog', 1), ('dvf', 1), ('file-watcher', 1), ('github-actions', 1), ('docker-compose', 1), ('radare2', 1), ('puppeteer', 1), ('custom-scheme', 1), ('screenrecord', 1), ('yachting', 1), ('bugbounty', 1), ('dotfile-management', 1), ('renjin', 1), ('rich-text', 1), ('rubberrangepicker', 1), ('asynchronous-io', 1), ('callback', 1), ('wkt', 1), ('nlg', 1), ('restful-api', 1), ('theme-manager', 1), ('luaunit', 1), ('tpu', 1), ('brave', 1), ('search-relevance', 1), ('after-effects', 1), ('iot-device', 1), ('progress-loader', 1), ('github-pages', 1), ('renovate', 1), ('type-theory', 1), ('gba-emulator', 1), ('entity-diagram', 1), ('resin', 1), ('badge-poser', 1), ('shadowshare', 1), ('android-listview', 1), ('google-recaptcha-v2', 1), ('toast', 1), ('eosio-signing-request', 1), ('discontinued', 1), ('clouds', 1), ('tools', 1), ('individual-fonts', 1), ('deployment-automation', 1), ('axetroy', 1), ('dotfile-manager', 1), ('jwe', 1), ('graalvm', 1), ('qta', 1), ('mbr', 1), ('corner-detection', 1), ('nlu', 1), ('loading-animation', 1), ('major-mode', 1), ('ruby-fann', 1), ('ng-zorro', 1), ('offline-first', 1), ('ir', 1), ('pyodide', 1), ('ida-plugin', 1), ('clean-architecture', 1), ('screenrecordingapp', 1), ('community-driven', 1), ('viewgroup', 1), ('jitsi', 1), ('appindicator', 1), ('quantization', 1), ('cad', 1), ('qqmusic', 1), ('picker-bottom-sheet', 1), ('printing', 1), ('python-3', 1), ('good-practices', 1), ('orafce', 1), ('reading', 1), ('gdal', 1), ('minecraft-mod', 1), ('multi-stream-rsync', 1), ('discordaccountgen', 1), ('immutablejs', 1), ('ebus', 1), ('neofetch', 1), ('react-native-app', 1), ('visual-arts', 1), ('memory', 1), ('markdown-editor', 1), ('promise', 1), ('cookies', 1), ('multiple-machines', 1), ('clang-tidy', 1), ('webauthn', 1), ('american-truck-simulator', 1), ('tool', 1), ('gruvbox', 1), ('linode', 1), ('gabarito', 1), ('environment-variables', 1), ('hlsl-shader', 1), ('swift5', 1), ('image-manipulation', 1), ('messagepack', 1), ('cubical-type-theory', 1), ('context-free', 1), ('foss', 1), ('masonry', 1), ('lvgl', 1), ('ws', 1), ('darkflow', 1), ('html5-css3', 1), ('reflection', 1), ('controllogix', 1), ('dialogue-systems', 1), ('slim', 1), ('nmea-parser', 1), ('components', 1), ('speaker-verification', 1), ('woocommerce', 1), ('diffusion-models', 1), ('convolution', 1), ('gettingstarted', 1), ('talks', 1), ('neurons', 1), ('php-svg', 1), ('parser-combinators', 1), ('fallsea', 1), ('openfeign', 1), ('iot-edge', 1), ('brave-extension', 1), ('vim-delve', 1), ('facenet', 1), ('elle', 1), ('awgo', 1), ('django-migrations', 1), ('recommendation-system', 1), ('vscode-settings', 1), ('software', 1), ('mps', 1), ('update', 1), ('net5', 1), ('flashswap', 1), ('dss', 1), ('jetbrains', 1), ('android-links', 1), ('rubygem', 1), ('attention', 1), ('midjourney-app', 1), ('control', 1), ('pulp', 1), ('openconnect', 1), ('django-application', 1), ('person-image-generation', 1), ('vjing', 1), ('dropdown-menus', 1), ('download', 1), ('craco', 1), ('packaging', 1), ('kafka-gateway', 1), ('talkie', 1), ('flutter-widget', 1), ('eslint-extension', 1), ('littlevgl', 1), ('alias-free-gan', 1), ('powershellget', 1), ('context', 1), ('apple-silicon', 1), ('cryptonight', 1), ('math', 1), ('criticality-tier0', 1)]\n"
     ]
    }
   ],
   "source": [
    "#统计数据中，不同 topic 出现的频率\n",
    "all_topics_safe_parse = set(topic for sublist in data_file['Topics_y'] for topic in sublist)\n",
    "\n",
    "topic_counts_safe_parse = {topic: 0 for topic in all_topics_safe_parse}\n",
    "for topic_list in data_file['Topics_y']:\n",
    "    for topic in topic_list:\n",
    "        topic_counts_safe_parse[topic] += 1\n",
    "\n",
    "sorted_topics_safe_parse = sorted(topic_counts_safe_parse.items(), key=lambda x: x[1], reverse=True)\n",
    "\n",
    "print(sorted_topics_safe_parse)\n"
   ]
  },
  {
   "cell_type": "code",
   "execution_count": 127,
   "metadata": {},
   "outputs": [
    {
     "data": {
      "text/plain": [
       "['deep-learning',\n",
       " 'linux',\n",
       " 'vue',\n",
       " 'security',\n",
       " 'macos',\n",
       " 'pytorch',\n",
       " 'machine-learning',\n",
       " 'react-native',\n",
       " 'database',\n",
       " 'redux',\n",
       " 'ruby',\n",
       " 'cli',\n",
       " 'tensorflow',\n",
       " 'webpack',\n",
       " 'animation',\n",
       " 'android-library',\n",
       " 'windows',\n",
       " 'library',\n",
       " 'angular',\n",
       " 'api']"
      ]
     },
     "execution_count": 127,
     "metadata": {},
     "output_type": "execute_result"
    }
   ],
   "source": [
    "# 定义一个无意义主题的列表，排除这个列表中出现的主题，主要是编程语言\n",
    "notImportant_topics = ['javascript', 'python', 'react', 'android', 'golang', 'nodejs', 'ios', 'go', 'typescript', 'swift', 'java', 'php', 'rust','hacktoberfest','awesome','awesome-list','json','css','c']\n",
    "\n",
    "filtered_topics = [topic for topic, count in sorted_topics_safe_parse if topic not in notImportant_topics]\n",
    "\n",
    "# 取前20个出现频率最高的主题，作为之后分类的类别\n",
    "selected_topics_extended = filtered_topics[:20]\n",
    "selected_topics_final =  selected_topics_extended\n",
    "\n",
    "# 打印查看这20个主题\n",
    "selected_topics_final"
   ]
  },
  {
   "cell_type": "code",
   "execution_count": 128,
   "metadata": {},
   "outputs": [
    {
     "data": {
      "text/plain": [
       "array([[0, 0, 0, 0, 0, 0, 0, 0, 0, 0, 0, 0, 0, 0, 0, 0, 0, 0, 0, 0],\n",
       "       [0, 0, 0, 0, 0, 0, 0, 0, 0, 0, 0, 0, 0, 0, 0, 0, 0, 0, 0, 0],\n",
       "       [0, 0, 0, 0, 0, 0, 0, 0, 0, 0, 0, 0, 0, 0, 0, 0, 0, 0, 0, 0],\n",
       "       [0, 0, 1, 0, 0, 0, 0, 0, 0, 0, 0, 0, 0, 0, 0, 0, 0, 0, 0, 0],\n",
       "       [0, 0, 0, 0, 0, 0, 0, 0, 0, 0, 0, 0, 0, 0, 0, 0, 0, 0, 0, 0],\n",
       "       [0, 0, 0, 0, 0, 0, 0, 0, 0, 0, 0, 0, 0, 1, 0, 0, 0, 0, 0, 0],\n",
       "       [0, 0, 0, 0, 0, 0, 0, 0, 0, 0, 0, 0, 0, 0, 0, 0, 0, 0, 0, 0],\n",
       "       [0, 0, 0, 0, 0, 0, 0, 0, 0, 0, 0, 0, 0, 0, 0, 0, 0, 0, 0, 0],\n",
       "       [0, 0, 0, 0, 0, 0, 0, 0, 0, 1, 0, 0, 0, 0, 0, 0, 0, 0, 0, 0],\n",
       "       [0, 0, 0, 0, 0, 0, 0, 0, 0, 0, 0, 0, 0, 0, 1, 0, 0, 0, 0, 0]])"
      ]
     },
     "execution_count": 128,
     "metadata": {},
     "output_type": "execute_result"
    }
   ],
   "source": [
    "import numpy as np\n",
    "\n",
    "# 创建一个topic矩阵，将topic列表数值化，属于上述对应类别的赋值1\n",
    "topic_matrix = np.zeros((len(data_file), len(selected_topics_final)), dtype=int)\n",
    "\n",
    "for i, topics in enumerate(data_file['Topics_y']):\n",
    "    for topic in topics:\n",
    "        if topic in selected_topics_final:\n",
    "            topic_matrix[i, selected_topics_final.index(topic)] = 1\n",
    "\n",
    "topic_matrix[:10]  # 展示处理后的结果\n"
   ]
  },
  {
   "cell_type": "code",
   "execution_count": 129,
   "metadata": {},
   "outputs": [
    {
     "data": {
      "text/plain": [
       "[[20], [20], [20], [2], [20], [13], [20], [20], [9], [14]]"
      ]
     },
     "execution_count": 129,
     "metadata": {},
     "output_type": "execute_result"
    }
   ],
   "source": [
    "# 创建一个标签列表，将上述矩阵中的数值结果进一步转化\n",
    "labels = []\n",
    "\n",
    "# 保存 topic 的类别编号\n",
    "for i, row in enumerate(topic_matrix):\n",
    "    label_list = []\n",
    "    for topic_index, topic_value in enumerate(row):\n",
    "        if topic_value == 1:\n",
    "            label_list.append(topic_index)\n",
    "    labels.append(label_list)\n",
    "\n",
    "\n",
    "#如果不属于这20个类别中的任一类别，赋值20，代表其他类别\n",
    "for index, sublist in enumerate(labels):\n",
    "    if not sublist:\n",
    "        labels[index] = [20]\n",
    "\n",
    "labels[:10]\n",
    "\n"
   ]
  },
  {
   "cell_type": "code",
   "execution_count": 130,
   "metadata": {},
   "outputs": [
    {
     "data": {
      "text/plain": [
       "((3359, 21), (2687, 20), (672, 20), (2687, 21))"
      ]
     },
     "execution_count": 130,
     "metadata": {},
     "output_type": "execute_result"
    }
   ],
   "source": [
    "from sklearn.model_selection import train_test_split\n",
    "from sklearn.preprocessing import MultiLabelBinarizer\n",
    "\n",
    "# 转换成多标签分类形式\n",
    "mlb = MultiLabelBinarizer()\n",
    "multilabel_data = mlb.fit_transform(labels)\n",
    "\n",
    "\n",
    "# 分割训练集和测试集\n",
    "X_train, X_test, y_train, y_test = train_test_split(topic_matrix, multilabel_data, test_size=0.2, random_state=42)\n",
    "\n",
    "multilabel_data.shape, X_train.shape, X_test.shape, y_train.shape\n"
   ]
  },
  {
   "cell_type": "code",
   "execution_count": 131,
   "metadata": {},
   "outputs": [],
   "source": [
    "from sklearn.preprocessing import StandardScaler\n",
    "from sklearn.model_selection import train_test_split\n",
    "\n",
    "X_train, X_test, y_train, y_test = train_test_split(topic_matrix, multilabel_data, test_size=0.2, random_state=42)\n",
    "\n",
    "# 标准化\n",
    "scaler = StandardScaler()\n",
    "X_train_scaled = scaler.fit_transform(X_train)\n",
    "X_test_scaled = scaler.transform(X_test)\n",
    "\n",
    "X_train_scaled.shape, X_test_scaled.shape,y_train.shape\n",
    "\n",
    "# 保存数据\n",
    "np.savetxt('data/X_train_scaled.csv', X_train_scaled, delimiter=',')\n",
    "np.savetxt('data/X_test_scaled.csv', X_test_scaled, delimiter=',')\n",
    "np.savetxt('data/y_train.csv', y_train, delimiter=',')\n",
    "np.savetxt('data/y_test.csv', y_test, delimiter=',')\n"
   ]
  },
  {
   "cell_type": "markdown",
   "metadata": {},
   "source": [
    "# 步骤三：使用 MLP 训练"
   ]
  },
  {
   "cell_type": "code",
   "execution_count": 132,
   "metadata": {},
   "outputs": [
    {
     "name": "stdout",
     "output_type": "stream",
     "text": [
      "              precision    recall  f1-score   support\n",
      "\n",
      "           0       1.00      1.00      1.00         5\n",
      "           1       1.00      1.00      1.00         6\n",
      "           2       1.00      1.00      1.00         5\n",
      "           3       1.00      1.00      1.00         6\n",
      "           4       1.00      1.00      1.00         6\n",
      "           5       1.00      1.00      1.00         5\n",
      "           6       1.00      1.00      1.00         5\n",
      "           7       1.00      1.00      1.00         2\n",
      "           8       1.00      1.00      1.00         1\n",
      "           9       1.00      1.00      1.00         9\n",
      "          10       1.00      1.00      1.00         4\n",
      "          11       1.00      1.00      1.00         5\n",
      "          12       1.00      1.00      1.00         1\n",
      "          13       1.00      0.67      0.80         3\n",
      "          14       1.00      1.00      1.00         2\n",
      "          15       1.00      1.00      1.00         1\n",
      "          16       1.00      1.00      1.00         7\n",
      "          17       1.00      1.00      1.00         2\n",
      "          18       1.00      1.00      1.00         3\n",
      "          19       1.00      1.00      1.00         3\n",
      "          20       1.00      1.00      1.00       605\n",
      "\n",
      "   micro avg       1.00      1.00      1.00       686\n",
      "   macro avg       1.00      0.98      0.99       686\n",
      "weighted avg       1.00      1.00      1.00       686\n",
      " samples avg       1.00      1.00      1.00       686\n",
      "\n"
     ]
    }
   ],
   "source": [
    "#MLP\n",
    "from sklearn.neural_network import MLPClassifier\n",
    "from sklearn.metrics import classification_report, confusion_matrix\n",
    "\n",
    "# 初始化一个3层的 mlp 模型\n",
    "mlp_classifier = MLPClassifier(hidden_layer_sizes=(100, 100, 100), max_iter=1000, random_state=42)\n",
    "\n",
    "mlp_classifier.fit(X_train_scaled, y_train)\n",
    "\n",
    "y_pred = mlp_classifier.predict(X_test_scaled)\n",
    "\n",
    "# 计算混淆矩阵，生成分类报告\n",
    "conf_matrix = confusion_matrix(y_test.argmax(axis=1), y_pred.argmax(axis=1))\n",
    "class_report = classification_report(y_test, y_pred)\n",
    "\n",
    "conf_matrix, class_report\n",
    "print(class_report)\n"
   ]
  },
  {
   "cell_type": "markdown",
   "metadata": {},
   "source": [
    "# 步骤四：使用逻辑回归模型训练"
   ]
  },
  {
   "cell_type": "code",
   "execution_count": 133,
   "metadata": {},
   "outputs": [
    {
     "name": "stdout",
     "output_type": "stream",
     "text": [
      "              precision    recall  f1-score   support\n",
      "\n",
      "           0       1.00      1.00      1.00         5\n",
      "           1       1.00      1.00      1.00         6\n",
      "           2       1.00      1.00      1.00         5\n",
      "           3       1.00      1.00      1.00         6\n",
      "           4       1.00      1.00      1.00         6\n",
      "           5       1.00      1.00      1.00         5\n",
      "           6       1.00      1.00      1.00         5\n",
      "           7       1.00      1.00      1.00         2\n",
      "           8       1.00      1.00      1.00         1\n",
      "           9       1.00      1.00      1.00         9\n",
      "          10       1.00      1.00      1.00         4\n",
      "          11       1.00      1.00      1.00         5\n",
      "          12       1.00      1.00      1.00         1\n",
      "          13       1.00      1.00      1.00         3\n",
      "          14       1.00      1.00      1.00         2\n",
      "          15       1.00      1.00      1.00         1\n",
      "          16       1.00      1.00      1.00         7\n",
      "          17       1.00      1.00      1.00         2\n",
      "          18       1.00      1.00      1.00         3\n",
      "          19       1.00      1.00      1.00         3\n",
      "          20       1.00      1.00      1.00       605\n",
      "\n",
      "   micro avg       1.00      1.00      1.00       686\n",
      "   macro avg       1.00      1.00      1.00       686\n",
      "weighted avg       1.00      1.00      1.00       686\n",
      " samples avg       1.00      1.00      1.00       686\n",
      "\n"
     ]
    }
   ],
   "source": [
    "#LR\n",
    "from sklearn.linear_model import LogisticRegression\n",
    "from sklearn.metrics import classification_report, confusion_matrix\n",
    "from sklearn.multioutput import MultiOutputClassifier\n",
    "\n",
    "multi_label_model = MultiOutputClassifier(LogisticRegression())\n",
    "\n",
    "multi_label_model.fit(X_train_scaled, y_train)\n",
    "\n",
    "y_pred_log_reg = multi_label_model.predict(X_test_scaled)\n",
    "\n",
    "\n",
    "conf_matrix_log_reg = confusion_matrix(y_test.argmax(axis=1), y_pred_log_reg.argmax(axis=1))\n",
    "class_report_log_reg = classification_report(y_test, y_pred_log_reg)\n",
    "\n",
    "conf_matrix_log_reg, class_report_log_reg\n",
    "print(class_report_log_reg)\n"
   ]
  },
  {
   "cell_type": "markdown",
   "metadata": {},
   "source": [
    "# 步骤五：使用 SVM 模型训练"
   ]
  },
  {
   "cell_type": "code",
   "execution_count": 134,
   "metadata": {},
   "outputs": [
    {
     "name": "stdout",
     "output_type": "stream",
     "text": [
      "              precision    recall  f1-score   support\n",
      "\n",
      "           0       1.00      1.00      1.00         5\n",
      "           1       1.00      1.00      1.00         6\n",
      "           2       1.00      1.00      1.00         5\n",
      "           3       1.00      1.00      1.00         6\n",
      "           4       1.00      1.00      1.00         6\n",
      "           5       1.00      1.00      1.00         5\n",
      "           6       1.00      1.00      1.00         5\n",
      "           7       1.00      1.00      1.00         2\n",
      "           8       1.00      1.00      1.00         1\n",
      "           9       1.00      1.00      1.00         9\n",
      "          10       1.00      1.00      1.00         4\n",
      "          11       1.00      1.00      1.00         5\n",
      "          12       1.00      1.00      1.00         1\n",
      "          13       1.00      1.00      1.00         3\n",
      "          14       1.00      1.00      1.00         2\n",
      "          15       1.00      1.00      1.00         1\n",
      "          16       1.00      1.00      1.00         7\n",
      "          17       1.00      1.00      1.00         2\n",
      "          18       1.00      1.00      1.00         3\n",
      "          19       1.00      1.00      1.00         3\n",
      "          20       1.00      1.00      1.00       605\n",
      "\n",
      "   micro avg       1.00      1.00      1.00       686\n",
      "   macro avg       1.00      1.00      1.00       686\n",
      "weighted avg       1.00      1.00      1.00       686\n",
      " samples avg       1.00      1.00      1.00       686\n",
      "\n"
     ]
    }
   ],
   "source": [
    "#svm\n",
    "from sklearn.svm import SVC\n",
    "from sklearn.metrics import classification_report, confusion_matrix\n",
    "from sklearn.multioutput import MultiOutputClassifier\n",
    "\n",
    "svm_model = SVC(kernel='linear')  \n",
    "\n",
    "multi_label_svm = MultiOutputClassifier(svm_model)\n",
    "\n",
    "multi_label_svm.fit(X_train_scaled, y_train)\n",
    "\n",
    "y_pred_svm = multi_label_svm.predict(X_test_scaled)\n",
    "\n",
    "\n",
    "conf_matrix_svm = confusion_matrix(y_test.argmax(axis=1), y_pred_svm.argmax(axis=1))\n",
    "class_report_svm = classification_report(y_test, y_pred_svm)\n",
    "\n",
    "conf_matrix_svm, class_report_svm\n",
    "print(class_report_svm)"
   ]
  },
  {
   "cell_type": "markdown",
   "metadata": {},
   "source": [
    "# 步骤六： 使用随机森林训练"
   ]
  },
  {
   "cell_type": "code",
   "execution_count": 135,
   "metadata": {},
   "outputs": [
    {
     "name": "stdout",
     "output_type": "stream",
     "text": [
      "              precision    recall  f1-score   support\n",
      "\n",
      "           0       1.00      1.00      1.00         5\n",
      "           1       1.00      1.00      1.00         6\n",
      "           2       1.00      1.00      1.00         5\n",
      "           3       1.00      1.00      1.00         6\n",
      "           4       1.00      1.00      1.00         6\n",
      "           5       1.00      1.00      1.00         5\n",
      "           6       1.00      1.00      1.00         5\n",
      "           7       1.00      1.00      1.00         2\n",
      "           8       1.00      1.00      1.00         1\n",
      "           9       1.00      1.00      1.00         9\n",
      "          10       1.00      1.00      1.00         4\n",
      "          11       1.00      1.00      1.00         5\n",
      "          12       1.00      1.00      1.00         1\n",
      "          13       1.00      1.00      1.00         3\n",
      "          14       1.00      1.00      1.00         2\n",
      "          15       1.00      1.00      1.00         1\n",
      "          16       1.00      1.00      1.00         7\n",
      "          17       1.00      1.00      1.00         2\n",
      "          18       1.00      1.00      1.00         3\n",
      "          19       1.00      1.00      1.00         3\n",
      "          20       1.00      1.00      1.00       605\n",
      "\n",
      "   micro avg       1.00      1.00      1.00       686\n",
      "   macro avg       1.00      1.00      1.00       686\n",
      "weighted avg       1.00      1.00      1.00       686\n",
      " samples avg       1.00      1.00      1.00       686\n",
      "\n"
     ]
    }
   ],
   "source": [
    "#RF\n",
    "from sklearn.ensemble import RandomForestClassifier\n",
    "from sklearn.metrics import classification_report, confusion_matrix\n",
    "from sklearn.multioutput import MultiOutputClassifier\n",
    "\n",
    "rf_model = RandomForestClassifier(n_estimators=100)  \n",
    "\n",
    "multi_label_rf = MultiOutputClassifier(rf_model)\n",
    "\n",
    "multi_label_rf.fit(X_train_scaled, y_train)\n",
    "\n",
    "y_pred_rf = multi_label_rf.predict(X_test_scaled)\n",
    "\n",
    "conf_matrix_rf = confusion_matrix(y_test.argmax(axis=1), y_pred_rf.argmax(axis=1))\n",
    "class_report_rf = classification_report(y_test, y_pred_rf)\n",
    "\n",
    "conf_matrix_rf, class_report_rf\n",
    "print(class_report_rf)\n"
   ]
  },
  {
   "cell_type": "markdown",
   "metadata": {},
   "source": [
    "# 步骤七：使用 lstm 模型训练"
   ]
  },
  {
   "cell_type": "code",
   "execution_count": 142,
   "metadata": {},
   "outputs": [
    {
     "name": "stdout",
     "output_type": "stream",
     "text": [
      "Epoch 1/10, Loss: 1.064189076423645\n",
      "Epoch 2/10, Loss: 0.2998838722705841\n",
      "Epoch 3/10, Loss: 0.03685936704277992\n",
      "Epoch 4/10, Loss: 0.03438034653663635\n",
      "Epoch 5/10, Loss: 0.015675978735089302\n",
      "Epoch 6/10, Loss: 0.012775944545865059\n",
      "Epoch 7/10, Loss: 0.0063379607163369656\n",
      "Epoch 8/10, Loss: 0.003052197629585862\n",
      "Epoch 9/10, Loss: 0.013210666365921497\n",
      "Epoch 10/10, Loss: 0.003683245973661542\n",
      "0.9985119047619048\n"
     ]
    }
   ],
   "source": [
    "#lstm\n",
    "import torch\n",
    "from sklearn.metrics import classification_report\n",
    "\n",
    "\n",
    "# 将数据转换成张量\n",
    "X_train_tensor = torch.tensor(X_train_scaled).float()\n",
    "X_test_tensor = torch.tensor(X_test_scaled).float()\n",
    "\n",
    "y_train_tensor = torch.tensor(y_train).float()\n",
    "y_test_tensor = torch.tensor(y_test).float()\n",
    "\n",
    "y_train_class_indices = y_train_tensor.argmax(axis=1)\n",
    "y_test_class_indices = y_test_tensor.argmax(axis=1)\n",
    "\n",
    "unique_classes = y_train_class_indices.unique()\n",
    "\n",
    "\n",
    "input_dim = X_train_tensor.shape[1]  \n",
    "hidden_dim = 128  \n",
    "layer_dim = 1  \n",
    "output_dim = len(unique_classes)  \n",
    "batch_size = 32  \n",
    "dropout_prob = 0.2  \n",
    "\n",
    "# 定义 dataloader\n",
    "train_dataset = torch.utils.data.TensorDataset(X_train_tensor, y_train_class_indices)\n",
    "test_dataset = torch.utils.data.TensorDataset(X_test_tensor, y_test_class_indices)\n",
    "\n",
    "train_loader = torch.utils.data.DataLoader(dataset=train_dataset, batch_size=batch_size, shuffle=True)\n",
    "test_loader = torch.utils.data.DataLoader(dataset=test_dataset, batch_size=batch_size, shuffle=False)\n",
    "\n",
    "class LSTMModel(torch.nn.Module):\n",
    "    def __init__(self, input_dim, hidden_dim, layer_dim, output_dim, dropout_prob):\n",
    "        super(LSTMModel, self).__init__()\n",
    "        self.hidden_dim = hidden_dim\n",
    "        self.layer_dim = layer_dim\n",
    "        \n",
    "        self.lstm = torch.nn.LSTM(input_dim, hidden_dim, layer_dim,\n",
    "                                  batch_first=True, dropout=dropout_prob)\n",
    "        self.fc = torch.nn.Linear(hidden_dim, output_dim)\n",
    "\n",
    "    def forward(self, x):\n",
    "        h0 = torch.zeros(self.layer_dim, x.size(0), self.hidden_dim).requires_grad_()\n",
    "        \n",
    "        c0 = torch.zeros(self.layer_dim, x.size(0), self.hidden_dim).requires_grad_()\n",
    "        \n",
    "        out, (hn, cn) = self.lstm(x, (h0.detach(), c0.detach()))\n",
    "        \n",
    "        out = self.fc(out[:, -1, :]) \n",
    "        return out\n",
    "\n",
    "model = LSTMModel(input_dim, hidden_dim, layer_dim, output_dim, dropout_prob)\n",
    "\n",
    "\n",
    "def train_model_3d(model, train_loader, optimizer, epochs=10):\n",
    "    model.train()\n",
    "    for epoch in range(epochs):\n",
    "        for inputs, targets in train_loader:\n",
    "            inputs = inputs.view(-1, 1, inputs.shape[1])\n",
    "            \n",
    "            outputs = model(inputs)\n",
    "            loss = criterion(outputs, targets)\n",
    "            \n",
    "            optimizer.zero_grad()\n",
    "            loss.backward()\n",
    "            optimizer.step()\n",
    "        \n",
    "        print(f\"Epoch {epoch+1}/{epochs}, Loss: {loss.item()}\")\n",
    "\n",
    "\n",
    "# 定义 loss 函数和学习率\n",
    "criterion = torch.nn.CrossEntropyLoss()\n",
    "optimizer = torch.optim.Adam(model.parameters(), lr=0.001)\n",
    "\n",
    "# 模型训练\n",
    "train_model_3d(model, train_loader, optimizer)\n",
    "\n",
    "\n",
    "with torch.no_grad():\n",
    "    model.eval()\n",
    "    y_pred = model(X_test_tensor.view(-1, 1, X_test_tensor.shape[1]))\n",
    "    y_pred_class_indices = y_pred.argmax(axis=1)\n",
    "\n",
    "# 在测试集上计算准确率\n",
    "accuracy = (y_pred_class_indices == y_test_class_indices).sum().item() / len(y_test_class_indices)\n",
    "\n",
    "print(accuracy)\n"
   ]
  }
 ],
 "metadata": {
  "kernelspec": {
   "display_name": "opens",
   "language": "python",
   "name": "python3"
  },
  "language_info": {
   "codemirror_mode": {
    "name": "ipython",
    "version": 3
   },
   "file_extension": ".py",
   "mimetype": "text/x-python",
   "name": "python",
   "nbconvert_exporter": "python",
   "pygments_lexer": "ipython3",
   "version": "3.10.14"
  }
 },
 "nbformat": 4,
 "nbformat_minor": 2
}
