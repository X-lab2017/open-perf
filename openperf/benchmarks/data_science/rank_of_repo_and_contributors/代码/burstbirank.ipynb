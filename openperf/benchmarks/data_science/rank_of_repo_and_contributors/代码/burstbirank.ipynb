{
 "cells": [
  {
   "cell_type": "markdown",
   "id": "772a5442-94ff-4a09-80ad-f0fdaeede811",
   "metadata": {
    "id": "772a5442-94ff-4a09-80ad-f0fdaeede811",
    "tags": []
   },
   "source": [
    "### 获取所需pull_request数据"
   ]
  },
  {
   "cell_type": "code",
   "execution_count": 1,
   "id": "934c0078-844d-4b00-a480-fc3844a4f6f9",
   "metadata": {
    "id": "934c0078-844d-4b00-a480-fc3844a4f6f9"
   },
   "outputs": [],
   "source": [
    "from odps import ODPS\n",
    "from odps import options\n",
    "from odps.df import DataFrame\n",
    "import pandas as pd\n",
    "import numpy as np\n",
    "\n",
    "# ACCESS_ID SECRET_ACCESS_KEYvODPS_PROJECT ODPS_ENDPOINT github提示有敏感信息无法上传，数据集来源为阿里云\n",
    "# 创建odps实例\n",
    "o = ODPS(ACCESS_ID, SECRET_ACCESS_KEY,\n",
    "         project=ODPS_PROJECT, endpoint=ODPS_ENDPOINT)\n",
    "options.tunnel.limit_instance_tunnel = False"
   ]
  },
  {
   "cell_type": "code",
   "execution_count": 2,
   "id": "0a42392d-f09b-4e1b-a1eb-fd733158579d",
   "metadata": {
    "id": "0a42392d-f09b-4e1b-a1eb-fd733158579d",
    "outputId": "70f314a4-e904-4edc-8af5-6ad527c44335"
   },
   "outputs": [
    {
     "data": {
      "text/plain": [
       "<Instance 20220520014839669g8jbakm7>"
      ]
     },
     "execution_count": 2,
     "metadata": {},
     "output_type": "execute_result"
    }
   ],
   "source": [
    "TEMP_TABLE_NAME1 = 'hx_repo_actor_pull_request'\n",
    "drop_sql = '''\n",
    "    DROP TABLE IF EXISTS {TEMP_TABLE_NAME};\n",
    "    CREATE TABLE IF NOT EXISTS {TEMP_TABLE_NAME}\n",
    "    (\n",
    "        repo_id     BIGINT,\n",
    "        actor_id    BIGINT,\n",
    "        new_created_at    DATETIME,\n",
    "        count    BIGINT\n",
    "    );\n",
    "'''.format(\n",
    "    TEMP_TABLE_NAME=TEMP_TABLE_NAME1\n",
    ")\n",
    "o.execute_sql(drop_sql, hints={'odps.sql.allow.fullscan': 'true', 'odps.sql.submit.mode': 'script'})"
   ]
  },
  {
   "cell_type": "code",
   "execution_count": 3,
   "id": "93c43c18-c837-4a98-87e5-01f0573ae195",
   "metadata": {
    "id": "93c43c18-c837-4a98-87e5-01f0573ae195"
   },
   "outputs": [],
   "source": [
    "# 把时间改成16年到20年，把带bot的actor去掉\n",
    "sql = '''set odps.sql.validate.orderby.limit=false;\n",
    "        INSERT INTO {TEMP_TABLE_NAME}\n",
    "        SELECT\n",
    "            repo_id,\n",
    "            actor_id,\n",
    "            TO_DATE(SUBSTRING_INDEX(created_at,' ',1), 'yyyy-mm-dd') AS new_created_at,\n",
    "            COUNT(*) AS count\n",
    "        FROM ods_github_log\n",
    "        WHERE (type = 'PullRequestEvent') AND (action = 'opened')\n",
    "        AND pt>='20160101'\n",
    "        AND pt<'20220101'\n",
    "        AND actor_id IN (\n",
    "            SELECT actor_id\n",
    "            FROM ods_github_log\n",
    "            WHERE (type = 'PullRequestEvent') AND (action = 'opened')\n",
    "            AND pt>='20160101'\n",
    "            AND pt<'20220101'\n",
    "            GROUP BY actor_id\n",
    "            HAVING COUNT(*) > 10\n",
    "        )\n",
    "        AND actor_login NOT LIKE '%bot%'\n",
    "        GROUP BY repo_id, actor_id, new_created_at\n",
    "        ORDER BY repo_id, actor_id, new_created_at'''.format(\n",
    "    TEMP_TABLE_NAME=TEMP_TABLE_NAME1)\n",
    "table = o.execute_sql(sql, hints={\"odps.sql.submit.mode\" : \"script\"})"
   ]
  },
  {
   "cell_type": "code",
   "execution_count": 4,
   "id": "59703233-ed40-4205-ad11-c30a0b2e360e",
   "metadata": {
    "id": "59703233-ed40-4205-ad11-c30a0b2e360e",
    "outputId": "bdb8caa2-9c16-49e9-8d10-fca341cd816c"
   },
   "outputs": [
    {
     "data": {
      "text/html": [
       "<div>\n",
       "<style scoped>\n",
       "    .dataframe tbody tr th:only-of-type {\n",
       "        vertical-align: middle;\n",
       "    }\n",
       "\n",
       "    .dataframe tbody tr th {\n",
       "        vertical-align: top;\n",
       "    }\n",
       "\n",
       "    .dataframe thead th {\n",
       "        text-align: right;\n",
       "    }\n",
       "</style>\n",
       "<table border=\"1\" class=\"dataframe\">\n",
       "  <thead>\n",
       "    <tr style=\"text-align: right;\">\n",
       "      <th></th>\n",
       "      <th>repo_id</th>\n",
       "      <th>actor_id</th>\n",
       "      <th>new_created_at</th>\n",
       "      <th>count</th>\n",
       "    </tr>\n",
       "  </thead>\n",
       "  <tbody>\n",
       "    <tr>\n",
       "      <th>0</th>\n",
       "      <td>1</td>\n",
       "      <td>24193253</td>\n",
       "      <td>2020-10-01</td>\n",
       "      <td>1</td>\n",
       "    </tr>\n",
       "    <tr>\n",
       "      <th>1</th>\n",
       "      <td>27</td>\n",
       "      <td>85</td>\n",
       "      <td>2016-02-05</td>\n",
       "      <td>1</td>\n",
       "    </tr>\n",
       "    <tr>\n",
       "      <th>2</th>\n",
       "      <td>27</td>\n",
       "      <td>85</td>\n",
       "      <td>2016-02-06</td>\n",
       "      <td>1</td>\n",
       "    </tr>\n",
       "    <tr>\n",
       "      <th>3</th>\n",
       "      <td>27</td>\n",
       "      <td>85</td>\n",
       "      <td>2016-04-22</td>\n",
       "      <td>1</td>\n",
       "    </tr>\n",
       "    <tr>\n",
       "      <th>4</th>\n",
       "      <td>27</td>\n",
       "      <td>85</td>\n",
       "      <td>2016-04-25</td>\n",
       "      <td>1</td>\n",
       "    </tr>\n",
       "    <tr>\n",
       "      <th>5</th>\n",
       "      <td>27</td>\n",
       "      <td>85</td>\n",
       "      <td>2016-05-01</td>\n",
       "      <td>2</td>\n",
       "    </tr>\n",
       "    <tr>\n",
       "      <th>6</th>\n",
       "      <td>27</td>\n",
       "      <td>85</td>\n",
       "      <td>2016-05-06</td>\n",
       "      <td>1</td>\n",
       "    </tr>\n",
       "    <tr>\n",
       "      <th>7</th>\n",
       "      <td>27</td>\n",
       "      <td>85</td>\n",
       "      <td>2016-05-21</td>\n",
       "      <td>1</td>\n",
       "    </tr>\n",
       "    <tr>\n",
       "      <th>8</th>\n",
       "      <td>27</td>\n",
       "      <td>85</td>\n",
       "      <td>2016-06-05</td>\n",
       "      <td>1</td>\n",
       "    </tr>\n",
       "    <tr>\n",
       "      <th>9</th>\n",
       "      <td>27</td>\n",
       "      <td>85</td>\n",
       "      <td>2016-06-19</td>\n",
       "      <td>1</td>\n",
       "    </tr>\n",
       "  </tbody>\n",
       "</table>\n",
       "</div>"
      ],
      "text/plain": [
       "   repo_id  actor_id new_created_at  count\n",
       "0        1  24193253     2020-10-01      1\n",
       "1       27        85     2016-02-05      1\n",
       "2       27        85     2016-02-06      1\n",
       "3       27        85     2016-04-22      1\n",
       "4       27        85     2016-04-25      1\n",
       "5       27        85     2016-05-01      2\n",
       "6       27        85     2016-05-06      1\n",
       "7       27        85     2016-05-21      1\n",
       "8       27        85     2016-06-05      1\n",
       "9       27        85     2016-06-19      1"
      ]
     },
     "execution_count": 4,
     "metadata": {},
     "output_type": "execute_result"
    }
   ],
   "source": [
    "data = DataFrame(o.get_table(TEMP_TABLE_NAME1))\n",
    "data.head(10)"
   ]
  },
  {
   "cell_type": "markdown",
   "id": "d8f8954d-67f6-416b-9080-1fb845203649",
   "metadata": {
    "id": "d8f8954d-67f6-416b-9080-1fb845203649",
    "tags": []
   },
   "source": [
    "#### 查看数据量"
   ]
  },
  {
   "cell_type": "code",
   "execution_count": null,
   "id": "3fc8898d-cf56-4c95-be78-33b7ef53e391",
   "metadata": {
    "id": "3fc8898d-cf56-4c95-be78-33b7ef53e391"
   },
   "outputs": [],
   "source": [
    "# select_distinct_repo_id_sql = '''\n",
    "#     SELECT DISTINCT repo_id\n",
    "#     FROM {TEMP_TABLE_NAME}\n",
    "# '''.format(TEMP_TABLE_NAME = TEMP_TABLE_NAME1)\n",
    "# table_distinct_repo_id = o.execute_sql(select_distinct_repo_id_sql, hints={'odps.sql.allow.fullscan': 'true', \"odps.sql.submit.mode\" : \"script\"})"
   ]
  },
  {
   "cell_type": "code",
   "execution_count": null,
   "id": "cc6ec254-e303-485d-819a-9c0486e4b4a0",
   "metadata": {
    "id": "cc6ec254-e303-485d-819a-9c0486e4b4a0",
    "outputId": "4d16225a-fddd-44b9-c728-b18c133c9d27"
   },
   "outputs": [],
   "source": [
    "# cnt = 0\n",
    "# with table_distinct_repo_id.open_reader(tunnel=True) as reader:\n",
    "#     for record in reader:\n",
    "#         cnt = cnt + 1\n",
    "# print(cnt)"
   ]
  },
  {
   "cell_type": "code",
   "execution_count": null,
   "id": "a29d43c7-56cf-4bd1-b0d9-112f046501aa",
   "metadata": {
    "id": "a29d43c7-56cf-4bd1-b0d9-112f046501aa"
   },
   "outputs": [],
   "source": [
    "# select_distinct_actor_id_sql = '''\n",
    "#     SELECT DISTINCT actor_id\n",
    "#     FROM {TEMP_TABLE_NAME}\n",
    "# '''.format(TEMP_TABLE_NAME = TEMP_TABLE_NAME1)\n",
    "# table_distinct_actor_id = o.execute_sql(select_distinct_actor_id_sql, hints={'odps.sql.allow.fullscan': 'true', \"odps.sql.submit.mode\" : \"script\"})"
   ]
  },
  {
   "cell_type": "code",
   "execution_count": null,
   "id": "c8a70c49-351f-454a-83e2-701722276462",
   "metadata": {
    "id": "c8a70c49-351f-454a-83e2-701722276462",
    "outputId": "708b8dd2-8f29-42a1-fed0-e17a3a5a0db6"
   },
   "outputs": [],
   "source": [
    "# cnt = 0\n",
    "# with table_distinct_actor_id.open_reader(tunnel=True) as reader:\n",
    "#     for record in reader:\n",
    "#         cnt = cnt + 1\n",
    "# print(cnt)"
   ]
  },
  {
   "cell_type": "markdown",
   "id": "5e4e0395-19a1-4b0b-8eda-0b34e8fa1b80",
   "metadata": {
    "id": "5e4e0395-19a1-4b0b-8eda-0b34e8fa1b80"
   },
   "source": [
    "同一repo同一actor只pull过2次的"
   ]
  },
  {
   "cell_type": "code",
   "execution_count": null,
   "id": "b9c84218-15af-4908-8720-b39ec6df23f2",
   "metadata": {
    "id": "b9c84218-15af-4908-8720-b39ec6df23f2"
   },
   "outputs": [],
   "source": [
    "# TEMP_TABLE_NAME111 = 'hx_repo_actor_pull_request_record_num_is_2'\n",
    "# drop_sql = '''\n",
    "#     DROP TABLE IF EXISTS {TEMP_TABLE_NAME};\n",
    "#     CREATE TABLE IF NOT EXISTS {TEMP_TABLE_NAME}\n",
    "#     (\n",
    "#         repo_id     BIGINT,\n",
    "#         actor_id    BIGINT\n",
    "#     );\n",
    "# '''.format(\n",
    "#     TEMP_TABLE_NAME=TEMP_TABLE_NAME111\n",
    "# )\n",
    "# o.execute_sql(drop_sql, hints={'odps.sql.allow.fullscan': 'true', 'odps.sql.submit.mode': 'script'})"
   ]
  },
  {
   "cell_type": "code",
   "execution_count": null,
   "id": "d3a39fa4-f715-40b6-ad7a-dd13388d0611",
   "metadata": {
    "id": "d3a39fa4-f715-40b6-ad7a-dd13388d0611"
   },
   "outputs": [],
   "source": [
    "# record_num_is_2_sql = '''set odps.sql.validate.orderby.limit=false;\n",
    "#     INSERT INTO {TEMP_TABLE_NAME2}\n",
    "#     SELECT repo_id, actor_id\n",
    "#     FROM {TEMP_TABLE_NAME1}\n",
    "#     GROUP BY repo_id, actor_id\n",
    "#     HAVING count(*) = 2\n",
    "# '''.format(\n",
    "#     TEMP_TABLE_NAME1 = TEMP_TABLE_NAME1,\n",
    "#     TEMP_TABLE_NAME2 = TEMP_TABLE_NAME111)\n",
    "# table = o.execute_sql(record_num_is_2_sql, hints={\"odps.sql.submit.mode\" : \"script\"})"
   ]
  },
  {
   "cell_type": "code",
   "execution_count": null,
   "id": "a5d41478-74b1-476f-ac2c-a611a60fcc7d",
   "metadata": {
    "id": "a5d41478-74b1-476f-ac2c-a611a60fcc7d"
   },
   "outputs": [],
   "source": [
    "# data = DataFrame(o.get_table(TEMP_TABLE_NAME111))\n",
    "# data.head(10)"
   ]
  },
  {
   "cell_type": "markdown",
   "id": "c24c8e01-3f2c-443c-9cc0-2fa324cee0e3",
   "metadata": {
    "id": "c24c8e01-3f2c-443c-9cc0-2fa324cee0e3",
    "tags": []
   },
   "source": [
    "### weight值的计算"
   ]
  },
  {
   "cell_type": "code",
   "execution_count": 5,
   "id": "d1acd98f-a3d8-45e1-8441-bbde06542c0a",
   "metadata": {
    "id": "d1acd98f-a3d8-45e1-8441-bbde06542c0a",
    "outputId": "e3a298d7-6149-49e4-c1ed-51c557b34af4"
   },
   "outputs": [
    {
     "data": {
      "text/plain": [
       "<Instance 20220520015705549gp2r7om7>"
      ]
     },
     "execution_count": 5,
     "metadata": {},
     "output_type": "execute_result"
    }
   ],
   "source": [
    "TEMP_TABLE_NAME2 = 'hx_repo_actor_pull_request_next'\n",
    "drop_sql = '''\n",
    "    DROP TABLE IF EXISTS {TEMP_TABLE_NAME};\n",
    "    CREATE TABLE IF NOT EXISTS {TEMP_TABLE_NAME}\n",
    "    (\n",
    "        repo_id     BIGINT,\n",
    "        actor_id    BIGINT,\n",
    "        new_created_at    DATETIME,\n",
    "        next_created_at    DATETIME\n",
    "    );\n",
    "'''.format(\n",
    "    TEMP_TABLE_NAME=TEMP_TABLE_NAME2\n",
    ")\n",
    "o.execute_sql(drop_sql, hints={'odps.sql.allow.fullscan': 'true', 'odps.sql.submit.mode': 'script'})"
   ]
  },
  {
   "cell_type": "code",
   "execution_count": 6,
   "id": "892f1c39-3e63-4222-82a2-30cae153c58d",
   "metadata": {
    "id": "892f1c39-3e63-4222-82a2-30cae153c58d"
   },
   "outputs": [],
   "source": [
    "insert_next_sql = '''set odps.sql.validate.orderby.limit=false;\n",
    "        INSERT INTO {TEMP_TABLE_NAME2}\n",
    "        SELECT\n",
    "            repo_id,\n",
    "            actor_id,\n",
    "            new_created_at,\n",
    "            lead(new_created_at,1) over(PARTITION BY repo_id, actor_id ORDER BY new_created_at) AS next_created_at\n",
    "        FROM {TEMP_TABLE_NAME1}\n",
    "'''.format(\n",
    "    TEMP_TABLE_NAME1=TEMP_TABLE_NAME1,\n",
    "    TEMP_TABLE_NAME2=TEMP_TABLE_NAME2\n",
    ")\n",
    "table = o.execute_sql(insert_next_sql, hints={'odps.sql.allow.fullscan': 'true',\"odps.sql.submit.mode\" : \"script\"})"
   ]
  },
  {
   "cell_type": "code",
   "execution_count": 7,
   "id": "b5caba99-f38e-4f25-b6d6-6e0b6a88996d",
   "metadata": {
    "id": "b5caba99-f38e-4f25-b6d6-6e0b6a88996d",
    "outputId": "e930bc74-6906-46cc-b13b-6c0283c6bea5"
   },
   "outputs": [
    {
     "data": {
      "text/html": [
       "<div>\n",
       "<style scoped>\n",
       "    .dataframe tbody tr th:only-of-type {\n",
       "        vertical-align: middle;\n",
       "    }\n",
       "\n",
       "    .dataframe tbody tr th {\n",
       "        vertical-align: top;\n",
       "    }\n",
       "\n",
       "    .dataframe thead th {\n",
       "        text-align: right;\n",
       "    }\n",
       "</style>\n",
       "<table border=\"1\" class=\"dataframe\">\n",
       "  <thead>\n",
       "    <tr style=\"text-align: right;\">\n",
       "      <th></th>\n",
       "      <th>repo_id</th>\n",
       "      <th>actor_id</th>\n",
       "      <th>new_created_at</th>\n",
       "      <th>next_created_at</th>\n",
       "    </tr>\n",
       "  </thead>\n",
       "  <tbody>\n",
       "    <tr>\n",
       "      <th>0</th>\n",
       "      <td>1</td>\n",
       "      <td>24193253</td>\n",
       "      <td>2020-10-01</td>\n",
       "      <td>NaT</td>\n",
       "    </tr>\n",
       "    <tr>\n",
       "      <th>1</th>\n",
       "      <td>27</td>\n",
       "      <td>85</td>\n",
       "      <td>2016-02-05</td>\n",
       "      <td>2016-02-06</td>\n",
       "    </tr>\n",
       "    <tr>\n",
       "      <th>2</th>\n",
       "      <td>27</td>\n",
       "      <td>85</td>\n",
       "      <td>2016-02-06</td>\n",
       "      <td>2016-04-22</td>\n",
       "    </tr>\n",
       "    <tr>\n",
       "      <th>3</th>\n",
       "      <td>27</td>\n",
       "      <td>85</td>\n",
       "      <td>2016-04-22</td>\n",
       "      <td>2016-04-25</td>\n",
       "    </tr>\n",
       "    <tr>\n",
       "      <th>4</th>\n",
       "      <td>27</td>\n",
       "      <td>85</td>\n",
       "      <td>2016-04-25</td>\n",
       "      <td>2016-05-01</td>\n",
       "    </tr>\n",
       "    <tr>\n",
       "      <th>5</th>\n",
       "      <td>27</td>\n",
       "      <td>85</td>\n",
       "      <td>2016-05-01</td>\n",
       "      <td>2016-05-06</td>\n",
       "    </tr>\n",
       "    <tr>\n",
       "      <th>6</th>\n",
       "      <td>27</td>\n",
       "      <td>85</td>\n",
       "      <td>2016-05-06</td>\n",
       "      <td>2016-05-21</td>\n",
       "    </tr>\n",
       "    <tr>\n",
       "      <th>7</th>\n",
       "      <td>27</td>\n",
       "      <td>85</td>\n",
       "      <td>2016-05-21</td>\n",
       "      <td>2016-06-05</td>\n",
       "    </tr>\n",
       "    <tr>\n",
       "      <th>8</th>\n",
       "      <td>27</td>\n",
       "      <td>85</td>\n",
       "      <td>2016-06-05</td>\n",
       "      <td>2016-06-19</td>\n",
       "    </tr>\n",
       "    <tr>\n",
       "      <th>9</th>\n",
       "      <td>27</td>\n",
       "      <td>85</td>\n",
       "      <td>2016-06-19</td>\n",
       "      <td>2016-07-02</td>\n",
       "    </tr>\n",
       "    <tr>\n",
       "      <th>10</th>\n",
       "      <td>27</td>\n",
       "      <td>85</td>\n",
       "      <td>2016-07-02</td>\n",
       "      <td>NaT</td>\n",
       "    </tr>\n",
       "    <tr>\n",
       "      <th>11</th>\n",
       "      <td>27</td>\n",
       "      <td>10416</td>\n",
       "      <td>2017-07-25</td>\n",
       "      <td>NaT</td>\n",
       "    </tr>\n",
       "    <tr>\n",
       "      <th>12</th>\n",
       "      <td>27</td>\n",
       "      <td>16881</td>\n",
       "      <td>2019-06-07</td>\n",
       "      <td>NaT</td>\n",
       "    </tr>\n",
       "    <tr>\n",
       "      <th>13</th>\n",
       "      <td>27</td>\n",
       "      <td>18191</td>\n",
       "      <td>2016-02-18</td>\n",
       "      <td>2016-09-18</td>\n",
       "    </tr>\n",
       "    <tr>\n",
       "      <th>14</th>\n",
       "      <td>27</td>\n",
       "      <td>18191</td>\n",
       "      <td>2016-09-18</td>\n",
       "      <td>2016-09-19</td>\n",
       "    </tr>\n",
       "  </tbody>\n",
       "</table>\n",
       "</div>"
      ],
      "text/plain": [
       "    repo_id  actor_id new_created_at next_created_at\n",
       "0         1  24193253     2020-10-01             NaT\n",
       "1        27        85     2016-02-05      2016-02-06\n",
       "2        27        85     2016-02-06      2016-04-22\n",
       "3        27        85     2016-04-22      2016-04-25\n",
       "4        27        85     2016-04-25      2016-05-01\n",
       "5        27        85     2016-05-01      2016-05-06\n",
       "6        27        85     2016-05-06      2016-05-21\n",
       "7        27        85     2016-05-21      2016-06-05\n",
       "8        27        85     2016-06-05      2016-06-19\n",
       "9        27        85     2016-06-19      2016-07-02\n",
       "10       27        85     2016-07-02             NaT\n",
       "11       27     10416     2017-07-25             NaT\n",
       "12       27     16881     2019-06-07             NaT\n",
       "13       27     18191     2016-02-18      2016-09-18\n",
       "14       27     18191     2016-09-18      2016-09-19"
      ]
     },
     "execution_count": 7,
     "metadata": {},
     "output_type": "execute_result"
    }
   ],
   "source": [
    "data = DataFrame(o.get_table(TEMP_TABLE_NAME2))\n",
    "data.head(15)"
   ]
  },
  {
   "cell_type": "code",
   "execution_count": 8,
   "id": "4776e084-b63b-452a-a93a-f28aefcdc064",
   "metadata": {
    "id": "4776e084-b63b-452a-a93a-f28aefcdc064",
    "outputId": "b0127bb4-ef65-499c-c4cf-f42b1f99bd3b"
   },
   "outputs": [
    {
     "data": {
      "text/plain": [
       "<Instance 2022052002013772g3ts46pr2>"
      ]
     },
     "execution_count": 8,
     "metadata": {},
     "output_type": "execute_result"
    }
   ],
   "source": [
    "TEMP_TABLE_NAME3 = 'hx_repo_actor_pull_request_diff'\n",
    "drop_sql = '''\n",
    "    DROP TABLE IF EXISTS {TEMP_TABLE_NAME};\n",
    "    CREATE TABLE IF NOT EXISTS {TEMP_TABLE_NAME}\n",
    "    (\n",
    "        repo_id     BIGINT,\n",
    "        actor_id    BIGINT,\n",
    "        datediff    BIGINT\n",
    "    );\n",
    "'''.format(\n",
    "    TEMP_TABLE_NAME=TEMP_TABLE_NAME3\n",
    ")\n",
    "o.execute_sql(drop_sql, hints={'odps.sql.allow.fullscan': 'true', 'odps.sql.submit.mode': 'script'})"
   ]
  },
  {
   "cell_type": "code",
   "execution_count": 9,
   "id": "f0f39903-b7bb-4406-85b6-4d3cddf5be53",
   "metadata": {
    "id": "f0f39903-b7bb-4406-85b6-4d3cddf5be53"
   },
   "outputs": [],
   "source": [
    "insert_diff_sql = '''set odps.sql.validate.orderby.limit=false;\n",
    "        INSERT INTO {TEMP_TABLE_NAME3}\n",
    "        SELECT\n",
    "            repo_id,\n",
    "            actor_id,\n",
    "            datediff(next_created_at, new_created_at, 'dd')\n",
    "        FROM {TEMP_TABLE_NAME2}\n",
    "'''.format(\n",
    "    TEMP_TABLE_NAME2=TEMP_TABLE_NAME2,\n",
    "    TEMP_TABLE_NAME3=TEMP_TABLE_NAME3\n",
    ")\n",
    "table = o.execute_sql(insert_diff_sql, hints={'odps.sql.allow.fullscan': 'true',\"odps.sql.submit.mode\" : \"script\"})"
   ]
  },
  {
   "cell_type": "code",
   "execution_count": 10,
   "id": "5fc26899-ef2a-46b1-88c6-50846ea191cb",
   "metadata": {
    "id": "5fc26899-ef2a-46b1-88c6-50846ea191cb",
    "outputId": "e2656a2b-b110-4bf0-8792-0465a3f54911"
   },
   "outputs": [
    {
     "data": {
      "text/html": [
       "<div>\n",
       "<style scoped>\n",
       "    .dataframe tbody tr th:only-of-type {\n",
       "        vertical-align: middle;\n",
       "    }\n",
       "\n",
       "    .dataframe tbody tr th {\n",
       "        vertical-align: top;\n",
       "    }\n",
       "\n",
       "    .dataframe thead th {\n",
       "        text-align: right;\n",
       "    }\n",
       "</style>\n",
       "<table border=\"1\" class=\"dataframe\">\n",
       "  <thead>\n",
       "    <tr style=\"text-align: right;\">\n",
       "      <th></th>\n",
       "      <th>repo_id</th>\n",
       "      <th>actor_id</th>\n",
       "      <th>datediff</th>\n",
       "    </tr>\n",
       "  </thead>\n",
       "  <tbody>\n",
       "    <tr>\n",
       "      <th>0</th>\n",
       "      <td>1</td>\n",
       "      <td>24193253</td>\n",
       "      <td>NaN</td>\n",
       "    </tr>\n",
       "    <tr>\n",
       "      <th>1</th>\n",
       "      <td>27</td>\n",
       "      <td>85</td>\n",
       "      <td>1.0</td>\n",
       "    </tr>\n",
       "    <tr>\n",
       "      <th>2</th>\n",
       "      <td>27</td>\n",
       "      <td>85</td>\n",
       "      <td>76.0</td>\n",
       "    </tr>\n",
       "    <tr>\n",
       "      <th>3</th>\n",
       "      <td>27</td>\n",
       "      <td>85</td>\n",
       "      <td>3.0</td>\n",
       "    </tr>\n",
       "    <tr>\n",
       "      <th>4</th>\n",
       "      <td>27</td>\n",
       "      <td>85</td>\n",
       "      <td>6.0</td>\n",
       "    </tr>\n",
       "    <tr>\n",
       "      <th>5</th>\n",
       "      <td>27</td>\n",
       "      <td>85</td>\n",
       "      <td>5.0</td>\n",
       "    </tr>\n",
       "    <tr>\n",
       "      <th>6</th>\n",
       "      <td>27</td>\n",
       "      <td>85</td>\n",
       "      <td>15.0</td>\n",
       "    </tr>\n",
       "    <tr>\n",
       "      <th>7</th>\n",
       "      <td>27</td>\n",
       "      <td>85</td>\n",
       "      <td>15.0</td>\n",
       "    </tr>\n",
       "    <tr>\n",
       "      <th>8</th>\n",
       "      <td>27</td>\n",
       "      <td>85</td>\n",
       "      <td>14.0</td>\n",
       "    </tr>\n",
       "    <tr>\n",
       "      <th>9</th>\n",
       "      <td>27</td>\n",
       "      <td>85</td>\n",
       "      <td>13.0</td>\n",
       "    </tr>\n",
       "    <tr>\n",
       "      <th>10</th>\n",
       "      <td>27</td>\n",
       "      <td>85</td>\n",
       "      <td>NaN</td>\n",
       "    </tr>\n",
       "    <tr>\n",
       "      <th>11</th>\n",
       "      <td>27</td>\n",
       "      <td>10416</td>\n",
       "      <td>NaN</td>\n",
       "    </tr>\n",
       "    <tr>\n",
       "      <th>12</th>\n",
       "      <td>27</td>\n",
       "      <td>16881</td>\n",
       "      <td>NaN</td>\n",
       "    </tr>\n",
       "    <tr>\n",
       "      <th>13</th>\n",
       "      <td>27</td>\n",
       "      <td>18191</td>\n",
       "      <td>213.0</td>\n",
       "    </tr>\n",
       "    <tr>\n",
       "      <th>14</th>\n",
       "      <td>27</td>\n",
       "      <td>18191</td>\n",
       "      <td>1.0</td>\n",
       "    </tr>\n",
       "  </tbody>\n",
       "</table>\n",
       "</div>"
      ],
      "text/plain": [
       "    repo_id  actor_id  datediff\n",
       "0         1  24193253       NaN\n",
       "1        27        85       1.0\n",
       "2        27        85      76.0\n",
       "3        27        85       3.0\n",
       "4        27        85       6.0\n",
       "5        27        85       5.0\n",
       "6        27        85      15.0\n",
       "7        27        85      15.0\n",
       "8        27        85      14.0\n",
       "9        27        85      13.0\n",
       "10       27        85       NaN\n",
       "11       27     10416       NaN\n",
       "12       27     16881       NaN\n",
       "13       27     18191     213.0\n",
       "14       27     18191       1.0"
      ]
     },
     "execution_count": 10,
     "metadata": {},
     "output_type": "execute_result"
    }
   ],
   "source": [
    "data = DataFrame(o.get_table(TEMP_TABLE_NAME3))\n",
    "data.head(15)"
   ]
  },
  {
   "cell_type": "code",
   "execution_count": 11,
   "id": "6de4d84c-00fb-4a92-812c-53929089646c",
   "metadata": {
    "id": "6de4d84c-00fb-4a92-812c-53929089646c",
    "outputId": "b9d0fd10-4a40-4e2f-9e2d-6ce5f9d3d961"
   },
   "outputs": [
    {
     "data": {
      "text/plain": [
       "<Instance 20220520020239184gysv451>"
      ]
     },
     "execution_count": 11,
     "metadata": {},
     "output_type": "execute_result"
    }
   ],
   "source": [
    "TEMP_TABLE_NAME4 = 'hx_repo_actor_pull_request_mean_and_var'\n",
    "drop_sql = '''\n",
    "    DROP TABLE IF EXISTS {TEMP_TABLE_NAME};\n",
    "    CREATE TABLE IF NOT EXISTS {TEMP_TABLE_NAME}\n",
    "    (\n",
    "        repo_id     BIGINT,\n",
    "        actor_id    BIGINT,\n",
    "        mean    DOUBLE,\n",
    "        var    DOUBLE\n",
    "    );\n",
    "'''.format(\n",
    "    TEMP_TABLE_NAME=TEMP_TABLE_NAME4\n",
    ")\n",
    "o.execute_sql(drop_sql, hints={'odps.sql.allow.fullscan': 'true', 'odps.sql.submit.mode': 'script'})"
   ]
  },
  {
   "cell_type": "code",
   "execution_count": 12,
   "id": "2e1563d3-0bdb-4b89-abb7-92df979a050f",
   "metadata": {
    "id": "2e1563d3-0bdb-4b89-abb7-92df979a050f"
   },
   "outputs": [],
   "source": [
    "insert_mean_and_var_sql = '''set odps.sql.validate.orderby.limit=false;\n",
    "        INSERT INTO {TEMP_TABLE_NAME4}\n",
    "        SELECT\n",
    "            repo_id,\n",
    "            actor_id,\n",
    "            AVG(datediff) as mean,\n",
    "            STDDEV(datediff) as var\n",
    "        FROM {TEMP_TABLE_NAME3}\n",
    "        GROUP BY repo_id, actor_id\n",
    "'''.format(\n",
    "    TEMP_TABLE_NAME3=TEMP_TABLE_NAME3,\n",
    "    TEMP_TABLE_NAME4=TEMP_TABLE_NAME4\n",
    ")\n",
    "table = o.execute_sql(insert_mean_and_var_sql, hints={'odps.sql.allow.fullscan': 'true',\"odps.sql.submit.mode\" : \"script\"})"
   ]
  },
  {
   "cell_type": "code",
   "execution_count": 13,
   "id": "b59b1e11-c241-41a0-96a7-d991c9e9c29c",
   "metadata": {
    "id": "b59b1e11-c241-41a0-96a7-d991c9e9c29c",
    "outputId": "74e6f527-c3cd-47b5-e085-9924eb74bc7d"
   },
   "outputs": [
    {
     "data": {
      "text/html": [
       "<div>\n",
       "<style scoped>\n",
       "    .dataframe tbody tr th:only-of-type {\n",
       "        vertical-align: middle;\n",
       "    }\n",
       "\n",
       "    .dataframe tbody tr th {\n",
       "        vertical-align: top;\n",
       "    }\n",
       "\n",
       "    .dataframe thead th {\n",
       "        text-align: right;\n",
       "    }\n",
       "</style>\n",
       "<table border=\"1\" class=\"dataframe\">\n",
       "  <thead>\n",
       "    <tr style=\"text-align: right;\">\n",
       "      <th></th>\n",
       "      <th>repo_id</th>\n",
       "      <th>actor_id</th>\n",
       "      <th>mean</th>\n",
       "      <th>var</th>\n",
       "    </tr>\n",
       "  </thead>\n",
       "  <tbody>\n",
       "    <tr>\n",
       "      <th>0</th>\n",
       "      <td>1</td>\n",
       "      <td>24193253</td>\n",
       "      <td>NaN</td>\n",
       "      <td>NaN</td>\n",
       "    </tr>\n",
       "    <tr>\n",
       "      <th>1</th>\n",
       "      <td>27</td>\n",
       "      <td>85</td>\n",
       "      <td>16.444444</td>\n",
       "      <td>21.674927</td>\n",
       "    </tr>\n",
       "    <tr>\n",
       "      <th>2</th>\n",
       "      <td>27</td>\n",
       "      <td>10416</td>\n",
       "      <td>NaN</td>\n",
       "      <td>NaN</td>\n",
       "    </tr>\n",
       "    <tr>\n",
       "      <th>3</th>\n",
       "      <td>27</td>\n",
       "      <td>16881</td>\n",
       "      <td>NaN</td>\n",
       "      <td>NaN</td>\n",
       "    </tr>\n",
       "    <tr>\n",
       "      <th>4</th>\n",
       "      <td>27</td>\n",
       "      <td>18191</td>\n",
       "      <td>107.000000</td>\n",
       "      <td>106.000000</td>\n",
       "    </tr>\n",
       "    <tr>\n",
       "      <th>5</th>\n",
       "      <td>27</td>\n",
       "      <td>25555</td>\n",
       "      <td>NaN</td>\n",
       "      <td>NaN</td>\n",
       "    </tr>\n",
       "    <tr>\n",
       "      <th>6</th>\n",
       "      <td>27</td>\n",
       "      <td>39406</td>\n",
       "      <td>NaN</td>\n",
       "      <td>NaN</td>\n",
       "    </tr>\n",
       "    <tr>\n",
       "      <th>7</th>\n",
       "      <td>27</td>\n",
       "      <td>43569</td>\n",
       "      <td>NaN</td>\n",
       "      <td>NaN</td>\n",
       "    </tr>\n",
       "    <tr>\n",
       "      <th>8</th>\n",
       "      <td>27</td>\n",
       "      <td>48936</td>\n",
       "      <td>NaN</td>\n",
       "      <td>NaN</td>\n",
       "    </tr>\n",
       "    <tr>\n",
       "      <th>9</th>\n",
       "      <td>27</td>\n",
       "      <td>79817</td>\n",
       "      <td>4.000000</td>\n",
       "      <td>0.000000</td>\n",
       "    </tr>\n",
       "    <tr>\n",
       "      <th>10</th>\n",
       "      <td>27</td>\n",
       "      <td>86065</td>\n",
       "      <td>26.000000</td>\n",
       "      <td>0.000000</td>\n",
       "    </tr>\n",
       "    <tr>\n",
       "      <th>11</th>\n",
       "      <td>27</td>\n",
       "      <td>121989</td>\n",
       "      <td>NaN</td>\n",
       "      <td>NaN</td>\n",
       "    </tr>\n",
       "    <tr>\n",
       "      <th>12</th>\n",
       "      <td>27</td>\n",
       "      <td>153388</td>\n",
       "      <td>NaN</td>\n",
       "      <td>NaN</td>\n",
       "    </tr>\n",
       "    <tr>\n",
       "      <th>13</th>\n",
       "      <td>27</td>\n",
       "      <td>168854</td>\n",
       "      <td>NaN</td>\n",
       "      <td>NaN</td>\n",
       "    </tr>\n",
       "    <tr>\n",
       "      <th>14</th>\n",
       "      <td>27</td>\n",
       "      <td>441526</td>\n",
       "      <td>2.500000</td>\n",
       "      <td>1.500000</td>\n",
       "    </tr>\n",
       "  </tbody>\n",
       "</table>\n",
       "</div>"
      ],
      "text/plain": [
       "    repo_id  actor_id        mean         var\n",
       "0         1  24193253         NaN         NaN\n",
       "1        27        85   16.444444   21.674927\n",
       "2        27     10416         NaN         NaN\n",
       "3        27     16881         NaN         NaN\n",
       "4        27     18191  107.000000  106.000000\n",
       "5        27     25555         NaN         NaN\n",
       "6        27     39406         NaN         NaN\n",
       "7        27     43569         NaN         NaN\n",
       "8        27     48936         NaN         NaN\n",
       "9        27     79817    4.000000    0.000000\n",
       "10       27     86065   26.000000    0.000000\n",
       "11       27    121989         NaN         NaN\n",
       "12       27    153388         NaN         NaN\n",
       "13       27    168854         NaN         NaN\n",
       "14       27    441526    2.500000    1.500000"
      ]
     },
     "execution_count": 13,
     "metadata": {},
     "output_type": "execute_result"
    }
   ],
   "source": [
    "data = DataFrame(o.get_table(TEMP_TABLE_NAME4))\n",
    "data.head(15)"
   ]
  },
  {
   "cell_type": "code",
   "execution_count": 14,
   "id": "0b1d6eb4-2c55-4fa7-94ac-972fcd7cf625",
   "metadata": {
    "id": "0b1d6eb4-2c55-4fa7-94ac-972fcd7cf625",
    "outputId": "571e8431-2f2e-4076-bffa-a758cd2d9bed"
   },
   "outputs": [
    {
     "data": {
      "text/plain": [
       "<Instance 20220520020356420gulwdgr>"
      ]
     },
     "execution_count": 14,
     "metadata": {},
     "output_type": "execute_result"
    }
   ],
   "source": [
    "TEMP_TABLE_NAME5 = 'hx_repo_actor_pull_request_burst'\n",
    "drop_sql = '''\n",
    "    DROP TABLE IF EXISTS {TEMP_TABLE_NAME};\n",
    "    CREATE TABLE IF NOT EXISTS {TEMP_TABLE_NAME}\n",
    "    (\n",
    "        repo_id     BIGINT,\n",
    "        actor_id    BIGINT,\n",
    "        burst    DOUBLE\n",
    "    );\n",
    "'''.format(\n",
    "    TEMP_TABLE_NAME=TEMP_TABLE_NAME5\n",
    ")\n",
    "o.execute_sql(drop_sql, hints={'odps.sql.allow.fullscan': 'true', 'odps.sql.submit.mode': 'script'})"
   ]
  },
  {
   "cell_type": "code",
   "execution_count": 15,
   "id": "a69ad5b3-6d79-40e9-b987-8359268f68ba",
   "metadata": {
    "id": "a69ad5b3-6d79-40e9-b987-8359268f68ba"
   },
   "outputs": [],
   "source": [
    "insert_burst_sql = '''set odps.sql.validate.orderby.limit=false;\n",
    "        INSERT INTO {TEMP_TABLE_NAME5}\n",
    "        SELECT\n",
    "            repo_id,\n",
    "            actor_id,\n",
    "            (var - mean) / (var + mean) AS burst\n",
    "        FROM {TEMP_TABLE_NAME4}\n",
    "'''.format(\n",
    "    TEMP_TABLE_NAME4=TEMP_TABLE_NAME4,\n",
    "    TEMP_TABLE_NAME5=TEMP_TABLE_NAME5\n",
    ")\n",
    "table = o.execute_sql(insert_burst_sql, hints={'odps.sql.allow.fullscan': 'true',\"odps.sql.submit.mode\" : \"script\"})"
   ]
  },
  {
   "cell_type": "code",
   "execution_count": 16,
   "id": "92a8b4ee-c203-4426-95e1-b276d441fc79",
   "metadata": {
    "id": "92a8b4ee-c203-4426-95e1-b276d441fc79",
    "outputId": "ef84a48c-f0d1-4d76-e939-4f7ac6dfe048"
   },
   "outputs": [
    {
     "data": {
      "text/html": [
       "<div>\n",
       "<style scoped>\n",
       "    .dataframe tbody tr th:only-of-type {\n",
       "        vertical-align: middle;\n",
       "    }\n",
       "\n",
       "    .dataframe tbody tr th {\n",
       "        vertical-align: top;\n",
       "    }\n",
       "\n",
       "    .dataframe thead th {\n",
       "        text-align: right;\n",
       "    }\n",
       "</style>\n",
       "<table border=\"1\" class=\"dataframe\">\n",
       "  <thead>\n",
       "    <tr style=\"text-align: right;\">\n",
       "      <th></th>\n",
       "      <th>repo_id</th>\n",
       "      <th>actor_id</th>\n",
       "      <th>burst</th>\n",
       "    </tr>\n",
       "  </thead>\n",
       "  <tbody>\n",
       "    <tr>\n",
       "      <th>0</th>\n",
       "      <td>1</td>\n",
       "      <td>24193253</td>\n",
       "      <td>NaN</td>\n",
       "    </tr>\n",
       "    <tr>\n",
       "      <th>1</th>\n",
       "      <td>27</td>\n",
       "      <td>85</td>\n",
       "      <td>0.137213</td>\n",
       "    </tr>\n",
       "    <tr>\n",
       "      <th>2</th>\n",
       "      <td>27</td>\n",
       "      <td>10416</td>\n",
       "      <td>NaN</td>\n",
       "    </tr>\n",
       "    <tr>\n",
       "      <th>3</th>\n",
       "      <td>27</td>\n",
       "      <td>16881</td>\n",
       "      <td>NaN</td>\n",
       "    </tr>\n",
       "    <tr>\n",
       "      <th>4</th>\n",
       "      <td>27</td>\n",
       "      <td>18191</td>\n",
       "      <td>-0.004695</td>\n",
       "    </tr>\n",
       "    <tr>\n",
       "      <th>5</th>\n",
       "      <td>27</td>\n",
       "      <td>25555</td>\n",
       "      <td>NaN</td>\n",
       "    </tr>\n",
       "    <tr>\n",
       "      <th>6</th>\n",
       "      <td>27</td>\n",
       "      <td>39406</td>\n",
       "      <td>NaN</td>\n",
       "    </tr>\n",
       "    <tr>\n",
       "      <th>7</th>\n",
       "      <td>27</td>\n",
       "      <td>43569</td>\n",
       "      <td>NaN</td>\n",
       "    </tr>\n",
       "    <tr>\n",
       "      <th>8</th>\n",
       "      <td>27</td>\n",
       "      <td>48936</td>\n",
       "      <td>NaN</td>\n",
       "    </tr>\n",
       "    <tr>\n",
       "      <th>9</th>\n",
       "      <td>27</td>\n",
       "      <td>79817</td>\n",
       "      <td>-1.000000</td>\n",
       "    </tr>\n",
       "    <tr>\n",
       "      <th>10</th>\n",
       "      <td>27</td>\n",
       "      <td>86065</td>\n",
       "      <td>-1.000000</td>\n",
       "    </tr>\n",
       "    <tr>\n",
       "      <th>11</th>\n",
       "      <td>27</td>\n",
       "      <td>121989</td>\n",
       "      <td>NaN</td>\n",
       "    </tr>\n",
       "    <tr>\n",
       "      <th>12</th>\n",
       "      <td>27</td>\n",
       "      <td>153388</td>\n",
       "      <td>NaN</td>\n",
       "    </tr>\n",
       "    <tr>\n",
       "      <th>13</th>\n",
       "      <td>27</td>\n",
       "      <td>168854</td>\n",
       "      <td>NaN</td>\n",
       "    </tr>\n",
       "    <tr>\n",
       "      <th>14</th>\n",
       "      <td>27</td>\n",
       "      <td>441526</td>\n",
       "      <td>-0.250000</td>\n",
       "    </tr>\n",
       "  </tbody>\n",
       "</table>\n",
       "</div>"
      ],
      "text/plain": [
       "    repo_id  actor_id     burst\n",
       "0         1  24193253       NaN\n",
       "1        27        85  0.137213\n",
       "2        27     10416       NaN\n",
       "3        27     16881       NaN\n",
       "4        27     18191 -0.004695\n",
       "5        27     25555       NaN\n",
       "6        27     39406       NaN\n",
       "7        27     43569       NaN\n",
       "8        27     48936       NaN\n",
       "9        27     79817 -1.000000\n",
       "10       27     86065 -1.000000\n",
       "11       27    121989       NaN\n",
       "12       27    153388       NaN\n",
       "13       27    168854       NaN\n",
       "14       27    441526 -0.250000"
      ]
     },
     "execution_count": 16,
     "metadata": {},
     "output_type": "execute_result"
    }
   ],
   "source": [
    "data = DataFrame(o.get_table(TEMP_TABLE_NAME5))\n",
    "data.head(15)"
   ]
  },
  {
   "cell_type": "markdown",
   "id": "22019bf8-425c-4434-bd5e-d9c8115ed4cc",
   "metadata": {
    "id": "22019bf8-425c-4434-bd5e-d9c8115ed4cc"
   },
   "source": [
    "查看actor只给repo pull过一次的"
   ]
  },
  {
   "cell_type": "code",
   "execution_count": null,
   "id": "df90a08f-325f-4c18-a5d2-84727c82f953",
   "metadata": {
    "id": "df90a08f-325f-4c18-a5d2-84727c82f953"
   },
   "outputs": [],
   "source": [
    "# select_num_2_sql = '''\n",
    "#     SELECT * FROM {TEMP_TABLE_NAME} WHERE repo_id = 3314 AND actor_id = 27856297\n",
    "# '''.format(TEMP_TABLE_NAME=TEMP_TABLE_NAME5)\n",
    "# table_num_2 = o.execute_sql(select_num_2_sql, hints={'odps.sql.allow.fullscan': 'true', \"odps.sql.submit.mode\" : \"script\"})"
   ]
  },
  {
   "cell_type": "code",
   "execution_count": null,
   "id": "18206978-cee4-4f7a-9078-49fdb6b42e46",
   "metadata": {
    "id": "18206978-cee4-4f7a-9078-49fdb6b42e46"
   },
   "outputs": [],
   "source": [
    "# with table_num_2.open_reader(tunnel=True) as reader:\n",
    "#     for record in reader:\n",
    "#         print(record)"
   ]
  },
  {
   "cell_type": "markdown",
   "id": "a72233f8-35e0-4727-bde7-39c92213e529",
   "metadata": {
    "id": "a72233f8-35e0-4727-bde7-39c92213e529"
   },
   "source": [
    "计算weight"
   ]
  },
  {
   "cell_type": "code",
   "execution_count": 17,
   "id": "be33176d-bac8-4d8c-962b-b67afc4c3feb",
   "metadata": {
    "id": "be33176d-bac8-4d8c-962b-b67afc4c3feb",
    "outputId": "045e47cf-27ec-4b98-8e84-47f5dbf3052f"
   },
   "outputs": [
    {
     "data": {
      "text/plain": [
       "<Instance 20220520020405169gpryk4pr2>"
      ]
     },
     "execution_count": 17,
     "metadata": {},
     "output_type": "execute_result"
    }
   ],
   "source": [
    "TEMP_TABLE_NAME6 = 'hx_repo_actor_pull_request_weight'\n",
    "drop_sql = '''\n",
    "    DROP TABLE IF EXISTS {TEMP_TABLE_NAME};\n",
    "    CREATE TABLE IF NOT EXISTS {TEMP_TABLE_NAME}\n",
    "    (\n",
    "        repo_id     BIGINT,\n",
    "        actor_id    BIGINT,\n",
    "        weight    DOUBLE\n",
    "    );\n",
    "'''.format(\n",
    "    TEMP_TABLE_NAME=TEMP_TABLE_NAME6\n",
    ")\n",
    "o.execute_sql(drop_sql, hints={'odps.sql.allow.fullscan': 'true', 'odps.sql.submit.mode': 'script'})"
   ]
  },
  {
   "cell_type": "code",
   "execution_count": 18,
   "id": "d2320c2d-8404-4890-9e5a-50cc47509c8d",
   "metadata": {
    "id": "d2320c2d-8404-4890-9e5a-50cc47509c8d"
   },
   "outputs": [],
   "source": [
    "insert_weight_sql = '''set odps.sql.validate.orderby.limit=false;\n",
    "        INSERT INTO {TEMP_TABLE_NAME6}\n",
    "        SELECT\n",
    "            repo_id,\n",
    "            actor_id,\n",
    "            - burst AS weight\n",
    "        FROM {TEMP_TABLE_NAME5}\n",
    "'''.format(\n",
    "    TEMP_TABLE_NAME5=TEMP_TABLE_NAME5,\n",
    "    TEMP_TABLE_NAME6=TEMP_TABLE_NAME6\n",
    ")\n",
    "table = o.execute_sql(insert_weight_sql, hints={'odps.sql.allow.fullscan': 'true',\"odps.sql.submit.mode\" : \"script\"})"
   ]
  },
  {
   "cell_type": "code",
   "execution_count": 19,
   "id": "7730c49c-f33e-4832-88d5-03723c5a54d7",
   "metadata": {
    "id": "7730c49c-f33e-4832-88d5-03723c5a54d7",
    "outputId": "cdb4c979-1c5e-4d7e-bf22-bc4706268b85"
   },
   "outputs": [
    {
     "data": {
      "text/html": [
       "<div>\n",
       "<style scoped>\n",
       "    .dataframe tbody tr th:only-of-type {\n",
       "        vertical-align: middle;\n",
       "    }\n",
       "\n",
       "    .dataframe tbody tr th {\n",
       "        vertical-align: top;\n",
       "    }\n",
       "\n",
       "    .dataframe thead th {\n",
       "        text-align: right;\n",
       "    }\n",
       "</style>\n",
       "<table border=\"1\" class=\"dataframe\">\n",
       "  <thead>\n",
       "    <tr style=\"text-align: right;\">\n",
       "      <th></th>\n",
       "      <th>repo_id</th>\n",
       "      <th>actor_id</th>\n",
       "      <th>weight</th>\n",
       "    </tr>\n",
       "  </thead>\n",
       "  <tbody>\n",
       "    <tr>\n",
       "      <th>0</th>\n",
       "      <td>1</td>\n",
       "      <td>24193253</td>\n",
       "      <td>0.000000</td>\n",
       "    </tr>\n",
       "    <tr>\n",
       "      <th>1</th>\n",
       "      <td>27</td>\n",
       "      <td>85</td>\n",
       "      <td>-0.137213</td>\n",
       "    </tr>\n",
       "    <tr>\n",
       "      <th>2</th>\n",
       "      <td>27</td>\n",
       "      <td>10416</td>\n",
       "      <td>0.000000</td>\n",
       "    </tr>\n",
       "    <tr>\n",
       "      <th>3</th>\n",
       "      <td>27</td>\n",
       "      <td>16881</td>\n",
       "      <td>0.000000</td>\n",
       "    </tr>\n",
       "    <tr>\n",
       "      <th>4</th>\n",
       "      <td>27</td>\n",
       "      <td>18191</td>\n",
       "      <td>0.004695</td>\n",
       "    </tr>\n",
       "    <tr>\n",
       "      <th>5</th>\n",
       "      <td>27</td>\n",
       "      <td>25555</td>\n",
       "      <td>0.000000</td>\n",
       "    </tr>\n",
       "    <tr>\n",
       "      <th>6</th>\n",
       "      <td>27</td>\n",
       "      <td>39406</td>\n",
       "      <td>0.000000</td>\n",
       "    </tr>\n",
       "    <tr>\n",
       "      <th>7</th>\n",
       "      <td>27</td>\n",
       "      <td>43569</td>\n",
       "      <td>0.000000</td>\n",
       "    </tr>\n",
       "    <tr>\n",
       "      <th>8</th>\n",
       "      <td>27</td>\n",
       "      <td>48936</td>\n",
       "      <td>0.000000</td>\n",
       "    </tr>\n",
       "    <tr>\n",
       "      <th>9</th>\n",
       "      <td>27</td>\n",
       "      <td>79817</td>\n",
       "      <td>1.000000</td>\n",
       "    </tr>\n",
       "    <tr>\n",
       "      <th>10</th>\n",
       "      <td>27</td>\n",
       "      <td>86065</td>\n",
       "      <td>1.000000</td>\n",
       "    </tr>\n",
       "    <tr>\n",
       "      <th>11</th>\n",
       "      <td>27</td>\n",
       "      <td>121989</td>\n",
       "      <td>0.000000</td>\n",
       "    </tr>\n",
       "    <tr>\n",
       "      <th>12</th>\n",
       "      <td>27</td>\n",
       "      <td>153388</td>\n",
       "      <td>0.000000</td>\n",
       "    </tr>\n",
       "    <tr>\n",
       "      <th>13</th>\n",
       "      <td>27</td>\n",
       "      <td>168854</td>\n",
       "      <td>0.000000</td>\n",
       "    </tr>\n",
       "    <tr>\n",
       "      <th>14</th>\n",
       "      <td>27</td>\n",
       "      <td>441526</td>\n",
       "      <td>0.250000</td>\n",
       "    </tr>\n",
       "  </tbody>\n",
       "</table>\n",
       "</div>"
      ],
      "text/plain": [
       "    repo_id  actor_id    weight\n",
       "0         1  24193253  0.000000\n",
       "1        27        85 -0.137213\n",
       "2        27     10416  0.000000\n",
       "3        27     16881  0.000000\n",
       "4        27     18191  0.004695\n",
       "5        27     25555  0.000000\n",
       "6        27     39406  0.000000\n",
       "7        27     43569  0.000000\n",
       "8        27     48936  0.000000\n",
       "9        27     79817  1.000000\n",
       "10       27     86065  1.000000\n",
       "11       27    121989  0.000000\n",
       "12       27    153388  0.000000\n",
       "13       27    168854  0.000000\n",
       "14       27    441526  0.250000"
      ]
     },
     "execution_count": 19,
     "metadata": {},
     "output_type": "execute_result"
    }
   ],
   "source": [
    "data = DataFrame(o.get_table(TEMP_TABLE_NAME6)).fillna(0)\n",
    "data.head(15)"
   ]
  },
  {
   "cell_type": "markdown",
   "id": "33091116-a5dc-4da9-b2e9-12f40947c0bb",
   "metadata": {
    "id": "33091116-a5dc-4da9-b2e9-12f40947c0bb"
   },
   "source": [
    "以上，得到的odps.DataFrame的fillna的结果\n",
    "\n",
    "以下，对于直接把odps.DataFrame转换为pd.df的测试，很快"
   ]
  },
  {
   "cell_type": "code",
   "execution_count": 20,
   "id": "7fac1dc6-f6fa-4057-8249-119fb82481a6",
   "metadata": {
    "id": "7fac1dc6-f6fa-4057-8249-119fb82481a6",
    "outputId": "9d7f323a-0276-4ba2-a81c-7ae745d4df7f"
   },
   "outputs": [
    {
     "data": {
      "text/html": [
       "<div>\n",
       "<style scoped>\n",
       "    .dataframe tbody tr th:only-of-type {\n",
       "        vertical-align: middle;\n",
       "    }\n",
       "\n",
       "    .dataframe tbody tr th {\n",
       "        vertical-align: top;\n",
       "    }\n",
       "\n",
       "    .dataframe thead th {\n",
       "        text-align: right;\n",
       "    }\n",
       "</style>\n",
       "<table border=\"1\" class=\"dataframe\">\n",
       "  <thead>\n",
       "    <tr style=\"text-align: right;\">\n",
       "      <th></th>\n",
       "      <th>repo_id</th>\n",
       "      <th>actor_id</th>\n",
       "      <th>weight</th>\n",
       "    </tr>\n",
       "  </thead>\n",
       "  <tbody>\n",
       "    <tr>\n",
       "      <th>0</th>\n",
       "      <td>1</td>\n",
       "      <td>24193253</td>\n",
       "      <td>0.000000</td>\n",
       "    </tr>\n",
       "    <tr>\n",
       "      <th>1</th>\n",
       "      <td>27</td>\n",
       "      <td>85</td>\n",
       "      <td>-0.137213</td>\n",
       "    </tr>\n",
       "    <tr>\n",
       "      <th>2</th>\n",
       "      <td>27</td>\n",
       "      <td>10416</td>\n",
       "      <td>0.000000</td>\n",
       "    </tr>\n",
       "    <tr>\n",
       "      <th>3</th>\n",
       "      <td>27</td>\n",
       "      <td>16881</td>\n",
       "      <td>0.000000</td>\n",
       "    </tr>\n",
       "    <tr>\n",
       "      <th>4</th>\n",
       "      <td>27</td>\n",
       "      <td>18191</td>\n",
       "      <td>0.004695</td>\n",
       "    </tr>\n",
       "  </tbody>\n",
       "</table>\n",
       "</div>"
      ],
      "text/plain": [
       "   repo_id  actor_id    weight\n",
       "0        1  24193253  0.000000\n",
       "1       27        85 -0.137213\n",
       "2       27     10416  0.000000\n",
       "3       27     16881  0.000000\n",
       "4       27     18191  0.004695"
      ]
     },
     "execution_count": 20,
     "metadata": {},
     "output_type": "execute_result"
    }
   ],
   "source": [
    "pd_data = data.to_pandas()\n",
    "pd_data.head()"
   ]
  },
  {
   "cell_type": "markdown",
   "id": "6e601af7-3b55-4c6f-90b2-e22c3cdd3030",
   "metadata": {
    "id": "6e601af7-3b55-4c6f-90b2-e22c3cdd3030"
   },
   "source": [
    "看看一共有多少数据"
   ]
  },
  {
   "cell_type": "code",
   "execution_count": null,
   "id": "01e2e770-1544-487f-8754-42b050e93afb",
   "metadata": {
    "id": "01e2e770-1544-487f-8754-42b050e93afb"
   },
   "outputs": [],
   "source": [
    "# select_sql = '''\n",
    "#     SELECT * FROM {TEMP_TABLE_NAME}\n",
    "# '''.format(TEMP_TABLE_NAME=TEMP_TABLE_NAME5)\n",
    "# table_weight = o.execute_sql(select_sql, hints={'odps.sql.allow.fullscan': 'true', \"odps.sql.submit.mode\" : \"script\"})"
   ]
  },
  {
   "cell_type": "code",
   "execution_count": null,
   "id": "4c661844-8fe6-4308-9303-138c427f7152",
   "metadata": {
    "id": "4c661844-8fe6-4308-9303-138c427f7152",
    "outputId": "207409d1-ff19-4bf8-bd31-2b7b9a6b9b31"
   },
   "outputs": [],
   "source": [
    "# cnt = 0\n",
    "# with table_weight.open_reader(tunnel=True) as reader:\n",
    "#     for record in reader:\n",
    "#         cnt = cnt + 1\n",
    "# print(cnt)"
   ]
  },
  {
   "cell_type": "markdown",
   "id": "c737890a-da8e-434d-bb86-a22ca970d3a7",
   "metadata": {
    "id": "c737890a-da8e-434d-bb86-a22ca970d3a7",
    "tags": []
   },
   "source": [
    "### repo_id，actor_id重新编号"
   ]
  },
  {
   "cell_type": "markdown",
   "id": "4bf6fd00-7f58-4c0c-894b-606d2b119923",
   "metadata": {
    "id": "4bf6fd00-7f58-4c0c-894b-606d2b119923",
    "tags": []
   },
   "source": [
    "#### 将repo_id和actor_id映射到较小的范围里"
   ]
  },
  {
   "cell_type": "code",
   "execution_count": 21,
   "id": "8e1d2870-5bbd-4da7-bea9-fe07bd0df788",
   "metadata": {
    "id": "8e1d2870-5bbd-4da7-bea9-fe07bd0df788",
    "outputId": "b845ef54-87a0-4424-9769-579d7427ab21"
   },
   "outputs": [
    {
     "data": {
      "text/plain": [
       "<Instance 20220520021821501gacd4ssa>"
      ]
     },
     "execution_count": 21,
     "metadata": {},
     "output_type": "execute_result"
    }
   ],
   "source": [
    "TEMP_TABLE_NAME7 = 'hx_repo_actor_pull_request_new_repoid_pre'\n",
    "drop_sql = '''\n",
    "    DROP TABLE IF EXISTS {TEMP_TABLE_NAME};\n",
    "    CREATE TABLE IF NOT EXISTS {TEMP_TABLE_NAME}\n",
    "    (\n",
    "        repo_id     BIGINT,\n",
    "        all_zero    BIGINT DEFAULT 0\n",
    "    );\n",
    "'''.format(\n",
    "    TEMP_TABLE_NAME=TEMP_TABLE_NAME7\n",
    ")\n",
    "o.execute_sql(drop_sql, hints={'odps.sql.allow.fullscan': 'true', 'odps.sql.submit.mode': 'script'})"
   ]
  },
  {
   "cell_type": "code",
   "execution_count": 22,
   "id": "d50b542a-3962-4856-a4d8-17809722c58b",
   "metadata": {
    "id": "d50b542a-3962-4856-a4d8-17809722c58b"
   },
   "outputs": [],
   "source": [
    "insert_repoid_sql = '''set odps.sql.validate.orderby.limit=false;\n",
    "        INSERT INTO {TEMP_TABLE_NAME2}(repo_id)\n",
    "        SELECT DISTINCT repo_id\n",
    "        FROM {TEMP_TABLE_NAME1}\n",
    "'''.format(\n",
    "    TEMP_TABLE_NAME1=TEMP_TABLE_NAME6,\n",
    "    TEMP_TABLE_NAME2=TEMP_TABLE_NAME7\n",
    ")\n",
    "table = o.execute_sql(insert_repoid_sql, hints={'odps.sql.allow.fullscan': 'true',\"odps.sql.submit.mode\" : \"script\"})"
   ]
  },
  {
   "cell_type": "code",
   "execution_count": 23,
   "id": "210507c1-9186-4911-96f9-9c08d1652521",
   "metadata": {
    "id": "210507c1-9186-4911-96f9-9c08d1652521",
    "outputId": "f10207af-832d-4683-a3d1-2d3ffa94e092"
   },
   "outputs": [
    {
     "data": {
      "text/html": [
       "<div>\n",
       "<style scoped>\n",
       "    .dataframe tbody tr th:only-of-type {\n",
       "        vertical-align: middle;\n",
       "    }\n",
       "\n",
       "    .dataframe tbody tr th {\n",
       "        vertical-align: top;\n",
       "    }\n",
       "\n",
       "    .dataframe thead th {\n",
       "        text-align: right;\n",
       "    }\n",
       "</style>\n",
       "<table border=\"1\" class=\"dataframe\">\n",
       "  <thead>\n",
       "    <tr style=\"text-align: right;\">\n",
       "      <th></th>\n",
       "      <th>repo_id</th>\n",
       "      <th>all_zero</th>\n",
       "    </tr>\n",
       "  </thead>\n",
       "  <tbody>\n",
       "    <tr>\n",
       "      <th>0</th>\n",
       "      <td>1</td>\n",
       "      <td>0</td>\n",
       "    </tr>\n",
       "    <tr>\n",
       "      <th>1</th>\n",
       "      <td>27</td>\n",
       "      <td>0</td>\n",
       "    </tr>\n",
       "    <tr>\n",
       "      <th>2</th>\n",
       "      <td>28</td>\n",
       "      <td>0</td>\n",
       "    </tr>\n",
       "    <tr>\n",
       "      <th>3</th>\n",
       "      <td>35</td>\n",
       "      <td>0</td>\n",
       "    </tr>\n",
       "    <tr>\n",
       "      <th>4</th>\n",
       "      <td>43</td>\n",
       "      <td>0</td>\n",
       "    </tr>\n",
       "    <tr>\n",
       "      <th>5</th>\n",
       "      <td>68</td>\n",
       "      <td>0</td>\n",
       "    </tr>\n",
       "    <tr>\n",
       "      <th>6</th>\n",
       "      <td>130</td>\n",
       "      <td>0</td>\n",
       "    </tr>\n",
       "    <tr>\n",
       "      <th>7</th>\n",
       "      <td>131</td>\n",
       "      <td>0</td>\n",
       "    </tr>\n",
       "    <tr>\n",
       "      <th>8</th>\n",
       "      <td>142</td>\n",
       "      <td>0</td>\n",
       "    </tr>\n",
       "    <tr>\n",
       "      <th>9</th>\n",
       "      <td>144</td>\n",
       "      <td>0</td>\n",
       "    </tr>\n",
       "    <tr>\n",
       "      <th>10</th>\n",
       "      <td>177</td>\n",
       "      <td>0</td>\n",
       "    </tr>\n",
       "    <tr>\n",
       "      <th>11</th>\n",
       "      <td>249</td>\n",
       "      <td>0</td>\n",
       "    </tr>\n",
       "    <tr>\n",
       "      <th>12</th>\n",
       "      <td>279</td>\n",
       "      <td>0</td>\n",
       "    </tr>\n",
       "    <tr>\n",
       "      <th>13</th>\n",
       "      <td>322</td>\n",
       "      <td>0</td>\n",
       "    </tr>\n",
       "    <tr>\n",
       "      <th>14</th>\n",
       "      <td>329</td>\n",
       "      <td>0</td>\n",
       "    </tr>\n",
       "  </tbody>\n",
       "</table>\n",
       "</div>"
      ],
      "text/plain": [
       "    repo_id  all_zero\n",
       "0         1         0\n",
       "1        27         0\n",
       "2        28         0\n",
       "3        35         0\n",
       "4        43         0\n",
       "5        68         0\n",
       "6       130         0\n",
       "7       131         0\n",
       "8       142         0\n",
       "9       144         0\n",
       "10      177         0\n",
       "11      249         0\n",
       "12      279         0\n",
       "13      322         0\n",
       "14      329         0"
      ]
     },
     "execution_count": 23,
     "metadata": {},
     "output_type": "execute_result"
    }
   ],
   "source": [
    "data = DataFrame(o.get_table(TEMP_TABLE_NAME7))\n",
    "data.head(15)"
   ]
  },
  {
   "cell_type": "code",
   "execution_count": 24,
   "id": "dc1af780-9dc0-4e66-b631-004a5b775a9e",
   "metadata": {
    "id": "dc1af780-9dc0-4e66-b631-004a5b775a9e",
    "outputId": "a1387c33-a289-4519-d13a-b3e6b2164585"
   },
   "outputs": [
    {
     "data": {
      "text/plain": [
       "<Instance 20220520021830558gwm1ggr>"
      ]
     },
     "execution_count": 24,
     "metadata": {},
     "output_type": "execute_result"
    }
   ],
   "source": [
    "TEMP_TABLE_NAME8 = 'hx_repo_actor_pull_request_new_repoid'\n",
    "drop_sql = '''\n",
    "    DROP TABLE IF EXISTS {TEMP_TABLE_NAME};\n",
    "    CREATE TABLE IF NOT EXISTS {TEMP_TABLE_NAME}\n",
    "    (\n",
    "        repo_id     BIGINT,\n",
    "        new_repo_id    BIGINT\n",
    "    );\n",
    "'''.format(\n",
    "    TEMP_TABLE_NAME=TEMP_TABLE_NAME8\n",
    ")\n",
    "o.execute_sql(drop_sql, hints={'odps.sql.allow.fullscan': 'true', 'odps.sql.submit.mode': 'script'})"
   ]
  },
  {
   "cell_type": "code",
   "execution_count": 25,
   "id": "ecec221c-c25a-4290-9c9e-08ad2d66eb56",
   "metadata": {
    "id": "ecec221c-c25a-4290-9c9e-08ad2d66eb56"
   },
   "outputs": [],
   "source": [
    "insert_new_repoid_sql = '''set odps.sql.validate.orderby.limit=false;\n",
    "        INSERT INTO {TEMP_TABLE_NAME2}\n",
    "        SELECT repo_id, row_number() over(partition by all_zero order by repo_id) - 1 as new_repo_id\n",
    "        FROM {TEMP_TABLE_NAME1}\n",
    "'''.format(\n",
    "    TEMP_TABLE_NAME1=TEMP_TABLE_NAME7,\n",
    "    TEMP_TABLE_NAME2=TEMP_TABLE_NAME8\n",
    ")\n",
    "table = o.execute_sql(insert_new_repoid_sql, hints={'odps.sql.allow.fullscan': 'true',\"odps.sql.submit.mode\" : \"script\"})"
   ]
  },
  {
   "cell_type": "code",
   "execution_count": 26,
   "id": "19d5f4dc-6f31-4763-8dbf-04450a090365",
   "metadata": {
    "id": "19d5f4dc-6f31-4763-8dbf-04450a090365",
    "outputId": "5dff7553-300f-44bb-a3ff-ea3981120d12"
   },
   "outputs": [
    {
     "data": {
      "text/html": [
       "<div>\n",
       "<style scoped>\n",
       "    .dataframe tbody tr th:only-of-type {\n",
       "        vertical-align: middle;\n",
       "    }\n",
       "\n",
       "    .dataframe tbody tr th {\n",
       "        vertical-align: top;\n",
       "    }\n",
       "\n",
       "    .dataframe thead th {\n",
       "        text-align: right;\n",
       "    }\n",
       "</style>\n",
       "<table border=\"1\" class=\"dataframe\">\n",
       "  <thead>\n",
       "    <tr style=\"text-align: right;\">\n",
       "      <th></th>\n",
       "      <th>repo_id</th>\n",
       "      <th>new_repo_id</th>\n",
       "    </tr>\n",
       "  </thead>\n",
       "  <tbody>\n",
       "    <tr>\n",
       "      <th>0</th>\n",
       "      <td>1</td>\n",
       "      <td>0</td>\n",
       "    </tr>\n",
       "    <tr>\n",
       "      <th>1</th>\n",
       "      <td>27</td>\n",
       "      <td>1</td>\n",
       "    </tr>\n",
       "    <tr>\n",
       "      <th>2</th>\n",
       "      <td>28</td>\n",
       "      <td>2</td>\n",
       "    </tr>\n",
       "    <tr>\n",
       "      <th>3</th>\n",
       "      <td>35</td>\n",
       "      <td>3</td>\n",
       "    </tr>\n",
       "    <tr>\n",
       "      <th>4</th>\n",
       "      <td>43</td>\n",
       "      <td>4</td>\n",
       "    </tr>\n",
       "    <tr>\n",
       "      <th>5</th>\n",
       "      <td>68</td>\n",
       "      <td>5</td>\n",
       "    </tr>\n",
       "    <tr>\n",
       "      <th>6</th>\n",
       "      <td>130</td>\n",
       "      <td>6</td>\n",
       "    </tr>\n",
       "    <tr>\n",
       "      <th>7</th>\n",
       "      <td>131</td>\n",
       "      <td>7</td>\n",
       "    </tr>\n",
       "    <tr>\n",
       "      <th>8</th>\n",
       "      <td>142</td>\n",
       "      <td>8</td>\n",
       "    </tr>\n",
       "    <tr>\n",
       "      <th>9</th>\n",
       "      <td>144</td>\n",
       "      <td>9</td>\n",
       "    </tr>\n",
       "    <tr>\n",
       "      <th>10</th>\n",
       "      <td>177</td>\n",
       "      <td>10</td>\n",
       "    </tr>\n",
       "    <tr>\n",
       "      <th>11</th>\n",
       "      <td>249</td>\n",
       "      <td>11</td>\n",
       "    </tr>\n",
       "    <tr>\n",
       "      <th>12</th>\n",
       "      <td>279</td>\n",
       "      <td>12</td>\n",
       "    </tr>\n",
       "    <tr>\n",
       "      <th>13</th>\n",
       "      <td>322</td>\n",
       "      <td>13</td>\n",
       "    </tr>\n",
       "    <tr>\n",
       "      <th>14</th>\n",
       "      <td>329</td>\n",
       "      <td>14</td>\n",
       "    </tr>\n",
       "  </tbody>\n",
       "</table>\n",
       "</div>"
      ],
      "text/plain": [
       "    repo_id  new_repo_id\n",
       "0         1            0\n",
       "1        27            1\n",
       "2        28            2\n",
       "3        35            3\n",
       "4        43            4\n",
       "5        68            5\n",
       "6       130            6\n",
       "7       131            7\n",
       "8       142            8\n",
       "9       144            9\n",
       "10      177           10\n",
       "11      249           11\n",
       "12      279           12\n",
       "13      322           13\n",
       "14      329           14"
      ]
     },
     "execution_count": 26,
     "metadata": {},
     "output_type": "execute_result"
    }
   ],
   "source": [
    "data = DataFrame(o.get_table(TEMP_TABLE_NAME8))\n",
    "data.head(15)"
   ]
  },
  {
   "cell_type": "code",
   "execution_count": 27,
   "id": "9eb02ddc-d234-4e36-b83c-a16a06003527",
   "metadata": {},
   "outputs": [
    {
     "name": "stdout",
     "output_type": "stream",
     "text": [
      "odps.Record {\n",
      "  _c0   9021971\n",
      "}\n"
     ]
    }
   ],
   "source": [
    "# 查看最大new_repo_id(用于保证与watch中的new_repo_id一致)\n",
    "select_max_new_repo_id = '''SELECT MAX(new_repo_id) FROM {TEMP_WATCH_TABLE}'''.format(TEMP_WATCH_TABLE=TEMP_TABLE_NAME8)\n",
    "table_max_new_repo_id = o.execute_sql(select_max_new_repo_id, hints={'odps.sql.allow.fullscan': 'true', \"odps.sql.submit.mode\" : \"script\"})\n",
    "with table_max_new_repo_id.open_reader(tunnel=True) as reader:\n",
    "     for record in reader:\n",
    "            print(record)"
   ]
  },
  {
   "cell_type": "markdown",
   "id": "0d246dfa-1abe-4204-9b7c-30bb5d00eed3",
   "metadata": {
    "id": "0d246dfa-1abe-4204-9b7c-30bb5d00eed3"
   },
   "source": [
    "new_repoid完毕\n",
    "\n",
    "以下，new_actorid"
   ]
  },
  {
   "cell_type": "code",
   "execution_count": 28,
   "id": "e5598cad-4961-4a63-ade0-c35a79f1e4de",
   "metadata": {
    "id": "e5598cad-4961-4a63-ade0-c35a79f1e4de",
    "outputId": "6df2f318-4d3a-4e20-ed72-1bfb27292632"
   },
   "outputs": [
    {
     "data": {
      "text/plain": [
       "<Instance 20220520021839764gafwuwy9>"
      ]
     },
     "execution_count": 28,
     "metadata": {},
     "output_type": "execute_result"
    }
   ],
   "source": [
    "TEMP_TABLE_NAME9 = 'hx_repo_actor_pull_request_new_actorid_pre'\n",
    "drop_sql = '''\n",
    "    DROP TABLE IF EXISTS {TEMP_TABLE_NAME};\n",
    "    CREATE TABLE IF NOT EXISTS {TEMP_TABLE_NAME}\n",
    "    (\n",
    "        actor_id     BIGINT,\n",
    "        all_zero    BIGINT DEFAULT 0\n",
    "    );\n",
    "'''.format(\n",
    "    TEMP_TABLE_NAME=TEMP_TABLE_NAME9\n",
    ")\n",
    "o.execute_sql(drop_sql, hints={'odps.sql.allow.fullscan': 'true', 'odps.sql.submit.mode': 'script'})"
   ]
  },
  {
   "cell_type": "code",
   "execution_count": 29,
   "id": "bd84e787-8d61-4d94-81ca-618a52a9bd4e",
   "metadata": {
    "id": "bd84e787-8d61-4d94-81ca-618a52a9bd4e"
   },
   "outputs": [],
   "source": [
    "insert_actorid_sql = '''set odps.sql.validate.orderby.limit=false;\n",
    "        INSERT INTO {TEMP_TABLE_NAME2}(actor_id)\n",
    "        SELECT DISTINCT actor_id\n",
    "        FROM {TEMP_TABLE_NAME1}\n",
    "'''.format(\n",
    "    TEMP_TABLE_NAME1=TEMP_TABLE_NAME6,\n",
    "    TEMP_TABLE_NAME2=TEMP_TABLE_NAME9\n",
    ")\n",
    "table = o.execute_sql(insert_actorid_sql, hints={'odps.sql.allow.fullscan': 'true',\"odps.sql.submit.mode\" : \"script\"})"
   ]
  },
  {
   "cell_type": "code",
   "execution_count": 30,
   "id": "8d9690be-85c7-4179-8f4c-7459e02d8361",
   "metadata": {
    "id": "8d9690be-85c7-4179-8f4c-7459e02d8361",
    "outputId": "344a9b7b-d1e3-4aae-b9b0-6bb793b2543e"
   },
   "outputs": [
    {
     "data": {
      "text/html": [
       "<div>\n",
       "<style scoped>\n",
       "    .dataframe tbody tr th:only-of-type {\n",
       "        vertical-align: middle;\n",
       "    }\n",
       "\n",
       "    .dataframe tbody tr th {\n",
       "        vertical-align: top;\n",
       "    }\n",
       "\n",
       "    .dataframe thead th {\n",
       "        text-align: right;\n",
       "    }\n",
       "</style>\n",
       "<table border=\"1\" class=\"dataframe\">\n",
       "  <thead>\n",
       "    <tr style=\"text-align: right;\">\n",
       "      <th></th>\n",
       "      <th>actor_id</th>\n",
       "      <th>all_zero</th>\n",
       "    </tr>\n",
       "  </thead>\n",
       "  <tbody>\n",
       "    <tr>\n",
       "      <th>0</th>\n",
       "      <td>1</td>\n",
       "      <td>0</td>\n",
       "    </tr>\n",
       "    <tr>\n",
       "      <th>1</th>\n",
       "      <td>4</td>\n",
       "      <td>0</td>\n",
       "    </tr>\n",
       "    <tr>\n",
       "      <th>2</th>\n",
       "      <td>7</td>\n",
       "      <td>0</td>\n",
       "    </tr>\n",
       "    <tr>\n",
       "      <th>3</th>\n",
       "      <td>17</td>\n",
       "      <td>0</td>\n",
       "    </tr>\n",
       "    <tr>\n",
       "      <th>4</th>\n",
       "      <td>18</td>\n",
       "      <td>0</td>\n",
       "    </tr>\n",
       "    <tr>\n",
       "      <th>5</th>\n",
       "      <td>19</td>\n",
       "      <td>0</td>\n",
       "    </tr>\n",
       "    <tr>\n",
       "      <th>6</th>\n",
       "      <td>20</td>\n",
       "      <td>0</td>\n",
       "    </tr>\n",
       "    <tr>\n",
       "      <th>7</th>\n",
       "      <td>21</td>\n",
       "      <td>0</td>\n",
       "    </tr>\n",
       "    <tr>\n",
       "      <th>8</th>\n",
       "      <td>22</td>\n",
       "      <td>0</td>\n",
       "    </tr>\n",
       "    <tr>\n",
       "      <th>9</th>\n",
       "      <td>25</td>\n",
       "      <td>0</td>\n",
       "    </tr>\n",
       "    <tr>\n",
       "      <th>10</th>\n",
       "      <td>26</td>\n",
       "      <td>0</td>\n",
       "    </tr>\n",
       "    <tr>\n",
       "      <th>11</th>\n",
       "      <td>29</td>\n",
       "      <td>0</td>\n",
       "    </tr>\n",
       "    <tr>\n",
       "      <th>12</th>\n",
       "      <td>34</td>\n",
       "      <td>0</td>\n",
       "    </tr>\n",
       "    <tr>\n",
       "      <th>13</th>\n",
       "      <td>38</td>\n",
       "      <td>0</td>\n",
       "    </tr>\n",
       "    <tr>\n",
       "      <th>14</th>\n",
       "      <td>45</td>\n",
       "      <td>0</td>\n",
       "    </tr>\n",
       "  </tbody>\n",
       "</table>\n",
       "</div>"
      ],
      "text/plain": [
       "    actor_id  all_zero\n",
       "0          1         0\n",
       "1          4         0\n",
       "2          7         0\n",
       "3         17         0\n",
       "4         18         0\n",
       "5         19         0\n",
       "6         20         0\n",
       "7         21         0\n",
       "8         22         0\n",
       "9         25         0\n",
       "10        26         0\n",
       "11        29         0\n",
       "12        34         0\n",
       "13        38         0\n",
       "14        45         0"
      ]
     },
     "execution_count": 30,
     "metadata": {},
     "output_type": "execute_result"
    }
   ],
   "source": [
    "data = DataFrame(o.get_table(TEMP_TABLE_NAME9))\n",
    "data.head(15)"
   ]
  },
  {
   "cell_type": "code",
   "execution_count": 31,
   "id": "f94e44be-4382-45e8-b5d6-889ce63dfcf7",
   "metadata": {
    "id": "f94e44be-4382-45e8-b5d6-889ce63dfcf7",
    "outputId": "3667ee8a-4aca-44c4-ad86-d632adb3a0f9"
   },
   "outputs": [
    {
     "data": {
      "text/plain": [
       "<Instance 20220520021849360g4y0tj0a>"
      ]
     },
     "execution_count": 31,
     "metadata": {},
     "output_type": "execute_result"
    }
   ],
   "source": [
    "TEMP_TABLE_NAME10 = 'hx_repo_actor_pull_request_new_actorid'\n",
    "drop_sql = '''\n",
    "    DROP TABLE IF EXISTS {TEMP_TABLE_NAME};\n",
    "    CREATE TABLE IF NOT EXISTS {TEMP_TABLE_NAME}\n",
    "    (\n",
    "        actor_id     BIGINT,\n",
    "        new_actor_id    BIGINT\n",
    "    );\n",
    "'''.format(\n",
    "    TEMP_TABLE_NAME=TEMP_TABLE_NAME10\n",
    ")\n",
    "o.execute_sql(drop_sql, hints={'odps.sql.allow.fullscan': 'true', 'odps.sql.submit.mode': 'script'})"
   ]
  },
  {
   "cell_type": "code",
   "execution_count": 32,
   "id": "55711f36-69ef-4e81-aea5-01c74167cc34",
   "metadata": {
    "id": "55711f36-69ef-4e81-aea5-01c74167cc34"
   },
   "outputs": [],
   "source": [
    "insert_new_actorid_sql = '''set odps.sql.validate.orderby.limit=false;\n",
    "        INSERT INTO {TEMP_TABLE_NAME2}\n",
    "        SELECT actor_id, row_number() over(partition by all_zero order by actor_id) - 1 as new_actor_id\n",
    "        FROM {TEMP_TABLE_NAME1}\n",
    "'''.format(\n",
    "    TEMP_TABLE_NAME1=TEMP_TABLE_NAME9,\n",
    "    TEMP_TABLE_NAME2=TEMP_TABLE_NAME10\n",
    ")\n",
    "table = o.execute_sql(insert_new_actorid_sql, hints={'odps.sql.allow.fullscan': 'true',\"odps.sql.submit.mode\" : \"script\"})"
   ]
  },
  {
   "cell_type": "code",
   "execution_count": 33,
   "id": "ca2744dc-67d8-4446-af68-81019e5929df",
   "metadata": {
    "id": "ca2744dc-67d8-4446-af68-81019e5929df",
    "outputId": "cc0458e3-5a76-47fb-c48d-0e16a06e4fdd"
   },
   "outputs": [
    {
     "data": {
      "text/html": [
       "<div>\n",
       "<style scoped>\n",
       "    .dataframe tbody tr th:only-of-type {\n",
       "        vertical-align: middle;\n",
       "    }\n",
       "\n",
       "    .dataframe tbody tr th {\n",
       "        vertical-align: top;\n",
       "    }\n",
       "\n",
       "    .dataframe thead th {\n",
       "        text-align: right;\n",
       "    }\n",
       "</style>\n",
       "<table border=\"1\" class=\"dataframe\">\n",
       "  <thead>\n",
       "    <tr style=\"text-align: right;\">\n",
       "      <th></th>\n",
       "      <th>actor_id</th>\n",
       "      <th>new_actor_id</th>\n",
       "    </tr>\n",
       "  </thead>\n",
       "  <tbody>\n",
       "    <tr>\n",
       "      <th>0</th>\n",
       "      <td>1</td>\n",
       "      <td>0</td>\n",
       "    </tr>\n",
       "    <tr>\n",
       "      <th>1</th>\n",
       "      <td>4</td>\n",
       "      <td>1</td>\n",
       "    </tr>\n",
       "    <tr>\n",
       "      <th>2</th>\n",
       "      <td>7</td>\n",
       "      <td>2</td>\n",
       "    </tr>\n",
       "    <tr>\n",
       "      <th>3</th>\n",
       "      <td>17</td>\n",
       "      <td>3</td>\n",
       "    </tr>\n",
       "    <tr>\n",
       "      <th>4</th>\n",
       "      <td>18</td>\n",
       "      <td>4</td>\n",
       "    </tr>\n",
       "    <tr>\n",
       "      <th>5</th>\n",
       "      <td>19</td>\n",
       "      <td>5</td>\n",
       "    </tr>\n",
       "    <tr>\n",
       "      <th>6</th>\n",
       "      <td>20</td>\n",
       "      <td>6</td>\n",
       "    </tr>\n",
       "    <tr>\n",
       "      <th>7</th>\n",
       "      <td>21</td>\n",
       "      <td>7</td>\n",
       "    </tr>\n",
       "    <tr>\n",
       "      <th>8</th>\n",
       "      <td>22</td>\n",
       "      <td>8</td>\n",
       "    </tr>\n",
       "    <tr>\n",
       "      <th>9</th>\n",
       "      <td>25</td>\n",
       "      <td>9</td>\n",
       "    </tr>\n",
       "    <tr>\n",
       "      <th>10</th>\n",
       "      <td>26</td>\n",
       "      <td>10</td>\n",
       "    </tr>\n",
       "    <tr>\n",
       "      <th>11</th>\n",
       "      <td>29</td>\n",
       "      <td>11</td>\n",
       "    </tr>\n",
       "    <tr>\n",
       "      <th>12</th>\n",
       "      <td>34</td>\n",
       "      <td>12</td>\n",
       "    </tr>\n",
       "    <tr>\n",
       "      <th>13</th>\n",
       "      <td>38</td>\n",
       "      <td>13</td>\n",
       "    </tr>\n",
       "    <tr>\n",
       "      <th>14</th>\n",
       "      <td>45</td>\n",
       "      <td>14</td>\n",
       "    </tr>\n",
       "  </tbody>\n",
       "</table>\n",
       "</div>"
      ],
      "text/plain": [
       "    actor_id  new_actor_id\n",
       "0          1             0\n",
       "1          4             1\n",
       "2          7             2\n",
       "3         17             3\n",
       "4         18             4\n",
       "5         19             5\n",
       "6         20             6\n",
       "7         21             7\n",
       "8         22             8\n",
       "9         25             9\n",
       "10        26            10\n",
       "11        29            11\n",
       "12        34            12\n",
       "13        38            13\n",
       "14        45            14"
      ]
     },
     "execution_count": 33,
     "metadata": {},
     "output_type": "execute_result"
    }
   ],
   "source": [
    "data = DataFrame(o.get_table(TEMP_TABLE_NAME10))\n",
    "data.head(15)"
   ]
  },
  {
   "cell_type": "markdown",
   "id": "4bb863b8-59af-4bf5-b694-b0d6cff8831c",
   "metadata": {
    "id": "4bb863b8-59af-4bf5-b694-b0d6cff8831c"
   },
   "source": [
    "就此，有了两张中间表：\n",
    "\n",
    "TEMP_TABLE_NAME8  (new_repoid)\n",
    "\n",
    "TEMP_TABLE_NAME10  (new_actorid)\n",
    "\n",
    "外加weight表TEMP_TABLE_NAME6"
   ]
  },
  {
   "cell_type": "markdown",
   "id": "7639c554-abe2-4634-aea9-aeec7536bb0a",
   "metadata": {
    "id": "7639c554-abe2-4634-aea9-aeec7536bb0a",
    "tags": []
   },
   "source": [
    "#### 将new_repo_id表、new_actor_id表与原表连接"
   ]
  },
  {
   "cell_type": "markdown",
   "id": "825973c2-e334-402b-9e08-90d4286abef6",
   "metadata": {
    "id": "825973c2-e334-402b-9e08-90d4286abef6",
    "tags": []
   },
   "source": [
    "##### 带有原本actor_id和repo_id的"
   ]
  },
  {
   "cell_type": "code",
   "execution_count": null,
   "id": "ff5cd88f-841a-4b4e-80b3-a609d8c98291",
   "metadata": {
    "id": "ff5cd88f-841a-4b4e-80b3-a609d8c98291",
    "outputId": "4ab21d7e-acd5-4e0c-bcca-b29b3f23f548"
   },
   "outputs": [],
   "source": [
    "# TEMP_TABLE_NAME11 = 'hx_repo_actor_pull_request_new_repo_actor_id'\n",
    "# drop_sql = '''\n",
    "#     DROP TABLE IF EXISTS {TEMP_TABLE_NAME};\n",
    "#     CREATE TABLE IF NOT EXISTS {TEMP_TABLE_NAME}\n",
    "#     (\n",
    "#         repo_id    BIGINT,\n",
    "#         actor_id     BIGINT,\n",
    "#         weight    DOUBLE,\n",
    "#         new_repo_id    BIGINT,\n",
    "#         new_actor_id     BIGINT\n",
    "#     );\n",
    "# '''.format(\n",
    "#     TEMP_TABLE_NAME=TEMP_TABLE_NAME11\n",
    "# )\n",
    "# o.execute_sql(drop_sql, hints={'odps.sql.allow.fullscan': 'true', 'odps.sql.submit.mode': 'script'})"
   ]
  },
  {
   "cell_type": "code",
   "execution_count": null,
   "id": "7aaa2725-ecba-4b92-ad06-8cf732e6ee64",
   "metadata": {
    "id": "7aaa2725-ecba-4b92-ad06-8cf732e6ee64"
   },
   "outputs": [],
   "source": [
    "# insert_new_repo_actor_id_sql = '''set odps.sql.validate.orderby.limit=false;\n",
    "#         INSERT INTO {TEMP_TABLE_NAME4}\n",
    "#         SELECT {TEMP_TABLE_NAME1}.repo_id, {TEMP_TABLE_NAME1}.actor_id, {TEMP_TABLE_NAME1}.weight, {TEMP_TABLE_NAME2}.new_repo_id, {TEMP_TABLE_NAME3}.new_actor_id\n",
    "#         FROM {TEMP_TABLE_NAME1}, {TEMP_TABLE_NAME2}, {TEMP_TABLE_NAME3}\n",
    "#         WHERE {TEMP_TABLE_NAME1}.repo_id = {TEMP_TABLE_NAME2}.repo_id AND {TEMP_TABLE_NAME1}.actor_id = {TEMP_TABLE_NAME3}.actor_id\n",
    "#         ORDER BY {TEMP_TABLE_NAME1}.repo_id, {TEMP_TABLE_NAME1}.actor_id\n",
    "# '''.format(\n",
    "#     TEMP_TABLE_NAME1=TEMP_TABLE_NAME6,\n",
    "#     TEMP_TABLE_NAME2=TEMP_TABLE_NAME8,\n",
    "#     TEMP_TABLE_NAME3=TEMP_TABLE_NAME10,\n",
    "#     TEMP_TABLE_NAME4=TEMP_TABLE_NAME11\n",
    "# )\n",
    "# table = o.execute_sql(insert_new_repo_actor_id_sql, hints={'odps.sql.allow.fullscan': 'true',\"odps.sql.submit.mode\" : \"script\"})"
   ]
  },
  {
   "cell_type": "code",
   "execution_count": null,
   "id": "c085cd64-5fea-43db-a0ff-1dda83282a80",
   "metadata": {
    "id": "c085cd64-5fea-43db-a0ff-1dda83282a80",
    "outputId": "b6f63be1-fe8d-48d6-a040-37325dd85164"
   },
   "outputs": [],
   "source": [
    "# data = DataFrame(o.get_table(TEMP_TABLE_NAME11))\n",
    "# data.head(15)"
   ]
  },
  {
   "cell_type": "markdown",
   "id": "b6030cf9-3dc8-4b68-9452-0db13485bfaf",
   "metadata": {
    "id": "b6030cf9-3dc8-4b68-9452-0db13485bfaf",
    "tags": []
   },
   "source": [
    "##### 不带原本actor_id和repo_id的"
   ]
  },
  {
   "cell_type": "code",
   "execution_count": 34,
   "id": "3b8b05d4-316f-433a-a747-a127e758ddfe",
   "metadata": {
    "id": "3b8b05d4-316f-433a-a747-a127e758ddfe",
    "outputId": "899510f1-6b83-4778-e754-e4edb8608cbb"
   },
   "outputs": [
    {
     "data": {
      "text/plain": [
       "<Instance 20220520021853462gimy54pr2>"
      ]
     },
     "execution_count": 34,
     "metadata": {},
     "output_type": "execute_result"
    }
   ],
   "source": [
    "TEMP_TABLE_NAME12 = 'hx_repo_actor_pull_request_new_repo_actor_id_clear'\n",
    "drop_sql = '''\n",
    "    DROP TABLE IF EXISTS {TEMP_TABLE_NAME};\n",
    "    CREATE TABLE IF NOT EXISTS {TEMP_TABLE_NAME}\n",
    "    (\n",
    "        new_repo_id    BIGINT,\n",
    "        new_actor_id     BIGINT,\n",
    "        weight    DOUBLE       \n",
    "    );\n",
    "'''.format(\n",
    "    TEMP_TABLE_NAME=TEMP_TABLE_NAME12\n",
    ")\n",
    "o.execute_sql(drop_sql, hints={'odps.sql.allow.fullscan': 'true', 'odps.sql.submit.mode': 'script'})"
   ]
  },
  {
   "cell_type": "code",
   "execution_count": 35,
   "id": "a852857e-f89b-4e69-a6f0-e2bc0dad6e28",
   "metadata": {
    "id": "a852857e-f89b-4e69-a6f0-e2bc0dad6e28"
   },
   "outputs": [],
   "source": [
    "insert_new_repo_actor_id_clear_sql = '''set odps.sql.validate.orderby.limit=false;\n",
    "        INSERT INTO {TEMP_TABLE_NAME4}\n",
    "        SELECT {TEMP_TABLE_NAME2}.new_repo_id, {TEMP_TABLE_NAME3}.new_actor_id, {TEMP_TABLE_NAME1}.weight\n",
    "        FROM {TEMP_TABLE_NAME1}, {TEMP_TABLE_NAME2}, {TEMP_TABLE_NAME3}\n",
    "        WHERE {TEMP_TABLE_NAME1}.repo_id = {TEMP_TABLE_NAME2}.repo_id AND {TEMP_TABLE_NAME1}.actor_id = {TEMP_TABLE_NAME3}.actor_id\n",
    "        ORDER BY {TEMP_TABLE_NAME2}.new_repo_id, {TEMP_TABLE_NAME3}.new_actor_id\n",
    "'''.format(\n",
    "    TEMP_TABLE_NAME1=TEMP_TABLE_NAME6,\n",
    "    TEMP_TABLE_NAME2=TEMP_TABLE_NAME8,\n",
    "    TEMP_TABLE_NAME3=TEMP_TABLE_NAME10,\n",
    "    TEMP_TABLE_NAME4=TEMP_TABLE_NAME12\n",
    ")\n",
    "table = o.execute_sql(insert_new_repo_actor_id_clear_sql, hints={'odps.sql.allow.fullscan': 'true',\"odps.sql.submit.mode\" : \"script\"})"
   ]
  },
  {
   "cell_type": "code",
   "execution_count": 36,
   "id": "318fc5a6-1b34-4ee2-bf58-d309041095fe",
   "metadata": {
    "id": "318fc5a6-1b34-4ee2-bf58-d309041095fe",
    "outputId": "d3c62fcb-415f-4291-9220-9736a7f7cd8e"
   },
   "outputs": [
    {
     "data": {
      "text/html": [
       "<div>\n",
       "<style scoped>\n",
       "    .dataframe tbody tr th:only-of-type {\n",
       "        vertical-align: middle;\n",
       "    }\n",
       "\n",
       "    .dataframe tbody tr th {\n",
       "        vertical-align: top;\n",
       "    }\n",
       "\n",
       "    .dataframe thead th {\n",
       "        text-align: right;\n",
       "    }\n",
       "</style>\n",
       "<table border=\"1\" class=\"dataframe\">\n",
       "  <thead>\n",
       "    <tr style=\"text-align: right;\">\n",
       "      <th></th>\n",
       "      <th>new_repo_id</th>\n",
       "      <th>new_actor_id</th>\n",
       "      <th>weight</th>\n",
       "    </tr>\n",
       "  </thead>\n",
       "  <tbody>\n",
       "    <tr>\n",
       "      <th>0</th>\n",
       "      <td>0</td>\n",
       "      <td>674742</td>\n",
       "      <td>1.000000</td>\n",
       "    </tr>\n",
       "    <tr>\n",
       "      <th>1</th>\n",
       "      <td>1</td>\n",
       "      <td>28</td>\n",
       "      <td>-0.137213</td>\n",
       "    </tr>\n",
       "    <tr>\n",
       "      <th>2</th>\n",
       "      <td>1</td>\n",
       "      <td>3048</td>\n",
       "      <td>1.000000</td>\n",
       "    </tr>\n",
       "    <tr>\n",
       "      <th>3</th>\n",
       "      <td>1</td>\n",
       "      <td>4451</td>\n",
       "      <td>1.000000</td>\n",
       "    </tr>\n",
       "    <tr>\n",
       "      <th>4</th>\n",
       "      <td>1</td>\n",
       "      <td>4737</td>\n",
       "      <td>0.004695</td>\n",
       "    </tr>\n",
       "    <tr>\n",
       "      <th>5</th>\n",
       "      <td>1</td>\n",
       "      <td>6223</td>\n",
       "      <td>1.000000</td>\n",
       "    </tr>\n",
       "    <tr>\n",
       "      <th>6</th>\n",
       "      <td>1</td>\n",
       "      <td>8601</td>\n",
       "      <td>1.000000</td>\n",
       "    </tr>\n",
       "    <tr>\n",
       "      <th>7</th>\n",
       "      <td>1</td>\n",
       "      <td>9375</td>\n",
       "      <td>1.000000</td>\n",
       "    </tr>\n",
       "    <tr>\n",
       "      <th>8</th>\n",
       "      <td>1</td>\n",
       "      <td>10374</td>\n",
       "      <td>1.000000</td>\n",
       "    </tr>\n",
       "    <tr>\n",
       "      <th>9</th>\n",
       "      <td>1</td>\n",
       "      <td>15395</td>\n",
       "      <td>1.000000</td>\n",
       "    </tr>\n",
       "    <tr>\n",
       "      <th>10</th>\n",
       "      <td>1</td>\n",
       "      <td>16281</td>\n",
       "      <td>1.000000</td>\n",
       "    </tr>\n",
       "    <tr>\n",
       "      <th>11</th>\n",
       "      <td>1</td>\n",
       "      <td>21617</td>\n",
       "      <td>1.000000</td>\n",
       "    </tr>\n",
       "    <tr>\n",
       "      <th>12</th>\n",
       "      <td>1</td>\n",
       "      <td>26002</td>\n",
       "      <td>1.000000</td>\n",
       "    </tr>\n",
       "    <tr>\n",
       "      <th>13</th>\n",
       "      <td>1</td>\n",
       "      <td>28000</td>\n",
       "      <td>1.000000</td>\n",
       "    </tr>\n",
       "    <tr>\n",
       "      <th>14</th>\n",
       "      <td>1</td>\n",
       "      <td>54793</td>\n",
       "      <td>0.250000</td>\n",
       "    </tr>\n",
       "  </tbody>\n",
       "</table>\n",
       "</div>"
      ],
      "text/plain": [
       "    new_repo_id  new_actor_id    weight\n",
       "0             0        674742  1.000000\n",
       "1             1            28 -0.137213\n",
       "2             1          3048  1.000000\n",
       "3             1          4451  1.000000\n",
       "4             1          4737  0.004695\n",
       "5             1          6223  1.000000\n",
       "6             1          8601  1.000000\n",
       "7             1          9375  1.000000\n",
       "8             1         10374  1.000000\n",
       "9             1         15395  1.000000\n",
       "10            1         16281  1.000000\n",
       "11            1         21617  1.000000\n",
       "12            1         26002  1.000000\n",
       "13            1         28000  1.000000\n",
       "14            1         54793  0.250000"
      ]
     },
     "execution_count": 36,
     "metadata": {},
     "output_type": "execute_result"
    }
   ],
   "source": [
    "data = DataFrame(o.get_table(TEMP_TABLE_NAME12)).fillna(1)\n",
    "data.head(15)"
   ]
  },
  {
   "cell_type": "code",
   "execution_count": 37,
   "id": "2b402a08-382b-4011-89ac-9f14120108c4",
   "metadata": {
    "id": "2b402a08-382b-4011-89ac-9f14120108c4",
    "outputId": "10ff7e31-13e2-4a8f-9b36-b33ecb25ff71"
   },
   "outputs": [
    {
     "data": {
      "text/html": [
       "<div>\n",
       "<style scoped>\n",
       "    .dataframe tbody tr th:only-of-type {\n",
       "        vertical-align: middle;\n",
       "    }\n",
       "\n",
       "    .dataframe tbody tr th {\n",
       "        vertical-align: top;\n",
       "    }\n",
       "\n",
       "    .dataframe thead th {\n",
       "        text-align: right;\n",
       "    }\n",
       "</style>\n",
       "<table border=\"1\" class=\"dataframe\">\n",
       "  <thead>\n",
       "    <tr style=\"text-align: right;\">\n",
       "      <th></th>\n",
       "      <th>new_repo_id</th>\n",
       "      <th>new_actor_id</th>\n",
       "      <th>weight</th>\n",
       "    </tr>\n",
       "  </thead>\n",
       "  <tbody>\n",
       "    <tr>\n",
       "      <th>0</th>\n",
       "      <td>0</td>\n",
       "      <td>674742</td>\n",
       "      <td>1.000000</td>\n",
       "    </tr>\n",
       "    <tr>\n",
       "      <th>1</th>\n",
       "      <td>1</td>\n",
       "      <td>28</td>\n",
       "      <td>-0.137213</td>\n",
       "    </tr>\n",
       "    <tr>\n",
       "      <th>2</th>\n",
       "      <td>1</td>\n",
       "      <td>3048</td>\n",
       "      <td>1.000000</td>\n",
       "    </tr>\n",
       "    <tr>\n",
       "      <th>3</th>\n",
       "      <td>1</td>\n",
       "      <td>4451</td>\n",
       "      <td>1.000000</td>\n",
       "    </tr>\n",
       "    <tr>\n",
       "      <th>4</th>\n",
       "      <td>1</td>\n",
       "      <td>4737</td>\n",
       "      <td>0.004695</td>\n",
       "    </tr>\n",
       "  </tbody>\n",
       "</table>\n",
       "</div>"
      ],
      "text/plain": [
       "   new_repo_id  new_actor_id    weight\n",
       "0            0        674742  1.000000\n",
       "1            1            28 -0.137213\n",
       "2            1          3048  1.000000\n",
       "3            1          4451  1.000000\n",
       "4            1          4737  0.004695"
      ]
     },
     "execution_count": 37,
     "metadata": {},
     "output_type": "execute_result"
    }
   ],
   "source": [
    "new_pd_data = data.to_pandas()\n",
    "new_pd_data.head()"
   ]
  },
  {
   "cell_type": "markdown",
   "id": "2d60c868-c836-4ba5-ab05-a4470cb22267",
   "metadata": {
    "id": "2d60c868-c836-4ba5-ab05-a4470cb22267",
    "tags": []
   },
   "source": [
    "##### 查看数据量"
   ]
  },
  {
   "cell_type": "code",
   "execution_count": null,
   "id": "660ed583-6d79-4ef1-b954-90a0e1f139a6",
   "metadata": {
    "id": "660ed583-6d79-4ef1-b954-90a0e1f139a6",
    "outputId": "8ae87293-6759-49f2-d5ce-e61d2680d7be"
   },
   "outputs": [],
   "source": [
    "# select_sql = '''\n",
    "#     SELECT * FROM {TEMP_TABLE_NAME}\n",
    "# '''.format(TEMP_TABLE_NAME=TEMP_TABLE_NAME12)\n",
    "# table_new_weight = o.execute_sql(select_sql, hints={'odps.sql.allow.fullscan': 'true', \"odps.sql.submit.mode\" : \"script\"})"
   ]
  },
  {
   "cell_type": "code",
   "execution_count": null,
   "id": "1cd23067-c2b4-4189-adbf-9f9756777009",
   "metadata": {
    "id": "1cd23067-c2b4-4189-adbf-9f9756777009"
   },
   "outputs": [],
   "source": [
    "# cnt = 0\n",
    "# with table_new_weight.open_reader(tunnel=True) as reader:\n",
    "#     for record in reader:\n",
    "#         cnt = cnt + 1\n",
    "# print(cnt)"
   ]
  },
  {
   "cell_type": "markdown",
   "id": "d0d5ffca-0335-4055-b115-eeacd0a0a742",
   "metadata": {
    "id": "d0d5ffca-0335-4055-b115-eeacd0a0a742",
    "tags": []
   },
   "source": [
    "### repo与actor的度的计算"
   ]
  },
  {
   "cell_type": "markdown",
   "id": "90d236b4-9207-4abd-b8a6-9400a1f35431",
   "metadata": {
    "id": "90d236b4-9207-4abd-b8a6-9400a1f35431"
   },
   "source": [
    "从TEMP_TABLE_NAME12表中，抽取取值不同的repo_id和其count，actor同"
   ]
  },
  {
   "cell_type": "markdown",
   "id": "bdc812c5-5abf-4cd2-918f-69bb24856c21",
   "metadata": {
    "id": "bdc812c5-5abf-4cd2-918f-69bb24856c21",
    "tags": []
   },
   "source": [
    "#### repo的度"
   ]
  },
  {
   "cell_type": "code",
   "execution_count": 38,
   "id": "3e67c373-44cf-40b8-8242-2c280dea3ab6",
   "metadata": {
    "id": "3e67c373-44cf-40b8-8242-2c280dea3ab6"
   },
   "outputs": [
    {
     "data": {
      "text/plain": [
       "<Instance 20220520022447801gu98n4pr2>"
      ]
     },
     "execution_count": 38,
     "metadata": {},
     "output_type": "execute_result"
    }
   ],
   "source": [
    "TEMP_TABLE_NAME13 = 'hx_repo_actor_pull_request_new_repo_degree'\n",
    "drop_sql = '''\n",
    "    DROP TABLE IF EXISTS {TEMP_TABLE_NAME};\n",
    "    CREATE TABLE IF NOT EXISTS {TEMP_TABLE_NAME}\n",
    "    (\n",
    "        new_repo_id    BIGINT,\n",
    "        repo_degree    BIGINT       \n",
    "    );\n",
    "'''.format(\n",
    "    TEMP_TABLE_NAME=TEMP_TABLE_NAME13\n",
    ")\n",
    "o.execute_sql(drop_sql, hints={'odps.sql.allow.fullscan': 'true', 'odps.sql.submit.mode': 'script'})"
   ]
  },
  {
   "cell_type": "code",
   "execution_count": 39,
   "id": "3ff13edc-ac68-408f-af05-651ce123a500",
   "metadata": {
    "id": "3ff13edc-ac68-408f-af05-651ce123a500"
   },
   "outputs": [],
   "source": [
    "insert_repo_degree_sql = '''set odps.sql.validate.orderby.limit=false;\n",
    "        INSERT INTO {TEMP_TABLE_NAME2}\n",
    "        SELECT new_repo_id, count(*) AS repo_degree\n",
    "        FROM {TEMP_TABLE_NAME1} \n",
    "        GROUP BY new_repo_id\n",
    "        ORDER BY new_repo_id\n",
    "'''.format(\n",
    "    TEMP_TABLE_NAME1=TEMP_TABLE_NAME12,\n",
    "    TEMP_TABLE_NAME2=TEMP_TABLE_NAME13\n",
    ")\n",
    "table = o.execute_sql(insert_repo_degree_sql, hints={'odps.sql.allow.fullscan': 'true',\"odps.sql.submit.mode\" : \"script\"})"
   ]
  },
  {
   "cell_type": "code",
   "execution_count": 40,
   "id": "de439524-8ce2-47f6-b837-657fbf310c55",
   "metadata": {
    "id": "de439524-8ce2-47f6-b837-657fbf310c55"
   },
   "outputs": [
    {
     "data": {
      "text/html": [
       "<div>\n",
       "<style scoped>\n",
       "    .dataframe tbody tr th:only-of-type {\n",
       "        vertical-align: middle;\n",
       "    }\n",
       "\n",
       "    .dataframe tbody tr th {\n",
       "        vertical-align: top;\n",
       "    }\n",
       "\n",
       "    .dataframe thead th {\n",
       "        text-align: right;\n",
       "    }\n",
       "</style>\n",
       "<table border=\"1\" class=\"dataframe\">\n",
       "  <thead>\n",
       "    <tr style=\"text-align: right;\">\n",
       "      <th></th>\n",
       "      <th>new_repo_id</th>\n",
       "      <th>repo_degree</th>\n",
       "    </tr>\n",
       "  </thead>\n",
       "  <tbody>\n",
       "    <tr>\n",
       "      <th>0</th>\n",
       "      <td>0</td>\n",
       "      <td>1</td>\n",
       "    </tr>\n",
       "    <tr>\n",
       "      <th>1</th>\n",
       "      <td>1</td>\n",
       "      <td>33</td>\n",
       "    </tr>\n",
       "    <tr>\n",
       "      <th>2</th>\n",
       "      <td>2</td>\n",
       "      <td>6</td>\n",
       "    </tr>\n",
       "    <tr>\n",
       "      <th>3</th>\n",
       "      <td>3</td>\n",
       "      <td>1</td>\n",
       "    </tr>\n",
       "    <tr>\n",
       "      <th>4</th>\n",
       "      <td>4</td>\n",
       "      <td>1</td>\n",
       "    </tr>\n",
       "    <tr>\n",
       "      <th>5</th>\n",
       "      <td>5</td>\n",
       "      <td>29</td>\n",
       "    </tr>\n",
       "    <tr>\n",
       "      <th>6</th>\n",
       "      <td>6</td>\n",
       "      <td>80</td>\n",
       "    </tr>\n",
       "    <tr>\n",
       "      <th>7</th>\n",
       "      <td>7</td>\n",
       "      <td>1</td>\n",
       "    </tr>\n",
       "    <tr>\n",
       "      <th>8</th>\n",
       "      <td>8</td>\n",
       "      <td>1</td>\n",
       "    </tr>\n",
       "    <tr>\n",
       "      <th>9</th>\n",
       "      <td>9</td>\n",
       "      <td>15</td>\n",
       "    </tr>\n",
       "    <tr>\n",
       "      <th>10</th>\n",
       "      <td>10</td>\n",
       "      <td>1</td>\n",
       "    </tr>\n",
       "    <tr>\n",
       "      <th>11</th>\n",
       "      <td>11</td>\n",
       "      <td>7</td>\n",
       "    </tr>\n",
       "    <tr>\n",
       "      <th>12</th>\n",
       "      <td>12</td>\n",
       "      <td>1</td>\n",
       "    </tr>\n",
       "    <tr>\n",
       "      <th>13</th>\n",
       "      <td>13</td>\n",
       "      <td>8</td>\n",
       "    </tr>\n",
       "    <tr>\n",
       "      <th>14</th>\n",
       "      <td>14</td>\n",
       "      <td>1</td>\n",
       "    </tr>\n",
       "  </tbody>\n",
       "</table>\n",
       "</div>"
      ],
      "text/plain": [
       "    new_repo_id  repo_degree\n",
       "0             0            1\n",
       "1             1           33\n",
       "2             2            6\n",
       "3             3            1\n",
       "4             4            1\n",
       "5             5           29\n",
       "6             6           80\n",
       "7             7            1\n",
       "8             8            1\n",
       "9             9           15\n",
       "10           10            1\n",
       "11           11            7\n",
       "12           12            1\n",
       "13           13            8\n",
       "14           14            1"
      ]
     },
     "execution_count": 40,
     "metadata": {},
     "output_type": "execute_result"
    }
   ],
   "source": [
    "data = DataFrame(o.get_table(TEMP_TABLE_NAME13))\n",
    "data.head(15)"
   ]
  },
  {
   "cell_type": "code",
   "execution_count": 41,
   "id": "2e5e6f80-f248-4af1-a287-5aaa3ed22b18",
   "metadata": {
    "id": "2e5e6f80-f248-4af1-a287-5aaa3ed22b18"
   },
   "outputs": [
    {
     "data": {
      "text/html": [
       "<div>\n",
       "<style scoped>\n",
       "    .dataframe tbody tr th:only-of-type {\n",
       "        vertical-align: middle;\n",
       "    }\n",
       "\n",
       "    .dataframe tbody tr th {\n",
       "        vertical-align: top;\n",
       "    }\n",
       "\n",
       "    .dataframe thead th {\n",
       "        text-align: right;\n",
       "    }\n",
       "</style>\n",
       "<table border=\"1\" class=\"dataframe\">\n",
       "  <thead>\n",
       "    <tr style=\"text-align: right;\">\n",
       "      <th></th>\n",
       "      <th>new_repo_id</th>\n",
       "      <th>repo_degree</th>\n",
       "    </tr>\n",
       "  </thead>\n",
       "  <tbody>\n",
       "    <tr>\n",
       "      <th>0</th>\n",
       "      <td>0</td>\n",
       "      <td>1</td>\n",
       "    </tr>\n",
       "    <tr>\n",
       "      <th>1</th>\n",
       "      <td>1</td>\n",
       "      <td>33</td>\n",
       "    </tr>\n",
       "    <tr>\n",
       "      <th>2</th>\n",
       "      <td>2</td>\n",
       "      <td>6</td>\n",
       "    </tr>\n",
       "    <tr>\n",
       "      <th>3</th>\n",
       "      <td>3</td>\n",
       "      <td>1</td>\n",
       "    </tr>\n",
       "    <tr>\n",
       "      <th>4</th>\n",
       "      <td>4</td>\n",
       "      <td>1</td>\n",
       "    </tr>\n",
       "  </tbody>\n",
       "</table>\n",
       "</div>"
      ],
      "text/plain": [
       "   new_repo_id  repo_degree\n",
       "0            0            1\n",
       "1            1           33\n",
       "2            2            6\n",
       "3            3            1\n",
       "4            4            1"
      ]
     },
     "execution_count": 41,
     "metadata": {},
     "output_type": "execute_result"
    }
   ],
   "source": [
    "repo_degree_pd_data = data.to_pandas()\n",
    "repo_degree_pd_data.head()"
   ]
  },
  {
   "cell_type": "markdown",
   "id": "523f24a3-8353-473e-b36a-7b55876917b9",
   "metadata": {
    "id": "523f24a3-8353-473e-b36a-7b55876917b9",
    "tags": []
   },
   "source": [
    "##### repo个数"
   ]
  },
  {
   "cell_type": "code",
   "execution_count": 42,
   "id": "bd872fe4-f86c-44e7-8bd1-5c37527ee3a6",
   "metadata": {
    "id": "bd872fe4-f86c-44e7-8bd1-5c37527ee3a6"
   },
   "outputs": [],
   "source": [
    "select_repo_degree_sql = '''\n",
    "    SELECT * FROM {TEMP_TABLE_NAME}\n",
    "'''.format(TEMP_TABLE_NAME=TEMP_TABLE_NAME13)\n",
    "table_repo_degree = o.execute_sql(select_repo_degree_sql, hints={'odps.sql.allow.fullscan': 'true', \"odps.sql.submit.mode\" : \"script\"})"
   ]
  },
  {
   "cell_type": "markdown",
   "id": "99c2f95b-3457-462d-9ed7-2649d648343b",
   "metadata": {
    "id": "99c2f95b-3457-462d-9ed7-2649d648343b",
    "tags": []
   },
   "source": [
    "#### actor的度"
   ]
  },
  {
   "cell_type": "code",
   "execution_count": 43,
   "id": "c7a62fdd-d256-4624-9a69-0f65ad28f494",
   "metadata": {
    "id": "c7a62fdd-d256-4624-9a69-0f65ad28f494"
   },
   "outputs": [
    {
     "data": {
      "text/plain": [
       "<Instance 20220520022723836gmgmzwy9>"
      ]
     },
     "execution_count": 43,
     "metadata": {},
     "output_type": "execute_result"
    }
   ],
   "source": [
    "TEMP_TABLE_NAME14 = 'hx_repo_actor_pull_request_new_actor_degree'\n",
    "drop_sql = '''\n",
    "    DROP TABLE IF EXISTS {TEMP_TABLE_NAME};\n",
    "    CREATE TABLE IF NOT EXISTS {TEMP_TABLE_NAME}\n",
    "    (\n",
    "        new_actor_id    BIGINT,\n",
    "        actor_degree    BIGINT       \n",
    "    );\n",
    "'''.format(\n",
    "    TEMP_TABLE_NAME=TEMP_TABLE_NAME14\n",
    ")\n",
    "o.execute_sql(drop_sql, hints={'odps.sql.allow.fullscan': 'true', 'odps.sql.submit.mode': 'script'})"
   ]
  },
  {
   "cell_type": "code",
   "execution_count": 44,
   "id": "69e29bdb-4f70-4fef-97e2-3ab009058fcf",
   "metadata": {
    "id": "69e29bdb-4f70-4fef-97e2-3ab009058fcf"
   },
   "outputs": [],
   "source": [
    "insert_actor_degree_sql = '''set odps.sql.validate.orderby.limit=false;\n",
    "        INSERT INTO {TEMP_TABLE_NAME2}\n",
    "        SELECT new_actor_id, count(*) AS actor_degree\n",
    "        FROM {TEMP_TABLE_NAME1} \n",
    "        GROUP BY new_actor_id\n",
    "        ORDER BY new_actor_id\n",
    "'''.format(\n",
    "    TEMP_TABLE_NAME1=TEMP_TABLE_NAME12,\n",
    "    TEMP_TABLE_NAME2=TEMP_TABLE_NAME14\n",
    ")\n",
    "table = o.execute_sql(insert_actor_degree_sql, hints={'odps.sql.allow.fullscan': 'true',\"odps.sql.submit.mode\" : \"script\"})"
   ]
  },
  {
   "cell_type": "code",
   "execution_count": 45,
   "id": "0ef555db-71c4-48f9-b401-c69b9d6a1812",
   "metadata": {
    "id": "0ef555db-71c4-48f9-b401-c69b9d6a1812"
   },
   "outputs": [
    {
     "data": {
      "text/html": [
       "<div>\n",
       "<style scoped>\n",
       "    .dataframe tbody tr th:only-of-type {\n",
       "        vertical-align: middle;\n",
       "    }\n",
       "\n",
       "    .dataframe tbody tr th {\n",
       "        vertical-align: top;\n",
       "    }\n",
       "\n",
       "    .dataframe thead th {\n",
       "        text-align: right;\n",
       "    }\n",
       "</style>\n",
       "<table border=\"1\" class=\"dataframe\">\n",
       "  <thead>\n",
       "    <tr style=\"text-align: right;\">\n",
       "      <th></th>\n",
       "      <th>new_actor_id</th>\n",
       "      <th>actor_degree</th>\n",
       "    </tr>\n",
       "  </thead>\n",
       "  <tbody>\n",
       "    <tr>\n",
       "      <th>0</th>\n",
       "      <td>0</td>\n",
       "      <td>11</td>\n",
       "    </tr>\n",
       "    <tr>\n",
       "      <th>1</th>\n",
       "      <td>1</td>\n",
       "      <td>29</td>\n",
       "    </tr>\n",
       "    <tr>\n",
       "      <th>2</th>\n",
       "      <td>2</td>\n",
       "      <td>42</td>\n",
       "    </tr>\n",
       "    <tr>\n",
       "      <th>3</th>\n",
       "      <td>3</td>\n",
       "      <td>20</td>\n",
       "    </tr>\n",
       "    <tr>\n",
       "      <th>4</th>\n",
       "      <td>4</td>\n",
       "      <td>8</td>\n",
       "    </tr>\n",
       "    <tr>\n",
       "      <th>5</th>\n",
       "      <td>5</td>\n",
       "      <td>8</td>\n",
       "    </tr>\n",
       "    <tr>\n",
       "      <th>6</th>\n",
       "      <td>6</td>\n",
       "      <td>8</td>\n",
       "    </tr>\n",
       "    <tr>\n",
       "      <th>7</th>\n",
       "      <td>7</td>\n",
       "      <td>30</td>\n",
       "    </tr>\n",
       "    <tr>\n",
       "      <th>8</th>\n",
       "      <td>8</td>\n",
       "      <td>16</td>\n",
       "    </tr>\n",
       "    <tr>\n",
       "      <th>9</th>\n",
       "      <td>9</td>\n",
       "      <td>14</td>\n",
       "    </tr>\n",
       "    <tr>\n",
       "      <th>10</th>\n",
       "      <td>10</td>\n",
       "      <td>25</td>\n",
       "    </tr>\n",
       "    <tr>\n",
       "      <th>11</th>\n",
       "      <td>11</td>\n",
       "      <td>7</td>\n",
       "    </tr>\n",
       "    <tr>\n",
       "      <th>12</th>\n",
       "      <td>12</td>\n",
       "      <td>14</td>\n",
       "    </tr>\n",
       "    <tr>\n",
       "      <th>13</th>\n",
       "      <td>13</td>\n",
       "      <td>22</td>\n",
       "    </tr>\n",
       "    <tr>\n",
       "      <th>14</th>\n",
       "      <td>14</td>\n",
       "      <td>129</td>\n",
       "    </tr>\n",
       "  </tbody>\n",
       "</table>\n",
       "</div>"
      ],
      "text/plain": [
       "    new_actor_id  actor_degree\n",
       "0              0            11\n",
       "1              1            29\n",
       "2              2            42\n",
       "3              3            20\n",
       "4              4             8\n",
       "5              5             8\n",
       "6              6             8\n",
       "7              7            30\n",
       "8              8            16\n",
       "9              9            14\n",
       "10            10            25\n",
       "11            11             7\n",
       "12            12            14\n",
       "13            13            22\n",
       "14            14           129"
      ]
     },
     "execution_count": 45,
     "metadata": {},
     "output_type": "execute_result"
    }
   ],
   "source": [
    "data = DataFrame(o.get_table(TEMP_TABLE_NAME14))\n",
    "data.head(15)"
   ]
  },
  {
   "cell_type": "code",
   "execution_count": 46,
   "id": "922da6a1-8056-435e-9fdc-459a2b67266d",
   "metadata": {
    "id": "922da6a1-8056-435e-9fdc-459a2b67266d"
   },
   "outputs": [
    {
     "data": {
      "text/html": [
       "<div>\n",
       "<style scoped>\n",
       "    .dataframe tbody tr th:only-of-type {\n",
       "        vertical-align: middle;\n",
       "    }\n",
       "\n",
       "    .dataframe tbody tr th {\n",
       "        vertical-align: top;\n",
       "    }\n",
       "\n",
       "    .dataframe thead th {\n",
       "        text-align: right;\n",
       "    }\n",
       "</style>\n",
       "<table border=\"1\" class=\"dataframe\">\n",
       "  <thead>\n",
       "    <tr style=\"text-align: right;\">\n",
       "      <th></th>\n",
       "      <th>new_actor_id</th>\n",
       "      <th>actor_degree</th>\n",
       "    </tr>\n",
       "  </thead>\n",
       "  <tbody>\n",
       "    <tr>\n",
       "      <th>0</th>\n",
       "      <td>0</td>\n",
       "      <td>11</td>\n",
       "    </tr>\n",
       "    <tr>\n",
       "      <th>1</th>\n",
       "      <td>1</td>\n",
       "      <td>29</td>\n",
       "    </tr>\n",
       "    <tr>\n",
       "      <th>2</th>\n",
       "      <td>2</td>\n",
       "      <td>42</td>\n",
       "    </tr>\n",
       "    <tr>\n",
       "      <th>3</th>\n",
       "      <td>3</td>\n",
       "      <td>20</td>\n",
       "    </tr>\n",
       "    <tr>\n",
       "      <th>4</th>\n",
       "      <td>4</td>\n",
       "      <td>8</td>\n",
       "    </tr>\n",
       "  </tbody>\n",
       "</table>\n",
       "</div>"
      ],
      "text/plain": [
       "   new_actor_id  actor_degree\n",
       "0             0            11\n",
       "1             1            29\n",
       "2             2            42\n",
       "3             3            20\n",
       "4             4             8"
      ]
     },
     "execution_count": 46,
     "metadata": {},
     "output_type": "execute_result"
    }
   ],
   "source": [
    "actor_degree_pd_data = data.to_pandas()\n",
    "actor_degree_pd_data.head()"
   ]
  },
  {
   "cell_type": "markdown",
   "id": "15f1a2b6-ff91-4b70-98ea-05b43be6e281",
   "metadata": {
    "id": "15f1a2b6-ff91-4b70-98ea-05b43be6e281"
   },
   "source": [
    "repo_degree_pd_data为pd.DataFrame类型，存储了仓库的度\n",
    "\n",
    "actor_degree_pd_data为pd.DataFrame类型，存储了开发者的度"
   ]
  },
  {
   "cell_type": "markdown",
   "id": "5b4bd350-b5f1-4ef7-8a25-9dbbe812c91c",
   "metadata": {
    "id": "5b4bd350-b5f1-4ef7-8a25-9dbbe812c91c"
   },
   "source": [
    "### name---id对应表"
   ]
  },
  {
   "cell_type": "markdown",
   "id": "129b1acb-4c15-4ac1-9de1-a002f11ba98b",
   "metadata": {
    "id": "129b1acb-4c15-4ac1-9de1-a002f11ba98b",
    "tags": []
   },
   "source": [
    "#### new_repo_id---repo_id---repo_name对应表"
   ]
  },
  {
   "cell_type": "code",
   "execution_count": 47,
   "id": "7645abbc-d0b8-4d93-903e-352448a34ae0",
   "metadata": {
    "id": "7645abbc-d0b8-4d93-903e-352448a34ae0"
   },
   "outputs": [
    {
     "data": {
      "text/plain": [
       "<Instance 20220520022748892g7c005pr2>"
      ]
     },
     "execution_count": 47,
     "metadata": {},
     "output_type": "execute_result"
    }
   ],
   "source": [
    "TEMP_TABLE_NAME15_1 = 'hx_repo_actor_pull_request_repo_withdate'\n",
    "drop_sql = '''\n",
    "    DROP TABLE IF EXISTS {TEMP_TABLE_NAME};\n",
    "    CREATE TABLE IF NOT EXISTS {TEMP_TABLE_NAME}\n",
    "    (\n",
    "        repo_id     BIGINT,\n",
    "        repo_name    STRING,\n",
    "        created_at    DATETIME\n",
    "    );\n",
    "'''.format(\n",
    "    TEMP_TABLE_NAME=TEMP_TABLE_NAME15_1\n",
    ")\n",
    "o.execute_sql(drop_sql, hints={'odps.sql.allow.fullscan': 'true', 'odps.sql.submit.mode': 'script'})"
   ]
  },
  {
   "cell_type": "code",
   "execution_count": 48,
   "id": "bae2025a-f8a8-49d2-a8bc-6bb0d19ef96b",
   "metadata": {
    "id": "bae2025a-f8a8-49d2-a8bc-6bb0d19ef96b"
   },
   "outputs": [],
   "source": [
    "repo_name_sql = '''set odps.sql.validate.orderby.limit=false;\n",
    "        INSERT INTO {TEMP_TABLE_NAME}\n",
    "        SELECT\n",
    "            repo_id,\n",
    "            repo_name,\n",
    "            created_at\n",
    "        FROM ods_github_log\n",
    "        WHERE (type = 'PullRequestEvent') AND (action = 'opened')\n",
    "        AND pt>='20160101'\n",
    "        AND pt<'20220101'\n",
    "        AND actor_id IN (\n",
    "            SELECT actor_id\n",
    "            FROM ods_github_log\n",
    "            WHERE (type = 'PullRequestEvent') AND (action = 'opened')\n",
    "            AND pt>='20160101'\n",
    "            AND pt<'20220101'\n",
    "            GROUP BY actor_id\n",
    "            HAVING COUNT(*) > 10\n",
    "        )\n",
    "        ORDER BY repo_id\n",
    "'''.format(TEMP_TABLE_NAME=TEMP_TABLE_NAME15_1)\n",
    "table = o.execute_sql(repo_name_sql, hints={\"odps.sql.submit.mode\" : \"script\"})"
   ]
  },
  {
   "cell_type": "code",
   "execution_count": 49,
   "id": "f6f669d7-9245-4ab8-beb1-4784c56856ed",
   "metadata": {
    "id": "f6f669d7-9245-4ab8-beb1-4784c56856ed"
   },
   "outputs": [
    {
     "data": {
      "text/html": [
       "<div>\n",
       "<style scoped>\n",
       "    .dataframe tbody tr th:only-of-type {\n",
       "        vertical-align: middle;\n",
       "    }\n",
       "\n",
       "    .dataframe tbody tr th {\n",
       "        vertical-align: top;\n",
       "    }\n",
       "\n",
       "    .dataframe thead th {\n",
       "        text-align: right;\n",
       "    }\n",
       "</style>\n",
       "<table border=\"1\" class=\"dataframe\">\n",
       "  <thead>\n",
       "    <tr style=\"text-align: right;\">\n",
       "      <th></th>\n",
       "      <th>repo_id</th>\n",
       "      <th>repo_name</th>\n",
       "      <th>created_at</th>\n",
       "    </tr>\n",
       "  </thead>\n",
       "  <tbody>\n",
       "    <tr>\n",
       "      <th>0</th>\n",
       "      <td>1</td>\n",
       "      <td>mojombo/grit</td>\n",
       "      <td>2020-10-01 11:55:32</td>\n",
       "    </tr>\n",
       "    <tr>\n",
       "      <th>1</th>\n",
       "      <td>27</td>\n",
       "      <td>rubinius/rubinius</td>\n",
       "      <td>2016-01-21 03:07:33</td>\n",
       "    </tr>\n",
       "    <tr>\n",
       "      <th>2</th>\n",
       "      <td>27</td>\n",
       "      <td>rubinius/rubinius</td>\n",
       "      <td>2016-01-21 08:39:55</td>\n",
       "    </tr>\n",
       "    <tr>\n",
       "      <th>3</th>\n",
       "      <td>27</td>\n",
       "      <td>rubinius/rubinius</td>\n",
       "      <td>2016-01-22 09:53:16</td>\n",
       "    </tr>\n",
       "    <tr>\n",
       "      <th>4</th>\n",
       "      <td>27</td>\n",
       "      <td>rubinius/rubinius</td>\n",
       "      <td>2016-01-28 18:04:42</td>\n",
       "    </tr>\n",
       "    <tr>\n",
       "      <th>5</th>\n",
       "      <td>27</td>\n",
       "      <td>rubinius/rubinius</td>\n",
       "      <td>2016-10-09 03:06:09</td>\n",
       "    </tr>\n",
       "    <tr>\n",
       "      <th>6</th>\n",
       "      <td>27</td>\n",
       "      <td>rubinius/rubinius</td>\n",
       "      <td>2016-04-06 12:22:55</td>\n",
       "    </tr>\n",
       "    <tr>\n",
       "      <th>7</th>\n",
       "      <td>27</td>\n",
       "      <td>rubinius/rubinius</td>\n",
       "      <td>2016-07-23 03:55:02</td>\n",
       "    </tr>\n",
       "    <tr>\n",
       "      <th>8</th>\n",
       "      <td>27</td>\n",
       "      <td>rubinius/rubinius</td>\n",
       "      <td>2016-12-29 04:40:36</td>\n",
       "    </tr>\n",
       "    <tr>\n",
       "      <th>9</th>\n",
       "      <td>27</td>\n",
       "      <td>rubinius/rubinius</td>\n",
       "      <td>2016-07-23 03:02:06</td>\n",
       "    </tr>\n",
       "  </tbody>\n",
       "</table>\n",
       "</div>"
      ],
      "text/plain": [
       "   repo_id          repo_name          created_at\n",
       "0        1       mojombo/grit 2020-10-01 11:55:32\n",
       "1       27  rubinius/rubinius 2016-01-21 03:07:33\n",
       "2       27  rubinius/rubinius 2016-01-21 08:39:55\n",
       "3       27  rubinius/rubinius 2016-01-22 09:53:16\n",
       "4       27  rubinius/rubinius 2016-01-28 18:04:42\n",
       "5       27  rubinius/rubinius 2016-10-09 03:06:09\n",
       "6       27  rubinius/rubinius 2016-04-06 12:22:55\n",
       "7       27  rubinius/rubinius 2016-07-23 03:55:02\n",
       "8       27  rubinius/rubinius 2016-12-29 04:40:36\n",
       "9       27  rubinius/rubinius 2016-07-23 03:02:06"
      ]
     },
     "execution_count": 49,
     "metadata": {},
     "output_type": "execute_result"
    }
   ],
   "source": [
    "data = DataFrame(o.get_table(TEMP_TABLE_NAME15_1))\n",
    "data.head(10)"
   ]
  },
  {
   "cell_type": "code",
   "execution_count": 50,
   "id": "87675b22-996e-4532-bfba-f5fd9dacee5b",
   "metadata": {
    "id": "87675b22-996e-4532-bfba-f5fd9dacee5b"
   },
   "outputs": [
    {
     "data": {
      "text/plain": [
       "<Instance 20220520023537816gt2q7om7>"
      ]
     },
     "execution_count": 50,
     "metadata": {},
     "output_type": "execute_result"
    }
   ],
   "source": [
    "TEMP_TABLE_NAME15_2 = 'hx_repo_actor_pull_request_repo_maxdate'\n",
    "drop_sql = '''\n",
    "    DROP TABLE IF EXISTS {TEMP_TABLE_NAME};\n",
    "    CREATE TABLE IF NOT EXISTS {TEMP_TABLE_NAME}\n",
    "    (\n",
    "        repo_id     BIGINT,\n",
    "        created_at    DATETIME\n",
    "    );\n",
    "'''.format(\n",
    "    TEMP_TABLE_NAME=TEMP_TABLE_NAME15_2\n",
    ")\n",
    "o.execute_sql(drop_sql, hints={'odps.sql.allow.fullscan': 'true', 'odps.sql.submit.mode': 'script'})"
   ]
  },
  {
   "cell_type": "code",
   "execution_count": 51,
   "id": "25d7104b-4b4e-431b-9726-8eacd36c4c00",
   "metadata": {
    "id": "25d7104b-4b4e-431b-9726-8eacd36c4c00"
   },
   "outputs": [],
   "source": [
    "sql = '''set odps.sql.validate.orderby.limit=false;\n",
    "        INSERT INTO {TEMP_TABLE_NAME2}\n",
    "        SELECT\n",
    "            repo_id,\n",
    "            MAX(created_at)\n",
    "        FROM {TEMP_TABLE_NAME1}\n",
    "        GROUP BY repo_id\n",
    "        ORDER BY repo_id'''.format(\n",
    "    TEMP_TABLE_NAME1=TEMP_TABLE_NAME15_1,\n",
    "    TEMP_TABLE_NAME2=TEMP_TABLE_NAME15_2\n",
    ")\n",
    "table = o.execute_sql(sql, hints={\"odps.sql.submit.mode\" : \"script\"})"
   ]
  },
  {
   "cell_type": "code",
   "execution_count": 52,
   "id": "1a871ec1-c072-4fbb-b53d-8e4e72638777",
   "metadata": {
    "id": "1a871ec1-c072-4fbb-b53d-8e4e72638777"
   },
   "outputs": [
    {
     "data": {
      "text/html": [
       "<div>\n",
       "<style scoped>\n",
       "    .dataframe tbody tr th:only-of-type {\n",
       "        vertical-align: middle;\n",
       "    }\n",
       "\n",
       "    .dataframe tbody tr th {\n",
       "        vertical-align: top;\n",
       "    }\n",
       "\n",
       "    .dataframe thead th {\n",
       "        text-align: right;\n",
       "    }\n",
       "</style>\n",
       "<table border=\"1\" class=\"dataframe\">\n",
       "  <thead>\n",
       "    <tr style=\"text-align: right;\">\n",
       "      <th></th>\n",
       "      <th>repo_id</th>\n",
       "      <th>created_at</th>\n",
       "    </tr>\n",
       "  </thead>\n",
       "  <tbody>\n",
       "    <tr>\n",
       "      <th>0</th>\n",
       "      <td>1</td>\n",
       "      <td>2020-10-01 11:55:32</td>\n",
       "    </tr>\n",
       "    <tr>\n",
       "      <th>1</th>\n",
       "      <td>27</td>\n",
       "      <td>2020-11-12 05:53:20</td>\n",
       "    </tr>\n",
       "    <tr>\n",
       "      <th>2</th>\n",
       "      <td>28</td>\n",
       "      <td>2017-11-11 06:42:24</td>\n",
       "    </tr>\n",
       "    <tr>\n",
       "      <th>3</th>\n",
       "      <td>35</td>\n",
       "      <td>2016-01-01 12:57:28</td>\n",
       "    </tr>\n",
       "    <tr>\n",
       "      <th>4</th>\n",
       "      <td>43</td>\n",
       "      <td>2017-03-28 08:48:29</td>\n",
       "    </tr>\n",
       "    <tr>\n",
       "      <th>5</th>\n",
       "      <td>68</td>\n",
       "      <td>2021-09-01 11:35:51</td>\n",
       "    </tr>\n",
       "    <tr>\n",
       "      <th>6</th>\n",
       "      <td>130</td>\n",
       "      <td>2021-12-24 14:39:18</td>\n",
       "    </tr>\n",
       "    <tr>\n",
       "      <th>7</th>\n",
       "      <td>131</td>\n",
       "      <td>2021-02-24 09:27:52</td>\n",
       "    </tr>\n",
       "    <tr>\n",
       "      <th>8</th>\n",
       "      <td>142</td>\n",
       "      <td>2020-07-01 00:44:55</td>\n",
       "    </tr>\n",
       "    <tr>\n",
       "      <th>9</th>\n",
       "      <td>144</td>\n",
       "      <td>2020-10-15 18:38:07</td>\n",
       "    </tr>\n",
       "  </tbody>\n",
       "</table>\n",
       "</div>"
      ],
      "text/plain": [
       "   repo_id          created_at\n",
       "0        1 2020-10-01 11:55:32\n",
       "1       27 2020-11-12 05:53:20\n",
       "2       28 2017-11-11 06:42:24\n",
       "3       35 2016-01-01 12:57:28\n",
       "4       43 2017-03-28 08:48:29\n",
       "5       68 2021-09-01 11:35:51\n",
       "6      130 2021-12-24 14:39:18\n",
       "7      131 2021-02-24 09:27:52\n",
       "8      142 2020-07-01 00:44:55\n",
       "9      144 2020-10-15 18:38:07"
      ]
     },
     "execution_count": 52,
     "metadata": {},
     "output_type": "execute_result"
    }
   ],
   "source": [
    "data = DataFrame(o.get_table(TEMP_TABLE_NAME15_2))\n",
    "data.head(10)"
   ]
  },
  {
   "cell_type": "code",
   "execution_count": 53,
   "id": "466dc8ec-5ca8-47d3-8ad6-77f5b4adbcba",
   "metadata": {
    "id": "466dc8ec-5ca8-47d3-8ad6-77f5b4adbcba"
   },
   "outputs": [
    {
     "data": {
      "text/plain": [
       "<Instance 20220520023554807g6v288ms2>"
      ]
     },
     "execution_count": 53,
     "metadata": {},
     "output_type": "execute_result"
    }
   ],
   "source": [
    "TEMP_TABLE_NAME15 = 'hx_repo_actor_birank_pull_repo_newest_repo_name'\n",
    "drop_sql = '''\n",
    "    DROP TABLE IF EXISTS {TEMP_TABLE_NAME};\n",
    "    CREATE TABLE IF NOT EXISTS {TEMP_TABLE_NAME}\n",
    "    (\n",
    "        repo_id     BIGINT,\n",
    "        repo_name    STRING\n",
    "    );\n",
    "'''.format(\n",
    "    TEMP_TABLE_NAME=TEMP_TABLE_NAME15\n",
    ")\n",
    "o.execute_sql(drop_sql, hints={'odps.sql.allow.fullscan': 'true', 'odps.sql.submit.mode': 'script'})"
   ]
  },
  {
   "cell_type": "code",
   "execution_count": 54,
   "id": "081023d6-d600-4f38-a881-c64a6e6f827b",
   "metadata": {
    "id": "081023d6-d600-4f38-a881-c64a6e6f827b"
   },
   "outputs": [],
   "source": [
    "sql = '''set odps.sql.validate.orderby.limit=false;\n",
    "        INSERT INTO {TEMP_TABLE_NAME3}\n",
    "        SELECT\n",
    "            {TEMP_TABLE_NAME2}.repo_id,\n",
    "            repo_name\n",
    "        FROM {TEMP_TABLE_NAME1}, {TEMP_TABLE_NAME2}\n",
    "        WHERE {TEMP_TABLE_NAME1}.repo_id = {TEMP_TABLE_NAME2}.repo_id AND {TEMP_TABLE_NAME1}.created_at = {TEMP_TABLE_NAME2}.created_at\n",
    "        ORDER BY repo_id'''.format(\n",
    "    TEMP_TABLE_NAME1=TEMP_TABLE_NAME15_2,\n",
    "    TEMP_TABLE_NAME2=TEMP_TABLE_NAME15_1,\n",
    "    TEMP_TABLE_NAME3=TEMP_TABLE_NAME15\n",
    ")\n",
    "table = o.execute_sql(sql, hints={\"odps.sql.submit.mode\" : \"script\"})"
   ]
  },
  {
   "cell_type": "code",
   "execution_count": 55,
   "id": "bd25bdd9-6c2c-4df9-b9cc-e562c412549f",
   "metadata": {
    "id": "bd25bdd9-6c2c-4df9-b9cc-e562c412549f"
   },
   "outputs": [
    {
     "data": {
      "text/html": [
       "<div>\n",
       "<style scoped>\n",
       "    .dataframe tbody tr th:only-of-type {\n",
       "        vertical-align: middle;\n",
       "    }\n",
       "\n",
       "    .dataframe tbody tr th {\n",
       "        vertical-align: top;\n",
       "    }\n",
       "\n",
       "    .dataframe thead th {\n",
       "        text-align: right;\n",
       "    }\n",
       "</style>\n",
       "<table border=\"1\" class=\"dataframe\">\n",
       "  <thead>\n",
       "    <tr style=\"text-align: right;\">\n",
       "      <th></th>\n",
       "      <th>repo_id</th>\n",
       "      <th>repo_name</th>\n",
       "    </tr>\n",
       "  </thead>\n",
       "  <tbody>\n",
       "    <tr>\n",
       "      <th>0</th>\n",
       "      <td>1</td>\n",
       "      <td>mojombo/grit</td>\n",
       "    </tr>\n",
       "    <tr>\n",
       "      <th>1</th>\n",
       "      <td>27</td>\n",
       "      <td>rubinius/rubinius</td>\n",
       "    </tr>\n",
       "    <tr>\n",
       "      <th>2</th>\n",
       "      <td>28</td>\n",
       "      <td>mojombo/god</td>\n",
       "    </tr>\n",
       "    <tr>\n",
       "      <th>3</th>\n",
       "      <td>35</td>\n",
       "      <td>defunkt/exception_logger</td>\n",
       "    </tr>\n",
       "    <tr>\n",
       "      <th>4</th>\n",
       "      <td>43</td>\n",
       "      <td>technoweenie/attachment_fu</td>\n",
       "    </tr>\n",
       "    <tr>\n",
       "      <th>5</th>\n",
       "      <td>68</td>\n",
       "      <td>macournoyer/thin</td>\n",
       "    </tr>\n",
       "    <tr>\n",
       "      <th>6</th>\n",
       "      <td>130</td>\n",
       "      <td>ruby-git/ruby-git</td>\n",
       "    </tr>\n",
       "    <tr>\n",
       "      <th>7</th>\n",
       "      <td>131</td>\n",
       "      <td>ezmobius/bmhsearch</td>\n",
       "    </tr>\n",
       "    <tr>\n",
       "      <th>8</th>\n",
       "      <td>142</td>\n",
       "      <td>abhay/calais</td>\n",
       "    </tr>\n",
       "    <tr>\n",
       "      <th>9</th>\n",
       "      <td>144</td>\n",
       "      <td>mojombo/chronic</td>\n",
       "    </tr>\n",
       "  </tbody>\n",
       "</table>\n",
       "</div>"
      ],
      "text/plain": [
       "   repo_id                   repo_name\n",
       "0        1                mojombo/grit\n",
       "1       27           rubinius/rubinius\n",
       "2       28                 mojombo/god\n",
       "3       35    defunkt/exception_logger\n",
       "4       43  technoweenie/attachment_fu\n",
       "5       68            macournoyer/thin\n",
       "6      130           ruby-git/ruby-git\n",
       "7      131          ezmobius/bmhsearch\n",
       "8      142                abhay/calais\n",
       "9      144             mojombo/chronic"
      ]
     },
     "execution_count": 55,
     "metadata": {},
     "output_type": "execute_result"
    }
   ],
   "source": [
    "data = DataFrame(o.get_table(TEMP_TABLE_NAME15))\n",
    "data.head(10)"
   ]
  },
  {
   "cell_type": "markdown",
   "id": "76ad3e63-046d-4e75-acea-3b0d55f44dff",
   "metadata": {
    "id": "76ad3e63-046d-4e75-acea-3b0d55f44dff"
   },
   "source": [
    "actor:id---name"
   ]
  },
  {
   "cell_type": "code",
   "execution_count": 56,
   "id": "89c40a25-80e6-44d7-8d7d-5d7ba9f73ac4",
   "metadata": {
    "id": "89c40a25-80e6-44d7-8d7d-5d7ba9f73ac4"
   },
   "outputs": [
    {
     "data": {
      "text/plain": [
       "<Instance 20220520023620319goh7k963>"
      ]
     },
     "execution_count": 56,
     "metadata": {},
     "output_type": "execute_result"
    }
   ],
   "source": [
    "TEMP_TABLE_NAME16_1 = 'hx_repo_actor_pull_request_actor_withdate'\n",
    "drop_sql = '''\n",
    "    DROP TABLE IF EXISTS {TEMP_TABLE_NAME};\n",
    "    CREATE TABLE IF NOT EXISTS {TEMP_TABLE_NAME}\n",
    "    (\n",
    "        actor_id     BIGINT,\n",
    "        actor_name    STRING,\n",
    "        created_at    DATETIME\n",
    "    );\n",
    "'''.format(\n",
    "    TEMP_TABLE_NAME=TEMP_TABLE_NAME16_1\n",
    ")\n",
    "o.execute_sql(drop_sql, hints={'odps.sql.allow.fullscan': 'true', 'odps.sql.submit.mode': 'script'})"
   ]
  },
  {
   "cell_type": "code",
   "execution_count": 57,
   "id": "9cb73cb7-5702-44b7-ac74-7d0648bc6472",
   "metadata": {
    "id": "9cb73cb7-5702-44b7-ac74-7d0648bc6472"
   },
   "outputs": [],
   "source": [
    "actor_name_sql = '''set odps.sql.validate.orderby.limit=false;\n",
    "        INSERT INTO {TEMP_TABLE_NAME}\n",
    "        SELECT\n",
    "            actor_id,\n",
    "            actor_login,\n",
    "            created_at\n",
    "        FROM ods_github_log\n",
    "        WHERE (type = 'PullRequestEvent') AND (action = 'opened')\n",
    "        AND pt>='20160101'\n",
    "        AND pt<'20220101'\n",
    "        AND actor_id IN (\n",
    "            SELECT actor_id\n",
    "            FROM ods_github_log\n",
    "            WHERE (type = 'PullRequestEvent') AND (action = 'opened')\n",
    "            AND pt>='20160101'\n",
    "            AND pt<'20220101'\n",
    "            GROUP BY actor_id\n",
    "            HAVING COUNT(*) > 10\n",
    "        )\n",
    "        ORDER BY actor_id\n",
    "'''.format(TEMP_TABLE_NAME=TEMP_TABLE_NAME16_1)\n",
    "table = o.execute_sql(actor_name_sql, hints={\"odps.sql.submit.mode\" : \"script\"})"
   ]
  },
  {
   "cell_type": "code",
   "execution_count": 58,
   "id": "677f5c93-9885-4f81-89de-f950967796b4",
   "metadata": {
    "id": "677f5c93-9885-4f81-89de-f950967796b4"
   },
   "outputs": [
    {
     "data": {
      "text/html": [
       "<div>\n",
       "<style scoped>\n",
       "    .dataframe tbody tr th:only-of-type {\n",
       "        vertical-align: middle;\n",
       "    }\n",
       "\n",
       "    .dataframe tbody tr th {\n",
       "        vertical-align: top;\n",
       "    }\n",
       "\n",
       "    .dataframe thead th {\n",
       "        text-align: right;\n",
       "    }\n",
       "</style>\n",
       "<table border=\"1\" class=\"dataframe\">\n",
       "  <thead>\n",
       "    <tr style=\"text-align: right;\">\n",
       "      <th></th>\n",
       "      <th>actor_id</th>\n",
       "      <th>actor_name</th>\n",
       "      <th>created_at</th>\n",
       "    </tr>\n",
       "  </thead>\n",
       "  <tbody>\n",
       "    <tr>\n",
       "      <th>0</th>\n",
       "      <td>1</td>\n",
       "      <td>mojombo</td>\n",
       "      <td>2021-11-05 21:26:21</td>\n",
       "    </tr>\n",
       "    <tr>\n",
       "      <th>1</th>\n",
       "      <td>1</td>\n",
       "      <td>mojombo</td>\n",
       "      <td>2020-02-12 01:06:25</td>\n",
       "    </tr>\n",
       "    <tr>\n",
       "      <th>2</th>\n",
       "      <td>1</td>\n",
       "      <td>mojombo</td>\n",
       "      <td>2018-03-23 05:43:24</td>\n",
       "    </tr>\n",
       "    <tr>\n",
       "      <th>3</th>\n",
       "      <td>1</td>\n",
       "      <td>mojombo</td>\n",
       "      <td>2020-08-25 05:41:10</td>\n",
       "    </tr>\n",
       "    <tr>\n",
       "      <th>4</th>\n",
       "      <td>1</td>\n",
       "      <td>mojombo</td>\n",
       "      <td>2021-11-05 14:49:48</td>\n",
       "    </tr>\n",
       "    <tr>\n",
       "      <th>5</th>\n",
       "      <td>1</td>\n",
       "      <td>mojombo</td>\n",
       "      <td>2016-05-14 14:00:50</td>\n",
       "    </tr>\n",
       "    <tr>\n",
       "      <th>6</th>\n",
       "      <td>1</td>\n",
       "      <td>mojombo</td>\n",
       "      <td>2018-10-19 08:06:24</td>\n",
       "    </tr>\n",
       "    <tr>\n",
       "      <th>7</th>\n",
       "      <td>1</td>\n",
       "      <td>mojombo</td>\n",
       "      <td>2020-08-28 05:51:46</td>\n",
       "    </tr>\n",
       "    <tr>\n",
       "      <th>8</th>\n",
       "      <td>1</td>\n",
       "      <td>mojombo</td>\n",
       "      <td>2017-11-28 14:31:18</td>\n",
       "    </tr>\n",
       "    <tr>\n",
       "      <th>9</th>\n",
       "      <td>1</td>\n",
       "      <td>mojombo</td>\n",
       "      <td>2020-08-01 13:13:20</td>\n",
       "    </tr>\n",
       "  </tbody>\n",
       "</table>\n",
       "</div>"
      ],
      "text/plain": [
       "   actor_id actor_name          created_at\n",
       "0         1    mojombo 2021-11-05 21:26:21\n",
       "1         1    mojombo 2020-02-12 01:06:25\n",
       "2         1    mojombo 2018-03-23 05:43:24\n",
       "3         1    mojombo 2020-08-25 05:41:10\n",
       "4         1    mojombo 2021-11-05 14:49:48\n",
       "5         1    mojombo 2016-05-14 14:00:50\n",
       "6         1    mojombo 2018-10-19 08:06:24\n",
       "7         1    mojombo 2020-08-28 05:51:46\n",
       "8         1    mojombo 2017-11-28 14:31:18\n",
       "9         1    mojombo 2020-08-01 13:13:20"
      ]
     },
     "execution_count": 58,
     "metadata": {},
     "output_type": "execute_result"
    }
   ],
   "source": [
    "data = DataFrame(o.get_table(TEMP_TABLE_NAME16_1))\n",
    "data.head(10)"
   ]
  },
  {
   "cell_type": "code",
   "execution_count": 59,
   "id": "71b9da42-6e91-4879-bf93-839c26cc56b5",
   "metadata": {
    "id": "71b9da42-6e91-4879-bf93-839c26cc56b5"
   },
   "outputs": [
    {
     "data": {
      "text/plain": [
       "<Instance 20220520024136101guaizjm7>"
      ]
     },
     "execution_count": 59,
     "metadata": {},
     "output_type": "execute_result"
    }
   ],
   "source": [
    "TEMP_TABLE_NAME16_2 = 'hx_repo_actor_pull_request_actor_maxdate'\n",
    "drop_sql = '''\n",
    "    DROP TABLE IF EXISTS {TEMP_TABLE_NAME};\n",
    "    CREATE TABLE IF NOT EXISTS {TEMP_TABLE_NAME}\n",
    "    (\n",
    "        actor_id     BIGINT,\n",
    "        max_created_at    DATETIME\n",
    "    );\n",
    "'''.format(\n",
    "    TEMP_TABLE_NAME=TEMP_TABLE_NAME16_2\n",
    ")\n",
    "o.execute_sql(drop_sql, hints={'odps.sql.allow.fullscan': 'true', 'odps.sql.submit.mode': 'script'})"
   ]
  },
  {
   "cell_type": "code",
   "execution_count": 60,
   "id": "fc76386f-73e3-4fd7-a501-078dfce903af",
   "metadata": {
    "id": "fc76386f-73e3-4fd7-a501-078dfce903af"
   },
   "outputs": [],
   "source": [
    "sql = '''set odps.sql.validate.orderby.limit=false;\n",
    "        INSERT INTO {TEMP_TABLE_NAME2}\n",
    "        SELECT\n",
    "            actor_id,\n",
    "            MAX(created_at)\n",
    "        FROM {TEMP_TABLE_NAME1}\n",
    "        GROUP BY actor_id\n",
    "        ORDER BY actor_id'''.format(\n",
    "    TEMP_TABLE_NAME1=TEMP_TABLE_NAME16_1,\n",
    "    TEMP_TABLE_NAME2=TEMP_TABLE_NAME16_2)\n",
    "table = o.execute_sql(sql, hints={\"odps.sql.submit.mode\" : \"script\"})"
   ]
  },
  {
   "cell_type": "code",
   "execution_count": 61,
   "id": "48a29d37-2cef-4c8e-a454-4dc6deb27f34",
   "metadata": {
    "id": "48a29d37-2cef-4c8e-a454-4dc6deb27f34"
   },
   "outputs": [
    {
     "data": {
      "text/html": [
       "<div>\n",
       "<style scoped>\n",
       "    .dataframe tbody tr th:only-of-type {\n",
       "        vertical-align: middle;\n",
       "    }\n",
       "\n",
       "    .dataframe tbody tr th {\n",
       "        vertical-align: top;\n",
       "    }\n",
       "\n",
       "    .dataframe thead th {\n",
       "        text-align: right;\n",
       "    }\n",
       "</style>\n",
       "<table border=\"1\" class=\"dataframe\">\n",
       "  <thead>\n",
       "    <tr style=\"text-align: right;\">\n",
       "      <th></th>\n",
       "      <th>actor_id</th>\n",
       "      <th>max_created_at</th>\n",
       "    </tr>\n",
       "  </thead>\n",
       "  <tbody>\n",
       "    <tr>\n",
       "      <th>0</th>\n",
       "      <td>1</td>\n",
       "      <td>2021-11-10 20:42:36</td>\n",
       "    </tr>\n",
       "    <tr>\n",
       "      <th>1</th>\n",
       "      <td>4</td>\n",
       "      <td>2021-12-24 16:49:02</td>\n",
       "    </tr>\n",
       "    <tr>\n",
       "      <th>2</th>\n",
       "      <td>7</td>\n",
       "      <td>2021-11-30 11:24:43</td>\n",
       "    </tr>\n",
       "    <tr>\n",
       "      <th>3</th>\n",
       "      <td>17</td>\n",
       "      <td>2021-12-29 17:18:32</td>\n",
       "    </tr>\n",
       "    <tr>\n",
       "      <th>4</th>\n",
       "      <td>18</td>\n",
       "      <td>2021-11-30 17:08:37</td>\n",
       "    </tr>\n",
       "    <tr>\n",
       "      <th>5</th>\n",
       "      <td>19</td>\n",
       "      <td>2020-03-05 09:05:54</td>\n",
       "    </tr>\n",
       "    <tr>\n",
       "      <th>6</th>\n",
       "      <td>20</td>\n",
       "      <td>2021-12-26 21:46:04</td>\n",
       "    </tr>\n",
       "    <tr>\n",
       "      <th>7</th>\n",
       "      <td>21</td>\n",
       "      <td>2021-07-04 07:05:05</td>\n",
       "    </tr>\n",
       "    <tr>\n",
       "      <th>8</th>\n",
       "      <td>22</td>\n",
       "      <td>2021-09-17 15:26:29</td>\n",
       "    </tr>\n",
       "    <tr>\n",
       "      <th>9</th>\n",
       "      <td>25</td>\n",
       "      <td>2021-01-08 11:48:43</td>\n",
       "    </tr>\n",
       "  </tbody>\n",
       "</table>\n",
       "</div>"
      ],
      "text/plain": [
       "   actor_id      max_created_at\n",
       "0         1 2021-11-10 20:42:36\n",
       "1         4 2021-12-24 16:49:02\n",
       "2         7 2021-11-30 11:24:43\n",
       "3        17 2021-12-29 17:18:32\n",
       "4        18 2021-11-30 17:08:37\n",
       "5        19 2020-03-05 09:05:54\n",
       "6        20 2021-12-26 21:46:04\n",
       "7        21 2021-07-04 07:05:05\n",
       "8        22 2021-09-17 15:26:29\n",
       "9        25 2021-01-08 11:48:43"
      ]
     },
     "execution_count": 61,
     "metadata": {},
     "output_type": "execute_result"
    }
   ],
   "source": [
    "data = DataFrame(o.get_table(TEMP_TABLE_NAME16_2))\n",
    "data.head(10)"
   ]
  },
  {
   "cell_type": "code",
   "execution_count": 62,
   "id": "9bb27810-0b67-4f44-b324-20f6c2425fd9",
   "metadata": {
    "id": "9bb27810-0b67-4f44-b324-20f6c2425fd9"
   },
   "outputs": [
    {
     "data": {
      "text/plain": [
       "<Instance 20220520024145813gvcyk4pr2>"
      ]
     },
     "execution_count": 62,
     "metadata": {},
     "output_type": "execute_result"
    }
   ],
   "source": [
    "TEMP_TABLE_NAME16 = 'hx_repo_actor_birank_pull_repo_newest_actor_name'\n",
    "drop_sql = '''\n",
    "    DROP TABLE IF EXISTS {TEMP_TABLE_NAME};\n",
    "    CREATE TABLE IF NOT EXISTS {TEMP_TABLE_NAME}\n",
    "    (\n",
    "        actor_id     BIGINT,\n",
    "        actor_name    STRING\n",
    "    );\n",
    "'''.format(\n",
    "    TEMP_TABLE_NAME=TEMP_TABLE_NAME16\n",
    ")\n",
    "o.execute_sql(drop_sql, hints={'odps.sql.allow.fullscan': 'true', 'odps.sql.submit.mode': 'script'})"
   ]
  },
  {
   "cell_type": "code",
   "execution_count": 63,
   "id": "eee43cda-b05c-4bf4-ada6-0b278f22a80c",
   "metadata": {
    "id": "eee43cda-b05c-4bf4-ada6-0b278f22a80c"
   },
   "outputs": [],
   "source": [
    "sql = '''set odps.sql.validate.orderby.limit=false;\n",
    "        INSERT INTO {TEMP_TABLE_NAME3}\n",
    "        SELECT DISTINCT\n",
    "            {TEMP_TABLE_NAME2}.actor_id,\n",
    "            actor_name\n",
    "        FROM {TEMP_TABLE_NAME1}, {TEMP_TABLE_NAME2}\n",
    "        WHERE {TEMP_TABLE_NAME1}.actor_id = {TEMP_TABLE_NAME2}.actor_id AND {TEMP_TABLE_NAME1}.max_created_at = {TEMP_TABLE_NAME2}.created_at\n",
    "        ORDER BY actor_id'''.format(\n",
    "    TEMP_TABLE_NAME1=TEMP_TABLE_NAME16_2,\n",
    "    TEMP_TABLE_NAME2=TEMP_TABLE_NAME16_1,\n",
    "    TEMP_TABLE_NAME3=TEMP_TABLE_NAME16\n",
    ")\n",
    "table = o.execute_sql(sql, hints={\"odps.sql.submit.mode\" : \"script\"})"
   ]
  },
  {
   "cell_type": "code",
   "execution_count": 64,
   "id": "ca22437b-013e-47c3-9fbf-ed0121105cbc",
   "metadata": {
    "id": "ca22437b-013e-47c3-9fbf-ed0121105cbc"
   },
   "outputs": [
    {
     "data": {
      "text/html": [
       "<div>\n",
       "<style scoped>\n",
       "    .dataframe tbody tr th:only-of-type {\n",
       "        vertical-align: middle;\n",
       "    }\n",
       "\n",
       "    .dataframe tbody tr th {\n",
       "        vertical-align: top;\n",
       "    }\n",
       "\n",
       "    .dataframe thead th {\n",
       "        text-align: right;\n",
       "    }\n",
       "</style>\n",
       "<table border=\"1\" class=\"dataframe\">\n",
       "  <thead>\n",
       "    <tr style=\"text-align: right;\">\n",
       "      <th></th>\n",
       "      <th>actor_id</th>\n",
       "      <th>actor_name</th>\n",
       "    </tr>\n",
       "  </thead>\n",
       "  <tbody>\n",
       "    <tr>\n",
       "      <th>0</th>\n",
       "      <td>1</td>\n",
       "      <td>mojombo</td>\n",
       "    </tr>\n",
       "    <tr>\n",
       "      <th>1</th>\n",
       "      <td>4</td>\n",
       "      <td>wycats</td>\n",
       "    </tr>\n",
       "    <tr>\n",
       "      <th>2</th>\n",
       "      <td>7</td>\n",
       "      <td>evanphx</td>\n",
       "    </tr>\n",
       "    <tr>\n",
       "      <th>3</th>\n",
       "      <td>17</td>\n",
       "      <td>vanpelt</td>\n",
       "    </tr>\n",
       "    <tr>\n",
       "      <th>4</th>\n",
       "      <td>18</td>\n",
       "      <td>wayneeseguin</td>\n",
       "    </tr>\n",
       "    <tr>\n",
       "      <th>5</th>\n",
       "      <td>19</td>\n",
       "      <td>brynary</td>\n",
       "    </tr>\n",
       "    <tr>\n",
       "      <th>6</th>\n",
       "      <td>20</td>\n",
       "      <td>kevinclark</td>\n",
       "    </tr>\n",
       "    <tr>\n",
       "      <th>7</th>\n",
       "      <td>21</td>\n",
       "      <td>technoweenie</td>\n",
       "    </tr>\n",
       "    <tr>\n",
       "      <th>8</th>\n",
       "      <td>22</td>\n",
       "      <td>macournoyer</td>\n",
       "    </tr>\n",
       "    <tr>\n",
       "      <th>9</th>\n",
       "      <td>25</td>\n",
       "      <td>caged</td>\n",
       "    </tr>\n",
       "  </tbody>\n",
       "</table>\n",
       "</div>"
      ],
      "text/plain": [
       "   actor_id    actor_name\n",
       "0         1       mojombo\n",
       "1         4        wycats\n",
       "2         7       evanphx\n",
       "3        17       vanpelt\n",
       "4        18  wayneeseguin\n",
       "5        19       brynary\n",
       "6        20    kevinclark\n",
       "7        21  technoweenie\n",
       "8        22   macournoyer\n",
       "9        25         caged"
      ]
     },
     "execution_count": 64,
     "metadata": {},
     "output_type": "execute_result"
    }
   ],
   "source": [
    "data = DataFrame(o.get_table(TEMP_TABLE_NAME16))\n",
    "data.head(10)"
   ]
  },
  {
   "cell_type": "markdown",
   "id": "377e72aa-e163-41aa-bc0f-08d6bc282f0c",
   "metadata": {
    "id": "377e72aa-e163-41aa-bc0f-08d6bc282f0c"
   },
   "source": [
    "TEMP_TABLE_NAME8存放了repo_id---new_repo_id\n",
    "\n",
    "TEMP_TABLE_NAME10存放了actor_id---new_actor_id\n",
    "\n",
    "TEMP_TABLE_NAME15存放了repo_id---repo_name\n",
    "\n",
    "TEMP_TABLE_NAME16存放了actor_id---actor_name\n",
    "\n",
    "TEMP_TABLE_NAME17将存放new_repo_id---repo_name\n",
    "\n",
    "TEMP_TABLE_NAME18将存放new_actor_id---actor_login"
   ]
  },
  {
   "cell_type": "code",
   "execution_count": 65,
   "id": "03ec308c-080d-4a47-885a-1c95a9020398",
   "metadata": {
    "id": "03ec308c-080d-4a47-885a-1c95a9020398"
   },
   "outputs": [
    {
     "data": {
      "text/plain": [
       "<Instance 20220520024201741ghwysa2a>"
      ]
     },
     "execution_count": 65,
     "metadata": {},
     "output_type": "execute_result"
    }
   ],
   "source": [
    "TEMP_TABLE_NAME17 = 'hx_repo_actor_pull_request_new_repoid_name'\n",
    "drop_sql = '''\n",
    "    DROP TABLE IF EXISTS {TEMP_TABLE_NAME};\n",
    "    CREATE TABLE IF NOT EXISTS {TEMP_TABLE_NAME}\n",
    "    (\n",
    "        new_repo_id     BIGINT,\n",
    "        repo_name    STRING\n",
    "    );\n",
    "'''.format(\n",
    "    TEMP_TABLE_NAME=TEMP_TABLE_NAME17\n",
    ")\n",
    "o.execute_sql(drop_sql, hints={'odps.sql.allow.fullscan': 'true', 'odps.sql.submit.mode': 'script'})"
   ]
  },
  {
   "cell_type": "code",
   "execution_count": 66,
   "id": "9e5dbd35-f4ec-4ec3-829c-ef49bb85e575",
   "metadata": {
    "id": "9e5dbd35-f4ec-4ec3-829c-ef49bb85e575"
   },
   "outputs": [],
   "source": [
    "repo_newid_name_sql = '''set odps.sql.validate.orderby.limit=false;\n",
    "    INSERT INTO {TEMP_TABLE_NAME3}\n",
    "    SELECT DISTINCT new_repo_id, repo_name\n",
    "    FROM {TEMP_TABLE_NAME1}, {TEMP_TABLE_NAME2}\n",
    "    WHERE {TEMP_TABLE_NAME1}.repo_id = {TEMP_TABLE_NAME2}.repo_id\n",
    "    ORDER BY new_repo_id\n",
    "'''.format(\n",
    "    TEMP_TABLE_NAME1=TEMP_TABLE_NAME8,\n",
    "    TEMP_TABLE_NAME2=TEMP_TABLE_NAME15,\n",
    "    TEMP_TABLE_NAME3=TEMP_TABLE_NAME17\n",
    ")\n",
    "table = o.execute_sql(repo_newid_name_sql, hints={\"odps.sql.submit.mode\" : \"script\"})"
   ]
  },
  {
   "cell_type": "code",
   "execution_count": 67,
   "id": "d2a2f02b-e061-489e-a152-665bd88f8077",
   "metadata": {
    "id": "d2a2f02b-e061-489e-a152-665bd88f8077"
   },
   "outputs": [
    {
     "data": {
      "text/html": [
       "<div>\n",
       "<style scoped>\n",
       "    .dataframe tbody tr th:only-of-type {\n",
       "        vertical-align: middle;\n",
       "    }\n",
       "\n",
       "    .dataframe tbody tr th {\n",
       "        vertical-align: top;\n",
       "    }\n",
       "\n",
       "    .dataframe thead th {\n",
       "        text-align: right;\n",
       "    }\n",
       "</style>\n",
       "<table border=\"1\" class=\"dataframe\">\n",
       "  <thead>\n",
       "    <tr style=\"text-align: right;\">\n",
       "      <th></th>\n",
       "      <th>new_repo_id</th>\n",
       "      <th>repo_name</th>\n",
       "    </tr>\n",
       "  </thead>\n",
       "  <tbody>\n",
       "    <tr>\n",
       "      <th>0</th>\n",
       "      <td>0</td>\n",
       "      <td>mojombo/grit</td>\n",
       "    </tr>\n",
       "    <tr>\n",
       "      <th>1</th>\n",
       "      <td>1</td>\n",
       "      <td>rubinius/rubinius</td>\n",
       "    </tr>\n",
       "    <tr>\n",
       "      <th>2</th>\n",
       "      <td>2</td>\n",
       "      <td>mojombo/god</td>\n",
       "    </tr>\n",
       "    <tr>\n",
       "      <th>3</th>\n",
       "      <td>3</td>\n",
       "      <td>defunkt/exception_logger</td>\n",
       "    </tr>\n",
       "    <tr>\n",
       "      <th>4</th>\n",
       "      <td>4</td>\n",
       "      <td>technoweenie/attachment_fu</td>\n",
       "    </tr>\n",
       "    <tr>\n",
       "      <th>5</th>\n",
       "      <td>5</td>\n",
       "      <td>macournoyer/thin</td>\n",
       "    </tr>\n",
       "    <tr>\n",
       "      <th>6</th>\n",
       "      <td>6</td>\n",
       "      <td>ruby-git/ruby-git</td>\n",
       "    </tr>\n",
       "    <tr>\n",
       "      <th>7</th>\n",
       "      <td>7</td>\n",
       "      <td>ezmobius/bmhsearch</td>\n",
       "    </tr>\n",
       "    <tr>\n",
       "      <th>8</th>\n",
       "      <td>8</td>\n",
       "      <td>abhay/calais</td>\n",
       "    </tr>\n",
       "    <tr>\n",
       "      <th>9</th>\n",
       "      <td>9</td>\n",
       "      <td>mojombo/chronic</td>\n",
       "    </tr>\n",
       "  </tbody>\n",
       "</table>\n",
       "</div>"
      ],
      "text/plain": [
       "   new_repo_id                   repo_name\n",
       "0            0                mojombo/grit\n",
       "1            1           rubinius/rubinius\n",
       "2            2                 mojombo/god\n",
       "3            3    defunkt/exception_logger\n",
       "4            4  technoweenie/attachment_fu\n",
       "5            5            macournoyer/thin\n",
       "6            6           ruby-git/ruby-git\n",
       "7            7          ezmobius/bmhsearch\n",
       "8            8                abhay/calais\n",
       "9            9             mojombo/chronic"
      ]
     },
     "execution_count": 67,
     "metadata": {},
     "output_type": "execute_result"
    }
   ],
   "source": [
    "data = DataFrame(o.get_table(TEMP_TABLE_NAME17))\n",
    "data.head(10)"
   ]
  },
  {
   "cell_type": "code",
   "execution_count": 68,
   "id": "a79abfa6-b332-429d-a9dc-2a3e674e4750",
   "metadata": {
    "id": "a79abfa6-b332-429d-a9dc-2a3e674e4750"
   },
   "outputs": [
    {
     "data": {
      "text/html": [
       "<div>\n",
       "<style scoped>\n",
       "    .dataframe tbody tr th:only-of-type {\n",
       "        vertical-align: middle;\n",
       "    }\n",
       "\n",
       "    .dataframe tbody tr th {\n",
       "        vertical-align: top;\n",
       "    }\n",
       "\n",
       "    .dataframe thead th {\n",
       "        text-align: right;\n",
       "    }\n",
       "</style>\n",
       "<table border=\"1\" class=\"dataframe\">\n",
       "  <thead>\n",
       "    <tr style=\"text-align: right;\">\n",
       "      <th></th>\n",
       "      <th>new_repo_id</th>\n",
       "      <th>repo_name</th>\n",
       "    </tr>\n",
       "  </thead>\n",
       "  <tbody>\n",
       "    <tr>\n",
       "      <th>0</th>\n",
       "      <td>0</td>\n",
       "      <td>mojombo/grit</td>\n",
       "    </tr>\n",
       "    <tr>\n",
       "      <th>1</th>\n",
       "      <td>1</td>\n",
       "      <td>rubinius/rubinius</td>\n",
       "    </tr>\n",
       "    <tr>\n",
       "      <th>2</th>\n",
       "      <td>2</td>\n",
       "      <td>mojombo/god</td>\n",
       "    </tr>\n",
       "    <tr>\n",
       "      <th>3</th>\n",
       "      <td>3</td>\n",
       "      <td>defunkt/exception_logger</td>\n",
       "    </tr>\n",
       "    <tr>\n",
       "      <th>4</th>\n",
       "      <td>4</td>\n",
       "      <td>technoweenie/attachment_fu</td>\n",
       "    </tr>\n",
       "  </tbody>\n",
       "</table>\n",
       "</div>"
      ],
      "text/plain": [
       "   new_repo_id                   repo_name\n",
       "0            0                mojombo/grit\n",
       "1            1           rubinius/rubinius\n",
       "2            2                 mojombo/god\n",
       "3            3    defunkt/exception_logger\n",
       "4            4  technoweenie/attachment_fu"
      ]
     },
     "execution_count": 68,
     "metadata": {},
     "output_type": "execute_result"
    }
   ],
   "source": [
    "pd_repo_newid_name = data.to_pandas()\n",
    "pd_repo_newid_name.head()"
   ]
  },
  {
   "cell_type": "code",
   "execution_count": 69,
   "id": "7784670a-9403-4586-9151-35ccbb0e11c3",
   "metadata": {
    "id": "7784670a-9403-4586-9151-35ccbb0e11c3"
   },
   "outputs": [
    {
     "data": {
      "text/plain": [
       "<Instance 20220520024448283g4ned9o7>"
      ]
     },
     "execution_count": 69,
     "metadata": {},
     "output_type": "execute_result"
    }
   ],
   "source": [
    "TEMP_TABLE_NAME18 = 'hx_repo_actor_pull_request_new_actorid_name'\n",
    "drop_sql = '''\n",
    "    DROP TABLE IF EXISTS {TEMP_TABLE_NAME};\n",
    "    CREATE TABLE IF NOT EXISTS {TEMP_TABLE_NAME}\n",
    "    (\n",
    "        new_actor_id     BIGINT,\n",
    "        actor_name    STRING\n",
    "    );\n",
    "'''.format(\n",
    "    TEMP_TABLE_NAME=TEMP_TABLE_NAME18\n",
    ")\n",
    "o.execute_sql(drop_sql, hints={'odps.sql.allow.fullscan': 'true', 'odps.sql.submit.mode': 'script'})"
   ]
  },
  {
   "cell_type": "code",
   "execution_count": 70,
   "id": "3a3bea19-99e9-4c4b-8009-a64b26066e97",
   "metadata": {
    "id": "3a3bea19-99e9-4c4b-8009-a64b26066e97"
   },
   "outputs": [],
   "source": [
    "actor_newid_name_sql = '''set odps.sql.validate.orderby.limit=false;\n",
    "    INSERT INTO {TEMP_TABLE_NAME3}\n",
    "    SELECT DISTINCT new_actor_id, actor_name\n",
    "    FROM {TEMP_TABLE_NAME1}, {TEMP_TABLE_NAME2}\n",
    "    WHERE {TEMP_TABLE_NAME1}.actor_id = {TEMP_TABLE_NAME2}.actor_id\n",
    "    ORDER BY new_actor_id\n",
    "'''.format(\n",
    "    TEMP_TABLE_NAME1=TEMP_TABLE_NAME10,\n",
    "    TEMP_TABLE_NAME2=TEMP_TABLE_NAME16,\n",
    "    TEMP_TABLE_NAME3=TEMP_TABLE_NAME18\n",
    ")\n",
    "table = o.execute_sql(actor_newid_name_sql, hints={\"odps.sql.submit.mode\" : \"script\"})"
   ]
  },
  {
   "cell_type": "code",
   "execution_count": 71,
   "id": "e95f23ca-c1c7-4447-bd14-9623f60938b7",
   "metadata": {
    "id": "e95f23ca-c1c7-4447-bd14-9623f60938b7"
   },
   "outputs": [
    {
     "data": {
      "text/html": [
       "<div>\n",
       "<style scoped>\n",
       "    .dataframe tbody tr th:only-of-type {\n",
       "        vertical-align: middle;\n",
       "    }\n",
       "\n",
       "    .dataframe tbody tr th {\n",
       "        vertical-align: top;\n",
       "    }\n",
       "\n",
       "    .dataframe thead th {\n",
       "        text-align: right;\n",
       "    }\n",
       "</style>\n",
       "<table border=\"1\" class=\"dataframe\">\n",
       "  <thead>\n",
       "    <tr style=\"text-align: right;\">\n",
       "      <th></th>\n",
       "      <th>new_actor_id</th>\n",
       "      <th>actor_name</th>\n",
       "    </tr>\n",
       "  </thead>\n",
       "  <tbody>\n",
       "    <tr>\n",
       "      <th>0</th>\n",
       "      <td>0</td>\n",
       "      <td>mojombo</td>\n",
       "    </tr>\n",
       "    <tr>\n",
       "      <th>1</th>\n",
       "      <td>1</td>\n",
       "      <td>wycats</td>\n",
       "    </tr>\n",
       "    <tr>\n",
       "      <th>2</th>\n",
       "      <td>2</td>\n",
       "      <td>evanphx</td>\n",
       "    </tr>\n",
       "    <tr>\n",
       "      <th>3</th>\n",
       "      <td>3</td>\n",
       "      <td>vanpelt</td>\n",
       "    </tr>\n",
       "    <tr>\n",
       "      <th>4</th>\n",
       "      <td>4</td>\n",
       "      <td>wayneeseguin</td>\n",
       "    </tr>\n",
       "    <tr>\n",
       "      <th>5</th>\n",
       "      <td>5</td>\n",
       "      <td>brynary</td>\n",
       "    </tr>\n",
       "    <tr>\n",
       "      <th>6</th>\n",
       "      <td>6</td>\n",
       "      <td>kevinclark</td>\n",
       "    </tr>\n",
       "    <tr>\n",
       "      <th>7</th>\n",
       "      <td>7</td>\n",
       "      <td>technoweenie</td>\n",
       "    </tr>\n",
       "    <tr>\n",
       "      <th>8</th>\n",
       "      <td>8</td>\n",
       "      <td>macournoyer</td>\n",
       "    </tr>\n",
       "    <tr>\n",
       "      <th>9</th>\n",
       "      <td>9</td>\n",
       "      <td>caged</td>\n",
       "    </tr>\n",
       "  </tbody>\n",
       "</table>\n",
       "</div>"
      ],
      "text/plain": [
       "   new_actor_id    actor_name\n",
       "0             0       mojombo\n",
       "1             1        wycats\n",
       "2             2       evanphx\n",
       "3             3       vanpelt\n",
       "4             4  wayneeseguin\n",
       "5             5       brynary\n",
       "6             6    kevinclark\n",
       "7             7  technoweenie\n",
       "8             8   macournoyer\n",
       "9             9         caged"
      ]
     },
     "execution_count": 71,
     "metadata": {},
     "output_type": "execute_result"
    }
   ],
   "source": [
    "data = DataFrame(o.get_table(TEMP_TABLE_NAME18))\n",
    "data.head(10)"
   ]
  },
  {
   "cell_type": "code",
   "execution_count": 72,
   "id": "d0d8eb73-5b10-46f3-8c52-bbe01574f257",
   "metadata": {
    "id": "d0d8eb73-5b10-46f3-8c52-bbe01574f257"
   },
   "outputs": [
    {
     "data": {
      "text/html": [
       "<div>\n",
       "<style scoped>\n",
       "    .dataframe tbody tr th:only-of-type {\n",
       "        vertical-align: middle;\n",
       "    }\n",
       "\n",
       "    .dataframe tbody tr th {\n",
       "        vertical-align: top;\n",
       "    }\n",
       "\n",
       "    .dataframe thead th {\n",
       "        text-align: right;\n",
       "    }\n",
       "</style>\n",
       "<table border=\"1\" class=\"dataframe\">\n",
       "  <thead>\n",
       "    <tr style=\"text-align: right;\">\n",
       "      <th></th>\n",
       "      <th>new_actor_id</th>\n",
       "      <th>actor_name</th>\n",
       "    </tr>\n",
       "  </thead>\n",
       "  <tbody>\n",
       "    <tr>\n",
       "      <th>0</th>\n",
       "      <td>0</td>\n",
       "      <td>mojombo</td>\n",
       "    </tr>\n",
       "    <tr>\n",
       "      <th>1</th>\n",
       "      <td>1</td>\n",
       "      <td>wycats</td>\n",
       "    </tr>\n",
       "    <tr>\n",
       "      <th>2</th>\n",
       "      <td>2</td>\n",
       "      <td>evanphx</td>\n",
       "    </tr>\n",
       "    <tr>\n",
       "      <th>3</th>\n",
       "      <td>3</td>\n",
       "      <td>vanpelt</td>\n",
       "    </tr>\n",
       "    <tr>\n",
       "      <th>4</th>\n",
       "      <td>4</td>\n",
       "      <td>wayneeseguin</td>\n",
       "    </tr>\n",
       "  </tbody>\n",
       "</table>\n",
       "</div>"
      ],
      "text/plain": [
       "   new_actor_id    actor_name\n",
       "0             0       mojombo\n",
       "1             1        wycats\n",
       "2             2       evanphx\n",
       "3             3       vanpelt\n",
       "4             4  wayneeseguin"
      ]
     },
     "execution_count": 72,
     "metadata": {},
     "output_type": "execute_result"
    }
   ],
   "source": [
    "pd_actor_newid_name = data.to_pandas()\n",
    "pd_actor_newid_name.head()"
   ]
  },
  {
   "cell_type": "markdown",
   "id": "a5008163-70a0-4f3d-8de7-881f5bbb3e26",
   "metadata": {
    "id": "a5008163-70a0-4f3d-8de7-881f5bbb3e26"
   },
   "source": [
    "pd_repo_newid_name存放了new_repo_id---repo_name的pd.df\n",
    "\n",
    "pd_actor_newid_name存放了new_actor_id---actor_name的pd.df"
   ]
  },
  {
   "cell_type": "markdown",
   "id": "09cb6597",
   "metadata": {
    "id": "09cb6597"
   },
   "source": [
    "### 以下为构建的burstbirank算法部分"
   ]
  },
  {
   "cell_type": "code",
   "execution_count": 73,
   "id": "f1ec0fcf-8de7-4d00-a541-83b96773ebd5",
   "metadata": {
    "id": "f1ec0fcf-8de7-4d00-a541-83b96773ebd5"
   },
   "outputs": [],
   "source": [
    "import numpy as np\n",
    "import scipy\n",
    "import scipy.sparse as spa\n",
    "# 为了不破坏new_pd_data原始数据，这里用test_data作为new_pd_data的副本加入运算\n",
    "test_data = new_pd_data.copy()\n",
    "row = test_data['new_actor_id'].values\n",
    "col = test_data['new_repo_id'].values\n",
    "# data = test_data['weight'].values\n",
    "data=[1]*len(test_data['weight'])\n",
    "# Weight矩阵是大小为Actors*Repos的稀疏矩阵,没有对应weight值的地方全为0\n",
    "Weight = spa.coo_matrix((data,(row,col)))\n",
    "# print(Weight.min())\n",
    "# print(Weight.max())\n",
    "# print(type(Weight))"
   ]
  },
  {
   "cell_type": "code",
   "execution_count": 74,
   "id": "8cf87554",
   "metadata": {
    "id": "8cf87554"
   },
   "outputs": [
    {
     "name": "stdout",
     "output_type": "stream",
     "text": [
      "1347313\n",
      "<class 'numpy.ndarray'>\n",
      "[ 1 33  6 ...  1  1  1]\n"
     ]
    }
   ],
   "source": [
    "# Degree_a、Degree_r分别代表Actors和Repos对应的的度列表\n",
    "Degree_a = actor_degree_pd_data['actor_degree'].values\n",
    "print(len(Degree_a))\n",
    "print(type(Degree_a))\n",
    "Degree_r = repo_degree_pd_data['repo_degree'].values\n",
    "print(Degree_r)"
   ]
  },
  {
   "cell_type": "code",
   "execution_count": 75,
   "id": "4f682fcb",
   "metadata": {
    "id": "4f682fcb"
   },
   "outputs": [],
   "source": [
    "def burstbirank(W,Da,Dr,alpha=0.85,beta=0.85,max_iter=200,tol=1.0e-4,verbose=False):\n",
    "    '''\n",
    "    输入:\n",
    "        W::scipy's sparse matrix:Actors*Repos二分图网络的邻接矩阵\n",
    "        Da::list:Actors的度列表\n",
    "        Dr::list:Repos的度列表\n",
    "        alpha, beta::float:超参数\n",
    "        max_iter::int:最大迭代次数\n",
    "        tol::float:检查收敛性的容错度\n",
    "        verbose::boolean:运行时是否打印迭代信息\n",
    "    输出:\n",
    "        a, r::numpy.ndarray:Actor和Repos的burstbirank的值\n",
    "    '''\n",
    "    # W为A*R的矩阵,WT为R*A\n",
    "    W = W.astype('float', copy=False)\n",
    "    WT=W.T\n",
    "    # Da_bi代表对角线元素为actor度平方根的倒数的对角矩阵,Dr_bi代表对角线元素为repo度平方根的倒数的对角矩阵\n",
    "    # Sr代表Dr_bi*WT*Da_bi,Sa代表Da_bi*W*Dr_bi\n",
    "    \n",
    "    Da_bi=spa.diags(1/scipy.sqrt(Da))\n",
    "    Dr_bi=spa.diags(1/scipy.sqrt(Dr))\n",
    "    # print(Dr_bi.shape)\n",
    "    # print(WT.shape)\n",
    "    # print(Da_bi.shape)\n",
    "    Sr=Dr_bi.dot(WT).dot(Da_bi)\n",
    "    Sa=Sr.T\n",
    "    # 随机初始化a0,r0\n",
    "    a0 = np.repeat(1/len(Da),len(Da))\n",
    "    r0 = np.repeat(1/len(Dr),len(Dr))\n",
    "    a_last=a0.copy()\n",
    "    r_last=r0.copy()\n",
    "    end=0\n",
    "    for i in range(max_iter):\n",
    "        r = alpha * (Sr.dot(a_last)) + (1-alpha) * r0\n",
    "        a = beta * (Sa.dot(r_last)) + (1-beta) * a0\n",
    "        err_r=np.absolute(r-r_last).sum()\n",
    "        err_a=np.absolute(a-a_last).sum()\n",
    "        if verbose:\n",
    "            print(\n",
    "                \"Iteration : {}; actor error: {}; repo error: {}\".format(i, err_a, err_r)\n",
    "            )\n",
    "        if err_r < tol and err_a < tol:\n",
    "            break\n",
    "        a_last=a\n",
    "        r_last=r\n",
    "        end=i\n",
    "    print(end)\n",
    "    return a,r"
   ]
  },
  {
   "cell_type": "code",
   "execution_count": 76,
   "id": "f383e3b9",
   "metadata": {
    "id": "f383e3b9"
   },
   "outputs": [
    {
     "name": "stderr",
     "output_type": "stream",
     "text": [
      "C:\\Users\\hp\\AppData\\Local\\Temp/ipykernel_10792/2916817495.py:20: DeprecationWarning: scipy.sqrt is deprecated and will be removed in SciPy 2.0.0, use numpy.lib.scimath.sqrt instead\n",
      "  Da_bi=spa.diags(1/scipy.sqrt(Da))\n",
      "C:\\Users\\hp\\AppData\\Local\\Temp/ipykernel_10792/2916817495.py:21: DeprecationWarning: scipy.sqrt is deprecated and will be removed in SciPy 2.0.0, use numpy.lib.scimath.sqrt instead\n",
      "  Dr_bi=spa.diags(1/scipy.sqrt(Dr))\n"
     ]
    },
    {
     "name": "stdout",
     "output_type": "stream",
     "text": [
      "57\n"
     ]
    }
   ],
   "source": [
    "actor_value,repo_value=burstbirank(Weight,Degree_a,Degree_r)"
   ]
  },
  {
   "cell_type": "code",
   "execution_count": 77,
   "id": "24553590",
   "metadata": {
    "id": "24553590"
   },
   "outputs": [
    {
     "name": "stdout",
     "output_type": "stream",
     "text": [
      "1026966\n",
      "414972\n"
     ]
    }
   ],
   "source": [
    "# 先看看最大的\n",
    "print(np.argmax(repo_value))  #横着比较，返回列号\n",
    "print(np.argmax(actor_value))  #横着比较，返回列号"
   ]
  },
  {
   "cell_type": "code",
   "execution_count": 78,
   "id": "34c23fc8",
   "metadata": {
    "id": "34c23fc8"
   },
   "outputs": [
    {
     "data": {
      "text/html": [
       "<div>\n",
       "<style scoped>\n",
       "    .dataframe tbody tr th:only-of-type {\n",
       "        vertical-align: middle;\n",
       "    }\n",
       "\n",
       "    .dataframe tbody tr th {\n",
       "        vertical-align: top;\n",
       "    }\n",
       "\n",
       "    .dataframe thead th {\n",
       "        text-align: right;\n",
       "    }\n",
       "</style>\n",
       "<table border=\"1\" class=\"dataframe\">\n",
       "  <thead>\n",
       "    <tr style=\"text-align: right;\">\n",
       "      <th></th>\n",
       "      <th>repo_value</th>\n",
       "    </tr>\n",
       "  </thead>\n",
       "  <tbody>\n",
       "    <tr>\n",
       "      <th>0</th>\n",
       "      <td>1.268755e-07</td>\n",
       "    </tr>\n",
       "    <tr>\n",
       "      <th>1</th>\n",
       "      <td>5.554472e-07</td>\n",
       "    </tr>\n",
       "    <tr>\n",
       "      <th>2</th>\n",
       "      <td>2.652210e-07</td>\n",
       "    </tr>\n",
       "    <tr>\n",
       "      <th>3</th>\n",
       "      <td>1.096272e-07</td>\n",
       "    </tr>\n",
       "    <tr>\n",
       "      <th>4</th>\n",
       "      <td>9.181478e-08</td>\n",
       "    </tr>\n",
       "  </tbody>\n",
       "</table>\n",
       "</div>"
      ],
      "text/plain": [
       "     repo_value\n",
       "0  1.268755e-07\n",
       "1  5.554472e-07\n",
       "2  2.652210e-07\n",
       "3  1.096272e-07\n",
       "4  9.181478e-08"
      ]
     },
     "execution_count": 78,
     "metadata": {},
     "output_type": "execute_result"
    }
   ],
   "source": [
    "repo_value_list = repo_value.tolist()\n",
    "repo = {'repo_value': repo_value_list}\n",
    "repo_info = pd.DataFrame(repo)\n",
    "repo_info.head(5)"
   ]
  },
  {
   "cell_type": "code",
   "execution_count": 79,
   "id": "b3a4a2a4",
   "metadata": {
    "id": "b3a4a2a4"
   },
   "outputs": [
    {
     "data": {
      "text/html": [
       "<div>\n",
       "<style scoped>\n",
       "    .dataframe tbody tr th:only-of-type {\n",
       "        vertical-align: middle;\n",
       "    }\n",
       "\n",
       "    .dataframe tbody tr th {\n",
       "        vertical-align: top;\n",
       "    }\n",
       "\n",
       "    .dataframe thead th {\n",
       "        text-align: right;\n",
       "    }\n",
       "</style>\n",
       "<table border=\"1\" class=\"dataframe\">\n",
       "  <thead>\n",
       "    <tr style=\"text-align: right;\">\n",
       "      <th></th>\n",
       "      <th>repo_value</th>\n",
       "      <th>new_repo_id</th>\n",
       "      <th>rank</th>\n",
       "    </tr>\n",
       "  </thead>\n",
       "  <tbody>\n",
       "    <tr>\n",
       "      <th>0</th>\n",
       "      <td>0.000014</td>\n",
       "      <td>1026966</td>\n",
       "      <td>1</td>\n",
       "    </tr>\n",
       "    <tr>\n",
       "      <th>1</th>\n",
       "      <td>0.000012</td>\n",
       "      <td>139313</td>\n",
       "      <td>2</td>\n",
       "    </tr>\n",
       "    <tr>\n",
       "      <th>2</th>\n",
       "      <td>0.000011</td>\n",
       "      <td>59756</td>\n",
       "      <td>3</td>\n",
       "    </tr>\n",
       "    <tr>\n",
       "      <th>3</th>\n",
       "      <td>0.000008</td>\n",
       "      <td>14527</td>\n",
       "      <td>4</td>\n",
       "    </tr>\n",
       "    <tr>\n",
       "      <th>4</th>\n",
       "      <td>0.000007</td>\n",
       "      <td>7874763</td>\n",
       "      <td>5</td>\n",
       "    </tr>\n",
       "    <tr>\n",
       "      <th>5</th>\n",
       "      <td>0.000007</td>\n",
       "      <td>600362</td>\n",
       "      <td>6</td>\n",
       "    </tr>\n",
       "    <tr>\n",
       "      <th>6</th>\n",
       "      <td>0.000007</td>\n",
       "      <td>1137269</td>\n",
       "      <td>7</td>\n",
       "    </tr>\n",
       "    <tr>\n",
       "      <th>7</th>\n",
       "      <td>0.000007</td>\n",
       "      <td>2001869</td>\n",
       "      <td>8</td>\n",
       "    </tr>\n",
       "    <tr>\n",
       "      <th>8</th>\n",
       "      <td>0.000007</td>\n",
       "      <td>38099</td>\n",
       "      <td>9</td>\n",
       "    </tr>\n",
       "    <tr>\n",
       "      <th>9</th>\n",
       "      <td>0.000007</td>\n",
       "      <td>252316</td>\n",
       "      <td>10</td>\n",
       "    </tr>\n",
       "  </tbody>\n",
       "</table>\n",
       "</div>"
      ],
      "text/plain": [
       "   repo_value  new_repo_id  rank\n",
       "0    0.000014      1026966     1\n",
       "1    0.000012       139313     2\n",
       "2    0.000011        59756     3\n",
       "3    0.000008        14527     4\n",
       "4    0.000007      7874763     5\n",
       "5    0.000007       600362     6\n",
       "6    0.000007      1137269     7\n",
       "7    0.000007      2001869     8\n",
       "8    0.000007        38099     9\n",
       "9    0.000007       252316    10"
      ]
     },
     "execution_count": 79,
     "metadata": {},
     "output_type": "execute_result"
    }
   ],
   "source": [
    "repo_info.sort_values(by=\"repo_value\" , inplace=True, ascending=False) \n",
    "repo_info['new_repo_id'] = repo_info.index\n",
    "repo_info = repo_info.reset_index(drop=True)\n",
    "repo_info['rank'] = repo_info.index+1\n",
    "repo_info.head(10)\n"
   ]
  },
  {
   "cell_type": "code",
   "execution_count": 80,
   "id": "db0150dc",
   "metadata": {
    "id": "db0150dc"
   },
   "outputs": [
    {
     "data": {
      "text/html": [
       "<div>\n",
       "<style scoped>\n",
       "    .dataframe tbody tr th:only-of-type {\n",
       "        vertical-align: middle;\n",
       "    }\n",
       "\n",
       "    .dataframe tbody tr th {\n",
       "        vertical-align: top;\n",
       "    }\n",
       "\n",
       "    .dataframe thead th {\n",
       "        text-align: right;\n",
       "    }\n",
       "</style>\n",
       "<table border=\"1\" class=\"dataframe\">\n",
       "  <thead>\n",
       "    <tr style=\"text-align: right;\">\n",
       "      <th></th>\n",
       "      <th>actor_value</th>\n",
       "      <th>new_actor_id</th>\n",
       "      <th>rank</th>\n",
       "    </tr>\n",
       "  </thead>\n",
       "  <tbody>\n",
       "    <tr>\n",
       "      <th>0</th>\n",
       "      <td>0.000067</td>\n",
       "      <td>414972</td>\n",
       "      <td>1</td>\n",
       "    </tr>\n",
       "    <tr>\n",
       "      <th>1</th>\n",
       "      <td>0.000012</td>\n",
       "      <td>673689</td>\n",
       "      <td>2</td>\n",
       "    </tr>\n",
       "    <tr>\n",
       "      <th>2</th>\n",
       "      <td>0.000011</td>\n",
       "      <td>361520</td>\n",
       "      <td>3</td>\n",
       "    </tr>\n",
       "    <tr>\n",
       "      <th>3</th>\n",
       "      <td>0.000010</td>\n",
       "      <td>334816</td>\n",
       "      <td>4</td>\n",
       "    </tr>\n",
       "    <tr>\n",
       "      <th>4</th>\n",
       "      <td>0.000009</td>\n",
       "      <td>1142911</td>\n",
       "      <td>5</td>\n",
       "    </tr>\n",
       "    <tr>\n",
       "      <th>5</th>\n",
       "      <td>0.000006</td>\n",
       "      <td>595188</td>\n",
       "      <td>6</td>\n",
       "    </tr>\n",
       "    <tr>\n",
       "      <th>6</th>\n",
       "      <td>0.000006</td>\n",
       "      <td>1014261</td>\n",
       "      <td>7</td>\n",
       "    </tr>\n",
       "    <tr>\n",
       "      <th>7</th>\n",
       "      <td>0.000006</td>\n",
       "      <td>571640</td>\n",
       "      <td>8</td>\n",
       "    </tr>\n",
       "    <tr>\n",
       "      <th>8</th>\n",
       "      <td>0.000006</td>\n",
       "      <td>1065468</td>\n",
       "      <td>9</td>\n",
       "    </tr>\n",
       "    <tr>\n",
       "      <th>9</th>\n",
       "      <td>0.000006</td>\n",
       "      <td>315487</td>\n",
       "      <td>10</td>\n",
       "    </tr>\n",
       "  </tbody>\n",
       "</table>\n",
       "</div>"
      ],
      "text/plain": [
       "   actor_value  new_actor_id  rank\n",
       "0     0.000067        414972     1\n",
       "1     0.000012        673689     2\n",
       "2     0.000011        361520     3\n",
       "3     0.000010        334816     4\n",
       "4     0.000009       1142911     5\n",
       "5     0.000006        595188     6\n",
       "6     0.000006       1014261     7\n",
       "7     0.000006        571640     8\n",
       "8     0.000006       1065468     9\n",
       "9     0.000006        315487    10"
      ]
     },
     "execution_count": 80,
     "metadata": {},
     "output_type": "execute_result"
    }
   ],
   "source": [
    "actor_value_list = actor_value.tolist()\n",
    "actor = {'actor_value': actor_value_list}\n",
    "actor_info = pd.DataFrame(actor)\n",
    "actor_info.sort_values(by=\"actor_value\" , inplace=True, ascending=False) \n",
    "actor_info['new_actor_id'] = actor_info.index\n",
    "actor_info = actor_info.reset_index(drop=True)\n",
    "actor_info['rank'] = actor_info.index+1\n",
    "actor_info.head(10)\n"
   ]
  },
  {
   "cell_type": "code",
   "execution_count": 81,
   "id": "c7c3e842-012d-47ae-bc89-8970bdbe5238",
   "metadata": {
    "id": "c7c3e842-012d-47ae-bc89-8970bdbe5238"
   },
   "outputs": [
    {
     "data": {
      "text/html": [
       "<div>\n",
       "<style scoped>\n",
       "    .dataframe tbody tr th:only-of-type {\n",
       "        vertical-align: middle;\n",
       "    }\n",
       "\n",
       "    .dataframe tbody tr th {\n",
       "        vertical-align: top;\n",
       "    }\n",
       "\n",
       "    .dataframe thead th {\n",
       "        text-align: right;\n",
       "    }\n",
       "</style>\n",
       "<table border=\"1\" class=\"dataframe\">\n",
       "  <thead>\n",
       "    <tr style=\"text-align: right;\">\n",
       "      <th></th>\n",
       "      <th>new_repo_id</th>\n",
       "      <th>repo_name</th>\n",
       "      <th>repo_value</th>\n",
       "      <th>rank</th>\n",
       "    </tr>\n",
       "  </thead>\n",
       "  <tbody>\n",
       "    <tr>\n",
       "      <th>0</th>\n",
       "      <td>1026966</td>\n",
       "      <td>firstcontributions/first-contributions</td>\n",
       "      <td>0.000014</td>\n",
       "      <td>1</td>\n",
       "    </tr>\n",
       "    <tr>\n",
       "      <th>1</th>\n",
       "      <td>139313</td>\n",
       "      <td>jlord/patchwork</td>\n",
       "      <td>0.000012</td>\n",
       "      <td>2</td>\n",
       "    </tr>\n",
       "    <tr>\n",
       "      <th>2</th>\n",
       "      <td>59756</td>\n",
       "      <td>DefinitelyTyped/DefinitelyTyped</td>\n",
       "      <td>0.000011</td>\n",
       "      <td>3</td>\n",
       "    </tr>\n",
       "    <tr>\n",
       "      <th>3</th>\n",
       "      <td>14527</td>\n",
       "      <td>octocat/Spoon-Knife</td>\n",
       "      <td>0.000008</td>\n",
       "      <td>4</td>\n",
       "    </tr>\n",
       "    <tr>\n",
       "      <th>4</th>\n",
       "      <td>7874763</td>\n",
       "      <td>education/GitHubGraduation-2021</td>\n",
       "      <td>0.000007</td>\n",
       "      <td>5</td>\n",
       "    </tr>\n",
       "    <tr>\n",
       "      <th>5</th>\n",
       "      <td>600362</td>\n",
       "      <td>Homebrew/homebrew-core</td>\n",
       "      <td>0.000007</td>\n",
       "      <td>6</td>\n",
       "    </tr>\n",
       "    <tr>\n",
       "      <th>6</th>\n",
       "      <td>1137269</td>\n",
       "      <td>MicrosoftDocs/azure-docs</td>\n",
       "      <td>0.000007</td>\n",
       "      <td>7</td>\n",
       "    </tr>\n",
       "    <tr>\n",
       "      <th>7</th>\n",
       "      <td>2001869</td>\n",
       "      <td>AliceWonderland/hacktoberfest</td>\n",
       "      <td>0.000007</td>\n",
       "      <td>8</td>\n",
       "    </tr>\n",
       "    <tr>\n",
       "      <th>8</th>\n",
       "      <td>38099</td>\n",
       "      <td>Homebrew/homebrew-cask</td>\n",
       "      <td>0.000007</td>\n",
       "      <td>9</td>\n",
       "    </tr>\n",
       "    <tr>\n",
       "      <th>9</th>\n",
       "      <td>252316</td>\n",
       "      <td>freeCodeCamp/freeCodeCamp</td>\n",
       "      <td>0.000007</td>\n",
       "      <td>10</td>\n",
       "    </tr>\n",
       "  </tbody>\n",
       "</table>\n",
       "</div>"
      ],
      "text/plain": [
       "   new_repo_id                               repo_name  repo_value  rank\n",
       "0      1026966  firstcontributions/first-contributions    0.000014     1\n",
       "1       139313                         jlord/patchwork    0.000012     2\n",
       "2        59756         DefinitelyTyped/DefinitelyTyped    0.000011     3\n",
       "3        14527                     octocat/Spoon-Knife    0.000008     4\n",
       "4      7874763         education/GitHubGraduation-2021    0.000007     5\n",
       "5       600362                  Homebrew/homebrew-core    0.000007     6\n",
       "6      1137269                MicrosoftDocs/azure-docs    0.000007     7\n",
       "7      2001869           AliceWonderland/hacktoberfest    0.000007     8\n",
       "8        38099                  Homebrew/homebrew-cask    0.000007     9\n",
       "9       252316               freeCodeCamp/freeCodeCamp    0.000007    10"
      ]
     },
     "execution_count": 81,
     "metadata": {},
     "output_type": "execute_result"
    }
   ],
   "source": [
    "repo_result = pd.merge(repo_info, pd_repo_newid_name, on='new_repo_id')\n",
    "order = ['new_repo_id', 'repo_name', 'repo_value','rank']\n",
    "repo_result = repo_result[order]\n",
    "repo_result.head(10)"
   ]
  },
  {
   "cell_type": "code",
   "execution_count": 82,
   "id": "cbda567c",
   "metadata": {
    "id": "cbda567c"
   },
   "outputs": [
    {
     "data": {
      "text/html": [
       "<div>\n",
       "<style scoped>\n",
       "    .dataframe tbody tr th:only-of-type {\n",
       "        vertical-align: middle;\n",
       "    }\n",
       "\n",
       "    .dataframe tbody tr th {\n",
       "        vertical-align: top;\n",
       "    }\n",
       "\n",
       "    .dataframe thead th {\n",
       "        text-align: right;\n",
       "    }\n",
       "</style>\n",
       "<table border=\"1\" class=\"dataframe\">\n",
       "  <thead>\n",
       "    <tr style=\"text-align: right;\">\n",
       "      <th></th>\n",
       "      <th>new_actor_id</th>\n",
       "      <th>actor_name</th>\n",
       "      <th>actor_value</th>\n",
       "      <th>rank</th>\n",
       "    </tr>\n",
       "  </thead>\n",
       "  <tbody>\n",
       "    <tr>\n",
       "      <th>0</th>\n",
       "      <td>414972</td>\n",
       "      <td>direwolf-github</td>\n",
       "      <td>0.000067</td>\n",
       "      <td>1</td>\n",
       "    </tr>\n",
       "    <tr>\n",
       "      <th>1</th>\n",
       "      <td>673689</td>\n",
       "      <td>codacy-badger</td>\n",
       "      <td>0.000012</td>\n",
       "      <td>2</td>\n",
       "    </tr>\n",
       "    <tr>\n",
       "      <th>2</th>\n",
       "      <td>361520</td>\n",
       "      <td>gitter-badger</td>\n",
       "      <td>0.000011</td>\n",
       "      <td>3</td>\n",
       "    </tr>\n",
       "    <tr>\n",
       "      <th>3</th>\n",
       "      <td>334816</td>\n",
       "      <td>xmo-odoo</td>\n",
       "      <td>0.000010</td>\n",
       "      <td>4</td>\n",
       "    </tr>\n",
       "    <tr>\n",
       "      <th>4</th>\n",
       "      <td>1142911</td>\n",
       "      <td>codeserver-test1</td>\n",
       "      <td>0.000009</td>\n",
       "      <td>5</td>\n",
       "    </tr>\n",
       "    <tr>\n",
       "      <th>5</th>\n",
       "      <td>595188</td>\n",
       "      <td>QualitySoftwareDeveloper</td>\n",
       "      <td>0.000006</td>\n",
       "      <td>6</td>\n",
       "    </tr>\n",
       "    <tr>\n",
       "      <th>6</th>\n",
       "      <td>1014261</td>\n",
       "      <td>git2e</td>\n",
       "      <td>0.000006</td>\n",
       "      <td>7</td>\n",
       "    </tr>\n",
       "    <tr>\n",
       "      <th>7</th>\n",
       "      <td>571640</td>\n",
       "      <td>idsb3t1</td>\n",
       "      <td>0.000006</td>\n",
       "      <td>8</td>\n",
       "    </tr>\n",
       "    <tr>\n",
       "      <th>8</th>\n",
       "      <td>1065468</td>\n",
       "      <td>codeserver-service-qa</td>\n",
       "      <td>0.000006</td>\n",
       "      <td>9</td>\n",
       "    </tr>\n",
       "    <tr>\n",
       "      <th>9</th>\n",
       "      <td>315487</td>\n",
       "      <td>waffle-iron</td>\n",
       "      <td>0.000006</td>\n",
       "      <td>10</td>\n",
       "    </tr>\n",
       "    <tr>\n",
       "      <th>10</th>\n",
       "      <td>122996</td>\n",
       "      <td>JLLeitschuh</td>\n",
       "      <td>0.000006</td>\n",
       "      <td>11</td>\n",
       "    </tr>\n",
       "    <tr>\n",
       "      <th>11</th>\n",
       "      <td>221311</td>\n",
       "      <td>bryant1410</td>\n",
       "      <td>0.000005</td>\n",
       "      <td>12</td>\n",
       "    </tr>\n",
       "    <tr>\n",
       "      <th>12</th>\n",
       "      <td>1275949</td>\n",
       "      <td>turbocanary-admin</td>\n",
       "      <td>0.000005</td>\n",
       "      <td>13</td>\n",
       "    </tr>\n",
       "    <tr>\n",
       "      <th>13</th>\n",
       "      <td>7479</td>\n",
       "      <td>kant</td>\n",
       "      <td>0.000005</td>\n",
       "      <td>14</td>\n",
       "    </tr>\n",
       "    <tr>\n",
       "      <th>14</th>\n",
       "      <td>344388</td>\n",
       "      <td>slskopytko</td>\n",
       "      <td>0.000005</td>\n",
       "      <td>15</td>\n",
       "    </tr>\n",
       "    <tr>\n",
       "      <th>15</th>\n",
       "      <td>215104</td>\n",
       "      <td>cclauss</td>\n",
       "      <td>0.000005</td>\n",
       "      <td>16</td>\n",
       "    </tr>\n",
       "    <tr>\n",
       "      <th>16</th>\n",
       "      <td>343522</td>\n",
       "      <td>codeschool-kiddo</td>\n",
       "      <td>0.000005</td>\n",
       "      <td>17</td>\n",
       "    </tr>\n",
       "    <tr>\n",
       "      <th>17</th>\n",
       "      <td>1235182</td>\n",
       "      <td>shiftleft-staging</td>\n",
       "      <td>0.000005</td>\n",
       "      <td>18</td>\n",
       "    </tr>\n",
       "    <tr>\n",
       "      <th>18</th>\n",
       "      <td>1237106</td>\n",
       "      <td>shiftleft-prod</td>\n",
       "      <td>0.000005</td>\n",
       "      <td>19</td>\n",
       "    </tr>\n",
       "    <tr>\n",
       "      <th>19</th>\n",
       "      <td>363095</td>\n",
       "      <td>per1234</td>\n",
       "      <td>0.000005</td>\n",
       "      <td>20</td>\n",
       "    </tr>\n",
       "  </tbody>\n",
       "</table>\n",
       "</div>"
      ],
      "text/plain": [
       "    new_actor_id                actor_name  actor_value  rank\n",
       "0         414972           direwolf-github     0.000067     1\n",
       "1         673689             codacy-badger     0.000012     2\n",
       "2         361520             gitter-badger     0.000011     3\n",
       "3         334816                  xmo-odoo     0.000010     4\n",
       "4        1142911          codeserver-test1     0.000009     5\n",
       "5         595188  QualitySoftwareDeveloper     0.000006     6\n",
       "6        1014261                     git2e     0.000006     7\n",
       "7         571640                   idsb3t1     0.000006     8\n",
       "8        1065468     codeserver-service-qa     0.000006     9\n",
       "9         315487               waffle-iron     0.000006    10\n",
       "10        122996               JLLeitschuh     0.000006    11\n",
       "11        221311                bryant1410     0.000005    12\n",
       "12       1275949         turbocanary-admin     0.000005    13\n",
       "13          7479                      kant     0.000005    14\n",
       "14        344388                slskopytko     0.000005    15\n",
       "15        215104                   cclauss     0.000005    16\n",
       "16        343522          codeschool-kiddo     0.000005    17\n",
       "17       1235182         shiftleft-staging     0.000005    18\n",
       "18       1237106            shiftleft-prod     0.000005    19\n",
       "19        363095                   per1234     0.000005    20"
      ]
     },
     "execution_count": 82,
     "metadata": {},
     "output_type": "execute_result"
    }
   ],
   "source": [
    "actor_result = pd.merge(actor_info, pd_actor_newid_name, on='new_actor_id')\n",
    "order = ['new_actor_id', 'actor_name', 'actor_value','rank']\n",
    "actor_result = actor_result[order]\n",
    "actor_result.head(20)"
   ]
  },
  {
   "cell_type": "markdown",
   "id": "5b2f4d87-a328-4898-aaad-e8145895b7a0",
   "metadata": {
    "tags": []
   },
   "source": [
    "## 统计信息"
   ]
  },
  {
   "cell_type": "markdown",
   "id": "4e583f4a-0125-46a9-97c7-fab87d6c5ed1",
   "metadata": {
    "tags": []
   },
   "source": [
    "### watch"
   ]
  },
  {
   "cell_type": "markdown",
   "id": "4016333e-c921-4f2b-8b7c-0c21011dbda4",
   "metadata": {
    "tags": []
   },
   "source": [
    "#### 查看ods_github_log表发现有名为WatchEvent的type，可以从中得到watch相关信息"
   ]
  },
  {
   "cell_type": "code",
   "execution_count": 83,
   "id": "c95c84a7-ee8d-4f81-a702-306cd62afdf8",
   "metadata": {},
   "outputs": [
    {
     "data": {
      "text/plain": [
       "<Instance 20220520024556996gixb2i5s2>"
      ]
     },
     "execution_count": 83,
     "metadata": {},
     "output_type": "execute_result"
    }
   ],
   "source": [
    "TEMP_WATCH_TABLE00 = 'hx_repo_actor_birank_type'\n",
    "drop_sql = '''\n",
    "    DROP TABLE IF EXISTS {TEMP_WATCH_TABLE};\n",
    "    CREATE TABLE IF NOT EXISTS {TEMP_WATCH_TABLE}\n",
    "    (\n",
    "        type    STRING\n",
    "    );\n",
    "'''.format(\n",
    "    TEMP_WATCH_TABLE=TEMP_WATCH_TABLE00\n",
    ")\n",
    "o.execute_sql(drop_sql, hints={'odps.sql.allow.fullscan': 'true', 'odps.sql.submit.mode': 'script'})"
   ]
  },
  {
   "cell_type": "code",
   "execution_count": 84,
   "id": "fc9e462b-902a-42ef-bb1c-ad0a5ac7d291",
   "metadata": {},
   "outputs": [],
   "source": [
    "sql = '''set odps.sql.validate.orderby.limit=false;\n",
    "        INSERT INTO {TEMP_WATCH_TABLE}\n",
    "        SELECT DISTINCT type\n",
    "        FROM ods_github_log\n",
    "        WHERE actor_login NOT LIKE '%bot%'\n",
    "        AND pt>='20160101' AND pt<'20220101'\n",
    "        '''.format(\n",
    "    TEMP_WATCH_TABLE=TEMP_WATCH_TABLE00)\n",
    "table = o.execute_sql(sql, hints={\"odps.sql.submit.mode\" : \"script\"})"
   ]
  },
  {
   "cell_type": "code",
   "execution_count": 85,
   "id": "1d5f3c27-0c65-4deb-872d-77d24d0af9bc",
   "metadata": {},
   "outputs": [
    {
     "data": {
      "text/html": [
       "<div>\n",
       "<style scoped>\n",
       "    .dataframe tbody tr th:only-of-type {\n",
       "        vertical-align: middle;\n",
       "    }\n",
       "\n",
       "    .dataframe tbody tr th {\n",
       "        vertical-align: top;\n",
       "    }\n",
       "\n",
       "    .dataframe thead th {\n",
       "        text-align: right;\n",
       "    }\n",
       "</style>\n",
       "<table border=\"1\" class=\"dataframe\">\n",
       "  <thead>\n",
       "    <tr style=\"text-align: right;\">\n",
       "      <th></th>\n",
       "      <th>type</th>\n",
       "    </tr>\n",
       "  </thead>\n",
       "  <tbody>\n",
       "    <tr>\n",
       "      <th>0</th>\n",
       "      <td>GollumEvent</td>\n",
       "    </tr>\n",
       "    <tr>\n",
       "      <th>1</th>\n",
       "      <td>PullRequestReviewCommentEvent</td>\n",
       "    </tr>\n",
       "    <tr>\n",
       "      <th>2</th>\n",
       "      <td>CommitCommentEvent</td>\n",
       "    </tr>\n",
       "    <tr>\n",
       "      <th>3</th>\n",
       "      <td>PublicEvent</td>\n",
       "    </tr>\n",
       "    <tr>\n",
       "      <th>4</th>\n",
       "      <td>IssueCommentEvent</td>\n",
       "    </tr>\n",
       "    <tr>\n",
       "      <th>5</th>\n",
       "      <td>ReleaseEvent</td>\n",
       "    </tr>\n",
       "    <tr>\n",
       "      <th>6</th>\n",
       "      <td>ForkEvent</td>\n",
       "    </tr>\n",
       "    <tr>\n",
       "      <th>7</th>\n",
       "      <td>PullRequestEvent</td>\n",
       "    </tr>\n",
       "    <tr>\n",
       "      <th>8</th>\n",
       "      <td>CreateEvent</td>\n",
       "    </tr>\n",
       "    <tr>\n",
       "      <th>9</th>\n",
       "      <td>MemberEvent</td>\n",
       "    </tr>\n",
       "    <tr>\n",
       "      <th>10</th>\n",
       "      <td>IssuesEvent</td>\n",
       "    </tr>\n",
       "    <tr>\n",
       "      <th>11</th>\n",
       "      <td>WatchEvent</td>\n",
       "    </tr>\n",
       "    <tr>\n",
       "      <th>12</th>\n",
       "      <td>DeleteEvent</td>\n",
       "    </tr>\n",
       "    <tr>\n",
       "      <th>13</th>\n",
       "      <td>PushEvent</td>\n",
       "    </tr>\n",
       "  </tbody>\n",
       "</table>\n",
       "</div>"
      ],
      "text/plain": [
       "                             type\n",
       "0                     GollumEvent\n",
       "1   PullRequestReviewCommentEvent\n",
       "2              CommitCommentEvent\n",
       "3                     PublicEvent\n",
       "4               IssueCommentEvent\n",
       "5                    ReleaseEvent\n",
       "6                       ForkEvent\n",
       "7                PullRequestEvent\n",
       "8                     CreateEvent\n",
       "9                     MemberEvent\n",
       "10                    IssuesEvent\n",
       "11                     WatchEvent\n",
       "12                    DeleteEvent\n",
       "13                      PushEvent"
      ]
     },
     "execution_count": 85,
     "metadata": {},
     "output_type": "execute_result"
    }
   ],
   "source": [
    "data = DataFrame(o.get_table(TEMP_WATCH_TABLE00))\n",
    "data.head()"
   ]
  },
  {
   "cell_type": "markdown",
   "id": "88aa8919-4320-4cfd-9ffc-cb434d6d202b",
   "metadata": {
    "tags": []
   },
   "source": [
    "#### 统计各repo被watch的数目，建立 repo_id --- watch_cnt 对应关系表"
   ]
  },
  {
   "cell_type": "code",
   "execution_count": 86,
   "id": "72fc8b1a-de95-4ffd-b266-e5f2b649bd65",
   "metadata": {},
   "outputs": [
    {
     "data": {
      "text/plain": [
       "<Instance 20220520024911333g7kxsa2a>"
      ]
     },
     "execution_count": 86,
     "metadata": {},
     "output_type": "execute_result"
    }
   ],
   "source": [
    "TEMP_WATCH_TABLE1 = 'hx_repo_actor_birank_watch'\n",
    "drop_sql = '''\n",
    "    DROP TABLE IF EXISTS {TEMP_WATCH_TABLE};\n",
    "    CREATE TABLE IF NOT EXISTS {TEMP_WATCH_TABLE}\n",
    "    (\n",
    "        repo_id     BIGINT,\n",
    "        watch_cnt    BIGINT\n",
    "    );\n",
    "'''.format(\n",
    "    TEMP_WATCH_TABLE=TEMP_WATCH_TABLE1\n",
    ")\n",
    "o.execute_sql(drop_sql, hints={'odps.sql.allow.fullscan': 'true', 'odps.sql.submit.mode': 'script'})"
   ]
  },
  {
   "cell_type": "code",
   "execution_count": 87,
   "id": "5673eff6-a40d-46e2-a1d6-6466ff507992",
   "metadata": {},
   "outputs": [],
   "source": [
    "sql = '''set odps.sql.validate.orderby.limit=false;\n",
    "        INSERT INTO {TEMP_WATCH_TABLE2}\n",
    "        SELECT repo_id, count(*) AS watch_cnt\n",
    "        FROM ods_github_log\n",
    "        WHERE type=\"WatchEvent\" AND repo_id IN (SELECT DISTINCT repo_id FROM {TEMP_WATCH_TABLE1})\n",
    "        AND pt>='20160101' AND pt<'20220101'\n",
    "        GROUP BY repo_id\n",
    "        ORDER BY watch_cnt desc\n",
    "        '''.format(\n",
    "    TEMP_WATCH_TABLE1=TEMP_TABLE_NAME7,\n",
    "    TEMP_WATCH_TABLE2=TEMP_WATCH_TABLE1)\n",
    "table = o.execute_sql(sql, hints={\"odps.sql.submit.mode\" : \"script\"})"
   ]
  },
  {
   "cell_type": "code",
   "execution_count": 88,
   "id": "7481a0d9-89ec-4351-a6a4-a41aa601fe37",
   "metadata": {},
   "outputs": [
    {
     "data": {
      "text/html": [
       "<div>\n",
       "<style scoped>\n",
       "    .dataframe tbody tr th:only-of-type {\n",
       "        vertical-align: middle;\n",
       "    }\n",
       "\n",
       "    .dataframe tbody tr th {\n",
       "        vertical-align: top;\n",
       "    }\n",
       "\n",
       "    .dataframe thead th {\n",
       "        text-align: right;\n",
       "    }\n",
       "</style>\n",
       "<table border=\"1\" class=\"dataframe\">\n",
       "  <thead>\n",
       "    <tr style=\"text-align: right;\">\n",
       "      <th></th>\n",
       "      <th>repo_id</th>\n",
       "      <th>watch_cnt</th>\n",
       "    </tr>\n",
       "  </thead>\n",
       "  <tbody>\n",
       "    <tr>\n",
       "      <th>0</th>\n",
       "      <td>177736533</td>\n",
       "      <td>367097</td>\n",
       "    </tr>\n",
       "    <tr>\n",
       "      <th>1</th>\n",
       "      <td>28457823</td>\n",
       "      <td>353140</td>\n",
       "    </tr>\n",
       "    <tr>\n",
       "      <th>2</th>\n",
       "      <td>60493101</td>\n",
       "      <td>222322</td>\n",
       "    </tr>\n",
       "    <tr>\n",
       "      <th>3</th>\n",
       "      <td>11730342</td>\n",
       "      <td>215106</td>\n",
       "    </tr>\n",
       "    <tr>\n",
       "      <th>4</th>\n",
       "      <td>85077558</td>\n",
       "      <td>196137</td>\n",
       "    </tr>\n",
       "    <tr>\n",
       "      <th>5</th>\n",
       "      <td>13491895</td>\n",
       "      <td>189269</td>\n",
       "    </tr>\n",
       "    <tr>\n",
       "      <th>6</th>\n",
       "      <td>54346799</td>\n",
       "      <td>181217</td>\n",
       "    </tr>\n",
       "    <tr>\n",
       "      <th>7</th>\n",
       "      <td>10270250</td>\n",
       "      <td>177594</td>\n",
       "    </tr>\n",
       "    <tr>\n",
       "      <th>8</th>\n",
       "      <td>45717250</td>\n",
       "      <td>171686</td>\n",
       "    </tr>\n",
       "    <tr>\n",
       "      <th>9</th>\n",
       "      <td>21737465</td>\n",
       "      <td>171290</td>\n",
       "    </tr>\n",
       "  </tbody>\n",
       "</table>\n",
       "</div>"
      ],
      "text/plain": [
       "     repo_id  watch_cnt\n",
       "0  177736533     367097\n",
       "1   28457823     353140\n",
       "2   60493101     222322\n",
       "3   11730342     215106\n",
       "4   85077558     196137\n",
       "5   13491895     189269\n",
       "6   54346799     181217\n",
       "7   10270250     177594\n",
       "8   45717250     171686\n",
       "9   21737465     171290"
      ]
     },
     "execution_count": 88,
     "metadata": {},
     "output_type": "execute_result"
    }
   ],
   "source": [
    "data = DataFrame(o.get_table(TEMP_WATCH_TABLE1))\n",
    "data.head(10)"
   ]
  },
  {
   "cell_type": "markdown",
   "id": "0872464b-4b2f-4ff7-a409-2a9a8d9373ca",
   "metadata": {
    "tags": []
   },
   "source": [
    "#### 建立 repo_id --- new_repo_id 对应关系表"
   ]
  },
  {
   "cell_type": "code",
   "execution_count": 89,
   "id": "1905c906-48ff-4c3f-b7dd-9f9dd4bed32e",
   "metadata": {},
   "outputs": [
    {
     "data": {
      "text/plain": [
       "<Instance 2022052002512170gbb1igr>"
      ]
     },
     "execution_count": 89,
     "metadata": {},
     "output_type": "execute_result"
    }
   ],
   "source": [
    "TEMP_WATCH_TABLE2_1 = 'hx_repo_actor_birank_pull_forwatch_only_repoid'\n",
    "drop_sql = '''\n",
    "    DROP TABLE IF EXISTS {TEMP_WATCH_TABLE};\n",
    "    CREATE TABLE IF NOT EXISTS {TEMP_WATCH_TABLE}\n",
    "    (\n",
    "        repo_id     BIGINT\n",
    "    );\n",
    "'''.format(\n",
    "    TEMP_WATCH_TABLE=TEMP_WATCH_TABLE2_1\n",
    ")\n",
    "o.execute_sql(drop_sql, hints={'odps.sql.allow.fullscan': 'true', 'odps.sql.submit.mode': 'script'})"
   ]
  },
  {
   "cell_type": "code",
   "execution_count": 90,
   "id": "f5fd0dc6-a2d0-46ff-b3fb-667e72f243d4",
   "metadata": {},
   "outputs": [],
   "source": [
    "get_repoid_sql = '''set odps.sql.validate.orderby.limit=false;\n",
    "        INSERT INTO {TEMP_WATCH_TABLE2}\n",
    "        SELECT DISTINCT repo_id\n",
    "        FROM {TEMP_WATCH_TABLE1}\n",
    "        ORDER BY repo_id\n",
    "'''.format(\n",
    "    TEMP_WATCH_TABLE1=TEMP_TABLE_NAME7,\n",
    "    TEMP_WATCH_TABLE2=TEMP_WATCH_TABLE2_1\n",
    ")\n",
    "table = o.execute_sql(get_repoid_sql, hints={'odps.sql.allow.fullscan': 'true',\"odps.sql.submit.mode\" : \"script\"})"
   ]
  },
  {
   "cell_type": "code",
   "execution_count": 91,
   "id": "6d1f7b30-db1d-421c-a661-639233bb54b3",
   "metadata": {},
   "outputs": [
    {
     "data": {
      "text/html": [
       "<div>\n",
       "<style scoped>\n",
       "    .dataframe tbody tr th:only-of-type {\n",
       "        vertical-align: middle;\n",
       "    }\n",
       "\n",
       "    .dataframe tbody tr th {\n",
       "        vertical-align: top;\n",
       "    }\n",
       "\n",
       "    .dataframe thead th {\n",
       "        text-align: right;\n",
       "    }\n",
       "</style>\n",
       "<table border=\"1\" class=\"dataframe\">\n",
       "  <thead>\n",
       "    <tr style=\"text-align: right;\">\n",
       "      <th></th>\n",
       "      <th>repo_id</th>\n",
       "    </tr>\n",
       "  </thead>\n",
       "  <tbody>\n",
       "    <tr>\n",
       "      <th>0</th>\n",
       "      <td>1</td>\n",
       "    </tr>\n",
       "    <tr>\n",
       "      <th>1</th>\n",
       "      <td>27</td>\n",
       "    </tr>\n",
       "    <tr>\n",
       "      <th>2</th>\n",
       "      <td>28</td>\n",
       "    </tr>\n",
       "    <tr>\n",
       "      <th>3</th>\n",
       "      <td>35</td>\n",
       "    </tr>\n",
       "    <tr>\n",
       "      <th>4</th>\n",
       "      <td>43</td>\n",
       "    </tr>\n",
       "    <tr>\n",
       "      <th>5</th>\n",
       "      <td>68</td>\n",
       "    </tr>\n",
       "    <tr>\n",
       "      <th>6</th>\n",
       "      <td>130</td>\n",
       "    </tr>\n",
       "    <tr>\n",
       "      <th>7</th>\n",
       "      <td>131</td>\n",
       "    </tr>\n",
       "    <tr>\n",
       "      <th>8</th>\n",
       "      <td>142</td>\n",
       "    </tr>\n",
       "    <tr>\n",
       "      <th>9</th>\n",
       "      <td>144</td>\n",
       "    </tr>\n",
       "    <tr>\n",
       "      <th>10</th>\n",
       "      <td>177</td>\n",
       "    </tr>\n",
       "    <tr>\n",
       "      <th>11</th>\n",
       "      <td>249</td>\n",
       "    </tr>\n",
       "    <tr>\n",
       "      <th>12</th>\n",
       "      <td>279</td>\n",
       "    </tr>\n",
       "    <tr>\n",
       "      <th>13</th>\n",
       "      <td>322</td>\n",
       "    </tr>\n",
       "    <tr>\n",
       "      <th>14</th>\n",
       "      <td>329</td>\n",
       "    </tr>\n",
       "  </tbody>\n",
       "</table>\n",
       "</div>"
      ],
      "text/plain": [
       "    repo_id\n",
       "0         1\n",
       "1        27\n",
       "2        28\n",
       "3        35\n",
       "4        43\n",
       "5        68\n",
       "6       130\n",
       "7       131\n",
       "8       142\n",
       "9       144\n",
       "10      177\n",
       "11      249\n",
       "12      279\n",
       "13      322\n",
       "14      329"
      ]
     },
     "execution_count": 91,
     "metadata": {},
     "output_type": "execute_result"
    }
   ],
   "source": [
    "data = DataFrame(o.get_table(TEMP_WATCH_TABLE2_1))\n",
    "data.head(15)"
   ]
  },
  {
   "cell_type": "code",
   "execution_count": 92,
   "id": "d41504d5-dc49-4004-bcd6-3e52c216fb7c",
   "metadata": {},
   "outputs": [
    {
     "data": {
      "text/plain": [
       "<Instance 20220520025127635gsh6uq2>"
      ]
     },
     "execution_count": 92,
     "metadata": {},
     "output_type": "execute_result"
    }
   ],
   "source": [
    "TEMP_WATCH_TABLE2 = 'hx_repo_actor_birank_pull_forwatch_new_repoid'\n",
    "drop_sql = '''\n",
    "    DROP TABLE IF EXISTS {TEMP_WATCH_TABLE};\n",
    "    CREATE TABLE IF NOT EXISTS {TEMP_WATCH_TABLE}\n",
    "    (\n",
    "        repo_id     BIGINT,\n",
    "        new_repo_id    BIGINT\n",
    "    );\n",
    "'''.format(\n",
    "    TEMP_WATCH_TABLE=TEMP_WATCH_TABLE2\n",
    ")\n",
    "o.execute_sql(drop_sql, hints={'odps.sql.allow.fullscan': 'true', 'odps.sql.submit.mode': 'script'})"
   ]
  },
  {
   "cell_type": "code",
   "execution_count": 93,
   "id": "587698a6-51f6-4eb3-95bc-b144facbd70c",
   "metadata": {},
   "outputs": [],
   "source": [
    "insert_new_repoid_sql = '''set odps.sql.validate.orderby.limit=false;\n",
    "        INSERT INTO {TEMP_WATCH_TABLE2}\n",
    "        SELECT repo_id, row_number() over() - 1 as new_repo_id\n",
    "        FROM {TEMP_WATCH_TABLE1}\n",
    "        ORDER BY repo_id\n",
    "'''.format(\n",
    "    TEMP_WATCH_TABLE1=TEMP_WATCH_TABLE2_1,\n",
    "    TEMP_WATCH_TABLE2=TEMP_WATCH_TABLE2\n",
    ")\n",
    "table = o.execute_sql(insert_new_repoid_sql, hints={'odps.sql.allow.fullscan': 'true',\"odps.sql.submit.mode\" : \"script\"})"
   ]
  },
  {
   "cell_type": "code",
   "execution_count": 94,
   "id": "cd0eef83-f753-4389-b3f5-3e30a2cc087c",
   "metadata": {},
   "outputs": [
    {
     "data": {
      "text/html": [
       "<div>\n",
       "<style scoped>\n",
       "    .dataframe tbody tr th:only-of-type {\n",
       "        vertical-align: middle;\n",
       "    }\n",
       "\n",
       "    .dataframe tbody tr th {\n",
       "        vertical-align: top;\n",
       "    }\n",
       "\n",
       "    .dataframe thead th {\n",
       "        text-align: right;\n",
       "    }\n",
       "</style>\n",
       "<table border=\"1\" class=\"dataframe\">\n",
       "  <thead>\n",
       "    <tr style=\"text-align: right;\">\n",
       "      <th></th>\n",
       "      <th>repo_id</th>\n",
       "      <th>new_repo_id</th>\n",
       "    </tr>\n",
       "  </thead>\n",
       "  <tbody>\n",
       "    <tr>\n",
       "      <th>0</th>\n",
       "      <td>1</td>\n",
       "      <td>0</td>\n",
       "    </tr>\n",
       "    <tr>\n",
       "      <th>1</th>\n",
       "      <td>27</td>\n",
       "      <td>1</td>\n",
       "    </tr>\n",
       "    <tr>\n",
       "      <th>2</th>\n",
       "      <td>28</td>\n",
       "      <td>2</td>\n",
       "    </tr>\n",
       "    <tr>\n",
       "      <th>3</th>\n",
       "      <td>35</td>\n",
       "      <td>3</td>\n",
       "    </tr>\n",
       "    <tr>\n",
       "      <th>4</th>\n",
       "      <td>43</td>\n",
       "      <td>4</td>\n",
       "    </tr>\n",
       "    <tr>\n",
       "      <th>5</th>\n",
       "      <td>68</td>\n",
       "      <td>5</td>\n",
       "    </tr>\n",
       "    <tr>\n",
       "      <th>6</th>\n",
       "      <td>130</td>\n",
       "      <td>6</td>\n",
       "    </tr>\n",
       "    <tr>\n",
       "      <th>7</th>\n",
       "      <td>131</td>\n",
       "      <td>7</td>\n",
       "    </tr>\n",
       "    <tr>\n",
       "      <th>8</th>\n",
       "      <td>142</td>\n",
       "      <td>8</td>\n",
       "    </tr>\n",
       "    <tr>\n",
       "      <th>9</th>\n",
       "      <td>144</td>\n",
       "      <td>9</td>\n",
       "    </tr>\n",
       "    <tr>\n",
       "      <th>10</th>\n",
       "      <td>177</td>\n",
       "      <td>10</td>\n",
       "    </tr>\n",
       "    <tr>\n",
       "      <th>11</th>\n",
       "      <td>249</td>\n",
       "      <td>11</td>\n",
       "    </tr>\n",
       "    <tr>\n",
       "      <th>12</th>\n",
       "      <td>279</td>\n",
       "      <td>12</td>\n",
       "    </tr>\n",
       "    <tr>\n",
       "      <th>13</th>\n",
       "      <td>322</td>\n",
       "      <td>13</td>\n",
       "    </tr>\n",
       "    <tr>\n",
       "      <th>14</th>\n",
       "      <td>329</td>\n",
       "      <td>14</td>\n",
       "    </tr>\n",
       "  </tbody>\n",
       "</table>\n",
       "</div>"
      ],
      "text/plain": [
       "    repo_id  new_repo_id\n",
       "0         1            0\n",
       "1        27            1\n",
       "2        28            2\n",
       "3        35            3\n",
       "4        43            4\n",
       "5        68            5\n",
       "6       130            6\n",
       "7       131            7\n",
       "8       142            8\n",
       "9       144            9\n",
       "10      177           10\n",
       "11      249           11\n",
       "12      279           12\n",
       "13      322           13\n",
       "14      329           14"
      ]
     },
     "execution_count": 94,
     "metadata": {},
     "output_type": "execute_result"
    }
   ],
   "source": [
    "data = DataFrame(o.get_table(TEMP_WATCH_TABLE2))\n",
    "data.head(15)"
   ]
  },
  {
   "cell_type": "code",
   "execution_count": 95,
   "id": "ef0dc4b6-4de4-4b83-a2a0-238137d6c4e3",
   "metadata": {},
   "outputs": [
    {
     "name": "stdout",
     "output_type": "stream",
     "text": [
      "odps.Record {\n",
      "  _c0   9021971\n",
      "}\n"
     ]
    }
   ],
   "source": [
    "# 查看最大new_repo_id(用于保证与算法中的new_repo_id一致)\n",
    "select_max_new_repo_id = '''SELECT MAX(new_repo_id) FROM {TEMP_WATCH_TABLE}'''.format(TEMP_WATCH_TABLE=TEMP_WATCH_TABLE2)\n",
    "table_max_new_repo_id = o.execute_sql(select_max_new_repo_id, hints={'odps.sql.allow.fullscan': 'true', \"odps.sql.submit.mode\" : \"script\"})\n",
    "with table_max_new_repo_id.open_reader(tunnel=True) as reader:\n",
    "     for record in reader:\n",
    "            print(record)"
   ]
  },
  {
   "cell_type": "markdown",
   "id": "73ae261a-c19e-408c-921b-6075e6cf9ba0",
   "metadata": {
    "tags": []
   },
   "source": [
    "#### 建立new_repo_id --- watch_cnt对应关系表"
   ]
  },
  {
   "cell_type": "code",
   "execution_count": 96,
   "id": "ee5769e1-9412-496c-8714-78ce7262bec4",
   "metadata": {},
   "outputs": [
    {
     "data": {
      "text/plain": [
       "<Instance 20220520025136883gtw6k963>"
      ]
     },
     "execution_count": 96,
     "metadata": {},
     "output_type": "execute_result"
    }
   ],
   "source": [
    "TEMP_WATCH_TABLE4 = 'hx_repo_actor_birank_newid_watch_cnt'\n",
    "drop_sql = '''\n",
    "    DROP TABLE IF EXISTS {TEMP_WATCH_TABLE};\n",
    "    CREATE TABLE IF NOT EXISTS {TEMP_WATCH_TABLE}\n",
    "    (\n",
    "        new_repo_id    BIGINT,\n",
    "        watch_cnt    BIGINT DEFAULT 0\n",
    "    );\n",
    "'''.format(\n",
    "    TEMP_WATCH_TABLE=TEMP_WATCH_TABLE4\n",
    ")\n",
    "o.execute_sql(drop_sql, hints={'odps.sql.allow.fullscan': 'true', 'odps.sql.submit.mode': 'script'})"
   ]
  },
  {
   "cell_type": "code",
   "execution_count": 97,
   "id": "efd21850-ea27-4742-8964-1117b5982d5f",
   "metadata": {},
   "outputs": [],
   "source": [
    "newid_watch_cnt_sql = '''set odps.sql.validate.orderby.limit=false;\n",
    "        INSERT INTO {TEMP_WATCH_TABLE3}\n",
    "        SELECT DISTINCT new_repo_id, watch_cnt\n",
    "        FROM {TEMP_WATCH_TABLE1}, {TEMP_WATCH_TABLE2}\n",
    "        WHERE {TEMP_WATCH_TABLE1}.repo_id = {TEMP_WATCH_TABLE2}.repo_id\n",
    "        ORDER BY watch_cnt desc\n",
    "'''.format(\n",
    "    TEMP_WATCH_TABLE1=TEMP_WATCH_TABLE1,\n",
    "    TEMP_WATCH_TABLE2=TEMP_WATCH_TABLE2,\n",
    "    TEMP_WATCH_TABLE3=TEMP_WATCH_TABLE4\n",
    ")\n",
    "table = o.execute_sql(newid_watch_cnt_sql, hints={'odps.sql.allow.fullscan': 'true',\"odps.sql.submit.mode\" : \"script\"})"
   ]
  },
  {
   "cell_type": "code",
   "execution_count": 98,
   "id": "e8011931-ebdd-4528-85cd-0d1adac4d1cb",
   "metadata": {},
   "outputs": [
    {
     "data": {
      "text/html": [
       "<div>\n",
       "<style scoped>\n",
       "    .dataframe tbody tr th:only-of-type {\n",
       "        vertical-align: middle;\n",
       "    }\n",
       "\n",
       "    .dataframe tbody tr th {\n",
       "        vertical-align: top;\n",
       "    }\n",
       "\n",
       "    .dataframe thead th {\n",
       "        text-align: right;\n",
       "    }\n",
       "</style>\n",
       "<table border=\"1\" class=\"dataframe\">\n",
       "  <thead>\n",
       "    <tr style=\"text-align: right;\">\n",
       "      <th></th>\n",
       "      <th>new_repo_id</th>\n",
       "      <th>watch_cnt</th>\n",
       "    </tr>\n",
       "  </thead>\n",
       "  <tbody>\n",
       "    <tr>\n",
       "      <th>0</th>\n",
       "      <td>3718661</td>\n",
       "      <td>367097</td>\n",
       "    </tr>\n",
       "    <tr>\n",
       "      <th>1</th>\n",
       "      <td>252316</td>\n",
       "      <td>353140</td>\n",
       "    </tr>\n",
       "    <tr>\n",
       "      <th>2</th>\n",
       "      <td>790124</td>\n",
       "      <td>222322</td>\n",
       "    </tr>\n",
       "    <tr>\n",
       "      <th>3</th>\n",
       "      <td>105344</td>\n",
       "      <td>215106</td>\n",
       "    </tr>\n",
       "    <tr>\n",
       "      <th>4</th>\n",
       "      <td>1467892</td>\n",
       "      <td>196137</td>\n",
       "    </tr>\n",
       "    <tr>\n",
       "      <th>5</th>\n",
       "      <td>119738</td>\n",
       "      <td>189269</td>\n",
       "    </tr>\n",
       "    <tr>\n",
       "      <th>6</th>\n",
       "      <td>640979</td>\n",
       "      <td>181217</td>\n",
       "    </tr>\n",
       "    <tr>\n",
       "      <th>7</th>\n",
       "      <td>93501</td>\n",
       "      <td>177594</td>\n",
       "    </tr>\n",
       "    <tr>\n",
       "      <th>8</th>\n",
       "      <td>441142</td>\n",
       "      <td>171686</td>\n",
       "    </tr>\n",
       "    <tr>\n",
       "      <th>9</th>\n",
       "      <td>192504</td>\n",
       "      <td>171290</td>\n",
       "    </tr>\n",
       "    <tr>\n",
       "      <th>10</th>\n",
       "      <td>1420089</td>\n",
       "      <td>163283</td>\n",
       "    </tr>\n",
       "    <tr>\n",
       "      <th>11</th>\n",
       "      <td>2381343</td>\n",
       "      <td>156274</td>\n",
       "    </tr>\n",
       "    <tr>\n",
       "      <th>12</th>\n",
       "      <td>311745</td>\n",
       "      <td>150003</td>\n",
       "    </tr>\n",
       "    <tr>\n",
       "      <th>13</th>\n",
       "      <td>285211</td>\n",
       "      <td>148131</td>\n",
       "    </tr>\n",
       "    <tr>\n",
       "      <th>14</th>\n",
       "      <td>127570</td>\n",
       "      <td>137525</td>\n",
       "    </tr>\n",
       "  </tbody>\n",
       "</table>\n",
       "</div>"
      ],
      "text/plain": [
       "    new_repo_id  watch_cnt\n",
       "0       3718661     367097\n",
       "1        252316     353140\n",
       "2        790124     222322\n",
       "3        105344     215106\n",
       "4       1467892     196137\n",
       "5        119738     189269\n",
       "6        640979     181217\n",
       "7         93501     177594\n",
       "8        441142     171686\n",
       "9        192504     171290\n",
       "10      1420089     163283\n",
       "11      2381343     156274\n",
       "12       311745     150003\n",
       "13       285211     148131\n",
       "14       127570     137525"
      ]
     },
     "execution_count": 98,
     "metadata": {},
     "output_type": "execute_result"
    }
   ],
   "source": [
    "data = DataFrame(o.get_table(TEMP_WATCH_TABLE4))\n",
    "data.head(15)"
   ]
  },
  {
   "cell_type": "markdown",
   "id": "62a74054-d4f8-4841-af8d-5a6dab2eda94",
   "metadata": {
    "tags": []
   },
   "source": [
    "#### 建立new_repo_id --- watch_rank对应关系"
   ]
  },
  {
   "cell_type": "code",
   "execution_count": 99,
   "id": "fbf76443-d697-4e56-a056-94b097b26fa9",
   "metadata": {},
   "outputs": [
    {
     "data": {
      "text/plain": [
       "<Instance 20220520025144344g1vzsa2a>"
      ]
     },
     "execution_count": 99,
     "metadata": {},
     "output_type": "execute_result"
    }
   ],
   "source": [
    "TEMP_WATCH_TABLE5 = 'hx_repo_actor_birank_watch_rank'\n",
    "drop_sql = '''\n",
    "    DROP TABLE IF EXISTS {TEMP_WATCH_TABLE};\n",
    "    CREATE TABLE IF NOT EXISTS {TEMP_WATCH_TABLE}\n",
    "    (\n",
    "        new_repo_id    BIGINT,\n",
    "        watch_rank    BIGINT\n",
    "    );\n",
    "'''.format(\n",
    "    TEMP_WATCH_TABLE=TEMP_WATCH_TABLE5\n",
    ")\n",
    "o.execute_sql(drop_sql, hints={'odps.sql.allow.fullscan': 'true', 'odps.sql.submit.mode': 'script'})"
   ]
  },
  {
   "cell_type": "code",
   "execution_count": 100,
   "id": "f052ea45-7a56-4293-879d-2cea4f4e0878",
   "metadata": {},
   "outputs": [],
   "source": [
    "insert_watch_rank_sql = '''set odps.sql.validate.orderby.limit=false;\n",
    "        INSERT INTO {TEMP_WATCH_TABLE2}\n",
    "        SELECT new_repo_id, row_number() over() AS rank\n",
    "        FROM {TEMP_WATCH_TABLE1}\n",
    "        ORDER BY rank\n",
    "'''.format(\n",
    "    TEMP_WATCH_TABLE1=TEMP_WATCH_TABLE4,\n",
    "    TEMP_WATCH_TABLE2=TEMP_WATCH_TABLE5\n",
    ")\n",
    "table = o.execute_sql(insert_watch_rank_sql, hints={'odps.sql.allow.fullscan': 'true',\"odps.sql.submit.mode\" : \"script\"})"
   ]
  },
  {
   "cell_type": "code",
   "execution_count": 101,
   "id": "854aad33-32aa-46e2-829b-0b5254b7672a",
   "metadata": {},
   "outputs": [
    {
     "data": {
      "text/html": [
       "<div>\n",
       "<style scoped>\n",
       "    .dataframe tbody tr th:only-of-type {\n",
       "        vertical-align: middle;\n",
       "    }\n",
       "\n",
       "    .dataframe tbody tr th {\n",
       "        vertical-align: top;\n",
       "    }\n",
       "\n",
       "    .dataframe thead th {\n",
       "        text-align: right;\n",
       "    }\n",
       "</style>\n",
       "<table border=\"1\" class=\"dataframe\">\n",
       "  <thead>\n",
       "    <tr style=\"text-align: right;\">\n",
       "      <th></th>\n",
       "      <th>new_repo_id</th>\n",
       "      <th>watch_rank</th>\n",
       "    </tr>\n",
       "  </thead>\n",
       "  <tbody>\n",
       "    <tr>\n",
       "      <th>0</th>\n",
       "      <td>3718661</td>\n",
       "      <td>1</td>\n",
       "    </tr>\n",
       "    <tr>\n",
       "      <th>1</th>\n",
       "      <td>252316</td>\n",
       "      <td>2</td>\n",
       "    </tr>\n",
       "    <tr>\n",
       "      <th>2</th>\n",
       "      <td>790124</td>\n",
       "      <td>3</td>\n",
       "    </tr>\n",
       "    <tr>\n",
       "      <th>3</th>\n",
       "      <td>105344</td>\n",
       "      <td>4</td>\n",
       "    </tr>\n",
       "    <tr>\n",
       "      <th>4</th>\n",
       "      <td>1467892</td>\n",
       "      <td>5</td>\n",
       "    </tr>\n",
       "    <tr>\n",
       "      <th>5</th>\n",
       "      <td>119738</td>\n",
       "      <td>6</td>\n",
       "    </tr>\n",
       "    <tr>\n",
       "      <th>6</th>\n",
       "      <td>640979</td>\n",
       "      <td>7</td>\n",
       "    </tr>\n",
       "    <tr>\n",
       "      <th>7</th>\n",
       "      <td>93501</td>\n",
       "      <td>8</td>\n",
       "    </tr>\n",
       "    <tr>\n",
       "      <th>8</th>\n",
       "      <td>441142</td>\n",
       "      <td>9</td>\n",
       "    </tr>\n",
       "    <tr>\n",
       "      <th>9</th>\n",
       "      <td>192504</td>\n",
       "      <td>10</td>\n",
       "    </tr>\n",
       "  </tbody>\n",
       "</table>\n",
       "</div>"
      ],
      "text/plain": [
       "   new_repo_id  watch_rank\n",
       "0      3718661           1\n",
       "1       252316           2\n",
       "2       790124           3\n",
       "3       105344           4\n",
       "4      1467892           5\n",
       "5       119738           6\n",
       "6       640979           7\n",
       "7        93501           8\n",
       "8       441142           9\n",
       "9       192504          10"
      ]
     },
     "execution_count": 101,
     "metadata": {},
     "output_type": "execute_result"
    }
   ],
   "source": [
    "data = DataFrame(o.get_table(TEMP_WATCH_TABLE5))\n",
    "data.head(10)"
   ]
  },
  {
   "cell_type": "code",
   "execution_count": 102,
   "id": "c1b3ed13-c0b4-44a2-9e4b-54005f6ee683",
   "metadata": {},
   "outputs": [
    {
     "data": {
      "text/html": [
       "<div>\n",
       "<style scoped>\n",
       "    .dataframe tbody tr th:only-of-type {\n",
       "        vertical-align: middle;\n",
       "    }\n",
       "\n",
       "    .dataframe tbody tr th {\n",
       "        vertical-align: top;\n",
       "    }\n",
       "\n",
       "    .dataframe thead th {\n",
       "        text-align: right;\n",
       "    }\n",
       "</style>\n",
       "<table border=\"1\" class=\"dataframe\">\n",
       "  <thead>\n",
       "    <tr style=\"text-align: right;\">\n",
       "      <th></th>\n",
       "      <th>new_repo_id</th>\n",
       "      <th>watch_rank</th>\n",
       "    </tr>\n",
       "  </thead>\n",
       "  <tbody>\n",
       "    <tr>\n",
       "      <th>0</th>\n",
       "      <td>3718661</td>\n",
       "      <td>1</td>\n",
       "    </tr>\n",
       "    <tr>\n",
       "      <th>1</th>\n",
       "      <td>252316</td>\n",
       "      <td>2</td>\n",
       "    </tr>\n",
       "    <tr>\n",
       "      <th>2</th>\n",
       "      <td>790124</td>\n",
       "      <td>3</td>\n",
       "    </tr>\n",
       "    <tr>\n",
       "      <th>3</th>\n",
       "      <td>105344</td>\n",
       "      <td>4</td>\n",
       "    </tr>\n",
       "    <tr>\n",
       "      <th>4</th>\n",
       "      <td>1467892</td>\n",
       "      <td>5</td>\n",
       "    </tr>\n",
       "  </tbody>\n",
       "</table>\n",
       "</div>"
      ],
      "text/plain": [
       "   new_repo_id  watch_rank\n",
       "0      3718661           1\n",
       "1       252316           2\n",
       "2       790124           3\n",
       "3       105344           4\n",
       "4      1467892           5"
      ]
     },
     "execution_count": 102,
     "metadata": {},
     "output_type": "execute_result"
    }
   ],
   "source": [
    "pd_idwatch = data.to_pandas()\n",
    "pd_idwatch.head()"
   ]
  },
  {
   "cell_type": "markdown",
   "id": "2cade91e-10eb-4abf-b5bd-192e29e8bea0",
   "metadata": {
    "tags": []
   },
   "source": [
    "#### 为方便展示，建立new_repo_id---repo_name---watch_rank对应关系表"
   ]
  },
  {
   "cell_type": "code",
   "execution_count": 103,
   "id": "a637a8e9-f832-4490-a27f-409198bcc65b",
   "metadata": {},
   "outputs": [
    {
     "data": {
      "text/plain": [
       "<Instance 20220520025222653gyf0ta2a>"
      ]
     },
     "execution_count": 103,
     "metadata": {},
     "output_type": "execute_result"
    }
   ],
   "source": [
    "TEMP_WATCH_TABLE6 = 'hx_repo_actor_birank_pull_watch_repo_withname_rank'\n",
    "drop_sql = '''\n",
    "    DROP TABLE IF EXISTS {TEMP_WATCH_TABLE};\n",
    "    CREATE TABLE IF NOT EXISTS {TEMP_WATCH_TABLE}\n",
    "    (\n",
    "        new_repo_id     BIGINT,\n",
    "        repo_name    STRING,\n",
    "        watch_rank    BIGINT\n",
    "    );\n",
    "'''.format(\n",
    "    TEMP_WATCH_TABLE=TEMP_WATCH_TABLE6\n",
    ")\n",
    "o.execute_sql(drop_sql, hints={'odps.sql.allow.fullscan': 'true', 'odps.sql.submit.mode': 'script'})"
   ]
  },
  {
   "cell_type": "code",
   "execution_count": 104,
   "id": "b48bad01-0502-4ba2-b71e-ba967f1d8cdc",
   "metadata": {},
   "outputs": [],
   "source": [
    "sql = '''set odps.sql.validate.orderby.limit=false;\n",
    "        INSERT INTO {TEMP_WATCH_TABLE4}\n",
    "        SELECT\n",
    "            {TEMP_WATCH_TABLE1}.new_repo_id,\n",
    "            repo_name,\n",
    "            watch_rank\n",
    "        FROM {TEMP_WATCH_TABLE1}, {TEMP_WATCH_TABLE2}, {TEMP_WATCH_TABLE3}\n",
    "        WHERE {TEMP_WATCH_TABLE1}.new_repo_id = {TEMP_WATCH_TABLE3}.new_repo_id\n",
    "        AND {TEMP_WATCH_TABLE3}.repo_id = {TEMP_WATCH_TABLE2}.repo_id\n",
    "        ORDER BY watch_rank'''.format(\n",
    "    TEMP_WATCH_TABLE1=TEMP_WATCH_TABLE5,\n",
    "    TEMP_WATCH_TABLE2=TEMP_TABLE_NAME15,\n",
    "    TEMP_WATCH_TABLE3=TEMP_WATCH_TABLE2,\n",
    "    TEMP_WATCH_TABLE4=TEMP_WATCH_TABLE6\n",
    ")\n",
    "table = o.execute_sql(sql, hints={\"odps.sql.submit.mode\" : \"script\"})"
   ]
  },
  {
   "cell_type": "code",
   "execution_count": 105,
   "id": "82dafa91-2083-422f-9649-3aa904388cf9",
   "metadata": {
    "tags": []
   },
   "outputs": [
    {
     "data": {
      "text/html": [
       "<div>\n",
       "<style scoped>\n",
       "    .dataframe tbody tr th:only-of-type {\n",
       "        vertical-align: middle;\n",
       "    }\n",
       "\n",
       "    .dataframe tbody tr th {\n",
       "        vertical-align: top;\n",
       "    }\n",
       "\n",
       "    .dataframe thead th {\n",
       "        text-align: right;\n",
       "    }\n",
       "</style>\n",
       "<table border=\"1\" class=\"dataframe\">\n",
       "  <thead>\n",
       "    <tr style=\"text-align: right;\">\n",
       "      <th></th>\n",
       "      <th>new_repo_id</th>\n",
       "      <th>repo_name</th>\n",
       "      <th>watch_rank</th>\n",
       "    </tr>\n",
       "  </thead>\n",
       "  <tbody>\n",
       "    <tr>\n",
       "      <th>0</th>\n",
       "      <td>3718661</td>\n",
       "      <td>996icu/996.ICU</td>\n",
       "      <td>1</td>\n",
       "    </tr>\n",
       "    <tr>\n",
       "      <th>1</th>\n",
       "      <td>252316</td>\n",
       "      <td>freeCodeCamp/freeCodeCamp</td>\n",
       "      <td>2</td>\n",
       "    </tr>\n",
       "    <tr>\n",
       "      <th>2</th>\n",
       "      <td>790124</td>\n",
       "      <td>jwasham/coding-interview-university</td>\n",
       "      <td>3</td>\n",
       "    </tr>\n",
       "    <tr>\n",
       "      <th>3</th>\n",
       "      <td>105344</td>\n",
       "      <td>vuejs/vue</td>\n",
       "      <td>4</td>\n",
       "    </tr>\n",
       "    <tr>\n",
       "      <th>4</th>\n",
       "      <td>1467892</td>\n",
       "      <td>kamranahmedse/developer-roadmap</td>\n",
       "      <td>5</td>\n",
       "    </tr>\n",
       "    <tr>\n",
       "      <th>5</th>\n",
       "      <td>119738</td>\n",
       "      <td>EbookFoundation/free-programming-books</td>\n",
       "      <td>6</td>\n",
       "    </tr>\n",
       "    <tr>\n",
       "      <th>6</th>\n",
       "      <td>640979</td>\n",
       "      <td>public-apis/public-apis</td>\n",
       "      <td>7</td>\n",
       "    </tr>\n",
       "    <tr>\n",
       "      <th>7</th>\n",
       "      <td>93501</td>\n",
       "      <td>facebook/react</td>\n",
       "      <td>8</td>\n",
       "    </tr>\n",
       "    <tr>\n",
       "      <th>8</th>\n",
       "      <td>441142</td>\n",
       "      <td>tensorflow/tensorflow</td>\n",
       "      <td>9</td>\n",
       "    </tr>\n",
       "    <tr>\n",
       "      <th>9</th>\n",
       "      <td>192504</td>\n",
       "      <td>sindresorhus/awesome</td>\n",
       "      <td>10</td>\n",
       "    </tr>\n",
       "  </tbody>\n",
       "</table>\n",
       "</div>"
      ],
      "text/plain": [
       "   new_repo_id                               repo_name  watch_rank\n",
       "0      3718661                          996icu/996.ICU           1\n",
       "1       252316               freeCodeCamp/freeCodeCamp           2\n",
       "2       790124     jwasham/coding-interview-university           3\n",
       "3       105344                               vuejs/vue           4\n",
       "4      1467892         kamranahmedse/developer-roadmap           5\n",
       "5       119738  EbookFoundation/free-programming-books           6\n",
       "6       640979                 public-apis/public-apis           7\n",
       "7        93501                          facebook/react           8\n",
       "8       441142                   tensorflow/tensorflow           9\n",
       "9       192504                    sindresorhus/awesome          10"
      ]
     },
     "execution_count": 105,
     "metadata": {},
     "output_type": "execute_result"
    }
   ],
   "source": [
    "data = DataFrame(o.get_table(TEMP_WATCH_TABLE6))\n",
    "data.head(10)"
   ]
  },
  {
   "cell_type": "markdown",
   "id": "3b1fb025-8a67-4d6f-9b30-6415ed66a749",
   "metadata": {
    "tags": []
   },
   "source": [
    "### followers"
   ]
  },
  {
   "cell_type": "markdown",
   "id": "3d2effcd-3abc-48bd-a65e-8b07dbf40d99",
   "metadata": {
    "tags": []
   },
   "source": [
    "#### 从TEMP_TABLE_NAME16_1中取出actor_id---actor_name对应表"
   ]
  },
  {
   "cell_type": "code",
   "execution_count": 106,
   "id": "172d695b-7391-4e69-bc01-dcb4ead2fb0b",
   "metadata": {},
   "outputs": [
    {
     "data": {
      "text/plain": [
       "<Instance 20220520025236714gi1205pr2>"
      ]
     },
     "execution_count": 106,
     "metadata": {},
     "output_type": "execute_result"
    }
   ],
   "source": [
    "TEMP_FOLLOW_TABLE0 = 'hx_repo_actor_birank_pull_forfollower_actorid'\n",
    "drop_sql = '''\n",
    "    DROP TABLE IF EXISTS {TEMP_FOLLOW_TABLE};\n",
    "    CREATE TABLE IF NOT EXISTS {TEMP_FOLLOW_TABLE}\n",
    "    (\n",
    "        actor_id     BIGINT,\n",
    "        actor_name    STRING\n",
    "    );\n",
    "'''.format(\n",
    "    TEMP_FOLLOW_TABLE=TEMP_FOLLOW_TABLE0\n",
    ")\n",
    "o.execute_sql(drop_sql, hints={'odps.sql.allow.fullscan': 'true', 'odps.sql.submit.mode': 'script'})"
   ]
  },
  {
   "cell_type": "code",
   "execution_count": 107,
   "id": "9bce8729-5a0e-48d8-99a4-ef3f4357f504",
   "metadata": {},
   "outputs": [],
   "source": [
    "sql = '''set odps.sql.validate.orderby.limit=false;\n",
    "        INSERT INTO {TEMP_FOLLOW_TABLE2}\n",
    "        SELECT DISTINCT actor_id, actor_name\n",
    "        FROM {TEMP_FOLLOW_TABLE1}\n",
    "        ORDER BY actor_id'''.format(\n",
    "    TEMP_FOLLOW_TABLE1=TEMP_TABLE_NAME16_1,\n",
    "    TEMP_FOLLOW_TABLE2=TEMP_FOLLOW_TABLE0)\n",
    "table = o.execute_sql(sql, hints={\"odps.sql.submit.mode\" : \"script\"})"
   ]
  },
  {
   "cell_type": "code",
   "execution_count": 108,
   "id": "34e8d64c-0750-449f-ba31-85d484f0addf",
   "metadata": {},
   "outputs": [
    {
     "data": {
      "text/html": [
       "<div>\n",
       "<style scoped>\n",
       "    .dataframe tbody tr th:only-of-type {\n",
       "        vertical-align: middle;\n",
       "    }\n",
       "\n",
       "    .dataframe tbody tr th {\n",
       "        vertical-align: top;\n",
       "    }\n",
       "\n",
       "    .dataframe thead th {\n",
       "        text-align: right;\n",
       "    }\n",
       "</style>\n",
       "<table border=\"1\" class=\"dataframe\">\n",
       "  <thead>\n",
       "    <tr style=\"text-align: right;\">\n",
       "      <th></th>\n",
       "      <th>actor_id</th>\n",
       "      <th>actor_name</th>\n",
       "    </tr>\n",
       "  </thead>\n",
       "  <tbody>\n",
       "    <tr>\n",
       "      <th>0</th>\n",
       "      <td>1</td>\n",
       "      <td>mojombo</td>\n",
       "    </tr>\n",
       "    <tr>\n",
       "      <th>1</th>\n",
       "      <td>4</td>\n",
       "      <td>wycats</td>\n",
       "    </tr>\n",
       "    <tr>\n",
       "      <th>2</th>\n",
       "      <td>7</td>\n",
       "      <td>evanphx</td>\n",
       "    </tr>\n",
       "    <tr>\n",
       "      <th>3</th>\n",
       "      <td>17</td>\n",
       "      <td>vanpelt</td>\n",
       "    </tr>\n",
       "    <tr>\n",
       "      <th>4</th>\n",
       "      <td>18</td>\n",
       "      <td>wayneeseguin</td>\n",
       "    </tr>\n",
       "    <tr>\n",
       "      <th>5</th>\n",
       "      <td>19</td>\n",
       "      <td>brynary</td>\n",
       "    </tr>\n",
       "    <tr>\n",
       "      <th>6</th>\n",
       "      <td>20</td>\n",
       "      <td>kevinclark</td>\n",
       "    </tr>\n",
       "    <tr>\n",
       "      <th>7</th>\n",
       "      <td>21</td>\n",
       "      <td>technoweenie</td>\n",
       "    </tr>\n",
       "    <tr>\n",
       "      <th>8</th>\n",
       "      <td>22</td>\n",
       "      <td>macournoyer</td>\n",
       "    </tr>\n",
       "    <tr>\n",
       "      <th>9</th>\n",
       "      <td>25</td>\n",
       "      <td>Caged</td>\n",
       "    </tr>\n",
       "  </tbody>\n",
       "</table>\n",
       "</div>"
      ],
      "text/plain": [
       "   actor_id    actor_name\n",
       "0         1       mojombo\n",
       "1         4        wycats\n",
       "2         7       evanphx\n",
       "3        17       vanpelt\n",
       "4        18  wayneeseguin\n",
       "5        19       brynary\n",
       "6        20    kevinclark\n",
       "7        21  technoweenie\n",
       "8        22   macournoyer\n",
       "9        25         Caged"
      ]
     },
     "execution_count": 108,
     "metadata": {},
     "output_type": "execute_result"
    }
   ],
   "source": [
    "data = DataFrame(o.get_table(TEMP_FOLLOW_TABLE0))\n",
    "data.head(10)"
   ]
  },
  {
   "cell_type": "code",
   "execution_count": 109,
   "id": "3f4d98da-4bd6-4098-b380-10cdbdd40d0c",
   "metadata": {},
   "outputs": [
    {
     "name": "stdout",
     "output_type": "stream",
     "text": [
      "odps.Record {\n",
      "  actor_id            39191\n",
      "  actor_name          'paulirish'\n",
      "}\n"
     ]
    }
   ],
   "source": [
    "# 39191的name\n",
    "select_39191 = '''SELECT * FROM {TEMP_FOLLOW_TABLE} WHERE actor_id = 39191'''.format(TEMP_FOLLOW_TABLE=TEMP_FOLLOW_TABLE0)\n",
    "table_39191 = o.execute_sql(select_39191, hints={'odps.sql.allow.fullscan': 'true', \"odps.sql.submit.mode\" : \"script\"})\n",
    "with table_39191.open_reader(tunnel=True) as reader:\n",
    "    for record in reader:\n",
    "        print(record)"
   ]
  },
  {
   "cell_type": "markdown",
   "id": "79d844ce-7374-4594-8e4e-4614909f35f0",
   "metadata": {
    "tags": []
   },
   "source": [
    "#### 从ods_github_users中获得actor_id---actor_name唯一对应表"
   ]
  },
  {
   "cell_type": "code",
   "execution_count": 110,
   "id": "0b877796-c701-42a7-9b42-cb89627bba29",
   "metadata": {},
   "outputs": [
    {
     "data": {
      "text/plain": [
       "<Instance 20220520025248140g6p2igr>"
      ]
     },
     "execution_count": 110,
     "metadata": {},
     "output_type": "execute_result"
    }
   ],
   "source": [
    "TEMP_FOLLOW_TABLE1 = 'hx_repo_actor_birank_pull_actorid'\n",
    "drop_sql = '''\n",
    "    DROP TABLE IF EXISTS {TEMP_FOLLOW_TABLE};\n",
    "    CREATE TABLE IF NOT EXISTS {TEMP_FOLLOW_TABLE}\n",
    "    (\n",
    "        actor_name    STRING,\n",
    "        follower_cnt    BIGINT DEFAULT 0,\n",
    "        time    DATE\n",
    "    );\n",
    "'''.format(\n",
    "    TEMP_FOLLOW_TABLE=TEMP_FOLLOW_TABLE1\n",
    ")\n",
    "o.execute_sql(drop_sql, hints={'odps.sql.allow.fullscan': 'true', 'odps.sql.submit.mode': 'script'})"
   ]
  },
  {
   "cell_type": "code",
   "execution_count": 111,
   "id": "61478342-e453-4aff-9e59-a1b11bc36198",
   "metadata": {},
   "outputs": [],
   "source": [
    "follower_sql = '''set odps.sql.validate.orderby.limit=false;\n",
    "        INSERT INTO {TEMP_FOLLOW_TABLE1}\n",
    "        SELECT login, CHAR_MATCHCOUNT(followers, ',') + 1 AS follower_cnt, lastupdatedat\n",
    "        FROM ods_github_users\n",
    "        WHERE login NOT LIKE '%bot%' AND TO_CHAR(lastupdatedat,'yyyymmdd') >= '20160101'\n",
    "        AND login in (SELECT actor_name FROM {TEMP_FOLLOW_TABLE0})\n",
    "        ORDER BY follower_cnt desc\n",
    "        '''.format(\n",
    "    TEMP_FOLLOW_TABLE0=TEMP_FOLLOW_TABLE0,\n",
    "    TEMP_FOLLOW_TABLE1=TEMP_FOLLOW_TABLE1\n",
    ")\n",
    "table = o.execute_sql(follower_sql, hints={\"odps.sql.submit.mode\" : \"script\"})"
   ]
  },
  {
   "cell_type": "code",
   "execution_count": 112,
   "id": "54a9bf62-a940-403a-b7d9-e0704e19bae1",
   "metadata": {},
   "outputs": [
    {
     "data": {
      "text/html": [
       "<div>\n",
       "<style scoped>\n",
       "    .dataframe tbody tr th:only-of-type {\n",
       "        vertical-align: middle;\n",
       "    }\n",
       "\n",
       "    .dataframe tbody tr th {\n",
       "        vertical-align: top;\n",
       "    }\n",
       "\n",
       "    .dataframe thead th {\n",
       "        text-align: right;\n",
       "    }\n",
       "</style>\n",
       "<table border=\"1\" class=\"dataframe\">\n",
       "  <thead>\n",
       "    <tr style=\"text-align: right;\">\n",
       "      <th></th>\n",
       "      <th>actor_name</th>\n",
       "      <th>follower_cnt</th>\n",
       "      <th>time</th>\n",
       "    </tr>\n",
       "  </thead>\n",
       "  <tbody>\n",
       "    <tr>\n",
       "      <th>0</th>\n",
       "      <td>torvalds</td>\n",
       "      <td>148982</td>\n",
       "      <td>2022-01-02</td>\n",
       "    </tr>\n",
       "    <tr>\n",
       "      <th>1</th>\n",
       "      <td>torvalds</td>\n",
       "      <td>146716</td>\n",
       "      <td>2022-01-02</td>\n",
       "    </tr>\n",
       "    <tr>\n",
       "      <th>2</th>\n",
       "      <td>yyx990803</td>\n",
       "      <td>77598</td>\n",
       "      <td>2022-01-24</td>\n",
       "    </tr>\n",
       "    <tr>\n",
       "      <th>3</th>\n",
       "      <td>yyx990803</td>\n",
       "      <td>76771</td>\n",
       "      <td>2022-01-24</td>\n",
       "    </tr>\n",
       "    <tr>\n",
       "      <th>4</th>\n",
       "      <td>yyx990803</td>\n",
       "      <td>75801</td>\n",
       "      <td>2022-01-24</td>\n",
       "    </tr>\n",
       "    <tr>\n",
       "      <th>5</th>\n",
       "      <td>gaearon</td>\n",
       "      <td>71341</td>\n",
       "      <td>2022-01-13</td>\n",
       "    </tr>\n",
       "    <tr>\n",
       "      <th>6</th>\n",
       "      <td>gaearon</td>\n",
       "      <td>70503</td>\n",
       "      <td>2022-01-13</td>\n",
       "    </tr>\n",
       "    <tr>\n",
       "      <th>7</th>\n",
       "      <td>gaearon</td>\n",
       "      <td>69646</td>\n",
       "      <td>2022-01-13</td>\n",
       "    </tr>\n",
       "    <tr>\n",
       "      <th>8</th>\n",
       "      <td>JakeWharton</td>\n",
       "      <td>61869</td>\n",
       "      <td>2022-01-22</td>\n",
       "    </tr>\n",
       "    <tr>\n",
       "      <th>9</th>\n",
       "      <td>JakeWharton</td>\n",
       "      <td>61680</td>\n",
       "      <td>2022-01-22</td>\n",
       "    </tr>\n",
       "  </tbody>\n",
       "</table>\n",
       "</div>"
      ],
      "text/plain": [
       "    actor_name  follower_cnt        time\n",
       "0     torvalds        148982  2022-01-02\n",
       "1     torvalds        146716  2022-01-02\n",
       "2    yyx990803         77598  2022-01-24\n",
       "3    yyx990803         76771  2022-01-24\n",
       "4    yyx990803         75801  2022-01-24\n",
       "5      gaearon         71341  2022-01-13\n",
       "6      gaearon         70503  2022-01-13\n",
       "7      gaearon         69646  2022-01-13\n",
       "8  JakeWharton         61869  2022-01-22\n",
       "9  JakeWharton         61680  2022-01-22"
      ]
     },
     "execution_count": 112,
     "metadata": {},
     "output_type": "execute_result"
    }
   ],
   "source": [
    "data = DataFrame(o.get_table(TEMP_FOLLOW_TABLE1))\n",
    "data.head(10)"
   ]
  },
  {
   "cell_type": "markdown",
   "id": "8d702a67-520d-460f-aca9-c0b315bf239d",
   "metadata": {
    "tags": []
   },
   "source": [
    "#### 将actor_name以actor_id代替，得到actor_id---follower_cnt---time对应表"
   ]
  },
  {
   "cell_type": "code",
   "execution_count": 113,
   "id": "1fdeb630-cd9b-4156-b6d7-ad51ea710289",
   "metadata": {},
   "outputs": [
    {
     "data": {
      "text/plain": [
       "<Instance 20220520025303230gcs5n4pr2>"
      ]
     },
     "execution_count": 113,
     "metadata": {},
     "output_type": "execute_result"
    }
   ],
   "source": [
    "TEMP_FOLLOW_TABLE1_00 = 'hx_repo_actor_birank_pull_id_to_name'\n",
    "drop_sql = '''\n",
    "    DROP TABLE IF EXISTS {TEMP_FOLLOW_TABLE};\n",
    "    CREATE TABLE IF NOT EXISTS {TEMP_FOLLOW_TABLE}\n",
    "    (\n",
    "        actor_id    BIGINT,\n",
    "        follower_cnt    BIGINT,\n",
    "        time    DATE\n",
    "    );\n",
    "'''.format(\n",
    "    TEMP_FOLLOW_TABLE=TEMP_FOLLOW_TABLE1_00\n",
    ")\n",
    "o.execute_sql(drop_sql, hints={'odps.sql.allow.fullscan': 'true', 'odps.sql.submit.mode': 'script'})"
   ]
  },
  {
   "cell_type": "code",
   "execution_count": 114,
   "id": "da4551c4-13ee-4d6f-8bbc-3890e63d4efd",
   "metadata": {},
   "outputs": [],
   "source": [
    "sql = '''set odps.sql.validate.orderby.limit=false;\n",
    "        INSERT INTO {TEMP_FOLLOW_TABLE2}\n",
    "        SELECT actor_id, follower_cnt, time\n",
    "        FROM {TEMP_FOLLOW_TABLE0}, {TEMP_FOLLOW_TABLE1}\n",
    "        WHERE {TEMP_FOLLOW_TABLE0}.actor_name = {TEMP_FOLLOW_TABLE1}.actor_name\n",
    "        ORDER BY follower_cnt DESC\n",
    "        '''.format(\n",
    "    TEMP_FOLLOW_TABLE0=TEMP_FOLLOW_TABLE0,\n",
    "    TEMP_FOLLOW_TABLE1=TEMP_FOLLOW_TABLE1,\n",
    "    TEMP_FOLLOW_TABLE2=TEMP_FOLLOW_TABLE1_00\n",
    ")\n",
    "table = o.execute_sql(sql, hints={\"odps.sql.submit.mode\" : \"script\"})"
   ]
  },
  {
   "cell_type": "code",
   "execution_count": 115,
   "id": "bade7bff-9ece-45c5-962e-c6ce3931926a",
   "metadata": {},
   "outputs": [
    {
     "data": {
      "text/html": [
       "<div>\n",
       "<style scoped>\n",
       "    .dataframe tbody tr th:only-of-type {\n",
       "        vertical-align: middle;\n",
       "    }\n",
       "\n",
       "    .dataframe tbody tr th {\n",
       "        vertical-align: top;\n",
       "    }\n",
       "\n",
       "    .dataframe thead th {\n",
       "        text-align: right;\n",
       "    }\n",
       "</style>\n",
       "<table border=\"1\" class=\"dataframe\">\n",
       "  <thead>\n",
       "    <tr style=\"text-align: right;\">\n",
       "      <th></th>\n",
       "      <th>actor_id</th>\n",
       "      <th>follower_cnt</th>\n",
       "      <th>time</th>\n",
       "    </tr>\n",
       "  </thead>\n",
       "  <tbody>\n",
       "    <tr>\n",
       "      <th>0</th>\n",
       "      <td>1024025</td>\n",
       "      <td>148982</td>\n",
       "      <td>2022-01-02</td>\n",
       "    </tr>\n",
       "    <tr>\n",
       "      <th>1</th>\n",
       "      <td>1024025</td>\n",
       "      <td>146716</td>\n",
       "      <td>2022-01-02</td>\n",
       "    </tr>\n",
       "    <tr>\n",
       "      <th>2</th>\n",
       "      <td>499550</td>\n",
       "      <td>77598</td>\n",
       "      <td>2022-01-24</td>\n",
       "    </tr>\n",
       "    <tr>\n",
       "      <th>3</th>\n",
       "      <td>499550</td>\n",
       "      <td>76771</td>\n",
       "      <td>2022-01-24</td>\n",
       "    </tr>\n",
       "    <tr>\n",
       "      <th>4</th>\n",
       "      <td>499550</td>\n",
       "      <td>75801</td>\n",
       "      <td>2022-01-24</td>\n",
       "    </tr>\n",
       "    <tr>\n",
       "      <th>5</th>\n",
       "      <td>810438</td>\n",
       "      <td>71341</td>\n",
       "      <td>2022-01-13</td>\n",
       "    </tr>\n",
       "    <tr>\n",
       "      <th>6</th>\n",
       "      <td>810438</td>\n",
       "      <td>70503</td>\n",
       "      <td>2022-01-13</td>\n",
       "    </tr>\n",
       "    <tr>\n",
       "      <th>7</th>\n",
       "      <td>810438</td>\n",
       "      <td>69646</td>\n",
       "      <td>2022-01-13</td>\n",
       "    </tr>\n",
       "    <tr>\n",
       "      <th>8</th>\n",
       "      <td>66577</td>\n",
       "      <td>61869</td>\n",
       "      <td>2022-01-22</td>\n",
       "    </tr>\n",
       "    <tr>\n",
       "      <th>9</th>\n",
       "      <td>66577</td>\n",
       "      <td>61680</td>\n",
       "      <td>2022-01-22</td>\n",
       "    </tr>\n",
       "  </tbody>\n",
       "</table>\n",
       "</div>"
      ],
      "text/plain": [
       "   actor_id  follower_cnt        time\n",
       "0   1024025        148982  2022-01-02\n",
       "1   1024025        146716  2022-01-02\n",
       "2    499550         77598  2022-01-24\n",
       "3    499550         76771  2022-01-24\n",
       "4    499550         75801  2022-01-24\n",
       "5    810438         71341  2022-01-13\n",
       "6    810438         70503  2022-01-13\n",
       "7    810438         69646  2022-01-13\n",
       "8     66577         61869  2022-01-22\n",
       "9     66577         61680  2022-01-22"
      ]
     },
     "execution_count": 115,
     "metadata": {},
     "output_type": "execute_result"
    }
   ],
   "source": [
    "data = DataFrame(o.get_table(TEMP_FOLLOW_TABLE1_00))\n",
    "data.head(10)"
   ]
  },
  {
   "cell_type": "markdown",
   "id": "b72e11bc-923f-4460-873f-25b819ddb714",
   "metadata": {
    "tags": []
   },
   "source": [
    "#### 获得最新的actor_id对应的follow_cnt"
   ]
  },
  {
   "cell_type": "code",
   "execution_count": 116,
   "id": "a411263d-290a-40d3-ab1b-43876982e567",
   "metadata": {},
   "outputs": [
    {
     "data": {
      "text/plain": [
       "<Instance 20220520025310688gi5rdgr>"
      ]
     },
     "execution_count": 116,
     "metadata": {},
     "output_type": "execute_result"
    }
   ],
   "source": [
    "TEMP_FOLLOW_TABLE1_0 = 'hx_repo_actor_birank_pull_today_newest'\n",
    "drop_sql = '''\n",
    "    DROP TABLE IF EXISTS {TEMP_FOLLOW_TABLE};\n",
    "    CREATE TABLE IF NOT EXISTS {TEMP_FOLLOW_TABLE}\n",
    "    (\n",
    "        actor_id    BIGINT,\n",
    "        follow_cnt    BIGINT,\n",
    "        time    DATE\n",
    "    );\n",
    "'''.format(\n",
    "    TEMP_FOLLOW_TABLE=TEMP_FOLLOW_TABLE1_0\n",
    ")\n",
    "o.execute_sql(drop_sql, hints={'odps.sql.allow.fullscan': 'true', 'odps.sql.submit.mode': 'script'})"
   ]
  },
  {
   "cell_type": "code",
   "execution_count": 117,
   "id": "04266f0b-df22-4284-a256-41f1c7479903",
   "metadata": {},
   "outputs": [],
   "source": [
    "today_newest_sql = '''set odps.sql.validate.orderby.limit=false;\n",
    "        INSERT INTO {TEMP_FOLLOW_TABLE1}\n",
    "        SELECT actor_id, MAX(follower_cnt) AS follow_cnt, time\n",
    "        FROM {TEMP_FOLLOW_TABLE0}\n",
    "        GROUP BY actor_id, time\n",
    "        ORDER BY follow_cnt DESC\n",
    "        '''.format(\n",
    "    TEMP_FOLLOW_TABLE0=TEMP_FOLLOW_TABLE1_00,\n",
    "    TEMP_FOLLOW_TABLE1=TEMP_FOLLOW_TABLE1_0\n",
    ")\n",
    "table = o.execute_sql(today_newest_sql, hints={\"odps.sql.submit.mode\" : \"script\"})"
   ]
  },
  {
   "cell_type": "code",
   "execution_count": 118,
   "id": "2376991e-ab06-4ee1-b340-f0a8f0f95dad",
   "metadata": {},
   "outputs": [
    {
     "data": {
      "text/html": [
       "<div>\n",
       "<style scoped>\n",
       "    .dataframe tbody tr th:only-of-type {\n",
       "        vertical-align: middle;\n",
       "    }\n",
       "\n",
       "    .dataframe tbody tr th {\n",
       "        vertical-align: top;\n",
       "    }\n",
       "\n",
       "    .dataframe thead th {\n",
       "        text-align: right;\n",
       "    }\n",
       "</style>\n",
       "<table border=\"1\" class=\"dataframe\">\n",
       "  <thead>\n",
       "    <tr style=\"text-align: right;\">\n",
       "      <th></th>\n",
       "      <th>actor_id</th>\n",
       "      <th>follow_cnt</th>\n",
       "      <th>time</th>\n",
       "    </tr>\n",
       "  </thead>\n",
       "  <tbody>\n",
       "    <tr>\n",
       "      <th>0</th>\n",
       "      <td>1024025</td>\n",
       "      <td>148982</td>\n",
       "      <td>2022-01-02</td>\n",
       "    </tr>\n",
       "    <tr>\n",
       "      <th>1</th>\n",
       "      <td>499550</td>\n",
       "      <td>77598</td>\n",
       "      <td>2022-01-24</td>\n",
       "    </tr>\n",
       "    <tr>\n",
       "      <th>2</th>\n",
       "      <td>810438</td>\n",
       "      <td>71341</td>\n",
       "      <td>2022-01-13</td>\n",
       "    </tr>\n",
       "    <tr>\n",
       "      <th>3</th>\n",
       "      <td>66577</td>\n",
       "      <td>61869</td>\n",
       "      <td>2022-01-22</td>\n",
       "    </tr>\n",
       "    <tr>\n",
       "      <th>4</th>\n",
       "      <td>170270</td>\n",
       "      <td>46660</td>\n",
       "      <td>2022-01-29</td>\n",
       "    </tr>\n",
       "    <tr>\n",
       "      <th>5</th>\n",
       "      <td>150330</td>\n",
       "      <td>33945</td>\n",
       "      <td>2022-01-28</td>\n",
       "    </tr>\n",
       "    <tr>\n",
       "      <th>6</th>\n",
       "      <td>39191</td>\n",
       "      <td>30116</td>\n",
       "      <td>2021-12-27</td>\n",
       "    </tr>\n",
       "    <tr>\n",
       "      <th>7</th>\n",
       "      <td>8547538</td>\n",
       "      <td>27087</td>\n",
       "      <td>2022-01-17</td>\n",
       "    </tr>\n",
       "    <tr>\n",
       "      <th>8</th>\n",
       "      <td>176013</td>\n",
       "      <td>26789</td>\n",
       "      <td>2022-01-26</td>\n",
       "    </tr>\n",
       "    <tr>\n",
       "      <th>9</th>\n",
       "      <td>80</td>\n",
       "      <td>26315</td>\n",
       "      <td>2022-01-21</td>\n",
       "    </tr>\n",
       "  </tbody>\n",
       "</table>\n",
       "</div>"
      ],
      "text/plain": [
       "   actor_id  follow_cnt        time\n",
       "0   1024025      148982  2022-01-02\n",
       "1    499550       77598  2022-01-24\n",
       "2    810438       71341  2022-01-13\n",
       "3     66577       61869  2022-01-22\n",
       "4    170270       46660  2022-01-29\n",
       "5    150330       33945  2022-01-28\n",
       "6     39191       30116  2021-12-27\n",
       "7   8547538       27087  2022-01-17\n",
       "8    176013       26789  2022-01-26\n",
       "9        80       26315  2022-01-21"
      ]
     },
     "execution_count": 118,
     "metadata": {},
     "output_type": "execute_result"
    }
   ],
   "source": [
    "data = DataFrame(o.get_table(TEMP_FOLLOW_TABLE1_0))\n",
    "data.head(10)"
   ]
  },
  {
   "cell_type": "markdown",
   "id": "9201420b-5499-4933-bcd3-7efd799767a2",
   "metadata": {
    "tags": []
   },
   "source": [
    "#### 仅保留actor_id---follow_cnt信息"
   ]
  },
  {
   "cell_type": "code",
   "execution_count": 119,
   "id": "e3237756-9e95-49ff-b9d6-585c25f0cfef",
   "metadata": {},
   "outputs": [
    {
     "data": {
      "text/plain": [
       "<Instance 2022052002531551gzcxfgr>"
      ]
     },
     "execution_count": 119,
     "metadata": {},
     "output_type": "execute_result"
    }
   ],
   "source": [
    "TEMP_FOLLOW_TABLE2 = 'hx_repo_actor_birank_pull_latest_time'\n",
    "drop_sql = '''\n",
    "    DROP TABLE IF EXISTS {TEMP_FOLLOW_TABLE};\n",
    "    CREATE TABLE IF NOT EXISTS {TEMP_FOLLOW_TABLE}\n",
    "    (\n",
    "        actor_id    BIGINT,\n",
    "        follow_cnt    BIGINT DEFAULT 0\n",
    "    );\n",
    "'''.format(\n",
    "    TEMP_FOLLOW_TABLE=TEMP_FOLLOW_TABLE2\n",
    ")\n",
    "o.execute_sql(drop_sql, hints={'odps.sql.allow.fullscan': 'true', 'odps.sql.submit.mode': 'script'})"
   ]
  },
  {
   "cell_type": "code",
   "execution_count": 120,
   "id": "d9c08d33-95a1-4914-872e-e9523d676130",
   "metadata": {},
   "outputs": [],
   "source": [
    "latest_time_sql = '''set odps.sql.validate.orderby.limit=false;\n",
    "        INSERT INTO {TEMP_FOLLOW_TABLE1}\n",
    "        SELECT actor_id, follow_cnt\n",
    "        FROM {TEMP_FOLLOW_TABLE0}\n",
    "        ORDER BY follow_cnt DESC\n",
    "        '''.format(\n",
    "    TEMP_FOLLOW_TABLE0=TEMP_FOLLOW_TABLE1_0,\n",
    "    TEMP_FOLLOW_TABLE1=TEMP_FOLLOW_TABLE2\n",
    ")\n",
    "table = o.execute_sql(latest_time_sql, hints={\"odps.sql.submit.mode\" : \"script\"})"
   ]
  },
  {
   "cell_type": "code",
   "execution_count": 121,
   "id": "989840d4-2864-4505-81ab-77e2792ad697",
   "metadata": {},
   "outputs": [
    {
     "data": {
      "text/html": [
       "<div>\n",
       "<style scoped>\n",
       "    .dataframe tbody tr th:only-of-type {\n",
       "        vertical-align: middle;\n",
       "    }\n",
       "\n",
       "    .dataframe tbody tr th {\n",
       "        vertical-align: top;\n",
       "    }\n",
       "\n",
       "    .dataframe thead th {\n",
       "        text-align: right;\n",
       "    }\n",
       "</style>\n",
       "<table border=\"1\" class=\"dataframe\">\n",
       "  <thead>\n",
       "    <tr style=\"text-align: right;\">\n",
       "      <th></th>\n",
       "      <th>actor_id</th>\n",
       "      <th>follow_cnt</th>\n",
       "    </tr>\n",
       "  </thead>\n",
       "  <tbody>\n",
       "    <tr>\n",
       "      <th>0</th>\n",
       "      <td>1024025</td>\n",
       "      <td>148982</td>\n",
       "    </tr>\n",
       "    <tr>\n",
       "      <th>1</th>\n",
       "      <td>499550</td>\n",
       "      <td>77598</td>\n",
       "    </tr>\n",
       "    <tr>\n",
       "      <th>2</th>\n",
       "      <td>810438</td>\n",
       "      <td>71341</td>\n",
       "    </tr>\n",
       "    <tr>\n",
       "      <th>3</th>\n",
       "      <td>66577</td>\n",
       "      <td>61869</td>\n",
       "    </tr>\n",
       "    <tr>\n",
       "      <th>4</th>\n",
       "      <td>170270</td>\n",
       "      <td>46660</td>\n",
       "    </tr>\n",
       "    <tr>\n",
       "      <th>5</th>\n",
       "      <td>150330</td>\n",
       "      <td>33945</td>\n",
       "    </tr>\n",
       "    <tr>\n",
       "      <th>6</th>\n",
       "      <td>39191</td>\n",
       "      <td>30116</td>\n",
       "    </tr>\n",
       "    <tr>\n",
       "      <th>7</th>\n",
       "      <td>8547538</td>\n",
       "      <td>27087</td>\n",
       "    </tr>\n",
       "    <tr>\n",
       "      <th>8</th>\n",
       "      <td>176013</td>\n",
       "      <td>26789</td>\n",
       "    </tr>\n",
       "    <tr>\n",
       "      <th>9</th>\n",
       "      <td>80</td>\n",
       "      <td>26315</td>\n",
       "    </tr>\n",
       "  </tbody>\n",
       "</table>\n",
       "</div>"
      ],
      "text/plain": [
       "   actor_id  follow_cnt\n",
       "0   1024025      148982\n",
       "1    499550       77598\n",
       "2    810438       71341\n",
       "3     66577       61869\n",
       "4    170270       46660\n",
       "5    150330       33945\n",
       "6     39191       30116\n",
       "7   8547538       27087\n",
       "8    176013       26789\n",
       "9        80       26315"
      ]
     },
     "execution_count": 121,
     "metadata": {},
     "output_type": "execute_result"
    }
   ],
   "source": [
    "data = DataFrame(o.get_table(TEMP_FOLLOW_TABLE2))\n",
    "data.head(10)"
   ]
  },
  {
   "cell_type": "markdown",
   "id": "d8587e2c-f20e-433e-bfb5-3d5f8d662ff4",
   "metadata": {
    "tags": []
   },
   "source": [
    "#### 建立actor_id---new_actor_id唯一对应关系"
   ]
  },
  {
   "cell_type": "code",
   "execution_count": 122,
   "id": "92af34d8-fa37-4983-b70f-2fb1a2a18825",
   "metadata": {},
   "outputs": [
    {
     "data": {
      "text/plain": [
       "<Instance 20220520025320516g2ia2i5s2>"
      ]
     },
     "execution_count": 122,
     "metadata": {},
     "output_type": "execute_result"
    }
   ],
   "source": [
    "TEMP_FOLLOW_TABLE3_0 = 'hx_repo_actor_birank_only_actor_id'\n",
    "drop_sql = '''\n",
    "    DROP TABLE IF EXISTS {TEMP_FOLLOW_TABLE};\n",
    "    CREATE TABLE IF NOT EXISTS {TEMP_FOLLOW_TABLE}\n",
    "    (\n",
    "        actor_id    BIGINT\n",
    "    );\n",
    "'''.format(\n",
    "    TEMP_FOLLOW_TABLE=TEMP_FOLLOW_TABLE3_0\n",
    ")\n",
    "o.execute_sql(drop_sql, hints={'odps.sql.allow.fullscan': 'true', 'odps.sql.submit.mode': 'script'})"
   ]
  },
  {
   "cell_type": "code",
   "execution_count": 123,
   "id": "22a7ce5c-6f10-42bc-ace4-c26cfe1f244f",
   "metadata": {},
   "outputs": [],
   "source": [
    "select_only_actorid_sql = '''set odps.sql.validate.orderby.limit=false;\n",
    "        INSERT INTO {TEMP_FOLLOW_TABLE2}\n",
    "        SELECT DISTINCT actor_id\n",
    "        FROM {TEMP_FOLLOW_TABLE1}\n",
    "        ORDER BY actor_id\n",
    "'''.format(\n",
    "    TEMP_FOLLOW_TABLE1=TEMP_FOLLOW_TABLE0,\n",
    "    TEMP_FOLLOW_TABLE2=TEMP_FOLLOW_TABLE3_0\n",
    ")\n",
    "table = o.execute_sql(select_only_actorid_sql, hints={'odps.sql.allow.fullscan': 'true',\"odps.sql.submit.mode\" : \"script\"})"
   ]
  },
  {
   "cell_type": "code",
   "execution_count": 124,
   "id": "bf02239e-d433-467e-af21-e47d08e41c20",
   "metadata": {},
   "outputs": [
    {
     "data": {
      "text/html": [
       "<div>\n",
       "<style scoped>\n",
       "    .dataframe tbody tr th:only-of-type {\n",
       "        vertical-align: middle;\n",
       "    }\n",
       "\n",
       "    .dataframe tbody tr th {\n",
       "        vertical-align: top;\n",
       "    }\n",
       "\n",
       "    .dataframe thead th {\n",
       "        text-align: right;\n",
       "    }\n",
       "</style>\n",
       "<table border=\"1\" class=\"dataframe\">\n",
       "  <thead>\n",
       "    <tr style=\"text-align: right;\">\n",
       "      <th></th>\n",
       "      <th>actor_id</th>\n",
       "    </tr>\n",
       "  </thead>\n",
       "  <tbody>\n",
       "    <tr>\n",
       "      <th>0</th>\n",
       "      <td>1</td>\n",
       "    </tr>\n",
       "    <tr>\n",
       "      <th>1</th>\n",
       "      <td>4</td>\n",
       "    </tr>\n",
       "    <tr>\n",
       "      <th>2</th>\n",
       "      <td>7</td>\n",
       "    </tr>\n",
       "    <tr>\n",
       "      <th>3</th>\n",
       "      <td>17</td>\n",
       "    </tr>\n",
       "    <tr>\n",
       "      <th>4</th>\n",
       "      <td>18</td>\n",
       "    </tr>\n",
       "    <tr>\n",
       "      <th>5</th>\n",
       "      <td>19</td>\n",
       "    </tr>\n",
       "    <tr>\n",
       "      <th>6</th>\n",
       "      <td>20</td>\n",
       "    </tr>\n",
       "    <tr>\n",
       "      <th>7</th>\n",
       "      <td>21</td>\n",
       "    </tr>\n",
       "    <tr>\n",
       "      <th>8</th>\n",
       "      <td>22</td>\n",
       "    </tr>\n",
       "    <tr>\n",
       "      <th>9</th>\n",
       "      <td>25</td>\n",
       "    </tr>\n",
       "  </tbody>\n",
       "</table>\n",
       "</div>"
      ],
      "text/plain": [
       "   actor_id\n",
       "0         1\n",
       "1         4\n",
       "2         7\n",
       "3        17\n",
       "4        18\n",
       "5        19\n",
       "6        20\n",
       "7        21\n",
       "8        22\n",
       "9        25"
      ]
     },
     "execution_count": 124,
     "metadata": {},
     "output_type": "execute_result"
    }
   ],
   "source": [
    "data = DataFrame(o.get_table(TEMP_FOLLOW_TABLE3_0))\n",
    "data.head(10)"
   ]
  },
  {
   "cell_type": "code",
   "execution_count": 125,
   "id": "2e679f19-d280-440b-b9a2-c0b010b376ad",
   "metadata": {},
   "outputs": [
    {
     "data": {
      "text/plain": [
       "<Instance 2022052002532561gdycj8o7>"
      ]
     },
     "execution_count": 125,
     "metadata": {},
     "output_type": "execute_result"
    }
   ],
   "source": [
    "TEMP_FOLLOW_TABLE3 = 'hx_repo_actor_birank_new_id'\n",
    "drop_sql = '''\n",
    "    DROP TABLE IF EXISTS {TEMP_FOLLOW_TABLE};\n",
    "    CREATE TABLE IF NOT EXISTS {TEMP_FOLLOW_TABLE}\n",
    "    (\n",
    "        actor_id    BIGINT,\n",
    "        new_actor_id    BIGINT\n",
    "    );\n",
    "'''.format(\n",
    "    TEMP_FOLLOW_TABLE=TEMP_FOLLOW_TABLE3\n",
    ")\n",
    "o.execute_sql(drop_sql, hints={'odps.sql.allow.fullscan': 'true', 'odps.sql.submit.mode': 'script'})"
   ]
  },
  {
   "cell_type": "code",
   "execution_count": 126,
   "id": "220e7575-9fea-453d-b0ea-fd69bfdcd9cf",
   "metadata": {},
   "outputs": [],
   "source": [
    "insert_new_actorid_sql = '''set odps.sql.validate.orderby.limit=false;\n",
    "        INSERT INTO {TEMP_FOLLOW_TABLE2}\n",
    "        SELECT actor_id, row_number() over() - 1 as new_actor_id\n",
    "        FROM {TEMP_FOLLOW_TABLE1}\n",
    "        ORDER BY actor_id\n",
    "'''.format(\n",
    "    TEMP_FOLLOW_TABLE1=TEMP_FOLLOW_TABLE3_0,\n",
    "    TEMP_FOLLOW_TABLE2=TEMP_FOLLOW_TABLE3\n",
    ")\n",
    "table = o.execute_sql(insert_new_actorid_sql, hints={'odps.sql.allow.fullscan': 'true',\"odps.sql.submit.mode\" : \"script\"})"
   ]
  },
  {
   "cell_type": "code",
   "execution_count": 127,
   "id": "b366f169-9d87-490b-92a6-a803388a1a0d",
   "metadata": {},
   "outputs": [
    {
     "data": {
      "text/html": [
       "<div>\n",
       "<style scoped>\n",
       "    .dataframe tbody tr th:only-of-type {\n",
       "        vertical-align: middle;\n",
       "    }\n",
       "\n",
       "    .dataframe tbody tr th {\n",
       "        vertical-align: top;\n",
       "    }\n",
       "\n",
       "    .dataframe thead th {\n",
       "        text-align: right;\n",
       "    }\n",
       "</style>\n",
       "<table border=\"1\" class=\"dataframe\">\n",
       "  <thead>\n",
       "    <tr style=\"text-align: right;\">\n",
       "      <th></th>\n",
       "      <th>actor_id</th>\n",
       "      <th>new_actor_id</th>\n",
       "    </tr>\n",
       "  </thead>\n",
       "  <tbody>\n",
       "    <tr>\n",
       "      <th>0</th>\n",
       "      <td>1</td>\n",
       "      <td>0</td>\n",
       "    </tr>\n",
       "    <tr>\n",
       "      <th>1</th>\n",
       "      <td>4</td>\n",
       "      <td>1</td>\n",
       "    </tr>\n",
       "    <tr>\n",
       "      <th>2</th>\n",
       "      <td>7</td>\n",
       "      <td>2</td>\n",
       "    </tr>\n",
       "    <tr>\n",
       "      <th>3</th>\n",
       "      <td>17</td>\n",
       "      <td>3</td>\n",
       "    </tr>\n",
       "    <tr>\n",
       "      <th>4</th>\n",
       "      <td>18</td>\n",
       "      <td>4</td>\n",
       "    </tr>\n",
       "    <tr>\n",
       "      <th>5</th>\n",
       "      <td>19</td>\n",
       "      <td>5</td>\n",
       "    </tr>\n",
       "    <tr>\n",
       "      <th>6</th>\n",
       "      <td>20</td>\n",
       "      <td>6</td>\n",
       "    </tr>\n",
       "    <tr>\n",
       "      <th>7</th>\n",
       "      <td>21</td>\n",
       "      <td>7</td>\n",
       "    </tr>\n",
       "    <tr>\n",
       "      <th>8</th>\n",
       "      <td>22</td>\n",
       "      <td>8</td>\n",
       "    </tr>\n",
       "    <tr>\n",
       "      <th>9</th>\n",
       "      <td>25</td>\n",
       "      <td>9</td>\n",
       "    </tr>\n",
       "  </tbody>\n",
       "</table>\n",
       "</div>"
      ],
      "text/plain": [
       "   actor_id  new_actor_id\n",
       "0         1             0\n",
       "1         4             1\n",
       "2         7             2\n",
       "3        17             3\n",
       "4        18             4\n",
       "5        19             5\n",
       "6        20             6\n",
       "7        21             7\n",
       "8        22             8\n",
       "9        25             9"
      ]
     },
     "execution_count": 127,
     "metadata": {},
     "output_type": "execute_result"
    }
   ],
   "source": [
    "data = DataFrame(o.get_table(TEMP_FOLLOW_TABLE3))\n",
    "data.head(10)"
   ]
  },
  {
   "cell_type": "code",
   "execution_count": 128,
   "id": "5782e487-502c-424e-a7e0-1705f62e042f",
   "metadata": {},
   "outputs": [
    {
     "name": "stdout",
     "output_type": "stream",
     "text": [
      "odps.Record {\n",
      "  actor_id                39191\n",
      "  new_actor_id            8577\n",
      "}\n"
     ]
    }
   ],
   "source": [
    "# 查看actor_id=39191对应的new_actor_id\n",
    "select_39191 = '''SELECT * FROM {TEMP_FOLLOW_TABLE} WHERE actor_id = 39191'''.format(TEMP_FOLLOW_TABLE=TEMP_FOLLOW_TABLE3)\n",
    "table_39191 = o.execute_sql(select_39191, hints={'odps.sql.allow.fullscan': 'true', \"odps.sql.submit.mode\" : \"script\"})\n",
    "with table_39191.open_reader(tunnel=True) as reader:\n",
    "    for record in reader:\n",
    "        print(record)"
   ]
  },
  {
   "cell_type": "code",
   "execution_count": 129,
   "id": "65f87e2c-a953-4d58-8a57-ded7a7318978",
   "metadata": {},
   "outputs": [
    {
     "name": "stdout",
     "output_type": "stream",
     "text": [
      "odps.Record {\n",
      "  _c0   1350641\n",
      "}\n"
     ]
    }
   ],
   "source": [
    "# 查看最大new_actor_id(用于保证与算法中的new_actor_id一致)\n",
    "select_max_new_actor_id = '''SELECT MAX(new_actor_id) FROM {TEMP_FOLLOW_TABLE}'''.format(TEMP_FOLLOW_TABLE=TEMP_FOLLOW_TABLE3)\n",
    "table_max_new_actor_id = o.execute_sql(select_max_new_actor_id, hints={'odps.sql.allow.fullscan': 'true', \"odps.sql.submit.mode\" : \"script\"})\n",
    "with table_max_new_actor_id.open_reader(tunnel=True) as reader:\n",
    "     for record in reader:\n",
    "            print(record)"
   ]
  },
  {
   "cell_type": "markdown",
   "id": "ea38b9ae-cee0-4ba8-b609-08edbfc5b775",
   "metadata": {
    "tags": []
   },
   "source": [
    "#### 建立new_actor_id---follower_cnt对应关系"
   ]
  },
  {
   "cell_type": "code",
   "execution_count": 130,
   "id": "f336832f-1949-44dc-948e-ea0b82053445",
   "metadata": {},
   "outputs": [
    {
     "data": {
      "text/plain": [
       "<Instance 20220520025333781gj9lzjm7>"
      ]
     },
     "execution_count": 130,
     "metadata": {},
     "output_type": "execute_result"
    }
   ],
   "source": [
    "TEMP_FOLLOW_TABLE4 = 'hx_repo_actor_birank_follower_table_new'\n",
    "drop_sql = '''\n",
    "    DROP TABLE IF EXISTS {TEMP_FOLLOW_TABLE};\n",
    "    CREATE TABLE IF NOT EXISTS {TEMP_FOLLOW_TABLE}\n",
    "    (\n",
    "        new_actor_id    BIGINT,\n",
    "        follower_cnt    BIGINT DEFAULT 0\n",
    "    );\n",
    "'''.format(\n",
    "    TEMP_FOLLOW_TABLE=TEMP_FOLLOW_TABLE4\n",
    ")\n",
    "o.execute_sql(drop_sql, hints={'odps.sql.allow.fullscan': 'true', 'odps.sql.submit.mode': 'script'})"
   ]
  },
  {
   "cell_type": "code",
   "execution_count": 131,
   "id": "1384613c-99e0-4ac1-a30f-358fe82aa7aa",
   "metadata": {},
   "outputs": [],
   "source": [
    "newid_follow_cnt_sql = '''set odps.sql.validate.orderby.limit=false;\n",
    "        INSERT INTO {TEMP_FOLLOW_TABLE3}\n",
    "        SELECT new_actor_id, follow_cnt\n",
    "        FROM {TEMP_FOLLOW_TABLE1}, {TEMP_FOLLOW_TABLE2}\n",
    "        WHERE {TEMP_FOLLOW_TABLE1}.actor_id = {TEMP_FOLLOW_TABLE2}.actor_id\n",
    "        ORDER BY follow_cnt desc\n",
    "'''.format(\n",
    "    TEMP_FOLLOW_TABLE1=TEMP_FOLLOW_TABLE2,\n",
    "    TEMP_FOLLOW_TABLE2=TEMP_FOLLOW_TABLE3,\n",
    "    TEMP_FOLLOW_TABLE3=TEMP_FOLLOW_TABLE4\n",
    ")\n",
    "table = o.execute_sql(newid_follow_cnt_sql, hints={'odps.sql.allow.fullscan': 'true',\"odps.sql.submit.mode\" : \"script\"})"
   ]
  },
  {
   "cell_type": "code",
   "execution_count": 132,
   "id": "fe4aea1c-811a-4aae-93f8-1112dba466a3",
   "metadata": {},
   "outputs": [
    {
     "data": {
      "text/html": [
       "<div>\n",
       "<style scoped>\n",
       "    .dataframe tbody tr th:only-of-type {\n",
       "        vertical-align: middle;\n",
       "    }\n",
       "\n",
       "    .dataframe tbody tr th {\n",
       "        vertical-align: top;\n",
       "    }\n",
       "\n",
       "    .dataframe thead th {\n",
       "        text-align: right;\n",
       "    }\n",
       "</style>\n",
       "<table border=\"1\" class=\"dataframe\">\n",
       "  <thead>\n",
       "    <tr style=\"text-align: right;\">\n",
       "      <th></th>\n",
       "      <th>new_actor_id</th>\n",
       "      <th>follower_cnt</th>\n",
       "    </tr>\n",
       "  </thead>\n",
       "  <tbody>\n",
       "    <tr>\n",
       "      <th>0</th>\n",
       "      <td>101568</td>\n",
       "      <td>148982</td>\n",
       "    </tr>\n",
       "    <tr>\n",
       "      <th>1</th>\n",
       "      <td>60176</td>\n",
       "      <td>77598</td>\n",
       "    </tr>\n",
       "    <tr>\n",
       "      <th>2</th>\n",
       "      <td>85511</td>\n",
       "      <td>71341</td>\n",
       "    </tr>\n",
       "    <tr>\n",
       "      <th>3</th>\n",
       "      <td>13417</td>\n",
       "      <td>61869</td>\n",
       "    </tr>\n",
       "    <tr>\n",
       "      <th>4</th>\n",
       "      <td>28245</td>\n",
       "      <td>46660</td>\n",
       "    </tr>\n",
       "    <tr>\n",
       "      <th>5</th>\n",
       "      <td>25627</td>\n",
       "      <td>33945</td>\n",
       "    </tr>\n",
       "    <tr>\n",
       "      <th>6</th>\n",
       "      <td>8577</td>\n",
       "      <td>30116</td>\n",
       "    </tr>\n",
       "    <tr>\n",
       "      <th>7</th>\n",
       "      <td>362935</td>\n",
       "      <td>27087</td>\n",
       "    </tr>\n",
       "    <tr>\n",
       "      <th>8</th>\n",
       "      <td>28962</td>\n",
       "      <td>26789</td>\n",
       "    </tr>\n",
       "    <tr>\n",
       "      <th>9</th>\n",
       "      <td>26</td>\n",
       "      <td>26315</td>\n",
       "    </tr>\n",
       "  </tbody>\n",
       "</table>\n",
       "</div>"
      ],
      "text/plain": [
       "   new_actor_id  follower_cnt\n",
       "0        101568        148982\n",
       "1         60176         77598\n",
       "2         85511         71341\n",
       "3         13417         61869\n",
       "4         28245         46660\n",
       "5         25627         33945\n",
       "6          8577         30116\n",
       "7        362935         27087\n",
       "8         28962         26789\n",
       "9            26         26315"
      ]
     },
     "execution_count": 132,
     "metadata": {},
     "output_type": "execute_result"
    }
   ],
   "source": [
    "data = DataFrame(o.get_table(TEMP_FOLLOW_TABLE4))\n",
    "data.head(10)"
   ]
  },
  {
   "cell_type": "markdown",
   "id": "c602a8e7-8bb4-41f2-ab6f-168fd36b04dc",
   "metadata": {
    "tags": []
   },
   "source": [
    "#### 得到new_actor_id---follower_rank对应关系"
   ]
  },
  {
   "cell_type": "code",
   "execution_count": 133,
   "id": "476ca4f1-d2d2-449b-a747-a2d373760155",
   "metadata": {},
   "outputs": [
    {
     "data": {
      "text/plain": [
       "<Instance 2022052002533890gdo8k963>"
      ]
     },
     "execution_count": 133,
     "metadata": {},
     "output_type": "execute_result"
    }
   ],
   "source": [
    "TEMP_FOLLOW_TABLE5 = 'hx_repo_actor_birank_follower_rank'\n",
    "drop_sql = '''\n",
    "    DROP TABLE IF EXISTS {TEMP_FOLLOW_TABLE};\n",
    "    CREATE TABLE IF NOT EXISTS {TEMP_FOLLOW_TABLE}\n",
    "    (\n",
    "        new_actor_id    BIGINT,\n",
    "        follower_rank    BIGINT\n",
    "    );\n",
    "'''.format(\n",
    "    TEMP_FOLLOW_TABLE=TEMP_FOLLOW_TABLE5\n",
    ")\n",
    "o.execute_sql(drop_sql, hints={'odps.sql.allow.fullscan': 'true', 'odps.sql.submit.mode': 'script'})"
   ]
  },
  {
   "cell_type": "code",
   "execution_count": 134,
   "id": "4dee9d4b-000d-4839-8df6-d82b3173e3c7",
   "metadata": {},
   "outputs": [],
   "source": [
    "insert_rank_sql = '''set odps.sql.validate.orderby.limit=false;\n",
    "        INSERT INTO {TEMP_FOLLOW_TABLE2}\n",
    "        SELECT new_actor_id, row_number() over() AS rank\n",
    "        FROM {TEMP_FOLLOW_TABLE1}\n",
    "        ORDER BY rank\n",
    "'''.format(\n",
    "    TEMP_FOLLOW_TABLE1=TEMP_FOLLOW_TABLE4,\n",
    "    TEMP_FOLLOW_TABLE2=TEMP_FOLLOW_TABLE5\n",
    ")\n",
    "table = o.execute_sql(insert_rank_sql, hints={'odps.sql.allow.fullscan': 'true',\"odps.sql.submit.mode\" : \"script\"})"
   ]
  },
  {
   "cell_type": "code",
   "execution_count": 135,
   "id": "76031f2f-2906-4a4c-b1e9-b90331aa8a1a",
   "metadata": {},
   "outputs": [
    {
     "data": {
      "text/html": [
       "<div>\n",
       "<style scoped>\n",
       "    .dataframe tbody tr th:only-of-type {\n",
       "        vertical-align: middle;\n",
       "    }\n",
       "\n",
       "    .dataframe tbody tr th {\n",
       "        vertical-align: top;\n",
       "    }\n",
       "\n",
       "    .dataframe thead th {\n",
       "        text-align: right;\n",
       "    }\n",
       "</style>\n",
       "<table border=\"1\" class=\"dataframe\">\n",
       "  <thead>\n",
       "    <tr style=\"text-align: right;\">\n",
       "      <th></th>\n",
       "      <th>new_actor_id</th>\n",
       "      <th>follower_rank</th>\n",
       "    </tr>\n",
       "  </thead>\n",
       "  <tbody>\n",
       "    <tr>\n",
       "      <th>0</th>\n",
       "      <td>101568</td>\n",
       "      <td>1</td>\n",
       "    </tr>\n",
       "    <tr>\n",
       "      <th>1</th>\n",
       "      <td>60176</td>\n",
       "      <td>2</td>\n",
       "    </tr>\n",
       "    <tr>\n",
       "      <th>2</th>\n",
       "      <td>85511</td>\n",
       "      <td>3</td>\n",
       "    </tr>\n",
       "    <tr>\n",
       "      <th>3</th>\n",
       "      <td>13417</td>\n",
       "      <td>4</td>\n",
       "    </tr>\n",
       "    <tr>\n",
       "      <th>4</th>\n",
       "      <td>28245</td>\n",
       "      <td>5</td>\n",
       "    </tr>\n",
       "    <tr>\n",
       "      <th>5</th>\n",
       "      <td>25627</td>\n",
       "      <td>6</td>\n",
       "    </tr>\n",
       "    <tr>\n",
       "      <th>6</th>\n",
       "      <td>8577</td>\n",
       "      <td>7</td>\n",
       "    </tr>\n",
       "    <tr>\n",
       "      <th>7</th>\n",
       "      <td>362935</td>\n",
       "      <td>8</td>\n",
       "    </tr>\n",
       "    <tr>\n",
       "      <th>8</th>\n",
       "      <td>28962</td>\n",
       "      <td>9</td>\n",
       "    </tr>\n",
       "    <tr>\n",
       "      <th>9</th>\n",
       "      <td>26</td>\n",
       "      <td>10</td>\n",
       "    </tr>\n",
       "  </tbody>\n",
       "</table>\n",
       "</div>"
      ],
      "text/plain": [
       "   new_actor_id  follower_rank\n",
       "0        101568              1\n",
       "1         60176              2\n",
       "2         85511              3\n",
       "3         13417              4\n",
       "4         28245              5\n",
       "5         25627              6\n",
       "6          8577              7\n",
       "7        362935              8\n",
       "8         28962              9\n",
       "9            26             10"
      ]
     },
     "execution_count": 135,
     "metadata": {},
     "output_type": "execute_result"
    }
   ],
   "source": [
    "data = DataFrame(o.get_table(TEMP_FOLLOW_TABLE5))\n",
    "data.head(10)"
   ]
  },
  {
   "cell_type": "code",
   "execution_count": 136,
   "id": "3156c227-17f1-4c83-812e-dc0ebe9ed035",
   "metadata": {},
   "outputs": [
    {
     "name": "stdout",
     "output_type": "stream",
     "text": [
      "odps.Record {\n",
      "  _c0   1350558\n",
      "}\n"
     ]
    }
   ],
   "source": [
    "select_39191 = '''SELECT MAX(new_actor_id) FROM {TEMP_FOLLOW_TABLE}'''.format(TEMP_FOLLOW_TABLE=TEMP_FOLLOW_TABLE5)\n",
    "table_39191 = o.execute_sql(select_39191, hints={'odps.sql.allow.fullscan': 'true', \"odps.sql.submit.mode\" : \"script\"})\n",
    "with table_39191.open_reader(tunnel=True) as reader:\n",
    "    for record in reader:\n",
    "        print(record)"
   ]
  },
  {
   "cell_type": "code",
   "execution_count": 137,
   "id": "5f069f30-53a6-464c-b77e-7ee622cadd1d",
   "metadata": {},
   "outputs": [
    {
     "data": {
      "text/html": [
       "<div>\n",
       "<style scoped>\n",
       "    .dataframe tbody tr th:only-of-type {\n",
       "        vertical-align: middle;\n",
       "    }\n",
       "\n",
       "    .dataframe tbody tr th {\n",
       "        vertical-align: top;\n",
       "    }\n",
       "\n",
       "    .dataframe thead th {\n",
       "        text-align: right;\n",
       "    }\n",
       "</style>\n",
       "<table border=\"1\" class=\"dataframe\">\n",
       "  <thead>\n",
       "    <tr style=\"text-align: right;\">\n",
       "      <th></th>\n",
       "      <th>new_actor_id</th>\n",
       "      <th>follower_rank</th>\n",
       "    </tr>\n",
       "  </thead>\n",
       "  <tbody>\n",
       "    <tr>\n",
       "      <th>0</th>\n",
       "      <td>101568</td>\n",
       "      <td>1</td>\n",
       "    </tr>\n",
       "    <tr>\n",
       "      <th>1</th>\n",
       "      <td>60176</td>\n",
       "      <td>2</td>\n",
       "    </tr>\n",
       "    <tr>\n",
       "      <th>2</th>\n",
       "      <td>85511</td>\n",
       "      <td>3</td>\n",
       "    </tr>\n",
       "    <tr>\n",
       "      <th>3</th>\n",
       "      <td>13417</td>\n",
       "      <td>4</td>\n",
       "    </tr>\n",
       "    <tr>\n",
       "      <th>4</th>\n",
       "      <td>28245</td>\n",
       "      <td>5</td>\n",
       "    </tr>\n",
       "  </tbody>\n",
       "</table>\n",
       "</div>"
      ],
      "text/plain": [
       "   new_actor_id  follower_rank\n",
       "0        101568              1\n",
       "1         60176              2\n",
       "2         85511              3\n",
       "3         13417              4\n",
       "4         28245              5"
      ]
     },
     "execution_count": 137,
     "metadata": {},
     "output_type": "execute_result"
    }
   ],
   "source": [
    "pd_idfollow = data.to_pandas()\n",
    "pd_idfollow.head()"
   ]
  },
  {
   "cell_type": "markdown",
   "id": "c1e39f4f-e7f9-4bc9-aee5-c5320432b822",
   "metadata": {
    "tags": []
   },
   "source": [
    "#### 为便于展示，建立new_actor_id---actor_name---rank对应关系表"
   ]
  },
  {
   "cell_type": "markdown",
   "id": "abf03927-d440-4d81-8cc8-c545f67a254d",
   "metadata": {},
   "source": [
    "由于用户可能改名，actor_name可能会改变，但actor_id是不变的。所以，选取时间最近的actor_id对应的actor_name作为唯一对应的用户名，以便在github查询该用户名时能够得到相应页面"
   ]
  },
  {
   "cell_type": "code",
   "execution_count": 138,
   "id": "54501458-3312-40b0-bc25-913551d60d82",
   "metadata": {},
   "outputs": [
    {
     "data": {
      "text/plain": [
       "<Instance 20220520025346469gi7264pr2>"
      ]
     },
     "execution_count": 138,
     "metadata": {},
     "output_type": "execute_result"
    }
   ],
   "source": [
    "TEMP_FOLLOW_TABLE7 = 'hx_repo_actor_birank_pull_follower_actor_newid_and_name'\n",
    "drop_sql = '''\n",
    "    DROP TABLE IF EXISTS {TEMP_FOLLOW_TABLE};\n",
    "    CREATE TABLE IF NOT EXISTS {TEMP_FOLLOW_TABLE}\n",
    "    (\n",
    "        new_actor_id     BIGINT,\n",
    "        actor_name    STRING,\n",
    "        follower_rank    BIGINT\n",
    "    );\n",
    "'''.format(\n",
    "    TEMP_FOLLOW_TABLE=TEMP_FOLLOW_TABLE7\n",
    ")\n",
    "o.execute_sql(drop_sql, hints={'odps.sql.allow.fullscan': 'true', 'odps.sql.submit.mode': 'script'})"
   ]
  },
  {
   "cell_type": "code",
   "execution_count": 139,
   "id": "bbf9d48c-c5e0-4290-853e-ab937667206a",
   "metadata": {},
   "outputs": [],
   "source": [
    "sql = '''set odps.sql.validate.orderby.limit=false;\n",
    "        INSERT INTO {TEMP_FOLLOW_TABLE4}\n",
    "        SELECT\n",
    "            {TEMP_FOLLOW_TABLE1}.new_actor_id,\n",
    "            actor_name,\n",
    "            follower_rank\n",
    "        FROM {TEMP_FOLLOW_TABLE1}, {TEMP_FOLLOW_TABLE2}, {TEMP_FOLLOW_TABLE3}\n",
    "        WHERE {TEMP_FOLLOW_TABLE1}.new_actor_id = {TEMP_FOLLOW_TABLE3}.new_actor_id\n",
    "        AND {TEMP_FOLLOW_TABLE3}.actor_id = {TEMP_FOLLOW_TABLE2}.actor_id\n",
    "        ORDER BY follower_rank'''.format(\n",
    "    TEMP_FOLLOW_TABLE1=TEMP_FOLLOW_TABLE5,\n",
    "    TEMP_FOLLOW_TABLE2=TEMP_TABLE_NAME16,\n",
    "    TEMP_FOLLOW_TABLE3=TEMP_FOLLOW_TABLE3,\n",
    "    TEMP_FOLLOW_TABLE4=TEMP_FOLLOW_TABLE7\n",
    ")\n",
    "table = o.execute_sql(sql, hints={\"odps.sql.submit.mode\" : \"script\"})"
   ]
  },
  {
   "cell_type": "code",
   "execution_count": 140,
   "id": "039cc528-1d5e-42da-9e4a-253fd9fe7570",
   "metadata": {},
   "outputs": [
    {
     "data": {
      "text/html": [
       "<div>\n",
       "<style scoped>\n",
       "    .dataframe tbody tr th:only-of-type {\n",
       "        vertical-align: middle;\n",
       "    }\n",
       "\n",
       "    .dataframe tbody tr th {\n",
       "        vertical-align: top;\n",
       "    }\n",
       "\n",
       "    .dataframe thead th {\n",
       "        text-align: right;\n",
       "    }\n",
       "</style>\n",
       "<table border=\"1\" class=\"dataframe\">\n",
       "  <thead>\n",
       "    <tr style=\"text-align: right;\">\n",
       "      <th></th>\n",
       "      <th>new_actor_id</th>\n",
       "      <th>actor_name</th>\n",
       "      <th>follower_rank</th>\n",
       "    </tr>\n",
       "  </thead>\n",
       "  <tbody>\n",
       "    <tr>\n",
       "      <th>0</th>\n",
       "      <td>101568</td>\n",
       "      <td>torvalds</td>\n",
       "      <td>1</td>\n",
       "    </tr>\n",
       "    <tr>\n",
       "      <th>1</th>\n",
       "      <td>60176</td>\n",
       "      <td>yyx990803</td>\n",
       "      <td>2</td>\n",
       "    </tr>\n",
       "    <tr>\n",
       "      <th>2</th>\n",
       "      <td>85511</td>\n",
       "      <td>gaearon</td>\n",
       "      <td>3</td>\n",
       "    </tr>\n",
       "    <tr>\n",
       "      <th>3</th>\n",
       "      <td>13417</td>\n",
       "      <td>JakeWharton</td>\n",
       "      <td>4</td>\n",
       "    </tr>\n",
       "    <tr>\n",
       "      <th>4</th>\n",
       "      <td>28245</td>\n",
       "      <td>sindresorhus</td>\n",
       "      <td>5</td>\n",
       "    </tr>\n",
       "    <tr>\n",
       "      <th>5</th>\n",
       "      <td>25627</td>\n",
       "      <td>getify</td>\n",
       "      <td>6</td>\n",
       "    </tr>\n",
       "    <tr>\n",
       "      <th>6</th>\n",
       "      <td>8577</td>\n",
       "      <td>paulirish</td>\n",
       "      <td>7</td>\n",
       "    </tr>\n",
       "    <tr>\n",
       "      <th>7</th>\n",
       "      <td>362935</td>\n",
       "      <td>buckyroberts</td>\n",
       "      <td>8</td>\n",
       "    </tr>\n",
       "    <tr>\n",
       "      <th>8</th>\n",
       "      <td>28962</td>\n",
       "      <td>wesbos</td>\n",
       "      <td>9</td>\n",
       "    </tr>\n",
       "    <tr>\n",
       "      <th>9</th>\n",
       "      <td>26</td>\n",
       "      <td>ry</td>\n",
       "      <td>10</td>\n",
       "    </tr>\n",
       "  </tbody>\n",
       "</table>\n",
       "</div>"
      ],
      "text/plain": [
       "   new_actor_id    actor_name  follower_rank\n",
       "0        101568      torvalds              1\n",
       "1         60176     yyx990803              2\n",
       "2         85511       gaearon              3\n",
       "3         13417   JakeWharton              4\n",
       "4         28245  sindresorhus              5\n",
       "5         25627        getify              6\n",
       "6          8577     paulirish              7\n",
       "7        362935  buckyroberts              8\n",
       "8         28962        wesbos              9\n",
       "9            26            ry             10"
      ]
     },
     "execution_count": 140,
     "metadata": {},
     "output_type": "execute_result"
    }
   ],
   "source": [
    "data = DataFrame(o.get_table(TEMP_FOLLOW_TABLE7))\n",
    "data.head(10)"
   ]
  },
  {
   "cell_type": "markdown",
   "id": "28267ab7-f348-4936-ac79-d21a82b759c9",
   "metadata": {
    "tags": []
   },
   "source": [
    "## 评价"
   ]
  },
  {
   "cell_type": "markdown",
   "id": "447095f1-4317-4c54-813c-351effffaced",
   "metadata": {
    "tags": []
   },
   "source": [
    "#### repo"
   ]
  },
  {
   "cell_type": "markdown",
   "id": "a15318dd-d20d-434a-ad91-6b08a7e53683",
   "metadata": {
    "tags": []
   },
   "source": [
    "##### top10"
   ]
  },
  {
   "cell_type": "code",
   "execution_count": 141,
   "id": "9107355b-70db-45de-8ee3-d5dde868d4d7",
   "metadata": {},
   "outputs": [
    {
     "name": "stdout",
     "output_type": "stream",
     "text": [
      "[1026966, 139313, 59756, 14527, 7874763, 600362, 1137269, 2001869, 38099, 252316]\n"
     ]
    }
   ],
   "source": [
    "burstbirank_repo_top10=repo_info['new_repo_id'][:10].tolist()\n",
    "print(burstbirank_repo_top10)"
   ]
  },
  {
   "cell_type": "code",
   "execution_count": 142,
   "id": "8fcf6862-96a6-407e-bfce-f6daf6243972",
   "metadata": {},
   "outputs": [
    {
     "data": {
      "text/plain": [
       "<Instance 20220520025352942g5tmhv21>"
      ]
     },
     "execution_count": 142,
     "metadata": {},
     "output_type": "execute_result"
    }
   ],
   "source": [
    "TEMP_EVAL_TABLE1 = 'hx_busrtbirank_watch_repo_top10'\n",
    "drop_sql = '''\n",
    "    DROP TABLE IF EXISTS {TEMP_EVAL_TABLE};\n",
    "    CREATE TABLE IF NOT EXISTS {TEMP_EVAL_TABLE}\n",
    "    (\n",
    "        new_repo_id     BIGINT,\n",
    "        watch_rank    BIGINT\n",
    "    );\n",
    "'''.format(\n",
    "    TEMP_EVAL_TABLE=TEMP_EVAL_TABLE1\n",
    ")\n",
    "o.execute_sql(drop_sql, hints={'odps.sql.allow.fullscan': 'true', 'odps.sql.submit.mode': 'script'})"
   ]
  },
  {
   "cell_type": "code",
   "execution_count": 143,
   "id": "94fbee45-40d9-420d-869e-5a04f29d1add",
   "metadata": {},
   "outputs": [],
   "source": [
    "sql = '''set odps.sql.validate.orderby.limit=false;\n",
    "        INSERT INTO {TEMP_EVAL_TABLE2}\n",
    "        SELECT new_repo_id, watch_rank\n",
    "        FROM {TEMP_EVAL_TABLE1}\n",
    "        WHERE new_repo_id = {id1} OR new_repo_id = {id2} OR new_repo_id = {id3} OR new_repo_id = {id4} \n",
    "        OR new_repo_id = {id5} OR new_repo_id = {id6} OR new_repo_id = {id7} OR new_repo_id = {id8}\n",
    "        OR new_repo_id = {id9} OR new_repo_id = {id10}\n",
    "'''.format(\n",
    "    TEMP_EVAL_TABLE1=TEMP_WATCH_TABLE6,\n",
    "    TEMP_EVAL_TABLE2=TEMP_EVAL_TABLE1,\n",
    "    id1=burstbirank_repo_top10[0],\n",
    "    id2=burstbirank_repo_top10[1],\n",
    "    id3=burstbirank_repo_top10[2],\n",
    "    id4=burstbirank_repo_top10[3],\n",
    "    id5=burstbirank_repo_top10[4],\n",
    "    id6=burstbirank_repo_top10[5],\n",
    "    id7=burstbirank_repo_top10[6],\n",
    "    id8=burstbirank_repo_top10[7],\n",
    "    id9=burstbirank_repo_top10[8],\n",
    "    id10=burstbirank_repo_top10[9]\n",
    ")\n",
    "table = o.execute_sql(sql, hints={'odps.sql.allow.fullscan': 'true',\"odps.sql.submit.mode\" : \"script\"})"
   ]
  },
  {
   "cell_type": "code",
   "execution_count": 144,
   "id": "a7117bba-3093-4374-938a-54a3bade8cbf",
   "metadata": {},
   "outputs": [
    {
     "data": {
      "text/html": [
       "<div>\n",
       "<style scoped>\n",
       "    .dataframe tbody tr th:only-of-type {\n",
       "        vertical-align: middle;\n",
       "    }\n",
       "\n",
       "    .dataframe tbody tr th {\n",
       "        vertical-align: top;\n",
       "    }\n",
       "\n",
       "    .dataframe thead th {\n",
       "        text-align: right;\n",
       "    }\n",
       "</style>\n",
       "<table border=\"1\" class=\"dataframe\">\n",
       "  <thead>\n",
       "    <tr style=\"text-align: right;\">\n",
       "      <th></th>\n",
       "      <th>new_repo_id</th>\n",
       "      <th>repo_name</th>\n",
       "      <th>rank</th>\n",
       "      <th>watch_rank</th>\n",
       "    </tr>\n",
       "  </thead>\n",
       "  <tbody>\n",
       "    <tr>\n",
       "      <th>0</th>\n",
       "      <td>1026966</td>\n",
       "      <td>firstcontributions/first-contributions</td>\n",
       "      <td>1</td>\n",
       "      <td>437</td>\n",
       "    </tr>\n",
       "    <tr>\n",
       "      <th>1</th>\n",
       "      <td>139313</td>\n",
       "      <td>jlord/patchwork</td>\n",
       "      <td>2</td>\n",
       "      <td>24375</td>\n",
       "    </tr>\n",
       "    <tr>\n",
       "      <th>2</th>\n",
       "      <td>59756</td>\n",
       "      <td>DefinitelyTyped/DefinitelyTyped</td>\n",
       "      <td>3</td>\n",
       "      <td>236</td>\n",
       "    </tr>\n",
       "    <tr>\n",
       "      <th>3</th>\n",
       "      <td>14527</td>\n",
       "      <td>octocat/Spoon-Knife</td>\n",
       "      <td>4</td>\n",
       "      <td>9653</td>\n",
       "    </tr>\n",
       "    <tr>\n",
       "      <th>4</th>\n",
       "      <td>7874763</td>\n",
       "      <td>education/GitHubGraduation-2021</td>\n",
       "      <td>5</td>\n",
       "      <td>18242</td>\n",
       "    </tr>\n",
       "    <tr>\n",
       "      <th>5</th>\n",
       "      <td>600362</td>\n",
       "      <td>Homebrew/homebrew-core</td>\n",
       "      <td>6</td>\n",
       "      <td>1646</td>\n",
       "    </tr>\n",
       "    <tr>\n",
       "      <th>6</th>\n",
       "      <td>1137269</td>\n",
       "      <td>MicrosoftDocs/azure-docs</td>\n",
       "      <td>7</td>\n",
       "      <td>3357</td>\n",
       "    </tr>\n",
       "    <tr>\n",
       "      <th>7</th>\n",
       "      <td>2001869</td>\n",
       "      <td>AliceWonderland/hacktoberfest</td>\n",
       "      <td>8</td>\n",
       "      <td>28425</td>\n",
       "    </tr>\n",
       "    <tr>\n",
       "      <th>8</th>\n",
       "      <td>38099</td>\n",
       "      <td>Homebrew/homebrew-cask</td>\n",
       "      <td>9</td>\n",
       "      <td>1491</td>\n",
       "    </tr>\n",
       "    <tr>\n",
       "      <th>9</th>\n",
       "      <td>252316</td>\n",
       "      <td>freeCodeCamp/freeCodeCamp</td>\n",
       "      <td>10</td>\n",
       "      <td>2</td>\n",
       "    </tr>\n",
       "  </tbody>\n",
       "</table>\n",
       "</div>"
      ],
      "text/plain": [
       "   new_repo_id                               repo_name  rank  watch_rank\n",
       "0      1026966  firstcontributions/first-contributions     1         437\n",
       "1       139313                         jlord/patchwork     2       24375\n",
       "2        59756         DefinitelyTyped/DefinitelyTyped     3         236\n",
       "3        14527                     octocat/Spoon-Knife     4        9653\n",
       "4      7874763         education/GitHubGraduation-2021     5       18242\n",
       "5       600362                  Homebrew/homebrew-core     6        1646\n",
       "6      1137269                MicrosoftDocs/azure-docs     7        3357\n",
       "7      2001869           AliceWonderland/hacktoberfest     8       28425\n",
       "8        38099                  Homebrew/homebrew-cask     9        1491\n",
       "9       252316               freeCodeCamp/freeCodeCamp    10           2"
      ]
     },
     "execution_count": 144,
     "metadata": {},
     "output_type": "execute_result"
    }
   ],
   "source": [
    "data = DataFrame(o.get_table(TEMP_EVAL_TABLE1))\n",
    "burstbirank_repo_top10_inwatch = data.to_pandas()\n",
    "repo_result_top10 = pd.DataFrame(repo_result, columns=['new_repo_id','repo_name','rank'])[:10]\n",
    "# 合并burstbirank_repo_top10_inwatch和repo_result_top10\n",
    "burstbirank_watch_top10 = pd.merge(repo_result_top10, burstbirank_repo_top10_inwatch, on='new_repo_id')\n",
    "burstbirank_watch_top10"
   ]
  },
  {
   "cell_type": "markdown",
   "id": "0e97dcb7-ecc0-41e4-b352-4833ec1d94e0",
   "metadata": {
    "tags": []
   },
   "source": [
    "##### top20"
   ]
  },
  {
   "cell_type": "code",
   "execution_count": 145,
   "id": "db7a3e69-f121-4d90-8762-165d920a854e",
   "metadata": {},
   "outputs": [
    {
     "name": "stdout",
     "output_type": "stream",
     "text": [
      "[1026966, 139313, 59756, 14527, 7874763, 600362, 1137269, 2001869, 38099, 252316, 2288058, 38251, 326560, 561908, 456536, 181883, 46845, 441142, 71210, 96463]\n"
     ]
    }
   ],
   "source": [
    "burstbirank_repo_top20=repo_info['new_repo_id'][:20].tolist()\n",
    "print(burstbirank_repo_top20)"
   ]
  },
  {
   "cell_type": "code",
   "execution_count": 146,
   "id": "0aadf132-caeb-4b0d-b59e-e486c78f7dbc",
   "metadata": {},
   "outputs": [
    {
     "data": {
      "text/plain": [
       "<Instance 20220520025357713gy1h1ii5>"
      ]
     },
     "execution_count": 146,
     "metadata": {},
     "output_type": "execute_result"
    }
   ],
   "source": [
    "TEMP_EVAL_TABLE2 = 'hx_busrtbirank_watch_repo_top20'\n",
    "drop_sql = '''\n",
    "    DROP TABLE IF EXISTS {TEMP_EVAL_TABLE};\n",
    "    CREATE TABLE IF NOT EXISTS {TEMP_EVAL_TABLE}\n",
    "    (\n",
    "        new_repo_id     BIGINT,\n",
    "        watch_rank    BIGINT\n",
    "    );\n",
    "'''.format(\n",
    "    TEMP_EVAL_TABLE=TEMP_EVAL_TABLE2\n",
    ")\n",
    "o.execute_sql(drop_sql, hints={'odps.sql.allow.fullscan': 'true', 'odps.sql.submit.mode': 'script'})"
   ]
  },
  {
   "cell_type": "code",
   "execution_count": 147,
   "id": "752d5fcc-21fc-4714-918f-566c9e9c4e03",
   "metadata": {},
   "outputs": [],
   "source": [
    "sql = '''set odps.sql.validate.orderby.limit=false;\n",
    "        INSERT INTO {TEMP_EVAL_TABLE2}\n",
    "        SELECT new_repo_id, watch_rank\n",
    "        FROM {TEMP_EVAL_TABLE1}\n",
    "        WHERE new_repo_id = {id1} OR new_repo_id = {id2} OR new_repo_id = {id3} OR new_repo_id = {id4} \n",
    "        OR new_repo_id = {id5} OR new_repo_id = {id6} OR new_repo_id = {id7} OR new_repo_id = {id8}\n",
    "        OR new_repo_id = {id9} OR new_repo_id = {id10} OR new_repo_id = {id11} OR new_repo_id = {id12}\n",
    "        OR new_repo_id = {id13} OR new_repo_id = {id14} OR new_repo_id = {id15} OR new_repo_id = {id16}\n",
    "        OR new_repo_id = {id17} OR new_repo_id = {id18} OR new_repo_id = {id19} OR new_repo_id = {id20}\n",
    "'''.format(\n",
    "    TEMP_EVAL_TABLE1=TEMP_WATCH_TABLE6,\n",
    "    TEMP_EVAL_TABLE2=TEMP_EVAL_TABLE2,\n",
    "    id1=burstbirank_repo_top20[0],\n",
    "    id2=burstbirank_repo_top20[1],\n",
    "    id3=burstbirank_repo_top20[2],\n",
    "    id4=burstbirank_repo_top20[3],\n",
    "    id5=burstbirank_repo_top20[4],\n",
    "    id6=burstbirank_repo_top20[5],\n",
    "    id7=burstbirank_repo_top20[6],\n",
    "    id8=burstbirank_repo_top20[7],\n",
    "    id9=burstbirank_repo_top20[8],\n",
    "    id10=burstbirank_repo_top20[9],\n",
    "    id11=burstbirank_repo_top20[10],\n",
    "    id12=burstbirank_repo_top20[11],\n",
    "    id13=burstbirank_repo_top20[12],\n",
    "    id14=burstbirank_repo_top20[13],\n",
    "    id15=burstbirank_repo_top20[14],\n",
    "    id16=burstbirank_repo_top20[15],\n",
    "    id17=burstbirank_repo_top20[16],\n",
    "    id18=burstbirank_repo_top20[17],\n",
    "    id19=burstbirank_repo_top20[18],\n",
    "    id20=burstbirank_repo_top20[19]\n",
    ")\n",
    "table = o.execute_sql(sql, hints={'odps.sql.allow.fullscan': 'true',\"odps.sql.submit.mode\" : \"script\"})"
   ]
  },
  {
   "cell_type": "code",
   "execution_count": 148,
   "id": "107899c5-7ac0-4aa6-a464-26c3feaaafda",
   "metadata": {},
   "outputs": [
    {
     "data": {
      "text/html": [
       "<div>\n",
       "<style scoped>\n",
       "    .dataframe tbody tr th:only-of-type {\n",
       "        vertical-align: middle;\n",
       "    }\n",
       "\n",
       "    .dataframe tbody tr th {\n",
       "        vertical-align: top;\n",
       "    }\n",
       "\n",
       "    .dataframe thead th {\n",
       "        text-align: right;\n",
       "    }\n",
       "</style>\n",
       "<table border=\"1\" class=\"dataframe\">\n",
       "  <thead>\n",
       "    <tr style=\"text-align: right;\">\n",
       "      <th></th>\n",
       "      <th>new_repo_id</th>\n",
       "      <th>repo_name</th>\n",
       "      <th>rank</th>\n",
       "      <th>watch_rank</th>\n",
       "    </tr>\n",
       "  </thead>\n",
       "  <tbody>\n",
       "    <tr>\n",
       "      <th>0</th>\n",
       "      <td>1026966</td>\n",
       "      <td>firstcontributions/first-contributions</td>\n",
       "      <td>1</td>\n",
       "      <td>437</td>\n",
       "    </tr>\n",
       "    <tr>\n",
       "      <th>1</th>\n",
       "      <td>139313</td>\n",
       "      <td>jlord/patchwork</td>\n",
       "      <td>2</td>\n",
       "      <td>24375</td>\n",
       "    </tr>\n",
       "    <tr>\n",
       "      <th>2</th>\n",
       "      <td>59756</td>\n",
       "      <td>DefinitelyTyped/DefinitelyTyped</td>\n",
       "      <td>3</td>\n",
       "      <td>236</td>\n",
       "    </tr>\n",
       "    <tr>\n",
       "      <th>3</th>\n",
       "      <td>14527</td>\n",
       "      <td>octocat/Spoon-Knife</td>\n",
       "      <td>4</td>\n",
       "      <td>9653</td>\n",
       "    </tr>\n",
       "    <tr>\n",
       "      <th>4</th>\n",
       "      <td>7874763</td>\n",
       "      <td>education/GitHubGraduation-2021</td>\n",
       "      <td>5</td>\n",
       "      <td>18242</td>\n",
       "    </tr>\n",
       "    <tr>\n",
       "      <th>5</th>\n",
       "      <td>600362</td>\n",
       "      <td>Homebrew/homebrew-core</td>\n",
       "      <td>6</td>\n",
       "      <td>1646</td>\n",
       "    </tr>\n",
       "    <tr>\n",
       "      <th>6</th>\n",
       "      <td>1137269</td>\n",
       "      <td>MicrosoftDocs/azure-docs</td>\n",
       "      <td>7</td>\n",
       "      <td>3357</td>\n",
       "    </tr>\n",
       "    <tr>\n",
       "      <th>7</th>\n",
       "      <td>2001869</td>\n",
       "      <td>AliceWonderland/hacktoberfest</td>\n",
       "      <td>8</td>\n",
       "      <td>28425</td>\n",
       "    </tr>\n",
       "    <tr>\n",
       "      <th>8</th>\n",
       "      <td>38099</td>\n",
       "      <td>Homebrew/homebrew-cask</td>\n",
       "      <td>9</td>\n",
       "      <td>1491</td>\n",
       "    </tr>\n",
       "    <tr>\n",
       "      <th>9</th>\n",
       "      <td>252316</td>\n",
       "      <td>freeCodeCamp/freeCodeCamp</td>\n",
       "      <td>10</td>\n",
       "      <td>2</td>\n",
       "    </tr>\n",
       "    <tr>\n",
       "      <th>10</th>\n",
       "      <td>2288058</td>\n",
       "      <td>zero-to-mastery/start-here-guidelines</td>\n",
       "      <td>11</td>\n",
       "      <td>16609</td>\n",
       "    </tr>\n",
       "    <tr>\n",
       "      <th>11</th>\n",
       "      <td>38251</td>\n",
       "      <td>ansible/ansible</td>\n",
       "      <td>12</td>\n",
       "      <td>161</td>\n",
       "    </tr>\n",
       "    <tr>\n",
       "      <th>12</th>\n",
       "      <td>326560</td>\n",
       "      <td>gatsbyjs/gatsby</td>\n",
       "      <td>13</td>\n",
       "      <td>89</td>\n",
       "    </tr>\n",
       "    <tr>\n",
       "      <th>13</th>\n",
       "      <td>561908</td>\n",
       "      <td>kubernetes/website</td>\n",
       "      <td>14</td>\n",
       "      <td>8341</td>\n",
       "    </tr>\n",
       "    <tr>\n",
       "      <th>14</th>\n",
       "      <td>456536</td>\n",
       "      <td>helm/charts</td>\n",
       "      <td>15</td>\n",
       "      <td>939</td>\n",
       "    </tr>\n",
       "    <tr>\n",
       "      <th>15</th>\n",
       "      <td>181883</td>\n",
       "      <td>kubernetes/kubernetes</td>\n",
       "      <td>16</td>\n",
       "      <td>45</td>\n",
       "    </tr>\n",
       "    <tr>\n",
       "      <th>16</th>\n",
       "      <td>46845</td>\n",
       "      <td>NixOS/nixpkgs</td>\n",
       "      <td>17</td>\n",
       "      <td>2594</td>\n",
       "    </tr>\n",
       "    <tr>\n",
       "      <th>17</th>\n",
       "      <td>441142</td>\n",
       "      <td>tensorflow/tensorflow</td>\n",
       "      <td>18</td>\n",
       "      <td>9</td>\n",
       "    </tr>\n",
       "    <tr>\n",
       "      <th>18</th>\n",
       "      <td>71210</td>\n",
       "      <td>laravel/framework</td>\n",
       "      <td>19</td>\n",
       "      <td>487</td>\n",
       "    </tr>\n",
       "    <tr>\n",
       "      <th>19</th>\n",
       "      <td>96463</td>\n",
       "      <td>TheOdinProject/curriculum</td>\n",
       "      <td>20</td>\n",
       "      <td>5894</td>\n",
       "    </tr>\n",
       "  </tbody>\n",
       "</table>\n",
       "</div>"
      ],
      "text/plain": [
       "    new_repo_id                               repo_name  rank  watch_rank\n",
       "0       1026966  firstcontributions/first-contributions     1         437\n",
       "1        139313                         jlord/patchwork     2       24375\n",
       "2         59756         DefinitelyTyped/DefinitelyTyped     3         236\n",
       "3         14527                     octocat/Spoon-Knife     4        9653\n",
       "4       7874763         education/GitHubGraduation-2021     5       18242\n",
       "5        600362                  Homebrew/homebrew-core     6        1646\n",
       "6       1137269                MicrosoftDocs/azure-docs     7        3357\n",
       "7       2001869           AliceWonderland/hacktoberfest     8       28425\n",
       "8         38099                  Homebrew/homebrew-cask     9        1491\n",
       "9        252316               freeCodeCamp/freeCodeCamp    10           2\n",
       "10      2288058   zero-to-mastery/start-here-guidelines    11       16609\n",
       "11        38251                         ansible/ansible    12         161\n",
       "12       326560                         gatsbyjs/gatsby    13          89\n",
       "13       561908                      kubernetes/website    14        8341\n",
       "14       456536                             helm/charts    15         939\n",
       "15       181883                   kubernetes/kubernetes    16          45\n",
       "16        46845                           NixOS/nixpkgs    17        2594\n",
       "17       441142                   tensorflow/tensorflow    18           9\n",
       "18        71210                       laravel/framework    19         487\n",
       "19        96463               TheOdinProject/curriculum    20        5894"
      ]
     },
     "execution_count": 148,
     "metadata": {},
     "output_type": "execute_result"
    }
   ],
   "source": [
    "data = DataFrame(o.get_table(TEMP_EVAL_TABLE2))\n",
    "burstbirank_repo_top20_inwatch = data.to_pandas()\n",
    "repo_result_top20 = pd.DataFrame(repo_result, columns=['new_repo_id','repo_name','rank'])[:20]\n",
    "# 合并burstbirank_repo_top20_inwatch和repo_result_top20\n",
    "burstbirank_watch_top20 = pd.merge(repo_result_top20, burstbirank_repo_top20_inwatch, on='new_repo_id')\n",
    "burstbirank_watch_top20"
   ]
  },
  {
   "cell_type": "markdown",
   "id": "58cbdc51-d28c-4570-962c-2415dbae090e",
   "metadata": {
    "tags": []
   },
   "source": [
    "##### top50"
   ]
  },
  {
   "cell_type": "code",
   "execution_count": 149,
   "id": "0a35fdcc-e0f7-4300-bc52-74adc88dafbb",
   "metadata": {},
   "outputs": [
    {
     "name": "stdout",
     "output_type": "stream",
     "text": [
      "[1026966, 139313, 59756, 14527, 7874763, 600362, 1137269, 2001869, 38099, 252316, 2288058, 38251, 326560, 561908, 456536, 181883, 46845, 441142, 71210, 96463, 251278, 217461, 5031693, 114882, 7708185, 1981961, 139, 1672325, 241359, 760499, 940633, 2011602, 5922489, 1376566, 180406, 3096907, 204734, 257880, 8072, 1066192, 302700, 391536, 6499723, 392246, 9626, 217314, 513027, 240300, 246048, 357567]\n"
     ]
    }
   ],
   "source": [
    "burstbirank_repo_top50=repo_info['new_repo_id'][:50].tolist()\n",
    "print(burstbirank_repo_top50)"
   ]
  },
  {
   "cell_type": "code",
   "execution_count": 150,
   "id": "a94adcef-85f2-41be-bf9e-efe24537c753",
   "metadata": {},
   "outputs": [
    {
     "data": {
      "text/plain": [
       "<Instance 20220520025402411gpf264pr2>"
      ]
     },
     "execution_count": 150,
     "metadata": {},
     "output_type": "execute_result"
    }
   ],
   "source": [
    "TEMP_EVAL_TABLE3 = 'hx_busrtburstbirank_watch_repo_top50'\n",
    "drop_sql = '''\n",
    "    DROP TABLE IF EXISTS {TEMP_EVAL_TABLE};\n",
    "    CREATE TABLE IF NOT EXISTS {TEMP_EVAL_TABLE}\n",
    "    (\n",
    "        new_repo_id     BIGINT,\n",
    "        watch_rank    BIGINT\n",
    "    );\n",
    "'''.format(\n",
    "    TEMP_EVAL_TABLE=TEMP_EVAL_TABLE3\n",
    ")\n",
    "o.execute_sql(drop_sql, hints={'odps.sql.allow.fullscan': 'true', 'odps.sql.submit.mode': 'script'})"
   ]
  },
  {
   "cell_type": "code",
   "execution_count": 151,
   "id": "c31ee34f-b711-4d72-a87f-8edeae690a50",
   "metadata": {},
   "outputs": [],
   "source": [
    "sql = '''set odps.sql.validate.orderby.limit=false;\n",
    "        INSERT INTO {TEMP_EVAL_TABLE2}\n",
    "        SELECT new_repo_id, watch_rank\n",
    "        FROM {TEMP_EVAL_TABLE1}\n",
    "        WHERE new_repo_id = {id1} OR new_repo_id = {id2} OR new_repo_id = {id3} OR new_repo_id = {id4} \n",
    "        OR new_repo_id = {id5} OR new_repo_id = {id6} OR new_repo_id = {id7} OR new_repo_id = {id8}\n",
    "        OR new_repo_id = {id9} OR new_repo_id = {id10} OR new_repo_id = {id11} OR new_repo_id = {id12}\n",
    "        OR new_repo_id = {id13} OR new_repo_id = {id14} OR new_repo_id = {id15} OR new_repo_id = {id16}\n",
    "        OR new_repo_id = {id17} OR new_repo_id = {id18} OR new_repo_id = {id19} OR new_repo_id = {id20}\n",
    "        OR new_repo_id = {id21} OR new_repo_id = {id22} OR new_repo_id = {id23} OR new_repo_id = {id24}\n",
    "        OR new_repo_id = {id25} OR new_repo_id = {id26} OR new_repo_id = {id27} OR new_repo_id = {id28}\n",
    "        OR new_repo_id = {id29} OR new_repo_id = {id30} OR new_repo_id = {id31} OR new_repo_id = {id32}\n",
    "        OR new_repo_id = {id33} OR new_repo_id = {id34} OR new_repo_id = {id35} OR new_repo_id = {id36}\n",
    "        OR new_repo_id = {id37} OR new_repo_id = {id38} OR new_repo_id = {id39} OR new_repo_id = {id40}\n",
    "        OR new_repo_id = {id41} OR new_repo_id = {id42} OR new_repo_id = {id43} OR new_repo_id = {id44}\n",
    "        OR new_repo_id = {id45} OR new_repo_id = {id46} OR new_repo_id = {id47} OR new_repo_id = {id48}\n",
    "        OR new_repo_id = {id49} OR new_repo_id = {id50}\n",
    "'''.format(\n",
    "    TEMP_EVAL_TABLE1=TEMP_WATCH_TABLE6,\n",
    "    TEMP_EVAL_TABLE2=TEMP_EVAL_TABLE3,\n",
    "    id1=burstbirank_repo_top50[0], id2=burstbirank_repo_top50[1], id3=burstbirank_repo_top50[2], id4=burstbirank_repo_top50[3],\n",
    "    id5=burstbirank_repo_top50[4], id6=burstbirank_repo_top50[5], id7=burstbirank_repo_top50[6], id8=burstbirank_repo_top50[7],\n",
    "    id9=burstbirank_repo_top50[8], id10=burstbirank_repo_top50[9], id11=burstbirank_repo_top50[10], id12=burstbirank_repo_top50[11],\n",
    "    id13=burstbirank_repo_top50[12], id14=burstbirank_repo_top50[13], id15=burstbirank_repo_top50[14], id16=burstbirank_repo_top50[15],\n",
    "    id17=burstbirank_repo_top50[16], id18=burstbirank_repo_top50[17], id19=burstbirank_repo_top50[18], id20=burstbirank_repo_top50[19],\n",
    "    id21=burstbirank_repo_top50[20], id22=burstbirank_repo_top50[21], id23=burstbirank_repo_top50[22], id24=burstbirank_repo_top50[23],\n",
    "    id25=burstbirank_repo_top50[24], id26=burstbirank_repo_top50[25], id27=burstbirank_repo_top50[26], id28=burstbirank_repo_top50[27],\n",
    "    id29=burstbirank_repo_top50[28], id30=burstbirank_repo_top50[29], id31=burstbirank_repo_top50[30], id32=burstbirank_repo_top50[31],\n",
    "    id33=burstbirank_repo_top50[32], id34=burstbirank_repo_top50[33], id35=burstbirank_repo_top50[34], id36=burstbirank_repo_top50[35],\n",
    "    id37=burstbirank_repo_top50[36], id38=burstbirank_repo_top50[37], id39=burstbirank_repo_top50[38], id40=burstbirank_repo_top50[39],\n",
    "    id41=burstbirank_repo_top50[40], id42=burstbirank_repo_top50[41], id43=burstbirank_repo_top50[42], id44=burstbirank_repo_top50[43],\n",
    "    id45=burstbirank_repo_top50[44], id46=burstbirank_repo_top50[45], id47=burstbirank_repo_top50[46], id48=burstbirank_repo_top50[47],\n",
    "    id49=burstbirank_repo_top50[48], id50=burstbirank_repo_top50[49]\n",
    ")\n",
    "table = o.execute_sql(sql, hints={'odps.sql.allow.fullscan': 'true',\"odps.sql.submit.mode\" : \"script\"})"
   ]
  },
  {
   "cell_type": "code",
   "execution_count": 152,
   "id": "849e458d-d614-45f0-8c69-388ef4881331",
   "metadata": {},
   "outputs": [
    {
     "data": {
      "text/html": [
       "<div>\n",
       "<style scoped>\n",
       "    .dataframe tbody tr th:only-of-type {\n",
       "        vertical-align: middle;\n",
       "    }\n",
       "\n",
       "    .dataframe tbody tr th {\n",
       "        vertical-align: top;\n",
       "    }\n",
       "\n",
       "    .dataframe thead th {\n",
       "        text-align: right;\n",
       "    }\n",
       "</style>\n",
       "<table border=\"1\" class=\"dataframe\">\n",
       "  <thead>\n",
       "    <tr style=\"text-align: right;\">\n",
       "      <th></th>\n",
       "      <th>new_repo_id</th>\n",
       "      <th>watch_rank</th>\n",
       "    </tr>\n",
       "  </thead>\n",
       "  <tbody>\n",
       "    <tr>\n",
       "      <th>0</th>\n",
       "      <td>252316</td>\n",
       "      <td>2</td>\n",
       "    </tr>\n",
       "    <tr>\n",
       "      <th>1</th>\n",
       "      <td>441142</td>\n",
       "      <td>9</td>\n",
       "    </tr>\n",
       "    <tr>\n",
       "      <th>2</th>\n",
       "      <td>392246</td>\n",
       "      <td>18</td>\n",
       "    </tr>\n",
       "    <tr>\n",
       "      <th>3</th>\n",
       "      <td>257880</td>\n",
       "      <td>36</td>\n",
       "    </tr>\n",
       "    <tr>\n",
       "      <th>4</th>\n",
       "      <td>1066192</td>\n",
       "      <td>38</td>\n",
       "    </tr>\n",
       "    <tr>\n",
       "      <th>5</th>\n",
       "      <td>181883</td>\n",
       "      <td>45</td>\n",
       "    </tr>\n",
       "    <tr>\n",
       "      <th>6</th>\n",
       "      <td>241359</td>\n",
       "      <td>47</td>\n",
       "    </tr>\n",
       "    <tr>\n",
       "      <th>7</th>\n",
       "      <td>204734</td>\n",
       "      <td>55</td>\n",
       "    </tr>\n",
       "    <tr>\n",
       "      <th>8</th>\n",
       "      <td>940633</td>\n",
       "      <td>78</td>\n",
       "    </tr>\n",
       "    <tr>\n",
       "      <th>9</th>\n",
       "      <td>8072</td>\n",
       "      <td>87</td>\n",
       "    </tr>\n",
       "  </tbody>\n",
       "</table>\n",
       "</div>"
      ],
      "text/plain": [
       "   new_repo_id  watch_rank\n",
       "0       252316           2\n",
       "1       441142           9\n",
       "2       392246          18\n",
       "3       257880          36\n",
       "4      1066192          38\n",
       "5       181883          45\n",
       "6       241359          47\n",
       "7       204734          55\n",
       "8       940633          78\n",
       "9         8072          87"
      ]
     },
     "execution_count": 152,
     "metadata": {},
     "output_type": "execute_result"
    }
   ],
   "source": [
    "data = DataFrame(o.get_table(TEMP_EVAL_TABLE3))\n",
    "data.head(10)"
   ]
  },
  {
   "cell_type": "code",
   "execution_count": 153,
   "id": "57ac76f9-7dab-4ccc-b726-4f98a05febd8",
   "metadata": {},
   "outputs": [
    {
     "data": {
      "text/html": [
       "<div>\n",
       "<style scoped>\n",
       "    .dataframe tbody tr th:only-of-type {\n",
       "        vertical-align: middle;\n",
       "    }\n",
       "\n",
       "    .dataframe tbody tr th {\n",
       "        vertical-align: top;\n",
       "    }\n",
       "\n",
       "    .dataframe thead th {\n",
       "        text-align: right;\n",
       "    }\n",
       "</style>\n",
       "<table border=\"1\" class=\"dataframe\">\n",
       "  <thead>\n",
       "    <tr style=\"text-align: right;\">\n",
       "      <th></th>\n",
       "      <th>new_repo_id</th>\n",
       "      <th>repo_name</th>\n",
       "      <th>rank</th>\n",
       "      <th>watch_rank</th>\n",
       "    </tr>\n",
       "  </thead>\n",
       "  <tbody>\n",
       "    <tr>\n",
       "      <th>0</th>\n",
       "      <td>1026966</td>\n",
       "      <td>firstcontributions/first-contributions</td>\n",
       "      <td>1</td>\n",
       "      <td>437</td>\n",
       "    </tr>\n",
       "    <tr>\n",
       "      <th>1</th>\n",
       "      <td>139313</td>\n",
       "      <td>jlord/patchwork</td>\n",
       "      <td>2</td>\n",
       "      <td>24375</td>\n",
       "    </tr>\n",
       "    <tr>\n",
       "      <th>2</th>\n",
       "      <td>59756</td>\n",
       "      <td>DefinitelyTyped/DefinitelyTyped</td>\n",
       "      <td>3</td>\n",
       "      <td>236</td>\n",
       "    </tr>\n",
       "    <tr>\n",
       "      <th>3</th>\n",
       "      <td>14527</td>\n",
       "      <td>octocat/Spoon-Knife</td>\n",
       "      <td>4</td>\n",
       "      <td>9653</td>\n",
       "    </tr>\n",
       "    <tr>\n",
       "      <th>4</th>\n",
       "      <td>7874763</td>\n",
       "      <td>education/GitHubGraduation-2021</td>\n",
       "      <td>5</td>\n",
       "      <td>18242</td>\n",
       "    </tr>\n",
       "    <tr>\n",
       "      <th>5</th>\n",
       "      <td>600362</td>\n",
       "      <td>Homebrew/homebrew-core</td>\n",
       "      <td>6</td>\n",
       "      <td>1646</td>\n",
       "    </tr>\n",
       "    <tr>\n",
       "      <th>6</th>\n",
       "      <td>1137269</td>\n",
       "      <td>MicrosoftDocs/azure-docs</td>\n",
       "      <td>7</td>\n",
       "      <td>3357</td>\n",
       "    </tr>\n",
       "    <tr>\n",
       "      <th>7</th>\n",
       "      <td>2001869</td>\n",
       "      <td>AliceWonderland/hacktoberfest</td>\n",
       "      <td>8</td>\n",
       "      <td>28425</td>\n",
       "    </tr>\n",
       "    <tr>\n",
       "      <th>8</th>\n",
       "      <td>38099</td>\n",
       "      <td>Homebrew/homebrew-cask</td>\n",
       "      <td>9</td>\n",
       "      <td>1491</td>\n",
       "    </tr>\n",
       "    <tr>\n",
       "      <th>9</th>\n",
       "      <td>252316</td>\n",
       "      <td>freeCodeCamp/freeCodeCamp</td>\n",
       "      <td>10</td>\n",
       "      <td>2</td>\n",
       "    </tr>\n",
       "    <tr>\n",
       "      <th>10</th>\n",
       "      <td>2288058</td>\n",
       "      <td>zero-to-mastery/start-here-guidelines</td>\n",
       "      <td>11</td>\n",
       "      <td>16609</td>\n",
       "    </tr>\n",
       "    <tr>\n",
       "      <th>11</th>\n",
       "      <td>38251</td>\n",
       "      <td>ansible/ansible</td>\n",
       "      <td>12</td>\n",
       "      <td>161</td>\n",
       "    </tr>\n",
       "    <tr>\n",
       "      <th>12</th>\n",
       "      <td>326560</td>\n",
       "      <td>gatsbyjs/gatsby</td>\n",
       "      <td>13</td>\n",
       "      <td>89</td>\n",
       "    </tr>\n",
       "    <tr>\n",
       "      <th>13</th>\n",
       "      <td>561908</td>\n",
       "      <td>kubernetes/website</td>\n",
       "      <td>14</td>\n",
       "      <td>8341</td>\n",
       "    </tr>\n",
       "    <tr>\n",
       "      <th>14</th>\n",
       "      <td>456536</td>\n",
       "      <td>helm/charts</td>\n",
       "      <td>15</td>\n",
       "      <td>939</td>\n",
       "    </tr>\n",
       "    <tr>\n",
       "      <th>15</th>\n",
       "      <td>181883</td>\n",
       "      <td>kubernetes/kubernetes</td>\n",
       "      <td>16</td>\n",
       "      <td>45</td>\n",
       "    </tr>\n",
       "    <tr>\n",
       "      <th>16</th>\n",
       "      <td>46845</td>\n",
       "      <td>NixOS/nixpkgs</td>\n",
       "      <td>17</td>\n",
       "      <td>2594</td>\n",
       "    </tr>\n",
       "    <tr>\n",
       "      <th>17</th>\n",
       "      <td>441142</td>\n",
       "      <td>tensorflow/tensorflow</td>\n",
       "      <td>18</td>\n",
       "      <td>9</td>\n",
       "    </tr>\n",
       "    <tr>\n",
       "      <th>18</th>\n",
       "      <td>71210</td>\n",
       "      <td>laravel/framework</td>\n",
       "      <td>19</td>\n",
       "      <td>487</td>\n",
       "    </tr>\n",
       "    <tr>\n",
       "      <th>19</th>\n",
       "      <td>96463</td>\n",
       "      <td>TheOdinProject/curriculum</td>\n",
       "      <td>20</td>\n",
       "      <td>5894</td>\n",
       "    </tr>\n",
       "    <tr>\n",
       "      <th>20</th>\n",
       "      <td>251278</td>\n",
       "      <td>home-assistant/home-assistant.io</td>\n",
       "      <td>21</td>\n",
       "      <td>10218</td>\n",
       "    </tr>\n",
       "    <tr>\n",
       "      <th>21</th>\n",
       "      <td>217461</td>\n",
       "      <td>JetBrains/swot</td>\n",
       "      <td>22</td>\n",
       "      <td>26010</td>\n",
       "    </tr>\n",
       "    <tr>\n",
       "      <th>22</th>\n",
       "      <td>5031693</td>\n",
       "      <td>google/it-cert-automation-practice</td>\n",
       "      <td>23</td>\n",
       "      <td>50676</td>\n",
       "    </tr>\n",
       "    <tr>\n",
       "      <th>23</th>\n",
       "      <td>114882</td>\n",
       "      <td>home-assistant/core</td>\n",
       "      <td>24</td>\n",
       "      <td>105</td>\n",
       "    </tr>\n",
       "    <tr>\n",
       "      <th>24</th>\n",
       "      <td>7708185</td>\n",
       "      <td>rms-support-letter/rms-support-letter.github.io</td>\n",
       "      <td>25</td>\n",
       "      <td>9832</td>\n",
       "    </tr>\n",
       "    <tr>\n",
       "      <th>25</th>\n",
       "      <td>1981961</td>\n",
       "      <td>rishabh-bansal/GitStart</td>\n",
       "      <td>26</td>\n",
       "      <td>44859</td>\n",
       "    </tr>\n",
       "    <tr>\n",
       "      <th>26</th>\n",
       "      <td>139</td>\n",
       "      <td>rails/rails</td>\n",
       "      <td>27</td>\n",
       "      <td>312</td>\n",
       "    </tr>\n",
       "    <tr>\n",
       "      <th>27</th>\n",
       "      <td>1672325</td>\n",
       "      <td>freeCodeCamp/guide</td>\n",
       "      <td>28</td>\n",
       "      <td>11775</td>\n",
       "    </tr>\n",
       "    <tr>\n",
       "      <th>28</th>\n",
       "      <td>241359</td>\n",
       "      <td>nodejs/node</td>\n",
       "      <td>29</td>\n",
       "      <td>47</td>\n",
       "    </tr>\n",
       "    <tr>\n",
       "      <th>29</th>\n",
       "      <td>760499</td>\n",
       "      <td>githubschool/open-enrollment-classes-introduct...</td>\n",
       "      <td>30</td>\n",
       "      <td>31102</td>\n",
       "    </tr>\n",
       "    <tr>\n",
       "      <th>30</th>\n",
       "      <td>940633</td>\n",
       "      <td>pytorch/pytorch</td>\n",
       "      <td>31</td>\n",
       "      <td>78</td>\n",
       "    </tr>\n",
       "    <tr>\n",
       "      <th>31</th>\n",
       "      <td>2011602</td>\n",
       "      <td>Cutwell/Hacktoberfest-Census</td>\n",
       "      <td>32</td>\n",
       "      <td>139311</td>\n",
       "    </tr>\n",
       "    <tr>\n",
       "      <th>32</th>\n",
       "      <td>5922489</td>\n",
       "      <td>education/graduation</td>\n",
       "      <td>33</td>\n",
       "      <td>31962</td>\n",
       "    </tr>\n",
       "    <tr>\n",
       "      <th>33</th>\n",
       "      <td>1376566</td>\n",
       "      <td>python/cpython</td>\n",
       "      <td>34</td>\n",
       "      <td>117</td>\n",
       "    </tr>\n",
       "    <tr>\n",
       "      <th>34</th>\n",
       "      <td>180406</td>\n",
       "      <td>deadlyvipers/dojo_rules</td>\n",
       "      <td>35</td>\n",
       "      <td>147347</td>\n",
       "    </tr>\n",
       "    <tr>\n",
       "      <th>35</th>\n",
       "      <td>3096907</td>\n",
       "      <td>IntelAISociety/Hello-world</td>\n",
       "      <td>36</td>\n",
       "      <td>17987</td>\n",
       "    </tr>\n",
       "    <tr>\n",
       "      <th>36</th>\n",
       "      <td>204734</td>\n",
       "      <td>mui-org/material-ui</td>\n",
       "      <td>37</td>\n",
       "      <td>55</td>\n",
       "    </tr>\n",
       "    <tr>\n",
       "      <th>37</th>\n",
       "      <td>257880</td>\n",
       "      <td>facebook/react-native</td>\n",
       "      <td>38</td>\n",
       "      <td>36</td>\n",
       "    </tr>\n",
       "    <tr>\n",
       "      <th>38</th>\n",
       "      <td>8072</td>\n",
       "      <td>rust-lang/rust</td>\n",
       "      <td>39</td>\n",
       "      <td>87</td>\n",
       "    </tr>\n",
       "    <tr>\n",
       "      <th>39</th>\n",
       "      <td>1066192</td>\n",
       "      <td>vercel/next.js</td>\n",
       "      <td>40</td>\n",
       "      <td>38</td>\n",
       "    </tr>\n",
       "    <tr>\n",
       "      <th>40</th>\n",
       "      <td>302700</td>\n",
       "      <td>js-org/js.org</td>\n",
       "      <td>41</td>\n",
       "      <td>7474</td>\n",
       "    </tr>\n",
       "    <tr>\n",
       "      <th>41</th>\n",
       "      <td>391536</td>\n",
       "      <td>conda-forge/staged-recipes</td>\n",
       "      <td>42</td>\n",
       "      <td>49976</td>\n",
       "    </tr>\n",
       "    <tr>\n",
       "      <th>42</th>\n",
       "      <td>6499723</td>\n",
       "      <td>CodeTrophs/FaceID</td>\n",
       "      <td>43</td>\n",
       "      <td>19683</td>\n",
       "    </tr>\n",
       "    <tr>\n",
       "      <th>43</th>\n",
       "      <td>392246</td>\n",
       "      <td>microsoft/vscode</td>\n",
       "      <td>44</td>\n",
       "      <td>18</td>\n",
       "    </tr>\n",
       "    <tr>\n",
       "      <th>44</th>\n",
       "      <td>9626</td>\n",
       "      <td>pandas-dev/pandas</td>\n",
       "      <td>45</td>\n",
       "      <td>305</td>\n",
       "    </tr>\n",
       "    <tr>\n",
       "      <th>45</th>\n",
       "      <td>217314</td>\n",
       "      <td>udacity/create-your-own-adventure</td>\n",
       "      <td>46</td>\n",
       "      <td>48094</td>\n",
       "    </tr>\n",
       "    <tr>\n",
       "      <th>46</th>\n",
       "      <td>513027</td>\n",
       "      <td>thank-you-github/thank-you-github</td>\n",
       "      <td>47</td>\n",
       "      <td>12993</td>\n",
       "    </tr>\n",
       "    <tr>\n",
       "      <th>47</th>\n",
       "      <td>240300</td>\n",
       "      <td>makersacademy/airport_challenge</td>\n",
       "      <td>48</td>\n",
       "      <td>355230</td>\n",
       "    </tr>\n",
       "    <tr>\n",
       "      <th>48</th>\n",
       "      <td>246048</td>\n",
       "      <td>qmk/qmk_firmware</td>\n",
       "      <td>49</td>\n",
       "      <td>1645</td>\n",
       "    </tr>\n",
       "    <tr>\n",
       "      <th>49</th>\n",
       "      <td>357567</td>\n",
       "      <td>Azure/azure-rest-api-specs</td>\n",
       "      <td>50</td>\n",
       "      <td>20935</td>\n",
       "    </tr>\n",
       "  </tbody>\n",
       "</table>\n",
       "</div>"
      ],
      "text/plain": [
       "    new_repo_id                                          repo_name  rank  \\\n",
       "0       1026966             firstcontributions/first-contributions     1   \n",
       "1        139313                                    jlord/patchwork     2   \n",
       "2         59756                    DefinitelyTyped/DefinitelyTyped     3   \n",
       "3         14527                                octocat/Spoon-Knife     4   \n",
       "4       7874763                    education/GitHubGraduation-2021     5   \n",
       "5        600362                             Homebrew/homebrew-core     6   \n",
       "6       1137269                           MicrosoftDocs/azure-docs     7   \n",
       "7       2001869                      AliceWonderland/hacktoberfest     8   \n",
       "8         38099                             Homebrew/homebrew-cask     9   \n",
       "9        252316                          freeCodeCamp/freeCodeCamp    10   \n",
       "10      2288058              zero-to-mastery/start-here-guidelines    11   \n",
       "11        38251                                    ansible/ansible    12   \n",
       "12       326560                                    gatsbyjs/gatsby    13   \n",
       "13       561908                                 kubernetes/website    14   \n",
       "14       456536                                        helm/charts    15   \n",
       "15       181883                              kubernetes/kubernetes    16   \n",
       "16        46845                                      NixOS/nixpkgs    17   \n",
       "17       441142                              tensorflow/tensorflow    18   \n",
       "18        71210                                  laravel/framework    19   \n",
       "19        96463                          TheOdinProject/curriculum    20   \n",
       "20       251278                   home-assistant/home-assistant.io    21   \n",
       "21       217461                                     JetBrains/swot    22   \n",
       "22      5031693                 google/it-cert-automation-practice    23   \n",
       "23       114882                                home-assistant/core    24   \n",
       "24      7708185    rms-support-letter/rms-support-letter.github.io    25   \n",
       "25      1981961                            rishabh-bansal/GitStart    26   \n",
       "26          139                                        rails/rails    27   \n",
       "27      1672325                                 freeCodeCamp/guide    28   \n",
       "28       241359                                        nodejs/node    29   \n",
       "29       760499  githubschool/open-enrollment-classes-introduct...    30   \n",
       "30       940633                                    pytorch/pytorch    31   \n",
       "31      2011602                       Cutwell/Hacktoberfest-Census    32   \n",
       "32      5922489                               education/graduation    33   \n",
       "33      1376566                                     python/cpython    34   \n",
       "34       180406                            deadlyvipers/dojo_rules    35   \n",
       "35      3096907                         IntelAISociety/Hello-world    36   \n",
       "36       204734                                mui-org/material-ui    37   \n",
       "37       257880                              facebook/react-native    38   \n",
       "38         8072                                     rust-lang/rust    39   \n",
       "39      1066192                                     vercel/next.js    40   \n",
       "40       302700                                      js-org/js.org    41   \n",
       "41       391536                         conda-forge/staged-recipes    42   \n",
       "42      6499723                                  CodeTrophs/FaceID    43   \n",
       "43       392246                                   microsoft/vscode    44   \n",
       "44         9626                                  pandas-dev/pandas    45   \n",
       "45       217314                  udacity/create-your-own-adventure    46   \n",
       "46       513027                  thank-you-github/thank-you-github    47   \n",
       "47       240300                    makersacademy/airport_challenge    48   \n",
       "48       246048                                   qmk/qmk_firmware    49   \n",
       "49       357567                         Azure/azure-rest-api-specs    50   \n",
       "\n",
       "    watch_rank  \n",
       "0          437  \n",
       "1        24375  \n",
       "2          236  \n",
       "3         9653  \n",
       "4        18242  \n",
       "5         1646  \n",
       "6         3357  \n",
       "7        28425  \n",
       "8         1491  \n",
       "9            2  \n",
       "10       16609  \n",
       "11         161  \n",
       "12          89  \n",
       "13        8341  \n",
       "14         939  \n",
       "15          45  \n",
       "16        2594  \n",
       "17           9  \n",
       "18         487  \n",
       "19        5894  \n",
       "20       10218  \n",
       "21       26010  \n",
       "22       50676  \n",
       "23         105  \n",
       "24        9832  \n",
       "25       44859  \n",
       "26         312  \n",
       "27       11775  \n",
       "28          47  \n",
       "29       31102  \n",
       "30          78  \n",
       "31      139311  \n",
       "32       31962  \n",
       "33         117  \n",
       "34      147347  \n",
       "35       17987  \n",
       "36          55  \n",
       "37          36  \n",
       "38          87  \n",
       "39          38  \n",
       "40        7474  \n",
       "41       49976  \n",
       "42       19683  \n",
       "43          18  \n",
       "44         305  \n",
       "45       48094  \n",
       "46       12993  \n",
       "47      355230  \n",
       "48        1645  \n",
       "49       20935  "
      ]
     },
     "execution_count": 153,
     "metadata": {},
     "output_type": "execute_result"
    }
   ],
   "source": [
    "burstbirank_repo_top50_inwatch = data.to_pandas()\n",
    "repo_result_top50 = pd.DataFrame(repo_result, columns=['new_repo_id','repo_name','rank'])[:50]\n",
    "# 合并burstbirank_repo_top50_inwatch和repo_result_top50\n",
    "burstbirank_watch_top50 = pd.merge(repo_result_top50, burstbirank_repo_top50_inwatch, on='new_repo_id')\n",
    "burstbirank_watch_top50"
   ]
  },
  {
   "cell_type": "markdown",
   "id": "fb93c1f7-ecd4-417b-a725-49871f385478",
   "metadata": {
    "tags": []
   },
   "source": [
    "#### actor"
   ]
  },
  {
   "cell_type": "code",
   "execution_count": 154,
   "id": "5a632527-4a0d-466c-9824-1b533dfb3cd9",
   "metadata": {},
   "outputs": [
    {
     "name": "stdout",
     "output_type": "stream",
     "text": [
      "[414972, 673689, 361520, 334816, 1142911, 595188, 1014261, 571640, 1065468, 315487]\n"
     ]
    }
   ],
   "source": [
    "burstbirank_actor_top10=actor_info['new_actor_id'][:10].tolist()\n",
    "print(burstbirank_actor_top10)"
   ]
  },
  {
   "cell_type": "code",
   "execution_count": 155,
   "id": "82800cb3-0f16-4aa4-9132-44a2201c999b",
   "metadata": {},
   "outputs": [
    {
     "data": {
      "text/plain": [
       "<Instance 20220520025408394gbm6w5pr2>"
      ]
     },
     "execution_count": 155,
     "metadata": {},
     "output_type": "execute_result"
    }
   ],
   "source": [
    "TEMP_EVAL_TABLE4 = 'hx_burstbirank_follow_actor_top10'\n",
    "drop_sql = '''\n",
    "    DROP TABLE IF EXISTS {TEMP_EVAL_TABLE};\n",
    "    CREATE TABLE IF NOT EXISTS {TEMP_EVAL_TABLE}\n",
    "    (\n",
    "        new_actor_id     BIGINT,\n",
    "        follower_rank    BIGINT\n",
    "    );\n",
    "'''.format(\n",
    "    TEMP_EVAL_TABLE=TEMP_EVAL_TABLE4\n",
    ")\n",
    "o.execute_sql(drop_sql, hints={'odps.sql.allow.fullscan': 'true', 'odps.sql.submit.mode': 'script'})"
   ]
  },
  {
   "cell_type": "code",
   "execution_count": 156,
   "id": "d38f62fe-d345-49db-8d09-acd8e3e03d07",
   "metadata": {},
   "outputs": [],
   "source": [
    "sql = '''set odps.sql.validate.orderby.limit=false;\n",
    "        INSERT INTO {TEMP_EVAL_TABLE2}\n",
    "        SELECT new_actor_id, follower_rank\n",
    "        FROM {TEMP_EVAL_TABLE1}\n",
    "        WHERE new_actor_id = {id1} OR new_actor_id = {id2} OR new_actor_id = {id3} OR new_actor_id = {id4} \n",
    "        OR new_actor_id = {id5} OR new_actor_id = {id6} OR new_actor_id = {id7} OR new_actor_id = {id8}\n",
    "        OR new_actor_id = {id9} OR new_actor_id = {id10}\n",
    "'''.format(\n",
    "    TEMP_EVAL_TABLE1=TEMP_FOLLOW_TABLE5,\n",
    "    TEMP_EVAL_TABLE2=TEMP_EVAL_TABLE4,\n",
    "    id1=burstbirank_actor_top10[0],\n",
    "    id2=burstbirank_actor_top10[1],\n",
    "    id3=burstbirank_actor_top10[2],\n",
    "    id4=burstbirank_actor_top10[3],\n",
    "    id5=burstbirank_actor_top10[4],\n",
    "    id6=burstbirank_actor_top10[5],\n",
    "    id7=burstbirank_actor_top10[6],\n",
    "    id8=burstbirank_actor_top10[7],\n",
    "    id9=burstbirank_actor_top10[8],\n",
    "    id10=burstbirank_actor_top10[9]\n",
    ")\n",
    "table = o.execute_sql(sql, hints={'odps.sql.allow.fullscan': 'true',\"odps.sql.submit.mode\" : \"script\"})"
   ]
  },
  {
   "cell_type": "code",
   "execution_count": 157,
   "id": "297edd7f-b1e3-4a7b-a9ae-3f9ae5d29044",
   "metadata": {},
   "outputs": [
    {
     "data": {
      "text/html": [
       "<div>\n",
       "<style scoped>\n",
       "    .dataframe tbody tr th:only-of-type {\n",
       "        vertical-align: middle;\n",
       "    }\n",
       "\n",
       "    .dataframe tbody tr th {\n",
       "        vertical-align: top;\n",
       "    }\n",
       "\n",
       "    .dataframe thead th {\n",
       "        text-align: right;\n",
       "    }\n",
       "</style>\n",
       "<table border=\"1\" class=\"dataframe\">\n",
       "  <thead>\n",
       "    <tr style=\"text-align: right;\">\n",
       "      <th></th>\n",
       "      <th>new_actor_id</th>\n",
       "      <th>follower_rank</th>\n",
       "    </tr>\n",
       "  </thead>\n",
       "  <tbody>\n",
       "    <tr>\n",
       "      <th>0</th>\n",
       "      <td>1142911</td>\n",
       "      <td>143070</td>\n",
       "    </tr>\n",
       "  </tbody>\n",
       "</table>\n",
       "</div>"
      ],
      "text/plain": [
       "   new_actor_id  follower_rank\n",
       "0       1142911         143070"
      ]
     },
     "execution_count": 157,
     "metadata": {},
     "output_type": "execute_result"
    }
   ],
   "source": [
    "data = DataFrame(o.get_table(TEMP_EVAL_TABLE4))\n",
    "data.head(10)"
   ]
  },
  {
   "cell_type": "code",
   "execution_count": 158,
   "id": "98d089fc-3f83-40f8-bfda-0b741f9c1efa",
   "metadata": {},
   "outputs": [
    {
     "data": {
      "text/html": [
       "<div>\n",
       "<style scoped>\n",
       "    .dataframe tbody tr th:only-of-type {\n",
       "        vertical-align: middle;\n",
       "    }\n",
       "\n",
       "    .dataframe tbody tr th {\n",
       "        vertical-align: top;\n",
       "    }\n",
       "\n",
       "    .dataframe thead th {\n",
       "        text-align: right;\n",
       "    }\n",
       "</style>\n",
       "<table border=\"1\" class=\"dataframe\">\n",
       "  <thead>\n",
       "    <tr style=\"text-align: right;\">\n",
       "      <th></th>\n",
       "      <th>new_actor_id</th>\n",
       "      <th>actor_name</th>\n",
       "      <th>rank</th>\n",
       "      <th>follower_rank</th>\n",
       "    </tr>\n",
       "  </thead>\n",
       "  <tbody>\n",
       "    <tr>\n",
       "      <th>0</th>\n",
       "      <td>1142911</td>\n",
       "      <td>codeserver-test1</td>\n",
       "      <td>5</td>\n",
       "      <td>143070</td>\n",
       "    </tr>\n",
       "  </tbody>\n",
       "</table>\n",
       "</div>"
      ],
      "text/plain": [
       "   new_actor_id        actor_name  rank  follower_rank\n",
       "0       1142911  codeserver-test1     5         143070"
      ]
     },
     "execution_count": 158,
     "metadata": {},
     "output_type": "execute_result"
    }
   ],
   "source": [
    "burstbirank_actor_top10_infollow = data.to_pandas()\n",
    "actor_result_top10 = pd.DataFrame(actor_result, columns=['new_actor_id','actor_name','rank'])[:10]\n",
    "# 合并burstbirank_actor_top10_infollow和actor_result_top10\n",
    "burstbirank_follow_top10 = pd.merge(actor_result_top10, burstbirank_actor_top10_infollow, on='new_actor_id')\n",
    "burstbirank_follow_top10"
   ]
  },
  {
   "cell_type": "markdown",
   "id": "242874ca-583d-4f3d-bfe7-d296b2aa3569",
   "metadata": {
    "tags": []
   },
   "source": [
    "##### top20"
   ]
  },
  {
   "cell_type": "code",
   "execution_count": 159,
   "id": "63186f3c-24a5-4adc-aa9d-1eb6ed1d2244",
   "metadata": {},
   "outputs": [
    {
     "name": "stdout",
     "output_type": "stream",
     "text": [
      "[414972, 673689, 361520, 334816, 1142911, 595188, 1014261, 571640, 1065468, 315487, 122996, 221311, 1275949, 7479, 344388, 215104, 343522, 1235182, 1237106, 363095]\n"
     ]
    }
   ],
   "source": [
    "burstbirank_actor_top20=actor_info['new_actor_id'][:20].tolist()\n",
    "print(burstbirank_actor_top20)"
   ]
  },
  {
   "cell_type": "code",
   "execution_count": 160,
   "id": "317f5913-7edc-4cef-ae90-6afb6c133fbc",
   "metadata": {},
   "outputs": [
    {
     "data": {
      "text/plain": [
       "<Instance 20220520025413160gmc7eom7>"
      ]
     },
     "execution_count": 160,
     "metadata": {},
     "output_type": "execute_result"
    }
   ],
   "source": [
    "TEMP_EVAL_TABLE5 = 'hx_burstbirank_follow_actor_top20'\n",
    "drop_sql = '''\n",
    "    DROP TABLE IF EXISTS {TEMP_EVAL_TABLE};\n",
    "    CREATE TABLE IF NOT EXISTS {TEMP_EVAL_TABLE}\n",
    "    (\n",
    "        new_actor_id     BIGINT,\n",
    "        follower_rank    BIGINT\n",
    "    );\n",
    "'''.format(\n",
    "    TEMP_EVAL_TABLE=TEMP_EVAL_TABLE5\n",
    ")\n",
    "o.execute_sql(drop_sql, hints={'odps.sql.allow.fullscan': 'true', 'odps.sql.submit.mode': 'script'})"
   ]
  },
  {
   "cell_type": "code",
   "execution_count": 161,
   "id": "ef274a9f-8de9-4b5f-b3d5-9df717953ed7",
   "metadata": {},
   "outputs": [],
   "source": [
    "sql = '''set odps.sql.validate.orderby.limit=false;\n",
    "        INSERT INTO {TEMP_EVAL_TABLE2}\n",
    "        SELECT new_actor_id, follower_rank\n",
    "        FROM {TEMP_EVAL_TABLE1}\n",
    "        WHERE new_actor_id = {id1} OR new_actor_id = {id2} OR new_actor_id = {id3} OR new_actor_id = {id4} \n",
    "        OR new_actor_id = {id5} OR new_actor_id = {id6} OR new_actor_id = {id7} OR new_actor_id = {id8}\n",
    "        OR new_actor_id = {id9} OR new_actor_id = {id10} OR new_actor_id = {id11} OR new_actor_id = {id12}\n",
    "        OR new_actor_id = {id13} OR new_actor_id = {id14} OR new_actor_id = {id15} OR new_actor_id = {id16}\n",
    "        OR new_actor_id = {id17} OR new_actor_id = {id18} OR new_actor_id = {id19} OR new_actor_id = {id20}\n",
    "'''.format(\n",
    "    TEMP_EVAL_TABLE1=TEMP_FOLLOW_TABLE5,\n",
    "    TEMP_EVAL_TABLE2=TEMP_EVAL_TABLE5,\n",
    "    id1=burstbirank_actor_top20[0],\n",
    "    id2=burstbirank_actor_top20[1],\n",
    "    id3=burstbirank_actor_top20[2],\n",
    "    id4=burstbirank_actor_top20[3],\n",
    "    id5=burstbirank_actor_top20[4],\n",
    "    id6=burstbirank_actor_top20[5],\n",
    "    id7=burstbirank_actor_top20[6],\n",
    "    id8=burstbirank_actor_top20[7],\n",
    "    id9=burstbirank_actor_top20[8],\n",
    "    id10=burstbirank_actor_top20[9],\n",
    "    id11=burstbirank_actor_top20[10],\n",
    "    id12=burstbirank_actor_top20[11],\n",
    "    id13=burstbirank_actor_top20[12],\n",
    "    id14=burstbirank_actor_top20[13],\n",
    "    id15=burstbirank_actor_top20[14],\n",
    "    id16=burstbirank_actor_top20[15],\n",
    "    id17=burstbirank_actor_top20[16],\n",
    "    id18=burstbirank_actor_top20[17],\n",
    "    id19=burstbirank_actor_top20[18],\n",
    "    id20=burstbirank_actor_top20[19]\n",
    ")\n",
    "table = o.execute_sql(sql, hints={'odps.sql.allow.fullscan': 'true',\"odps.sql.submit.mode\" : \"script\"})"
   ]
  },
  {
   "cell_type": "code",
   "execution_count": 162,
   "id": "3c1990da-3f93-4c48-93e3-4ad8a23f6b67",
   "metadata": {},
   "outputs": [
    {
     "data": {
      "text/html": [
       "<div>\n",
       "<style scoped>\n",
       "    .dataframe tbody tr th:only-of-type {\n",
       "        vertical-align: middle;\n",
       "    }\n",
       "\n",
       "    .dataframe tbody tr th {\n",
       "        vertical-align: top;\n",
       "    }\n",
       "\n",
       "    .dataframe thead th {\n",
       "        text-align: right;\n",
       "    }\n",
       "</style>\n",
       "<table border=\"1\" class=\"dataframe\">\n",
       "  <thead>\n",
       "    <tr style=\"text-align: right;\">\n",
       "      <th></th>\n",
       "      <th>new_actor_id</th>\n",
       "      <th>follower_rank</th>\n",
       "    </tr>\n",
       "  </thead>\n",
       "  <tbody>\n",
       "    <tr>\n",
       "      <th>0</th>\n",
       "      <td>221311</td>\n",
       "      <td>134012</td>\n",
       "    </tr>\n",
       "    <tr>\n",
       "      <th>1</th>\n",
       "      <td>1142911</td>\n",
       "      <td>143070</td>\n",
       "    </tr>\n",
       "  </tbody>\n",
       "</table>\n",
       "</div>"
      ],
      "text/plain": [
       "   new_actor_id  follower_rank\n",
       "0        221311         134012\n",
       "1       1142911         143070"
      ]
     },
     "execution_count": 162,
     "metadata": {},
     "output_type": "execute_result"
    }
   ],
   "source": [
    "data = DataFrame(o.get_table(TEMP_EVAL_TABLE5))\n",
    "data.head(10)"
   ]
  },
  {
   "cell_type": "code",
   "execution_count": 163,
   "id": "d7595de6-830b-4230-ad62-44a7e3ba8355",
   "metadata": {},
   "outputs": [
    {
     "data": {
      "text/html": [
       "<div>\n",
       "<style scoped>\n",
       "    .dataframe tbody tr th:only-of-type {\n",
       "        vertical-align: middle;\n",
       "    }\n",
       "\n",
       "    .dataframe tbody tr th {\n",
       "        vertical-align: top;\n",
       "    }\n",
       "\n",
       "    .dataframe thead th {\n",
       "        text-align: right;\n",
       "    }\n",
       "</style>\n",
       "<table border=\"1\" class=\"dataframe\">\n",
       "  <thead>\n",
       "    <tr style=\"text-align: right;\">\n",
       "      <th></th>\n",
       "      <th>new_actor_id</th>\n",
       "      <th>actor_name</th>\n",
       "      <th>rank</th>\n",
       "      <th>follower_rank</th>\n",
       "    </tr>\n",
       "  </thead>\n",
       "  <tbody>\n",
       "    <tr>\n",
       "      <th>0</th>\n",
       "      <td>1142911</td>\n",
       "      <td>codeserver-test1</td>\n",
       "      <td>5</td>\n",
       "      <td>143070</td>\n",
       "    </tr>\n",
       "    <tr>\n",
       "      <th>1</th>\n",
       "      <td>221311</td>\n",
       "      <td>bryant1410</td>\n",
       "      <td>12</td>\n",
       "      <td>134012</td>\n",
       "    </tr>\n",
       "  </tbody>\n",
       "</table>\n",
       "</div>"
      ],
      "text/plain": [
       "   new_actor_id        actor_name  rank  follower_rank\n",
       "0       1142911  codeserver-test1     5         143070\n",
       "1        221311        bryant1410    12         134012"
      ]
     },
     "execution_count": 163,
     "metadata": {},
     "output_type": "execute_result"
    }
   ],
   "source": [
    "burstbirank_actor_top20_infollow = data.to_pandas()\n",
    "actor_result_top20 = pd.DataFrame(actor_result, columns=['new_actor_id','actor_name','rank'])[:20]\n",
    "# 合并burstbirank_actor_top20_infollow和actor_result_top20\n",
    "burstbirank_follow_top20 = pd.merge(actor_result_top20, burstbirank_actor_top20_infollow, on='new_actor_id')\n",
    "burstbirank_follow_top20"
   ]
  },
  {
   "cell_type": "markdown",
   "id": "24cafb58-edfc-4670-94ef-66d82e1ca6d6",
   "metadata": {
    "tags": []
   },
   "source": [
    "##### top50"
   ]
  },
  {
   "cell_type": "code",
   "execution_count": 164,
   "id": "28c82c1f-81da-46db-8a59-e9bd98a6aef4",
   "metadata": {},
   "outputs": [
    {
     "name": "stdout",
     "output_type": "stream",
     "text": [
      "[414972, 673689, 361520, 334816, 1142911, 595188, 1014261, 571640, 1065468, 315487, 122996, 221311, 1275949, 7479, 344388, 215104, 343522, 1235182, 1237106, 363095, 1021292, 114227, 725883, 1053802, 936214, 892941, 509911, 26910, 166969, 1135345, 59749, 1023804, 294147, 1223383, 1304580, 890869, 948380, 327204, 581408, 166538, 1070116, 950558, 92, 75252, 375568, 174150, 831667, 394489, 178671, 208100]\n"
     ]
    }
   ],
   "source": [
    "burstbirank_actor_top50=actor_info['new_actor_id'][:50].tolist()\n",
    "print(burstbirank_actor_top50)"
   ]
  },
  {
   "cell_type": "code",
   "execution_count": 165,
   "id": "06ae0415-d9db-4438-ad2e-819bd6363b31",
   "metadata": {},
   "outputs": [
    {
     "data": {
      "text/plain": [
       "<Instance 20220520025417612g2h305pr2>"
      ]
     },
     "execution_count": 165,
     "metadata": {},
     "output_type": "execute_result"
    }
   ],
   "source": [
    "TEMP_EVAL_TABLE6 = 'hx_burstbirank_follow_actor_top50'\n",
    "drop_sql = '''\n",
    "    DROP TABLE IF EXISTS {TEMP_EVAL_TABLE};\n",
    "    CREATE TABLE IF NOT EXISTS {TEMP_EVAL_TABLE}\n",
    "    (\n",
    "        new_actor_id     BIGINT,\n",
    "        follower_rank    BIGINT\n",
    "    );\n",
    "'''.format(\n",
    "    TEMP_EVAL_TABLE=TEMP_EVAL_TABLE6\n",
    ")\n",
    "o.execute_sql(drop_sql, hints={'odps.sql.allow.fullscan': 'true', 'odps.sql.submit.mode': 'script'})"
   ]
  },
  {
   "cell_type": "code",
   "execution_count": 166,
   "id": "9124a2ba-d677-4ac4-bff7-d1343bd1508d",
   "metadata": {},
   "outputs": [],
   "source": [
    "sql = '''set odps.sql.validate.orderby.limit=false;\n",
    "        INSERT INTO {TEMP_EVAL_TABLE2}\n",
    "        SELECT new_actor_id, follower_rank\n",
    "        FROM {TEMP_EVAL_TABLE1}\n",
    "        WHERE new_actor_id = {id1} OR new_actor_id = {id2} OR new_actor_id = {id3} OR new_actor_id = {id4} \n",
    "        OR new_actor_id = {id5} OR new_actor_id = {id6} OR new_actor_id = {id7} OR new_actor_id = {id8}\n",
    "        OR new_actor_id = {id9} OR new_actor_id = {id10} OR new_actor_id = {id11} OR new_actor_id = {id12}\n",
    "        OR new_actor_id = {id13} OR new_actor_id = {id14} OR new_actor_id = {id15} OR new_actor_id = {id16}\n",
    "        OR new_actor_id = {id17} OR new_actor_id = {id18} OR new_actor_id = {id19} OR new_actor_id = {id20}\n",
    "        OR new_actor_id = {id21} OR new_actor_id = {id22} OR new_actor_id = {id23} OR new_actor_id = {id24}\n",
    "        OR new_actor_id = {id25} OR new_actor_id = {id26} OR new_actor_id = {id27} OR new_actor_id = {id28}\n",
    "        OR new_actor_id = {id29} OR new_actor_id = {id30} OR new_actor_id = {id31} OR new_actor_id = {id32}\n",
    "        OR new_actor_id = {id33} OR new_actor_id = {id34} OR new_actor_id = {id35} OR new_actor_id = {id36}\n",
    "        OR new_actor_id = {id37} OR new_actor_id = {id38} OR new_actor_id = {id39} OR new_actor_id = {id40}\n",
    "        OR new_actor_id = {id41} OR new_actor_id = {id42} OR new_actor_id = {id43} OR new_actor_id = {id44}\n",
    "        OR new_actor_id = {id45} OR new_actor_id = {id46} OR new_actor_id = {id47} OR new_actor_id = {id48}\n",
    "        OR new_actor_id = {id49} OR new_actor_id = {id50}\n",
    "'''.format(\n",
    "    TEMP_EVAL_TABLE1=TEMP_FOLLOW_TABLE5,\n",
    "    TEMP_EVAL_TABLE2=TEMP_EVAL_TABLE6,\n",
    "    id1=burstbirank_actor_top50[0], id2=burstbirank_actor_top50[1], id3=burstbirank_actor_top50[2], id4=burstbirank_actor_top50[3],\n",
    "    id5=burstbirank_actor_top50[4], id6=burstbirank_actor_top50[5], id7=burstbirank_actor_top50[6], id8=burstbirank_actor_top50[7],\n",
    "    id9=burstbirank_actor_top50[8], id10=burstbirank_actor_top50[9], id11=burstbirank_actor_top50[10], id12=burstbirank_actor_top50[11],\n",
    "    id13=burstbirank_actor_top50[12], id14=burstbirank_actor_top50[13], id15=burstbirank_actor_top50[14], id16=burstbirank_actor_top50[15],\n",
    "    id17=burstbirank_actor_top50[16], id18=burstbirank_actor_top50[17], id19=burstbirank_actor_top50[18], id20=burstbirank_actor_top50[19],\n",
    "    id21=burstbirank_actor_top50[20], id22=burstbirank_actor_top50[21], id23=burstbirank_actor_top50[22], id24=burstbirank_actor_top50[23],\n",
    "    id25=burstbirank_actor_top50[24], id26=burstbirank_actor_top50[25], id27=burstbirank_actor_top50[26], id28=burstbirank_actor_top50[27],\n",
    "    id29=burstbirank_actor_top50[28], id30=burstbirank_actor_top50[29], id31=burstbirank_actor_top50[30], id32=burstbirank_actor_top50[31],\n",
    "    id33=burstbirank_actor_top50[32], id34=burstbirank_actor_top50[33], id35=burstbirank_actor_top50[34], id36=burstbirank_actor_top50[35],\n",
    "    id37=burstbirank_actor_top50[36], id38=burstbirank_actor_top50[37], id39=burstbirank_actor_top50[38], id40=burstbirank_actor_top50[39],\n",
    "    id41=burstbirank_actor_top50[40], id42=burstbirank_actor_top50[41], id43=burstbirank_actor_top50[42], id44=burstbirank_actor_top50[43],\n",
    "    id45=burstbirank_actor_top50[44], id46=burstbirank_actor_top50[45], id47=burstbirank_actor_top50[46], id48=burstbirank_actor_top50[47],\n",
    "    id49=burstbirank_actor_top50[48], id50=burstbirank_actor_top50[49]\n",
    ")\n",
    "table = o.execute_sql(sql, hints={'odps.sql.allow.fullscan': 'true',\"odps.sql.submit.mode\" : \"script\"})"
   ]
  },
  {
   "cell_type": "code",
   "execution_count": 167,
   "id": "85bde2e0-fe7d-45ad-ad52-05480a80a17d",
   "metadata": {},
   "outputs": [
    {
     "data": {
      "text/html": [
       "<div>\n",
       "<style scoped>\n",
       "    .dataframe tbody tr th:only-of-type {\n",
       "        vertical-align: middle;\n",
       "    }\n",
       "\n",
       "    .dataframe tbody tr th {\n",
       "        vertical-align: top;\n",
       "    }\n",
       "\n",
       "    .dataframe thead th {\n",
       "        text-align: right;\n",
       "    }\n",
       "</style>\n",
       "<table border=\"1\" class=\"dataframe\">\n",
       "  <thead>\n",
       "    <tr style=\"text-align: right;\">\n",
       "      <th></th>\n",
       "      <th>new_actor_id</th>\n",
       "      <th>follower_rank</th>\n",
       "    </tr>\n",
       "  </thead>\n",
       "  <tbody>\n",
       "    <tr>\n",
       "      <th>0</th>\n",
       "      <td>92</td>\n",
       "      <td>5790</td>\n",
       "    </tr>\n",
       "    <tr>\n",
       "      <th>1</th>\n",
       "      <td>166969</td>\n",
       "      <td>35884</td>\n",
       "    </tr>\n",
       "    <tr>\n",
       "      <th>2</th>\n",
       "      <td>725883</td>\n",
       "      <td>39463</td>\n",
       "    </tr>\n",
       "    <tr>\n",
       "      <th>3</th>\n",
       "      <td>178671</td>\n",
       "      <td>95753</td>\n",
       "    </tr>\n",
       "    <tr>\n",
       "      <th>4</th>\n",
       "      <td>221311</td>\n",
       "      <td>134012</td>\n",
       "    </tr>\n",
       "    <tr>\n",
       "      <th>5</th>\n",
       "      <td>1142911</td>\n",
       "      <td>143070</td>\n",
       "    </tr>\n",
       "    <tr>\n",
       "      <th>6</th>\n",
       "      <td>1304580</td>\n",
       "      <td>153240</td>\n",
       "    </tr>\n",
       "  </tbody>\n",
       "</table>\n",
       "</div>"
      ],
      "text/plain": [
       "   new_actor_id  follower_rank\n",
       "0            92           5790\n",
       "1        166969          35884\n",
       "2        725883          39463\n",
       "3        178671          95753\n",
       "4        221311         134012\n",
       "5       1142911         143070\n",
       "6       1304580         153240"
      ]
     },
     "execution_count": 167,
     "metadata": {},
     "output_type": "execute_result"
    }
   ],
   "source": [
    "data = DataFrame(o.get_table(TEMP_EVAL_TABLE6))\n",
    "data.head(10)"
   ]
  },
  {
   "cell_type": "code",
   "execution_count": 168,
   "id": "70f3f0cf-8a1c-4e30-9dc4-4bbf4108608a",
   "metadata": {},
   "outputs": [
    {
     "data": {
      "text/html": [
       "<div>\n",
       "<style scoped>\n",
       "    .dataframe tbody tr th:only-of-type {\n",
       "        vertical-align: middle;\n",
       "    }\n",
       "\n",
       "    .dataframe tbody tr th {\n",
       "        vertical-align: top;\n",
       "    }\n",
       "\n",
       "    .dataframe thead th {\n",
       "        text-align: right;\n",
       "    }\n",
       "</style>\n",
       "<table border=\"1\" class=\"dataframe\">\n",
       "  <thead>\n",
       "    <tr style=\"text-align: right;\">\n",
       "      <th></th>\n",
       "      <th>new_actor_id</th>\n",
       "      <th>actor_name</th>\n",
       "      <th>rank</th>\n",
       "      <th>follower_rank</th>\n",
       "    </tr>\n",
       "  </thead>\n",
       "  <tbody>\n",
       "    <tr>\n",
       "      <th>0</th>\n",
       "      <td>1142911</td>\n",
       "      <td>codeserver-test1</td>\n",
       "      <td>5</td>\n",
       "      <td>143070</td>\n",
       "    </tr>\n",
       "    <tr>\n",
       "      <th>1</th>\n",
       "      <td>221311</td>\n",
       "      <td>bryant1410</td>\n",
       "      <td>12</td>\n",
       "      <td>134012</td>\n",
       "    </tr>\n",
       "    <tr>\n",
       "      <th>2</th>\n",
       "      <td>725883</td>\n",
       "      <td>0xflotus</td>\n",
       "      <td>23</td>\n",
       "      <td>39463</td>\n",
       "    </tr>\n",
       "    <tr>\n",
       "      <th>3</th>\n",
       "      <td>166969</td>\n",
       "      <td>githubteacher</td>\n",
       "      <td>29</td>\n",
       "      <td>35884</td>\n",
       "    </tr>\n",
       "    <tr>\n",
       "      <th>4</th>\n",
       "      <td>1304580</td>\n",
       "      <td>githubvaladm</td>\n",
       "      <td>35</td>\n",
       "      <td>153240</td>\n",
       "    </tr>\n",
       "    <tr>\n",
       "      <th>5</th>\n",
       "      <td>92</td>\n",
       "      <td>olleolleolle</td>\n",
       "      <td>43</td>\n",
       "      <td>5790</td>\n",
       "    </tr>\n",
       "    <tr>\n",
       "      <th>6</th>\n",
       "      <td>178671</td>\n",
       "      <td>fengjixuchui</td>\n",
       "      <td>49</td>\n",
       "      <td>95753</td>\n",
       "    </tr>\n",
       "  </tbody>\n",
       "</table>\n",
       "</div>"
      ],
      "text/plain": [
       "   new_actor_id        actor_name  rank  follower_rank\n",
       "0       1142911  codeserver-test1     5         143070\n",
       "1        221311        bryant1410    12         134012\n",
       "2        725883          0xflotus    23          39463\n",
       "3        166969     githubteacher    29          35884\n",
       "4       1304580      githubvaladm    35         153240\n",
       "5            92      olleolleolle    43           5790\n",
       "6        178671      fengjixuchui    49          95753"
      ]
     },
     "execution_count": 168,
     "metadata": {},
     "output_type": "execute_result"
    }
   ],
   "source": [
    "burstbirank_actor_top50_infollow = data.to_pandas()\n",
    "actor_result_top50 = pd.DataFrame(actor_result, columns=['new_actor_id','actor_name','rank'])[:50]\n",
    "# 合并burstbirank_actor_top50_infollow和actor_result_top50\n",
    "burstbirank_follow_top50 = pd.merge(actor_result_top50, burstbirank_actor_top50_infollow, on='new_actor_id')\n",
    "burstbirank_follow_top50"
   ]
  },
  {
   "cell_type": "markdown",
   "id": "17d0de84-ccf7-452b-b864-ec224f105e2c",
   "metadata": {
    "tags": []
   },
   "source": [
    "#### correlation"
   ]
  },
  {
   "cell_type": "markdown",
   "id": "5e252c85-baeb-4757-bf06-96aac9c9bd5f",
   "metadata": {
    "tags": []
   },
   "source": [
    "##### repo"
   ]
  },
  {
   "cell_type": "markdown",
   "id": "2b0db75a-eb02-417d-8f3b-4a7e0372f9d0",
   "metadata": {},
   "source": [
    "burstbirank_watch_top10, burstbirank_watch_top20, burstbirank_watch_top50中，rank与watch_rank的spearman相关系数检验"
   ]
  },
  {
   "cell_type": "code",
   "execution_count": 169,
   "id": "839f47b5-126e-4c56-aee7-781f4a927022",
   "metadata": {},
   "outputs": [
    {
     "name": "stdout",
     "output_type": "stream",
     "text": [
      "burstbirank表前10的repo的排名与其在watch中对应排名的correlation值： -0.11515151515151514\n",
      "burstbirank表前20的repo的排名与其在watch中对应排名的correlation值： -0.31127819548872177\n",
      "burstbirank表前50的repo的排名与其在watch中对应排名的correlation值： 0.1291236494597839\n"
     ]
    }
   ],
   "source": [
    "import scipy.stats\n",
    "print(\"burstbirank表前10的repo的排名与其在watch中对应排名的correlation值：\",\n",
    "      scipy.stats.spearmanr(burstbirank_watch_top10['rank'].to_list(), burstbirank_watch_top10['watch_rank'].to_list())[0])\n",
    "print(\"burstbirank表前20的repo的排名与其在watch中对应排名的correlation值：\",\n",
    "      scipy.stats.spearmanr(burstbirank_watch_top20['rank'].to_list(), burstbirank_watch_top20['watch_rank'].to_list())[0])\n",
    "print(\"burstbirank表前50的repo的排名与其在watch中对应排名的correlation值：\",\n",
    "      scipy.stats.spearmanr(burstbirank_watch_top50['rank'].to_list(), burstbirank_watch_top50['watch_rank'].to_list())[0])"
   ]
  },
  {
   "cell_type": "markdown",
   "id": "77c38b76-8400-4939-b768-1c438efbdf88",
   "metadata": {},
   "source": [
    "由于correlation在(-0.2, 0.2)之间，故相关性弱。\n",
    "\n",
    "burstbirank得到的排名靠前的repo排名与watch统计信息中的排名几乎不相关，二者结果相差较大"
   ]
  },
  {
   "cell_type": "markdown",
   "id": "c51b9334-d180-446b-ae67-a93d1fed4ded",
   "metadata": {},
   "source": [
    "##### actor"
   ]
  },
  {
   "cell_type": "code",
   "execution_count": 170,
   "id": "445aa494-335e-44a6-98b8-57c60cf8c4c0",
   "metadata": {},
   "outputs": [
    {
     "name": "stdout",
     "output_type": "stream",
     "text": [
      "burstbirank表前10的actor的排名与其在follow中对应排名的correlation值： nan\n",
      "burstbirank表前20的actor的排名与其在follow中对应排名的correlation值： -0.9999999999999999\n",
      "burstbirank表前50的actor的排名与其在follow中对应排名的correlation值： -0.3571428571428572\n"
     ]
    }
   ],
   "source": [
    "print(\"burstbirank表前10的actor的排名与其在follow中对应排名的correlation值：\",\n",
    "      scipy.stats.spearmanr(burstbirank_follow_top10['rank'].to_list(), burstbirank_follow_top10['follower_rank'].to_list())[0])\n",
    "print(\"burstbirank表前20的actor的排名与其在follow中对应排名的correlation值：\",\n",
    "      scipy.stats.spearmanr(burstbirank_follow_top20['rank'].to_list(), burstbirank_follow_top20['follower_rank'].to_list())[0])\n",
    "print(\"burstbirank表前50的actor的排名与其在follow中对应排名的correlation值：\",\n",
    "      scipy.stats.spearmanr(burstbirank_follow_top50['rank'].to_list(), burstbirank_follow_top50['follower_rank'].to_list())[0])"
   ]
  },
  {
   "cell_type": "markdown",
   "id": "bccdff62-3153-4db6-a9a8-9c5708d831f4",
   "metadata": {},
   "source": [
    "与repo情况相似，burstbirank得到的排名靠前的actor排名与follower统计信息中的排名几乎不相关"
   ]
  },
  {
   "cell_type": "markdown",
   "id": "fc8b272c-0eb7-4125-8b42-e0940072ef98",
   "metadata": {
    "tags": []
   },
   "source": [
    "### 前1000"
   ]
  },
  {
   "cell_type": "code",
   "execution_count": 171,
   "id": "0359e1b2-eee3-4a09-8654-0007ac107116",
   "metadata": {},
   "outputs": [],
   "source": [
    "# burstbirank\n",
    "burstbirank_repo_top1000 = pd.DataFrame(repo_result, columns=['new_repo_id'])[:1000]\n",
    "burstbirank_repo_top1000.to_csv('./burstbirank_repo_top1000.csv',index=False)\n",
    "burstbirank_actor_top1000 = pd.DataFrame(actor_result, columns=['new_actor_id'])[:1000]\n",
    "burstbirank_actor_top1000.to_csv('./burstbirank_actor_top1000.csv',index=False)"
   ]
  },
  {
   "cell_type": "code",
   "execution_count": 172,
   "id": "a9a3bb43-196b-4063-bd7a-f64caafafe4f",
   "metadata": {},
   "outputs": [],
   "source": [
    "#watch\n",
    "burstbirank_watch_top1000 = pd.DataFrame(pd_idwatch, columns=['new_repo_id'])[:1000]\n",
    "burstbirank_watch_top1000.to_csv('./burstbirank_watch_top1000.csv',index=False)\n",
    "#follow\n",
    "burstbirank_follow_top1000 = pd.DataFrame(pd_idfollow, columns=['new_actor_id'])[:1000]\n",
    "burstbirank_follow_top1000.to_csv('./burstbirank_follow_top1000.csv',index=False)"
   ]
  },
  {
   "cell_type": "markdown",
   "id": "da559d4d-4bb4-40f8-9d4b-f6ef95056631",
   "metadata": {
    "tags": []
   },
   "source": [
    "### birank/pagerank的new_id"
   ]
  },
  {
   "cell_type": "code",
   "execution_count": 173,
   "id": "de43d2f4-8034-44af-ac30-1a2bf227f4e7",
   "metadata": {},
   "outputs": [
    {
     "data": {
      "text/plain": [
       "<Instance 20220520025508393gossg4pr2>"
      ]
     },
     "execution_count": 173,
     "metadata": {},
     "output_type": "execute_result"
    }
   ],
   "source": [
    "TEMP_BIRANK_TABLE0 = 'hx_repo_actor_birank_pull_id_and_name'\n",
    "drop_sql = '''\n",
    "    DROP TABLE IF EXISTS {TEMP_BIRANK_TABLE};\n",
    "    CREATE TABLE IF NOT EXISTS {TEMP_BIRANK_TABLE}\n",
    "    (\n",
    "        repo_id     BIGINT,\n",
    "        repo_name    STRING,\n",
    "        actor_id    BIGINT,\n",
    "        actor_login    STRING,\n",
    "        created_at    DATETIME\n",
    "    );\n",
    "'''.format(\n",
    "    TEMP_BIRANK_TABLE=TEMP_BIRANK_TABLE0\n",
    ")\n",
    "o.execute_sql(drop_sql, hints={'odps.sql.allow.fullscan': 'true', 'odps.sql.submit.mode': 'script'})"
   ]
  },
  {
   "cell_type": "code",
   "execution_count": 174,
   "id": "84015565-0121-4287-980c-627ca12bda2a",
   "metadata": {},
   "outputs": [],
   "source": [
    "# 把时间改掉\n",
    "sql = '''set odps.sql.validate.orderby.limit=false;\n",
    "        INSERT INTO {TEMP_BIRANK_TABLE}\n",
    "        SELECT\n",
    "            repo_id,\n",
    "            repo_name,\n",
    "            actor_id,\n",
    "            actor_login,\n",
    "            created_at\n",
    "        FROM ods_github_log\n",
    "        WHERE (type = 'PullRequestEvent') AND (action = 'opened') AND actor_login NOT LIKE '%bot%'\n",
    "        AND pt>='20160101' AND pt<'20220101'\n",
    "        ORDER BY repo_id, actor_id'''.format(\n",
    "    TEMP_BIRANK_TABLE=TEMP_BIRANK_TABLE0)\n",
    "table = o.execute_sql(sql, hints={\"odps.sql.submit.mode\" : \"script\"})"
   ]
  },
  {
   "cell_type": "code",
   "execution_count": 175,
   "id": "cbe389d7-3521-4dcc-8920-7e871ddd07e5",
   "metadata": {},
   "outputs": [
    {
     "data": {
      "text/html": [
       "<div>\n",
       "<style scoped>\n",
       "    .dataframe tbody tr th:only-of-type {\n",
       "        vertical-align: middle;\n",
       "    }\n",
       "\n",
       "    .dataframe tbody tr th {\n",
       "        vertical-align: top;\n",
       "    }\n",
       "\n",
       "    .dataframe thead th {\n",
       "        text-align: right;\n",
       "    }\n",
       "</style>\n",
       "<table border=\"1\" class=\"dataframe\">\n",
       "  <thead>\n",
       "    <tr style=\"text-align: right;\">\n",
       "      <th></th>\n",
       "      <th>repo_id</th>\n",
       "      <th>repo_name</th>\n",
       "      <th>actor_id</th>\n",
       "      <th>actor_login</th>\n",
       "      <th>created_at</th>\n",
       "    </tr>\n",
       "  </thead>\n",
       "  <tbody>\n",
       "    <tr>\n",
       "      <th>0</th>\n",
       "      <td>1</td>\n",
       "      <td>mojombo/grit</td>\n",
       "      <td>24193253</td>\n",
       "      <td>ankitts12</td>\n",
       "      <td>2020-10-01 11:55:32</td>\n",
       "    </tr>\n",
       "    <tr>\n",
       "      <th>1</th>\n",
       "      <td>27</td>\n",
       "      <td>rubinius/rubinius</td>\n",
       "      <td>85</td>\n",
       "      <td>brixen</td>\n",
       "      <td>2016-02-06 02:05:54</td>\n",
       "    </tr>\n",
       "    <tr>\n",
       "      <th>2</th>\n",
       "      <td>27</td>\n",
       "      <td>rubinius/rubinius</td>\n",
       "      <td>85</td>\n",
       "      <td>brixen</td>\n",
       "      <td>2016-02-05 02:38:10</td>\n",
       "    </tr>\n",
       "    <tr>\n",
       "      <th>3</th>\n",
       "      <td>27</td>\n",
       "      <td>rubinius/rubinius</td>\n",
       "      <td>85</td>\n",
       "      <td>brixen</td>\n",
       "      <td>2016-04-22 14:31:58</td>\n",
       "    </tr>\n",
       "    <tr>\n",
       "      <th>4</th>\n",
       "      <td>27</td>\n",
       "      <td>rubinius/rubinius</td>\n",
       "      <td>85</td>\n",
       "      <td>brixen</td>\n",
       "      <td>2016-04-25 05:05:13</td>\n",
       "    </tr>\n",
       "    <tr>\n",
       "      <th>5</th>\n",
       "      <td>27</td>\n",
       "      <td>rubinius/rubinius</td>\n",
       "      <td>85</td>\n",
       "      <td>brixen</td>\n",
       "      <td>2016-06-19 04:39:25</td>\n",
       "    </tr>\n",
       "    <tr>\n",
       "      <th>6</th>\n",
       "      <td>27</td>\n",
       "      <td>rubinius/rubinius</td>\n",
       "      <td>85</td>\n",
       "      <td>brixen</td>\n",
       "      <td>2016-06-05 02:04:47</td>\n",
       "    </tr>\n",
       "    <tr>\n",
       "      <th>7</th>\n",
       "      <td>27</td>\n",
       "      <td>rubinius/rubinius</td>\n",
       "      <td>85</td>\n",
       "      <td>brixen</td>\n",
       "      <td>2016-05-06 07:47:28</td>\n",
       "    </tr>\n",
       "    <tr>\n",
       "      <th>8</th>\n",
       "      <td>27</td>\n",
       "      <td>rubinius/rubinius</td>\n",
       "      <td>85</td>\n",
       "      <td>brixen</td>\n",
       "      <td>2016-05-21 07:27:56</td>\n",
       "    </tr>\n",
       "    <tr>\n",
       "      <th>9</th>\n",
       "      <td>27</td>\n",
       "      <td>rubinius/rubinius</td>\n",
       "      <td>85</td>\n",
       "      <td>brixen</td>\n",
       "      <td>2016-05-01 14:19:25</td>\n",
       "    </tr>\n",
       "  </tbody>\n",
       "</table>\n",
       "</div>"
      ],
      "text/plain": [
       "   repo_id          repo_name  actor_id actor_login          created_at\n",
       "0        1       mojombo/grit  24193253   ankitts12 2020-10-01 11:55:32\n",
       "1       27  rubinius/rubinius        85      brixen 2016-02-06 02:05:54\n",
       "2       27  rubinius/rubinius        85      brixen 2016-02-05 02:38:10\n",
       "3       27  rubinius/rubinius        85      brixen 2016-04-22 14:31:58\n",
       "4       27  rubinius/rubinius        85      brixen 2016-04-25 05:05:13\n",
       "5       27  rubinius/rubinius        85      brixen 2016-06-19 04:39:25\n",
       "6       27  rubinius/rubinius        85      brixen 2016-06-05 02:04:47\n",
       "7       27  rubinius/rubinius        85      brixen 2016-05-06 07:47:28\n",
       "8       27  rubinius/rubinius        85      brixen 2016-05-21 07:27:56\n",
       "9       27  rubinius/rubinius        85      brixen 2016-05-01 14:19:25"
      ]
     },
     "execution_count": 175,
     "metadata": {},
     "output_type": "execute_result"
    }
   ],
   "source": [
    "data = DataFrame(o.get_table(TEMP_BIRANK_TABLE0))\n",
    "data.head(10)"
   ]
  },
  {
   "cell_type": "markdown",
   "id": "60ece7c2-f368-4d88-abb2-6c1b26e1d268",
   "metadata": {
    "tags": []
   },
   "source": [
    "#### 重新编号"
   ]
  },
  {
   "cell_type": "markdown",
   "id": "0d4a1cdc-b51e-4466-ae06-11ccfbe4d605",
   "metadata": {
    "tags": []
   },
   "source": [
    "##### repo_id重新编号"
   ]
  },
  {
   "cell_type": "code",
   "execution_count": 176,
   "id": "459d482f-99b1-422d-b48a-f2e774087e0f",
   "metadata": {},
   "outputs": [
    {
     "data": {
      "text/plain": [
       "<Instance 20220520030002246g5j0igr>"
      ]
     },
     "execution_count": 176,
     "metadata": {},
     "output_type": "execute_result"
    }
   ],
   "source": [
    "TEMP_BIRANK_TABLE2 = 'hx_repo_actor_birank_pull_new_repoid_pre'\n",
    "drop_sql = '''\n",
    "    DROP TABLE IF EXISTS {TEMP_BIRANK_TABLE};\n",
    "    CREATE TABLE IF NOT EXISTS {TEMP_BIRANK_TABLE}\n",
    "    (\n",
    "        repo_id     BIGINT\n",
    "    );\n",
    "'''.format(\n",
    "    TEMP_BIRANK_TABLE=TEMP_BIRANK_TABLE2\n",
    ")\n",
    "o.execute_sql(drop_sql, hints={'odps.sql.allow.fullscan': 'true', 'odps.sql.submit.mode': 'script'})"
   ]
  },
  {
   "cell_type": "code",
   "execution_count": 178,
   "id": "293d01d3-5f1b-4fd3-a3fc-4f48e08058ce",
   "metadata": {},
   "outputs": [],
   "source": [
    "insert_new_repoid_pre_sql = '''set odps.sql.validate.orderby.limit=false;\n",
    "        INSERT INTO {TEMP_BIRANK_TABLE2}\n",
    "        SELECT DISTINCT repo_id\n",
    "        FROM {TEMP_BIRANK_TABLE1}\n",
    "        ORDER BY repo_id\n",
    "'''.format(\n",
    "    TEMP_BIRANK_TABLE1=TEMP_BIRANK_TABLE0,\n",
    "    TEMP_BIRANK_TABLE2=TEMP_BIRANK_TABLE2\n",
    ")\n",
    "table = o.execute_sql(insert_new_repoid_pre_sql, hints={'odps.sql.allow.fullscan': 'true',\"odps.sql.submit.mode\" : \"script\"})"
   ]
  },
  {
   "cell_type": "code",
   "execution_count": 179,
   "id": "e99ba817-efee-4c56-91d5-6c9e12daa877",
   "metadata": {},
   "outputs": [
    {
     "data": {
      "text/html": [
       "<div>\n",
       "<style scoped>\n",
       "    .dataframe tbody tr th:only-of-type {\n",
       "        vertical-align: middle;\n",
       "    }\n",
       "\n",
       "    .dataframe tbody tr th {\n",
       "        vertical-align: top;\n",
       "    }\n",
       "\n",
       "    .dataframe thead th {\n",
       "        text-align: right;\n",
       "    }\n",
       "</style>\n",
       "<table border=\"1\" class=\"dataframe\">\n",
       "  <thead>\n",
       "    <tr style=\"text-align: right;\">\n",
       "      <th></th>\n",
       "      <th>repo_id</th>\n",
       "    </tr>\n",
       "  </thead>\n",
       "  <tbody>\n",
       "    <tr>\n",
       "      <th>0</th>\n",
       "      <td>1</td>\n",
       "    </tr>\n",
       "    <tr>\n",
       "      <th>1</th>\n",
       "      <td>27</td>\n",
       "    </tr>\n",
       "    <tr>\n",
       "      <th>2</th>\n",
       "      <td>28</td>\n",
       "    </tr>\n",
       "    <tr>\n",
       "      <th>3</th>\n",
       "      <td>31</td>\n",
       "    </tr>\n",
       "    <tr>\n",
       "      <th>4</th>\n",
       "      <td>35</td>\n",
       "    </tr>\n",
       "    <tr>\n",
       "      <th>5</th>\n",
       "      <td>43</td>\n",
       "    </tr>\n",
       "    <tr>\n",
       "      <th>6</th>\n",
       "      <td>68</td>\n",
       "    </tr>\n",
       "    <tr>\n",
       "      <th>7</th>\n",
       "      <td>98</td>\n",
       "    </tr>\n",
       "    <tr>\n",
       "      <th>8</th>\n",
       "      <td>119</td>\n",
       "    </tr>\n",
       "    <tr>\n",
       "      <th>9</th>\n",
       "      <td>129</td>\n",
       "    </tr>\n",
       "    <tr>\n",
       "      <th>10</th>\n",
       "      <td>130</td>\n",
       "    </tr>\n",
       "    <tr>\n",
       "      <th>11</th>\n",
       "      <td>131</td>\n",
       "    </tr>\n",
       "    <tr>\n",
       "      <th>12</th>\n",
       "      <td>142</td>\n",
       "    </tr>\n",
       "    <tr>\n",
       "      <th>13</th>\n",
       "      <td>144</td>\n",
       "    </tr>\n",
       "    <tr>\n",
       "      <th>14</th>\n",
       "      <td>165</td>\n",
       "    </tr>\n",
       "  </tbody>\n",
       "</table>\n",
       "</div>"
      ],
      "text/plain": [
       "    repo_id\n",
       "0         1\n",
       "1        27\n",
       "2        28\n",
       "3        31\n",
       "4        35\n",
       "5        43\n",
       "6        68\n",
       "7        98\n",
       "8       119\n",
       "9       129\n",
       "10      130\n",
       "11      131\n",
       "12      142\n",
       "13      144\n",
       "14      165"
      ]
     },
     "execution_count": 179,
     "metadata": {},
     "output_type": "execute_result"
    }
   ],
   "source": [
    "data = DataFrame(o.get_table(TEMP_BIRANK_TABLE2))\n",
    "data.head(15)"
   ]
  },
  {
   "cell_type": "code",
   "execution_count": 180,
   "id": "b7e877f5-afa6-4d9d-bf7b-7e3d120b5bc5",
   "metadata": {},
   "outputs": [
    {
     "data": {
      "text/plain": [
       "<Instance 20220520030044992g1xe1ii5>"
      ]
     },
     "execution_count": 180,
     "metadata": {},
     "output_type": "execute_result"
    }
   ],
   "source": [
    "TEMP_BIRANK_TABLE3 = 'hx_repo_actor_birank_pull_new_repoid'\n",
    "drop_sql = '''\n",
    "    DROP TABLE IF EXISTS {TEMP_BIRANK_TABLE};\n",
    "    CREATE TABLE IF NOT EXISTS {TEMP_BIRANK_TABLE}\n",
    "    (\n",
    "        repo_id     BIGINT,\n",
    "        new_repo_id    BIGINT\n",
    "    );\n",
    "'''.format(\n",
    "    TEMP_BIRANK_TABLE=TEMP_BIRANK_TABLE3\n",
    ")\n",
    "o.execute_sql(drop_sql, hints={'odps.sql.allow.fullscan': 'true', 'odps.sql.submit.mode': 'script'})"
   ]
  },
  {
   "cell_type": "code",
   "execution_count": 181,
   "id": "513032cb-6574-4bf9-853a-fbb192dc650c",
   "metadata": {},
   "outputs": [],
   "source": [
    "insert_new_repoid_sql = '''set odps.sql.validate.orderby.limit=false;\n",
    "        INSERT INTO {TEMP_BIRANK_TABLE2}\n",
    "        SELECT repo_id, row_number() over() - 1 as new_repo_id\n",
    "        FROM {TEMP_BIRANK_TABLE1}\n",
    "        ORDER BY repo_id\n",
    "'''.format(\n",
    "    TEMP_BIRANK_TABLE1=TEMP_BIRANK_TABLE2,\n",
    "    TEMP_BIRANK_TABLE2=TEMP_BIRANK_TABLE3\n",
    ")\n",
    "table = o.execute_sql(insert_new_repoid_sql, hints={'odps.sql.allow.fullscan': 'true',\"odps.sql.submit.mode\" : \"script\"})"
   ]
  },
  {
   "cell_type": "code",
   "execution_count": 182,
   "id": "51ce190a-fc01-4f6c-a403-2062c0d12c02",
   "metadata": {},
   "outputs": [
    {
     "data": {
      "text/html": [
       "<div>\n",
       "<style scoped>\n",
       "    .dataframe tbody tr th:only-of-type {\n",
       "        vertical-align: middle;\n",
       "    }\n",
       "\n",
       "    .dataframe tbody tr th {\n",
       "        vertical-align: top;\n",
       "    }\n",
       "\n",
       "    .dataframe thead th {\n",
       "        text-align: right;\n",
       "    }\n",
       "</style>\n",
       "<table border=\"1\" class=\"dataframe\">\n",
       "  <thead>\n",
       "    <tr style=\"text-align: right;\">\n",
       "      <th></th>\n",
       "      <th>repo_id</th>\n",
       "      <th>new_repo_id</th>\n",
       "    </tr>\n",
       "  </thead>\n",
       "  <tbody>\n",
       "    <tr>\n",
       "      <th>0</th>\n",
       "      <td>1</td>\n",
       "      <td>0</td>\n",
       "    </tr>\n",
       "    <tr>\n",
       "      <th>1</th>\n",
       "      <td>27</td>\n",
       "      <td>1</td>\n",
       "    </tr>\n",
       "    <tr>\n",
       "      <th>2</th>\n",
       "      <td>28</td>\n",
       "      <td>2</td>\n",
       "    </tr>\n",
       "    <tr>\n",
       "      <th>3</th>\n",
       "      <td>31</td>\n",
       "      <td>3</td>\n",
       "    </tr>\n",
       "    <tr>\n",
       "      <th>4</th>\n",
       "      <td>35</td>\n",
       "      <td>4</td>\n",
       "    </tr>\n",
       "    <tr>\n",
       "      <th>5</th>\n",
       "      <td>43</td>\n",
       "      <td>5</td>\n",
       "    </tr>\n",
       "    <tr>\n",
       "      <th>6</th>\n",
       "      <td>68</td>\n",
       "      <td>6</td>\n",
       "    </tr>\n",
       "    <tr>\n",
       "      <th>7</th>\n",
       "      <td>98</td>\n",
       "      <td>7</td>\n",
       "    </tr>\n",
       "    <tr>\n",
       "      <th>8</th>\n",
       "      <td>119</td>\n",
       "      <td>8</td>\n",
       "    </tr>\n",
       "    <tr>\n",
       "      <th>9</th>\n",
       "      <td>129</td>\n",
       "      <td>9</td>\n",
       "    </tr>\n",
       "    <tr>\n",
       "      <th>10</th>\n",
       "      <td>130</td>\n",
       "      <td>10</td>\n",
       "    </tr>\n",
       "    <tr>\n",
       "      <th>11</th>\n",
       "      <td>131</td>\n",
       "      <td>11</td>\n",
       "    </tr>\n",
       "    <tr>\n",
       "      <th>12</th>\n",
       "      <td>142</td>\n",
       "      <td>12</td>\n",
       "    </tr>\n",
       "    <tr>\n",
       "      <th>13</th>\n",
       "      <td>144</td>\n",
       "      <td>13</td>\n",
       "    </tr>\n",
       "    <tr>\n",
       "      <th>14</th>\n",
       "      <td>165</td>\n",
       "      <td>14</td>\n",
       "    </tr>\n",
       "  </tbody>\n",
       "</table>\n",
       "</div>"
      ],
      "text/plain": [
       "    repo_id  new_repo_id\n",
       "0         1            0\n",
       "1        27            1\n",
       "2        28            2\n",
       "3        31            3\n",
       "4        35            4\n",
       "5        43            5\n",
       "6        68            6\n",
       "7        98            7\n",
       "8       119            8\n",
       "9       129            9\n",
       "10      130           10\n",
       "11      131           11\n",
       "12      142           12\n",
       "13      144           13\n",
       "14      165           14"
      ]
     },
     "execution_count": 182,
     "metadata": {},
     "output_type": "execute_result"
    }
   ],
   "source": [
    "data = DataFrame(o.get_table(TEMP_BIRANK_TABLE3))\n",
    "data.head(15)"
   ]
  },
  {
   "cell_type": "code",
   "execution_count": 183,
   "id": "2370c11c-d129-40d8-a679-c3cf8fa2cf0a",
   "metadata": {},
   "outputs": [
    {
     "name": "stdout",
     "output_type": "stream",
     "text": [
      "odps.Record {\n",
      "  _c0   14800777\n",
      "}\n"
     ]
    }
   ],
   "source": [
    "# 查看最大new_repo_id(用于保证与WATCH中的new_repo_id一致)\n",
    "select_max_new_repo_id = '''SELECT MAX(new_repo_id) FROM {TEMP_BIRANK_TABLE}'''.format(TEMP_BIRANK_TABLE=TEMP_BIRANK_TABLE3)\n",
    "table_max_new_repo_id = o.execute_sql(select_max_new_repo_id, hints={'odps.sql.allow.fullscan': 'true', \"odps.sql.submit.mode\" : \"script\"})\n",
    "with table_max_new_repo_id.open_reader(tunnel=True) as reader:\n",
    "     for record in reader:\n",
    "            print(record)"
   ]
  },
  {
   "cell_type": "markdown",
   "id": "0976791a-0841-4160-933a-908ec844872a",
   "metadata": {
    "tags": []
   },
   "source": [
    "##### actor_id重新编号"
   ]
  },
  {
   "cell_type": "code",
   "execution_count": 184,
   "id": "c9649627-f8d2-4006-8eee-12a731c7741e",
   "metadata": {},
   "outputs": [
    {
     "data": {
      "text/plain": [
       "<Instance 20220520030107346g2v6uq2>"
      ]
     },
     "execution_count": 184,
     "metadata": {},
     "output_type": "execute_result"
    }
   ],
   "source": [
    "TEMP_BIRANK_TABLE4 = 'hx_repo_actor_birank_pull_new_actorid_pre'\n",
    "drop_sql = '''\n",
    "    DROP TABLE IF EXISTS {TEMP_BIRANK_TABLE};\n",
    "    CREATE TABLE IF NOT EXISTS {TEMP_BIRANK_TABLE}\n",
    "    (\n",
    "        actor_id     BIGINT\n",
    "    );\n",
    "'''.format(\n",
    "    TEMP_BIRANK_TABLE=TEMP_BIRANK_TABLE4\n",
    ")\n",
    "o.execute_sql(drop_sql, hints={'odps.sql.allow.fullscan': 'true', 'odps.sql.submit.mode': 'script'})"
   ]
  },
  {
   "cell_type": "code",
   "execution_count": 185,
   "id": "8a7a41dc-4438-44a9-ac6e-ef2994803a56",
   "metadata": {},
   "outputs": [],
   "source": [
    "insert_new_actorid_pre_sql = '''set odps.sql.validate.orderby.limit=false;\n",
    "        INSERT INTO {TEMP_BIRANK_TABLE2}\n",
    "        SELECT DISTINCT actor_id\n",
    "        FROM {TEMP_BIRANK_TABLE1}\n",
    "        ORDER BY actor_id\n",
    "'''.format(\n",
    "    TEMP_BIRANK_TABLE1=TEMP_BIRANK_TABLE0,\n",
    "    TEMP_BIRANK_TABLE2=TEMP_BIRANK_TABLE4\n",
    ")\n",
    "table = o.execute_sql(insert_new_actorid_pre_sql, hints={'odps.sql.allow.fullscan': 'true',\"odps.sql.submit.mode\" : \"script\"})"
   ]
  },
  {
   "cell_type": "code",
   "execution_count": 186,
   "id": "7dd040c0-bd3d-4b3b-bc1a-ab3c0e5bab1c",
   "metadata": {},
   "outputs": [
    {
     "data": {
      "text/html": [
       "<div>\n",
       "<style scoped>\n",
       "    .dataframe tbody tr th:only-of-type {\n",
       "        vertical-align: middle;\n",
       "    }\n",
       "\n",
       "    .dataframe tbody tr th {\n",
       "        vertical-align: top;\n",
       "    }\n",
       "\n",
       "    .dataframe thead th {\n",
       "        text-align: right;\n",
       "    }\n",
       "</style>\n",
       "<table border=\"1\" class=\"dataframe\">\n",
       "  <thead>\n",
       "    <tr style=\"text-align: right;\">\n",
       "      <th></th>\n",
       "      <th>actor_id</th>\n",
       "    </tr>\n",
       "  </thead>\n",
       "  <tbody>\n",
       "    <tr>\n",
       "      <th>0</th>\n",
       "      <td>1</td>\n",
       "    </tr>\n",
       "    <tr>\n",
       "      <th>1</th>\n",
       "      <td>2</td>\n",
       "    </tr>\n",
       "    <tr>\n",
       "      <th>2</th>\n",
       "      <td>4</td>\n",
       "    </tr>\n",
       "    <tr>\n",
       "      <th>3</th>\n",
       "      <td>6</td>\n",
       "    </tr>\n",
       "    <tr>\n",
       "      <th>4</th>\n",
       "      <td>7</td>\n",
       "    </tr>\n",
       "    <tr>\n",
       "      <th>5</th>\n",
       "      <td>17</td>\n",
       "    </tr>\n",
       "    <tr>\n",
       "      <th>6</th>\n",
       "      <td>18</td>\n",
       "    </tr>\n",
       "    <tr>\n",
       "      <th>7</th>\n",
       "      <td>19</td>\n",
       "    </tr>\n",
       "    <tr>\n",
       "      <th>8</th>\n",
       "      <td>20</td>\n",
       "    </tr>\n",
       "    <tr>\n",
       "      <th>9</th>\n",
       "      <td>21</td>\n",
       "    </tr>\n",
       "    <tr>\n",
       "      <th>10</th>\n",
       "      <td>22</td>\n",
       "    </tr>\n",
       "    <tr>\n",
       "      <th>11</th>\n",
       "      <td>23</td>\n",
       "    </tr>\n",
       "    <tr>\n",
       "      <th>12</th>\n",
       "      <td>25</td>\n",
       "    </tr>\n",
       "    <tr>\n",
       "      <th>13</th>\n",
       "      <td>26</td>\n",
       "    </tr>\n",
       "    <tr>\n",
       "      <th>14</th>\n",
       "      <td>27</td>\n",
       "    </tr>\n",
       "  </tbody>\n",
       "</table>\n",
       "</div>"
      ],
      "text/plain": [
       "    actor_id\n",
       "0          1\n",
       "1          2\n",
       "2          4\n",
       "3          6\n",
       "4          7\n",
       "5         17\n",
       "6         18\n",
       "7         19\n",
       "8         20\n",
       "9         21\n",
       "10        22\n",
       "11        23\n",
       "12        25\n",
       "13        26\n",
       "14        27"
      ]
     },
     "execution_count": 186,
     "metadata": {},
     "output_type": "execute_result"
    }
   ],
   "source": [
    "data = DataFrame(o.get_table(TEMP_BIRANK_TABLE4))\n",
    "data.head(15)"
   ]
  },
  {
   "cell_type": "code",
   "execution_count": 190,
   "id": "76b551d5-bbe7-456d-98c2-3b232f247769",
   "metadata": {},
   "outputs": [
    {
     "data": {
      "text/plain": [
       "<Instance 2022052003070174gchykkm7>"
      ]
     },
     "execution_count": 190,
     "metadata": {},
     "output_type": "execute_result"
    }
   ],
   "source": [
    "TEMP_BIRANK_TABLE5 = 'hx_repo_actor_birank_pull_new_actorid'\n",
    "drop_sql = '''\n",
    "    DROP TABLE IF EXISTS {TEMP_BIRANK_TABLE};\n",
    "    CREATE TABLE IF NOT EXISTS {TEMP_BIRANK_TABLE}\n",
    "    (\n",
    "        actor_id     BIGINT,\n",
    "        new_actor_id    BIGINT\n",
    "    );\n",
    "'''.format(\n",
    "    TEMP_BIRANK_TABLE=TEMP_BIRANK_TABLE5\n",
    ")\n",
    "o.execute_sql(drop_sql, hints={'odps.sql.allow.fullscan': 'true', 'odps.sql.submit.mode': 'script'})"
   ]
  },
  {
   "cell_type": "code",
   "execution_count": 191,
   "id": "e55b0a00-47ee-4915-adf9-025db21591d1",
   "metadata": {},
   "outputs": [],
   "source": [
    "insert_new_actorid_sql = '''set odps.sql.validate.orderby.limit=false;\n",
    "        INSERT INTO {TEMP_BIRANK_TABLE2}\n",
    "        SELECT actor_id, row_number() over() - 1 as new_actor_id\n",
    "        FROM {TEMP_BIRANK_TABLE1}\n",
    "        ORDER BY actor_id\n",
    "'''.format(\n",
    "    TEMP_BIRANK_TABLE1=TEMP_BIRANK_TABLE4,\n",
    "    TEMP_BIRANK_TABLE2=TEMP_BIRANK_TABLE5\n",
    ")\n",
    "table = o.execute_sql(insert_new_actorid_sql, hints={'odps.sql.allow.fullscan': 'true',\"odps.sql.submit.mode\" : \"script\"})"
   ]
  },
  {
   "cell_type": "code",
   "execution_count": 192,
   "id": "d2925cd2-b881-4c87-a45c-fe08e623bb59",
   "metadata": {},
   "outputs": [
    {
     "data": {
      "text/html": [
       "<div>\n",
       "<style scoped>\n",
       "    .dataframe tbody tr th:only-of-type {\n",
       "        vertical-align: middle;\n",
       "    }\n",
       "\n",
       "    .dataframe tbody tr th {\n",
       "        vertical-align: top;\n",
       "    }\n",
       "\n",
       "    .dataframe thead th {\n",
       "        text-align: right;\n",
       "    }\n",
       "</style>\n",
       "<table border=\"1\" class=\"dataframe\">\n",
       "  <thead>\n",
       "    <tr style=\"text-align: right;\">\n",
       "      <th></th>\n",
       "      <th>actor_id</th>\n",
       "      <th>new_actor_id</th>\n",
       "    </tr>\n",
       "  </thead>\n",
       "  <tbody>\n",
       "    <tr>\n",
       "      <th>0</th>\n",
       "      <td>1</td>\n",
       "      <td>0</td>\n",
       "    </tr>\n",
       "    <tr>\n",
       "      <th>1</th>\n",
       "      <td>2</td>\n",
       "      <td>1</td>\n",
       "    </tr>\n",
       "    <tr>\n",
       "      <th>2</th>\n",
       "      <td>4</td>\n",
       "      <td>2</td>\n",
       "    </tr>\n",
       "    <tr>\n",
       "      <th>3</th>\n",
       "      <td>6</td>\n",
       "      <td>3</td>\n",
       "    </tr>\n",
       "    <tr>\n",
       "      <th>4</th>\n",
       "      <td>7</td>\n",
       "      <td>4</td>\n",
       "    </tr>\n",
       "    <tr>\n",
       "      <th>5</th>\n",
       "      <td>17</td>\n",
       "      <td>5</td>\n",
       "    </tr>\n",
       "    <tr>\n",
       "      <th>6</th>\n",
       "      <td>18</td>\n",
       "      <td>6</td>\n",
       "    </tr>\n",
       "    <tr>\n",
       "      <th>7</th>\n",
       "      <td>19</td>\n",
       "      <td>7</td>\n",
       "    </tr>\n",
       "    <tr>\n",
       "      <th>8</th>\n",
       "      <td>20</td>\n",
       "      <td>8</td>\n",
       "    </tr>\n",
       "    <tr>\n",
       "      <th>9</th>\n",
       "      <td>21</td>\n",
       "      <td>9</td>\n",
       "    </tr>\n",
       "    <tr>\n",
       "      <th>10</th>\n",
       "      <td>22</td>\n",
       "      <td>10</td>\n",
       "    </tr>\n",
       "    <tr>\n",
       "      <th>11</th>\n",
       "      <td>23</td>\n",
       "      <td>11</td>\n",
       "    </tr>\n",
       "    <tr>\n",
       "      <th>12</th>\n",
       "      <td>25</td>\n",
       "      <td>12</td>\n",
       "    </tr>\n",
       "    <tr>\n",
       "      <th>13</th>\n",
       "      <td>26</td>\n",
       "      <td>13</td>\n",
       "    </tr>\n",
       "    <tr>\n",
       "      <th>14</th>\n",
       "      <td>27</td>\n",
       "      <td>14</td>\n",
       "    </tr>\n",
       "  </tbody>\n",
       "</table>\n",
       "</div>"
      ],
      "text/plain": [
       "    actor_id  new_actor_id\n",
       "0          1             0\n",
       "1          2             1\n",
       "2          4             2\n",
       "3          6             3\n",
       "4          7             4\n",
       "5         17             5\n",
       "6         18             6\n",
       "7         19             7\n",
       "8         20             8\n",
       "9         21             9\n",
       "10        22            10\n",
       "11        23            11\n",
       "12        25            12\n",
       "13        26            13\n",
       "14        27            14"
      ]
     },
     "execution_count": 192,
     "metadata": {},
     "output_type": "execute_result"
    }
   ],
   "source": [
    "data = DataFrame(o.get_table(TEMP_BIRANK_TABLE5))\n",
    "data.head(15)"
   ]
  },
  {
   "cell_type": "code",
   "execution_count": 193,
   "id": "8781af6a-35c5-430b-8f39-782f26c48211",
   "metadata": {},
   "outputs": [
    {
     "name": "stdout",
     "output_type": "stream",
     "text": [
      "odps.Record {\n",
      "  _c0   7282527\n",
      "}\n"
     ]
    }
   ],
   "source": [
    "# 查看最大new_actor_id(用于保证与follower中的new_actor_id一致)\n",
    "select_max_new_actor_id = '''SELECT MAX(new_actor_id) FROM {TEMP_BIRANK_TABLE}'''.format(TEMP_BIRANK_TABLE=TEMP_BIRANK_TABLE5)\n",
    "table_max_new_actor_id = o.execute_sql(select_max_new_actor_id, hints={'odps.sql.allow.fullscan': 'true', \"odps.sql.submit.mode\" : \"script\"})\n",
    "with table_max_new_actor_id.open_reader(tunnel=True) as reader:\n",
    "     for record in reader:\n",
    "            print(record)"
   ]
  },
  {
   "cell_type": "markdown",
   "id": "94b58903-5cdd-4b66-8851-792f1db053ce",
   "metadata": {
    "tags": []
   },
   "source": [
    "#### 连接burstbirank的new_id---id---birank的new_id"
   ]
  },
  {
   "cell_type": "markdown",
   "id": "1bf6a1ca-cddd-423d-b849-890d682d0f3a",
   "metadata": {},
   "source": [
    "TEMP_TABLE_NAME8为burstbirank_new_repo_id---repo_id\n",
    "\n",
    "TEMP_BIRANK_TABLE3为birank_new_repo_id---repo_id\n",
    "\n",
    "TEMP_TABLE_NAME10为burstbirank_new_actor_id---actor_id\n",
    "\n",
    "TEMP_BIRANK_TABLE5为birank_new_actor_id---actor_id"
   ]
  },
  {
   "cell_type": "code",
   "execution_count": 194,
   "id": "2dd89a25-80ef-4c6c-a2f8-557c6878daff",
   "metadata": {},
   "outputs": [
    {
     "data": {
      "text/plain": [
       "<Instance 2022052003072641g8d6k963>"
      ]
     },
     "execution_count": 194,
     "metadata": {},
     "output_type": "execute_result"
    }
   ],
   "source": [
    "TEMP_BURST_TABLE1 = 'hx_repo_actor_pull_request_newnewrepoid'\n",
    "drop_sql = '''\n",
    "    DROP TABLE IF EXISTS {TEMP_BIRANK_TABLE};\n",
    "    CREATE TABLE IF NOT EXISTS {TEMP_BIRANK_TABLE}\n",
    "    (\n",
    "        new_repo_id     BIGINT,\n",
    "        new_new_repo_id    BIGINT\n",
    "    );\n",
    "'''.format(\n",
    "    TEMP_BIRANK_TABLE=TEMP_BURST_TABLE1\n",
    ")\n",
    "o.execute_sql(drop_sql, hints={'odps.sql.allow.fullscan': 'true', 'odps.sql.submit.mode': 'script'})"
   ]
  },
  {
   "cell_type": "code",
   "execution_count": 195,
   "id": "6a27176a-eae0-4110-a611-be768bd4f7b8",
   "metadata": {},
   "outputs": [],
   "source": [
    "sql = '''set odps.sql.validate.orderby.limit=false;\n",
    "        INSERT INTO {TEMP_BURST_TABLE3}\n",
    "        SELECT {TEMP_BURST_TABLE1}.new_repo_id, {TEMP_BURST_TABLE2}.new_repo_id\n",
    "        FROM {TEMP_BURST_TABLE1}, {TEMP_BURST_TABLE2}\n",
    "        WHERE {TEMP_BURST_TABLE1}.repo_id = {TEMP_BURST_TABLE2}.repo_id\n",
    "        ORDER BY {TEMP_BURST_TABLE1}.new_repo_id\n",
    "'''.format(\n",
    "    TEMP_BURST_TABLE1=TEMP_TABLE_NAME8,\n",
    "    TEMP_BURST_TABLE2=TEMP_BIRANK_TABLE3,\n",
    "    TEMP_BURST_TABLE3=TEMP_BURST_TABLE1\n",
    ")\n",
    "table = o.execute_sql(sql, hints={'odps.sql.allow.fullscan': 'true',\"odps.sql.submit.mode\" : \"script\"})"
   ]
  },
  {
   "cell_type": "code",
   "execution_count": 196,
   "id": "2f1b1f47-596a-4b51-933d-743429b6218c",
   "metadata": {},
   "outputs": [
    {
     "data": {
      "text/html": [
       "<div>\n",
       "<style scoped>\n",
       "    .dataframe tbody tr th:only-of-type {\n",
       "        vertical-align: middle;\n",
       "    }\n",
       "\n",
       "    .dataframe tbody tr th {\n",
       "        vertical-align: top;\n",
       "    }\n",
       "\n",
       "    .dataframe thead th {\n",
       "        text-align: right;\n",
       "    }\n",
       "</style>\n",
       "<table border=\"1\" class=\"dataframe\">\n",
       "  <thead>\n",
       "    <tr style=\"text-align: right;\">\n",
       "      <th></th>\n",
       "      <th>new_repo_id</th>\n",
       "      <th>new_new_repo_id</th>\n",
       "    </tr>\n",
       "  </thead>\n",
       "  <tbody>\n",
       "    <tr>\n",
       "      <th>0</th>\n",
       "      <td>0</td>\n",
       "      <td>0</td>\n",
       "    </tr>\n",
       "    <tr>\n",
       "      <th>1</th>\n",
       "      <td>1</td>\n",
       "      <td>1</td>\n",
       "    </tr>\n",
       "    <tr>\n",
       "      <th>2</th>\n",
       "      <td>2</td>\n",
       "      <td>2</td>\n",
       "    </tr>\n",
       "    <tr>\n",
       "      <th>3</th>\n",
       "      <td>3</td>\n",
       "      <td>4</td>\n",
       "    </tr>\n",
       "    <tr>\n",
       "      <th>4</th>\n",
       "      <td>4</td>\n",
       "      <td>5</td>\n",
       "    </tr>\n",
       "    <tr>\n",
       "      <th>5</th>\n",
       "      <td>5</td>\n",
       "      <td>6</td>\n",
       "    </tr>\n",
       "    <tr>\n",
       "      <th>6</th>\n",
       "      <td>6</td>\n",
       "      <td>10</td>\n",
       "    </tr>\n",
       "    <tr>\n",
       "      <th>7</th>\n",
       "      <td>7</td>\n",
       "      <td>11</td>\n",
       "    </tr>\n",
       "    <tr>\n",
       "      <th>8</th>\n",
       "      <td>8</td>\n",
       "      <td>12</td>\n",
       "    </tr>\n",
       "    <tr>\n",
       "      <th>9</th>\n",
       "      <td>9</td>\n",
       "      <td>13</td>\n",
       "    </tr>\n",
       "    <tr>\n",
       "      <th>10</th>\n",
       "      <td>10</td>\n",
       "      <td>15</td>\n",
       "    </tr>\n",
       "    <tr>\n",
       "      <th>11</th>\n",
       "      <td>11</td>\n",
       "      <td>19</td>\n",
       "    </tr>\n",
       "    <tr>\n",
       "      <th>12</th>\n",
       "      <td>12</td>\n",
       "      <td>20</td>\n",
       "    </tr>\n",
       "    <tr>\n",
       "      <th>13</th>\n",
       "      <td>13</td>\n",
       "      <td>22</td>\n",
       "    </tr>\n",
       "    <tr>\n",
       "      <th>14</th>\n",
       "      <td>14</td>\n",
       "      <td>23</td>\n",
       "    </tr>\n",
       "  </tbody>\n",
       "</table>\n",
       "</div>"
      ],
      "text/plain": [
       "    new_repo_id  new_new_repo_id\n",
       "0             0                0\n",
       "1             1                1\n",
       "2             2                2\n",
       "3             3                4\n",
       "4             4                5\n",
       "5             5                6\n",
       "6             6               10\n",
       "7             7               11\n",
       "8             8               12\n",
       "9             9               13\n",
       "10           10               15\n",
       "11           11               19\n",
       "12           12               20\n",
       "13           13               22\n",
       "14           14               23"
      ]
     },
     "execution_count": 196,
     "metadata": {},
     "output_type": "execute_result"
    }
   ],
   "source": [
    "data = DataFrame(o.get_table(TEMP_BURST_TABLE1))\n",
    "data.head(15)"
   ]
  },
  {
   "cell_type": "code",
   "execution_count": 197,
   "id": "705726c1-dd31-427a-90fd-7399e07a62ab",
   "metadata": {},
   "outputs": [
    {
     "data": {
      "text/html": [
       "<div>\n",
       "<style scoped>\n",
       "    .dataframe tbody tr th:only-of-type {\n",
       "        vertical-align: middle;\n",
       "    }\n",
       "\n",
       "    .dataframe tbody tr th {\n",
       "        vertical-align: top;\n",
       "    }\n",
       "\n",
       "    .dataframe thead th {\n",
       "        text-align: right;\n",
       "    }\n",
       "</style>\n",
       "<table border=\"1\" class=\"dataframe\">\n",
       "  <thead>\n",
       "    <tr style=\"text-align: right;\">\n",
       "      <th></th>\n",
       "      <th>new_repo_id</th>\n",
       "      <th>new_new_repo_id</th>\n",
       "    </tr>\n",
       "  </thead>\n",
       "  <tbody>\n",
       "    <tr>\n",
       "      <th>0</th>\n",
       "      <td>0</td>\n",
       "      <td>0</td>\n",
       "    </tr>\n",
       "    <tr>\n",
       "      <th>1</th>\n",
       "      <td>1</td>\n",
       "      <td>1</td>\n",
       "    </tr>\n",
       "    <tr>\n",
       "      <th>2</th>\n",
       "      <td>2</td>\n",
       "      <td>2</td>\n",
       "    </tr>\n",
       "    <tr>\n",
       "      <th>3</th>\n",
       "      <td>3</td>\n",
       "      <td>4</td>\n",
       "    </tr>\n",
       "    <tr>\n",
       "      <th>4</th>\n",
       "      <td>4</td>\n",
       "      <td>5</td>\n",
       "    </tr>\n",
       "  </tbody>\n",
       "</table>\n",
       "</div>"
      ],
      "text/plain": [
       "   new_repo_id  new_new_repo_id\n",
       "0            0                0\n",
       "1            1                1\n",
       "2            2                2\n",
       "3            3                4\n",
       "4            4                5"
      ]
     },
     "execution_count": 197,
     "metadata": {},
     "output_type": "execute_result"
    }
   ],
   "source": [
    "pd_newnewrepoid = data.to_pandas()\n",
    "pd_newnewrepoid.head()"
   ]
  },
  {
   "cell_type": "code",
   "execution_count": 198,
   "id": "66acdc58-8f93-4caa-a7d2-6923e76993b3",
   "metadata": {},
   "outputs": [
    {
     "data": {
      "text/plain": [
       "<Instance 20220520031003572gpbfc4pr2>"
      ]
     },
     "execution_count": 198,
     "metadata": {},
     "output_type": "execute_result"
    }
   ],
   "source": [
    "TEMP_BURST_TABLE2 = 'hx_repo_actor_pull_request_newnewactorid'\n",
    "drop_sql = '''\n",
    "    DROP TABLE IF EXISTS {TEMP_BIRANK_TABLE};\n",
    "    CREATE TABLE IF NOT EXISTS {TEMP_BIRANK_TABLE}\n",
    "    (\n",
    "        new_actor_id     BIGINT,\n",
    "        new_new_actor_id    BIGINT\n",
    "    );\n",
    "'''.format(\n",
    "    TEMP_BIRANK_TABLE=TEMP_BURST_TABLE2\n",
    ")\n",
    "o.execute_sql(drop_sql, hints={'odps.sql.allow.fullscan': 'true', 'odps.sql.submit.mode': 'script'})"
   ]
  },
  {
   "cell_type": "code",
   "execution_count": 199,
   "id": "e0c22f68-a1b0-4459-a64f-300039178b34",
   "metadata": {},
   "outputs": [],
   "source": [
    "sql = '''set odps.sql.validate.orderby.limit=false;\n",
    "        INSERT INTO {TEMP_BURST_TABLE3}\n",
    "        SELECT {TEMP_BURST_TABLE1}.new_actor_id, {TEMP_BURST_TABLE2}.new_actor_id\n",
    "        FROM {TEMP_BURST_TABLE1}, {TEMP_BURST_TABLE2}\n",
    "        WHERE {TEMP_BURST_TABLE1}.actor_id = {TEMP_BURST_TABLE2}.actor_id\n",
    "        ORDER BY {TEMP_BURST_TABLE1}.new_actor_id\n",
    "'''.format(\n",
    "    TEMP_BURST_TABLE1=TEMP_TABLE_NAME10,\n",
    "    TEMP_BURST_TABLE2=TEMP_BIRANK_TABLE5,\n",
    "    TEMP_BURST_TABLE3=TEMP_BURST_TABLE2\n",
    ")\n",
    "table = o.execute_sql(sql, hints={'odps.sql.allow.fullscan': 'true',\"odps.sql.submit.mode\" : \"script\"})"
   ]
  },
  {
   "cell_type": "code",
   "execution_count": 200,
   "id": "40d0f5f1-615c-4dd6-8335-ea79224d7745",
   "metadata": {},
   "outputs": [
    {
     "data": {
      "text/html": [
       "<div>\n",
       "<style scoped>\n",
       "    .dataframe tbody tr th:only-of-type {\n",
       "        vertical-align: middle;\n",
       "    }\n",
       "\n",
       "    .dataframe tbody tr th {\n",
       "        vertical-align: top;\n",
       "    }\n",
       "\n",
       "    .dataframe thead th {\n",
       "        text-align: right;\n",
       "    }\n",
       "</style>\n",
       "<table border=\"1\" class=\"dataframe\">\n",
       "  <thead>\n",
       "    <tr style=\"text-align: right;\">\n",
       "      <th></th>\n",
       "      <th>new_actor_id</th>\n",
       "      <th>new_new_actor_id</th>\n",
       "    </tr>\n",
       "  </thead>\n",
       "  <tbody>\n",
       "    <tr>\n",
       "      <th>0</th>\n",
       "      <td>0</td>\n",
       "      <td>0</td>\n",
       "    </tr>\n",
       "    <tr>\n",
       "      <th>1</th>\n",
       "      <td>1</td>\n",
       "      <td>2</td>\n",
       "    </tr>\n",
       "    <tr>\n",
       "      <th>2</th>\n",
       "      <td>2</td>\n",
       "      <td>4</td>\n",
       "    </tr>\n",
       "    <tr>\n",
       "      <th>3</th>\n",
       "      <td>3</td>\n",
       "      <td>5</td>\n",
       "    </tr>\n",
       "    <tr>\n",
       "      <th>4</th>\n",
       "      <td>4</td>\n",
       "      <td>6</td>\n",
       "    </tr>\n",
       "    <tr>\n",
       "      <th>5</th>\n",
       "      <td>5</td>\n",
       "      <td>7</td>\n",
       "    </tr>\n",
       "    <tr>\n",
       "      <th>6</th>\n",
       "      <td>6</td>\n",
       "      <td>8</td>\n",
       "    </tr>\n",
       "    <tr>\n",
       "      <th>7</th>\n",
       "      <td>7</td>\n",
       "      <td>9</td>\n",
       "    </tr>\n",
       "    <tr>\n",
       "      <th>8</th>\n",
       "      <td>8</td>\n",
       "      <td>10</td>\n",
       "    </tr>\n",
       "    <tr>\n",
       "      <th>9</th>\n",
       "      <td>9</td>\n",
       "      <td>12</td>\n",
       "    </tr>\n",
       "    <tr>\n",
       "      <th>10</th>\n",
       "      <td>10</td>\n",
       "      <td>13</td>\n",
       "    </tr>\n",
       "    <tr>\n",
       "      <th>11</th>\n",
       "      <td>11</td>\n",
       "      <td>15</td>\n",
       "    </tr>\n",
       "    <tr>\n",
       "      <th>12</th>\n",
       "      <td>12</td>\n",
       "      <td>17</td>\n",
       "    </tr>\n",
       "    <tr>\n",
       "      <th>13</th>\n",
       "      <td>13</td>\n",
       "      <td>20</td>\n",
       "    </tr>\n",
       "    <tr>\n",
       "      <th>14</th>\n",
       "      <td>14</td>\n",
       "      <td>21</td>\n",
       "    </tr>\n",
       "  </tbody>\n",
       "</table>\n",
       "</div>"
      ],
      "text/plain": [
       "    new_actor_id  new_new_actor_id\n",
       "0              0                 0\n",
       "1              1                 2\n",
       "2              2                 4\n",
       "3              3                 5\n",
       "4              4                 6\n",
       "5              5                 7\n",
       "6              6                 8\n",
       "7              7                 9\n",
       "8              8                10\n",
       "9              9                12\n",
       "10            10                13\n",
       "11            11                15\n",
       "12            12                17\n",
       "13            13                20\n",
       "14            14                21"
      ]
     },
     "execution_count": 200,
     "metadata": {},
     "output_type": "execute_result"
    }
   ],
   "source": [
    "data = DataFrame(o.get_table(TEMP_BURST_TABLE2))\n",
    "data.head(15)"
   ]
  },
  {
   "cell_type": "code",
   "execution_count": 201,
   "id": "a7fa362b-cc21-4ad9-acb3-eff9a5ab5693",
   "metadata": {},
   "outputs": [
    {
     "data": {
      "text/html": [
       "<div>\n",
       "<style scoped>\n",
       "    .dataframe tbody tr th:only-of-type {\n",
       "        vertical-align: middle;\n",
       "    }\n",
       "\n",
       "    .dataframe tbody tr th {\n",
       "        vertical-align: top;\n",
       "    }\n",
       "\n",
       "    .dataframe thead th {\n",
       "        text-align: right;\n",
       "    }\n",
       "</style>\n",
       "<table border=\"1\" class=\"dataframe\">\n",
       "  <thead>\n",
       "    <tr style=\"text-align: right;\">\n",
       "      <th></th>\n",
       "      <th>new_actor_id</th>\n",
       "      <th>new_new_actor_id</th>\n",
       "    </tr>\n",
       "  </thead>\n",
       "  <tbody>\n",
       "    <tr>\n",
       "      <th>0</th>\n",
       "      <td>0</td>\n",
       "      <td>0</td>\n",
       "    </tr>\n",
       "    <tr>\n",
       "      <th>1</th>\n",
       "      <td>1</td>\n",
       "      <td>2</td>\n",
       "    </tr>\n",
       "    <tr>\n",
       "      <th>2</th>\n",
       "      <td>2</td>\n",
       "      <td>4</td>\n",
       "    </tr>\n",
       "    <tr>\n",
       "      <th>3</th>\n",
       "      <td>3</td>\n",
       "      <td>5</td>\n",
       "    </tr>\n",
       "    <tr>\n",
       "      <th>4</th>\n",
       "      <td>4</td>\n",
       "      <td>6</td>\n",
       "    </tr>\n",
       "  </tbody>\n",
       "</table>\n",
       "</div>"
      ],
      "text/plain": [
       "   new_actor_id  new_new_actor_id\n",
       "0             0                 0\n",
       "1             1                 2\n",
       "2             2                 4\n",
       "3             3                 5\n",
       "4             4                 6"
      ]
     },
     "execution_count": 201,
     "metadata": {},
     "output_type": "execute_result"
    }
   ],
   "source": [
    "pd_newnewactorid = data.to_pandas()\n",
    "pd_newnewactorid.head()"
   ]
  },
  {
   "cell_type": "markdown",
   "id": "0739e271-54c3-4444-adb6-b89b86599755",
   "metadata": {
    "tags": []
   },
   "source": [
    "#### new_new_id---rank"
   ]
  },
  {
   "cell_type": "markdown",
   "id": "e0ea197e-e77f-448e-b0fc-542b70f5e239",
   "metadata": {},
   "source": [
    "repo:\n",
    "\n",
    "pd_newnewrepoid为new_repo_id---new_new_repo_id\n",
    "\n",
    "repo_result有new_repo_id---burstbirank_repo_rank\n",
    "\n",
    "actor:\n",
    "\n",
    "pd_newnewactorid为new_actor_id---new_new_actor_id\n",
    "\n",
    "actor_result有new_actor_id---burstbirank_actor_rank"
   ]
  },
  {
   "cell_type": "code",
   "execution_count": 209,
   "id": "232d2d61-98ac-4a59-8942-c0357115c270",
   "metadata": {},
   "outputs": [
    {
     "name": "stdout",
     "output_type": "stream",
     "text": [
      "<class 'pandas.core.frame.DataFrame'>\n",
      "Int64Index: 1000 entries, 0 to 999\n",
      "Data columns (total 1 columns):\n",
      " #   Column       Non-Null Count  Dtype\n",
      "---  ------       --------------  -----\n",
      " 0   new_repo_id  1000 non-null   int64\n",
      "dtypes: int64(1)\n",
      "memory usage: 15.6 KB\n"
     ]
    }
   ],
   "source": [
    "burstbirank_repo_rank_top1000 = pd.DataFrame(repo_result, columns=['new_repo_id','rank'])[:1000]\n",
    "new_new_burstbirank_repo_rank_top1000_pre = pd.merge(burstbirank_repo_rank_top1000, pd_newnewrepoid, on = 'new_repo_id')\n",
    "new_new_burstbirank_repo_rank_top1000 = pd.DataFrame(new_new_burstbirank_repo_rank_top1000_pre, columns=['new_new_repo_id']).rename(columns={'new_new_repo_id':'new_repo_id'})\n",
    "new_new_burstbirank_repo_rank_top1000.info()"
   ]
  },
  {
   "cell_type": "code",
   "execution_count": 210,
   "id": "0f123fcf-cc8d-413c-bb90-824eb90c1dd8",
   "metadata": {},
   "outputs": [
    {
     "name": "stdout",
     "output_type": "stream",
     "text": [
      "<class 'pandas.core.frame.DataFrame'>\n",
      "Int64Index: 1000 entries, 0 to 999\n",
      "Data columns (total 1 columns):\n",
      " #   Column        Non-Null Count  Dtype\n",
      "---  ------        --------------  -----\n",
      " 0   new_actor_id  1000 non-null   int64\n",
      "dtypes: int64(1)\n",
      "memory usage: 15.6 KB\n"
     ]
    }
   ],
   "source": [
    "burstbirank_actor_rank_top1000 = pd.DataFrame(actor_result, columns=['new_actor_id','rank'])[:1000]\n",
    "new_new_burstbirank_actor_rank_top1000_pre = pd.merge(burstbirank_actor_rank_top1000, pd_newnewactorid, on = 'new_actor_id')\n",
    "new_new_burstbirank_actor_rank_top1000 = pd.DataFrame(new_new_burstbirank_actor_rank_top1000_pre, columns=['new_new_actor_id']).rename(columns={'new_new_actor_id':'new_actor_id'})\n",
    "new_new_burstbirank_actor_rank_top1000.info()"
   ]
  },
  {
   "cell_type": "code",
   "execution_count": 212,
   "id": "fbae4ac2-18d1-42f2-9c9d-2f21e99b7d53",
   "metadata": {},
   "outputs": [],
   "source": [
    "new_new_burstbirank_repo_rank_top1000.to_csv('./burstbirank_repo_top1000.csv')\n",
    "new_new_burstbirank_actor_rank_top1000.to_csv('./burstbirank_actor_top1000.csv')"
   ]
  },
  {
   "cell_type": "code",
   "execution_count": null,
   "id": "1e43dc4f-7763-4bbd-a92c-c7713e6998d7",
   "metadata": {},
   "outputs": [],
   "source": []
  }
 ],
 "metadata": {
  "colab": {
   "collapsed_sections": [],
   "name": "burstbirank_sql.ipynb",
   "provenance": []
  },
  "interpreter": {
   "hash": "91bb753b057673435fb8d6f6a083e6c818364728098c7ae050ca3a25357dd754"
  },
  "kernelspec": {
   "display_name": "Python 3 (ipykernel)",
   "language": "python",
   "name": "python3"
  },
  "language_info": {
   "codemirror_mode": {
    "name": "ipython",
    "version": 3
   },
   "file_extension": ".py",
   "mimetype": "text/x-python",
   "name": "python",
   "nbconvert_exporter": "python",
   "pygments_lexer": "ipython3",
   "version": "3.11.5"
  }
 },
 "nbformat": 4,
 "nbformat_minor": 5
}
